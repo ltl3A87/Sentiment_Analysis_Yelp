{
  "nbformat": 4,
  "nbformat_minor": 0,
  "metadata": {
    "colab": {
      "name": "Predicting Movie Reviews with BERT on TF Hub.ipynb",
      "provenance": [],
      "collapsed_sections": [],
      "toc_visible": true
    },
    "kernelspec": {
      "name": "python3",
      "display_name": "Python 3"
    },
    "accelerator": "GPU"
  },
  "cells": [
    {
      "cell_type": "code",
      "metadata": {
        "id": "j0a4mTk9o1Qg",
        "colab_type": "code",
        "colab": {}
      },
      "source": [
        "# Copyright 2019 Google Inc.\n",
        "\n",
        "# Licensed under the Apache License, Version 2.0 (the \"License\");\n",
        "# you may not use this file except in compliance with the License.\n",
        "# You may obtain a copy of the License at\n",
        "\n",
        "#     http://www.apache.org/licenses/LICENSE-2.0\n",
        "\n",
        "# Unless required by applicable law or agreed to in writing, software\n",
        "# distributed under the License is distributed on an \"AS IS\" BASIS,\n",
        "# WITHOUT WARRANTIES OR CONDITIONS OF ANY KIND, either express or implied.\n",
        "# See the License for the specific language governing permissions and\n",
        "# limitations under the License."
      ],
      "execution_count": 0,
      "outputs": []
    },
    {
      "cell_type": "markdown",
      "metadata": {
        "id": "dCpvgG0vwXAZ",
        "colab_type": "text"
      },
      "source": [
        "#Predicting Movie Review Sentiment with BERT on TF Hub"
      ]
    },
    {
      "cell_type": "markdown",
      "metadata": {
        "id": "xiYrZKaHwV81",
        "colab_type": "text"
      },
      "source": [
        "If you’ve been following Natural Language Processing over the past year, you’ve probably heard of BERT: Bidirectional Encoder Representations from Transformers. It’s a neural network architecture designed by Google researchers that’s totally transformed what’s state-of-the-art for NLP tasks, like text classification, translation, summarization, and question answering.\n",
        "\n",
        "Now that BERT's been added to [TF Hub](https://www.tensorflow.org/hub) as a loadable module, it's easy(ish) to add into existing Tensorflow text pipelines. In an existing pipeline, BERT can replace text embedding layers like ELMO and GloVE. Alternatively, [finetuning](http://wiki.fast.ai/index.php/Fine_tuning) BERT can provide both an accuracy boost and faster training time in many cases.\n",
        "\n",
        "Here, we'll train a model to predict whether an IMDB movie review is positive or negative using BERT in Tensorflow with tf hub. Some code was adapted from [this colab notebook](https://colab.sandbox.google.com/github/tensorflow/tpu/blob/master/tools/colab/bert_finetuning_with_cloud_tpus.ipynb). Let's get started!"
      ]
    },
    {
      "cell_type": "code",
      "metadata": {
        "id": "hsZvic2YxnTz",
        "colab_type": "code",
        "colab": {
          "base_uri": "https://localhost:8080/",
          "height": 34
        },
        "outputId": "97b2991b-7ca2-4ee1-eefa-fa039aa38b7f"
      },
      "source": [
        "%tensorflow_version 1.x\n",
        "from sklearn.model_selection import train_test_split\n",
        "import pandas as pd\n",
        "import tensorflow as tf\n",
        "import tensorflow_hub as hub\n",
        "from datetime import datetime"
      ],
      "execution_count": 1,
      "outputs": [
        {
          "output_type": "stream",
          "text": [
            "TensorFlow 1.x selected.\n"
          ],
          "name": "stdout"
        }
      ]
    },
    {
      "cell_type": "markdown",
      "metadata": {
        "id": "cp5wfXDx5SPH",
        "colab_type": "text"
      },
      "source": [
        "In addition to the standard libraries we imported above, we'll need to install BERT's python package."
      ]
    },
    {
      "cell_type": "code",
      "metadata": {
        "id": "jviywGyWyKsA",
        "colab_type": "code",
        "outputId": "e77c70e2-3acb-4383-923c-f1dfdaac7a61",
        "colab": {
          "base_uri": "https://localhost:8080/",
          "height": 51
        }
      },
      "source": [
        "!pip install bert-tensorflow"
      ],
      "execution_count": 2,
      "outputs": [
        {
          "output_type": "stream",
          "text": [
            "Requirement already satisfied: bert-tensorflow in /usr/local/lib/python3.6/dist-packages (1.0.1)\n",
            "Requirement already satisfied: six in /usr/local/lib/python3.6/dist-packages (from bert-tensorflow) (1.12.0)\n"
          ],
          "name": "stdout"
        }
      ]
    },
    {
      "cell_type": "code",
      "metadata": {
        "id": "hhbGEfwgdEtw",
        "colab_type": "code",
        "colab": {
          "base_uri": "https://localhost:8080/",
          "height": 71
        },
        "outputId": "1d4e8807-86af-45af-d05a-d4496262932c"
      },
      "source": [
        "import bert\n",
        "from bert import run_classifier\n",
        "from bert import optimization\n",
        "from bert import tokenization"
      ],
      "execution_count": 3,
      "outputs": [
        {
          "output_type": "stream",
          "text": [
            "WARNING:tensorflow:From /usr/local/lib/python3.6/dist-packages/bert/optimization.py:87: The name tf.train.Optimizer is deprecated. Please use tf.compat.v1.train.Optimizer instead.\n",
            "\n"
          ],
          "name": "stdout"
        }
      ]
    },
    {
      "cell_type": "markdown",
      "metadata": {
        "id": "KVB3eOcjxxm1",
        "colab_type": "text"
      },
      "source": [
        "Below, we'll set an output directory location to store our model output and checkpoints. This can be a local directory, in which case you'd set OUTPUT_DIR to the name of the directory you'd like to create. If you're running this code in Google's hosted Colab, the directory won't persist after the Colab session ends.\n",
        "\n",
        "Alternatively, if you're a GCP user, you can store output in a GCP bucket. To do that, set a directory name in OUTPUT_DIR and the name of the GCP bucket in the BUCKET field.\n",
        "\n",
        "Set DO_DELETE to rewrite the OUTPUT_DIR if it exists. Otherwise, Tensorflow will load existing model checkpoints from that directory (if they exist)."
      ]
    },
    {
      "cell_type": "code",
      "metadata": {
        "id": "US_EAnICvP7f",
        "colab_type": "code",
        "outputId": "419963d9-9263-405d-f834-1ff0e7b24cdf",
        "cellView": "form",
        "colab": {
          "base_uri": "https://localhost:8080/",
          "height": 34
        }
      },
      "source": [
        "# Set the output directory for saving model file\n",
        "# Optionally, set a GCP bucket location\n",
        "\n",
        "OUTPUT_DIR = 'OUTPUT_DIR_NAME'#@param {type:\"string\"}\n",
        "#@markdown Whether or not to clear/delete the directory and create a new one\n",
        "DO_DELETE = False #@param {type:\"boolean\"}\n",
        "#@markdown Set USE_BUCKET and BUCKET if you want to (optionally) store model output on GCP bucket.\n",
        "USE_BUCKET = False #@param {type:\"boolean\"}\n",
        "BUCKET = 'BUCKET_NAME' #@param {type:\"string\"}\n",
        "\n",
        "if USE_BUCKET:\n",
        "  OUTPUT_DIR = 'gs://{}/{}'.format(BUCKET, OUTPUT_DIR)\n",
        "  from google.colab import auth\n",
        "  auth.authenticate_user()\n",
        "\n",
        "if DO_DELETE:\n",
        "  try:\n",
        "    tf.gfile.DeleteRecursively(OUTPUT_DIR)\n",
        "  except:\n",
        "    # Doesn't matter if the directory didn't exist\n",
        "    pass\n",
        "tf.gfile.MakeDirs(OUTPUT_DIR)\n",
        "print('***** Model output directory: {} *****'.format(OUTPUT_DIR))\n"
      ],
      "execution_count": 6,
      "outputs": [
        {
          "output_type": "stream",
          "text": [
            "***** Model output directory: OUTPUT_DIR_NAME *****\n"
          ],
          "name": "stdout"
        }
      ]
    },
    {
      "cell_type": "code",
      "metadata": {
        "id": "QBeBZpN7trVG",
        "colab_type": "code",
        "colab": {
          "base_uri": "https://localhost:8080/",
          "height": 122
        },
        "outputId": "367b6476-dc70-4992-a009-d6f125b407e7"
      },
      "source": [
        "from google.colab import drive\n",
        "drive.mount('/content/drive')"
      ],
      "execution_count": 7,
      "outputs": [
        {
          "output_type": "stream",
          "text": [
            "Go to this URL in a browser: https://accounts.google.com/o/oauth2/auth?client_id=947318989803-6bn6qk8qdgf4n4g3pfee6491hc0brc4i.apps.googleusercontent.com&redirect_uri=urn%3aietf%3awg%3aoauth%3a2.0%3aoob&response_type=code&scope=email%20https%3a%2f%2fwww.googleapis.com%2fauth%2fdocs.test%20https%3a%2f%2fwww.googleapis.com%2fauth%2fdrive%20https%3a%2f%2fwww.googleapis.com%2fauth%2fdrive.photos.readonly%20https%3a%2f%2fwww.googleapis.com%2fauth%2fpeopleapi.readonly\n",
            "\n",
            "Enter your authorization code:\n",
            "··········\n",
            "Mounted at /content/drive\n"
          ],
          "name": "stdout"
        }
      ]
    },
    {
      "cell_type": "markdown",
      "metadata": {
        "id": "pmFYvkylMwXn",
        "colab_type": "text"
      },
      "source": [
        "#Data"
      ]
    },
    {
      "cell_type": "markdown",
      "metadata": {
        "id": "MC_w8SRqN0fr",
        "colab_type": "text"
      },
      "source": [
        "First, let's download the dataset, hosted by Stanford. The code below, which downloads, extracts, and imports the IMDB Large Movie Review Dataset, is borrowed from [this Tensorflow tutorial](https://www.tensorflow.org/hub/tutorials/text_classification_with_tf_hub)."
      ]
    },
    {
      "cell_type": "code",
      "metadata": {
        "id": "fom_ff20gyy6",
        "colab_type": "code",
        "colab": {}
      },
      "source": [
        "data_train=pd.read_csv('/content/drive/My Drive/comp4332_Project1/data/train.csv')\n",
        "data_val = pd.read_csv('/content/drive/My Drive/comp4332_Project1/data/valid.csv')\n",
        "train = data_train[['stars' , 'text' , 'review_id']]\n",
        "val = data_val[['stars' , 'text' , 'review_id']]"
      ],
      "execution_count": 0,
      "outputs": []
    },
    {
      "cell_type": "code",
      "metadata": {
        "id": "b9x7jYzDubKD",
        "colab_type": "code",
        "colab": {
          "base_uri": "https://localhost:8080/",
          "height": 279
        },
        "outputId": "59f85ce4-4333-4c04-ebfc-7750aff205da"
      },
      "source": [
        "train['stars'].value_counts().plot(kind = 'bar')"
      ],
      "execution_count": 12,
      "outputs": [
        {
          "output_type": "execute_result",
          "data": {
            "text/plain": [
              "<matplotlib.axes._subplots.AxesSubplot at 0x7ff1500b0cf8>"
            ]
          },
          "metadata": {
            "tags": []
          },
          "execution_count": 12
        },
        {
          "output_type": "display_data",
          "data": {
            "image/png": "[encoded data removed]",
            "text/plain": [
              "<Figure size 432x288 with 1 Axes>"
            ]
          },
          "metadata": {
            "tags": [],
            "needs_background": "light"
          }
        }
      ]
    },
    {
      "cell_type": "code",
      "metadata": {
        "id": "lNS-_AexFkG6",
        "colab_type": "code",
        "colab": {
          "base_uri": "https://localhost:8080/",
          "height": 204
        },
        "outputId": "bb44ef34-0aa0-424d-b30d-32199fd93b8a"
      },
      "source": [
        "val.head()"
      ],
      "execution_count": 67,
      "outputs": [
        {
          "output_type": "execute_result",
          "data": {
            "text/html": [
              "<div>\n",
              "<style scoped>\n",
              "    .dataframe tbody tr th:only-of-type {\n",
              "        vertical-align: middle;\n",
              "    }\n",
              "\n",
              "    .dataframe tbody tr th {\n",
              "        vertical-align: top;\n",
              "    }\n",
              "\n",
              "    .dataframe thead th {\n",
              "        text-align: right;\n",
              "    }\n",
              "</style>\n",
              "<table border=\"1\" class=\"dataframe\">\n",
              "  <thead>\n",
              "    <tr style=\"text-align: right;\">\n",
              "      <th></th>\n",
              "      <th>stars</th>\n",
              "      <th>text</th>\n",
              "      <th>review_id</th>\n",
              "    </tr>\n",
              "  </thead>\n",
              "  <tbody>\n",
              "    <tr>\n",
              "      <th>0</th>\n",
              "      <td>4</td>\n",
              "      <td>Food is sometimes sometimes great and somethin...</td>\n",
              "      <td>ewaMkuxfjfCX3ndtk0oRTw</td>\n",
              "    </tr>\n",
              "    <tr>\n",
              "      <th>1</th>\n",
              "      <td>5</td>\n",
              "      <td>They should seriously market the sausage and g...</td>\n",
              "      <td>SzkuvIpf0lcVaDgk5x2ipg</td>\n",
              "    </tr>\n",
              "    <tr>\n",
              "      <th>2</th>\n",
              "      <td>5</td>\n",
              "      <td>While I have had several average salon and spa...</td>\n",
              "      <td>ZGg6emL3sqhyyqHD_DJEag</td>\n",
              "    </tr>\n",
              "    <tr>\n",
              "      <th>3</th>\n",
              "      <td>5</td>\n",
              "      <td>I have been coming to NCS for almost two years...</td>\n",
              "      <td>IXYLmBVvRVFJZEhnhE_YsQ</td>\n",
              "    </tr>\n",
              "    <tr>\n",
              "      <th>4</th>\n",
              "      <td>3</td>\n",
              "      <td>This place should be renamed to \"We Take Our S...</td>\n",
              "      <td>dao7SEXhBuMk7TieM4gEZA</td>\n",
              "    </tr>\n",
              "  </tbody>\n",
              "</table>\n",
              "</div>"
            ],
            "text/plain": [
              "   stars  ...               review_id\n",
              "0      4  ...  ewaMkuxfjfCX3ndtk0oRTw\n",
              "1      5  ...  SzkuvIpf0lcVaDgk5x2ipg\n",
              "2      5  ...  ZGg6emL3sqhyyqHD_DJEag\n",
              "3      5  ...  IXYLmBVvRVFJZEhnhE_YsQ\n",
              "4      3  ...  dao7SEXhBuMk7TieM4gEZA\n",
              "\n",
              "[5 rows x 3 columns]"
            ]
          },
          "metadata": {
            "tags": []
          },
          "execution_count": 67
        }
      ]
    },
    {
      "cell_type": "markdown",
      "metadata": {
        "id": "XA8WHJgzhIZf",
        "colab_type": "text"
      },
      "source": [
        "To keep training fast, we'll take a sample of 5000 train and test examples, respectively."
      ]
    },
    {
      "cell_type": "markdown",
      "metadata": {
        "id": "sfRnHSz3iSXz",
        "colab_type": "text"
      },
      "source": [
        "For us, our input data is the 'sentence' column and our label is the 'polarity' column (0, 1 for negative and positive, respecitvely)"
      ]
    },
    {
      "cell_type": "code",
      "metadata": {
        "id": "IuMOGwFui4it",
        "colab_type": "code",
        "colab": {}
      },
      "source": [
        "DATA_COLUMN = 'text'\n",
        "LABEL_COLUMN = 'stars'\n",
        "# label_list is the list of labels\n",
        "label_list = [1, 2, 3, 4, 5]"
      ],
      "execution_count": 0,
      "outputs": []
    },
    {
      "cell_type": "markdown",
      "metadata": {
        "id": "V399W0rqNJ-Z",
        "colab_type": "text"
      },
      "source": [
        "#Data Preprocessing\n",
        "We'll need to transform our data into a format BERT understands. This involves two steps. First, we create  `InputExample`'s using the constructor provided in the BERT library.\n",
        "\n",
        "- `text_a` is the text we want to classify, which in this case, is the `Request` field in our Dataframe. \n",
        "- `text_b` is used if we're training a model to understand the relationship between sentences (i.e. is `text_b` a translation of `text_a`? Is `text_b` an answer to the question asked by `text_a`?). This doesn't apply to our task, so we can leave `text_b` blank.\n",
        "- `label` is the label for our example, i.e. True, False"
      ]
    },
    {
      "cell_type": "code",
      "metadata": {
        "id": "p9gEt5SmM6i6",
        "colab_type": "code",
        "colab": {}
      },
      "source": [
        "# Use the InputExample class from BERT's run_classifier code to create examples from the data\n",
        "train_InputExamples = train.apply(lambda x: bert.run_classifier.InputExample(guid=None, # Globally unique ID for bookkeeping, unused in this example\n",
        "                                                                   text_a = x[DATA_COLUMN], \n",
        "                                                                   text_b = None, \n",
        "                                                                   label = x[LABEL_COLUMN]), axis = 1)\n",
        "\n",
        "val_InputExamples = val.apply(lambda x: bert.run_classifier.InputExample(guid=None, \n",
        "                                                                   text_a = x[DATA_COLUMN], \n",
        "                                                                   text_b = None, \n",
        "                                                                   label = x[LABEL_COLUMN]), axis = 1)"
      ],
      "execution_count": 0,
      "outputs": []
    },
    {
      "cell_type": "markdown",
      "metadata": {
        "id": "SCZWZtKxObjh",
        "colab_type": "text"
      },
      "source": [
        "Next, we need to preprocess our data so that it matches the data BERT was trained on. For this, we'll need to do a couple of things (but don't worry--this is also included in the Python library):\n",
        "\n",
        "\n",
        "1. Lowercase our text (if we're using a BERT lowercase model)\n",
        "2. Tokenize it (i.e. \"sally says hi\" -> [\"sally\", \"says\", \"hi\"])\n",
        "3. Break words into WordPieces (i.e. \"calling\" -> [\"call\", \"##ing\"])\n",
        "4. Map our words to indexes using a vocab file that BERT provides\n",
        "5. Add special \"CLS\" and \"SEP\" tokens (see the [readme](https://github.com/google-research/bert))\n",
        "6. Append \"index\" and \"segment\" tokens to each input (see the [BERT paper](https://arxiv.org/pdf/1810.04805.pdf))\n",
        "\n",
        "Happily, we don't have to worry about most of these details.\n",
        "\n",
        "\n"
      ]
    },
    {
      "cell_type": "markdown",
      "metadata": {
        "id": "qMWiDtpyQSoU",
        "colab_type": "text"
      },
      "source": [
        "To start, we'll need to load a vocabulary file and lowercasing information directly from the BERT tf hub module:"
      ]
    },
    {
      "cell_type": "code",
      "metadata": {
        "id": "IhJSe0QHNG7U",
        "colab_type": "code",
        "outputId": "57c75942-d97a-4003-cfa1-029cf7e23474",
        "colab": {
          "base_uri": "https://localhost:8080/",
          "height": 139
        }
      },
      "source": [
        "# This is a path to an uncased (all lowercase) version of BERT\n",
        "BERT_MODEL_HUB = \"https://tfhub.dev/google/bert_uncased_L-12_H-768_A-12/1\"\n",
        "\n",
        "def create_tokenizer_from_hub_module():\n",
        "  \"\"\"Get the vocab file and casing info from the Hub module.\"\"\"\n",
        "  with tf.Graph().as_default():\n",
        "    bert_module = hub.Module(BERT_MODEL_HUB)\n",
        "    tokenization_info = bert_module(signature=\"tokenization_info\", as_dict=True)\n",
        "    with tf.Session() as sess:\n",
        "      vocab_file, do_lower_case = sess.run([tokenization_info[\"vocab_file\"],\n",
        "                                            tokenization_info[\"do_lower_case\"]])\n",
        "      \n",
        "  return bert.tokenization.FullTokenizer(\n",
        "      vocab_file=vocab_file, do_lower_case=do_lower_case)\n",
        "\n",
        "tokenizer = create_tokenizer_from_hub_module()"
      ],
      "execution_count": 11,
      "outputs": [
        {
          "output_type": "stream",
          "text": [
            "INFO:tensorflow:Saver not created because there are no variables in the graph to restore\n"
          ],
          "name": "stdout"
        },
        {
          "output_type": "stream",
          "text": [
            "INFO:tensorflow:Saver not created because there are no variables in the graph to restore\n"
          ],
          "name": "stderr"
        },
        {
          "output_type": "stream",
          "text": [
            "WARNING:tensorflow:From /usr/local/lib/python3.6/dist-packages/bert/tokenization.py:125: The name tf.gfile.GFile is deprecated. Please use tf.io.gfile.GFile instead.\n",
            "\n"
          ],
          "name": "stdout"
        },
        {
          "output_type": "stream",
          "text": [
            "WARNING:tensorflow:From /usr/local/lib/python3.6/dist-packages/bert/tokenization.py:125: The name tf.gfile.GFile is deprecated. Please use tf.io.gfile.GFile instead.\n",
            "\n"
          ],
          "name": "stderr"
        }
      ]
    },
    {
      "cell_type": "markdown",
      "metadata": {
        "id": "z4oFkhpZBDKm",
        "colab_type": "text"
      },
      "source": [
        "Great--we just learned that the BERT model we're using expects lowercase data (that's what stored in tokenization_info[\"do_lower_case\"]) and we also loaded BERT's vocab file. We also created a tokenizer, which breaks words into word pieces:"
      ]
    },
    {
      "cell_type": "code",
      "metadata": {
        "id": "dsBo6RCtQmwx",
        "colab_type": "code",
        "outputId": "eebc0e20-98d2-45b1-8d16-43722fa5b78e",
        "colab": {
          "base_uri": "https://localhost:8080/",
          "height": 221
        }
      },
      "source": [
        "tokenizer.tokenize(\"This here's an example of using the BERT tokenizer\")"
      ],
      "execution_count": 13,
      "outputs": [
        {
          "output_type": "execute_result",
          "data": {
            "text/plain": [
              "['this',\n",
              " 'here',\n",
              " \"'\",\n",
              " 's',\n",
              " 'an',\n",
              " 'example',\n",
              " 'of',\n",
              " 'using',\n",
              " 'the',\n",
              " 'bert',\n",
              " 'token',\n",
              " '##izer']"
            ]
          },
          "metadata": {
            "tags": []
          },
          "execution_count": 13
        }
      ]
    },
    {
      "cell_type": "markdown",
      "metadata": {
        "id": "0OEzfFIt6GIc",
        "colab_type": "text"
      },
      "source": [
        "Using our tokenizer, we'll call `run_classifier.convert_examples_to_features` on our InputExamples to convert them into features BERT understands."
      ]
    },
    {
      "cell_type": "code",
      "metadata": {
        "id": "LL5W8gEGRTAf",
        "colab_type": "code",
        "outputId": "b79febd7-ebcd-4b73-c4c9-cb375cbfaccd",
        "colab": {
          "base_uri": "https://localhost:8080/",
          "height": 1000
        }
      },
      "source": [
        "# We'll set sequences to be at most 128 tokens long.\n",
        "MAX_SEQ_LENGTH = 128\n",
        "# Convert our train and test features to InputFeatures that BERT understands.\n",
        "train_features = bert.run_classifier.convert_examples_to_features(train_InputExamples, label_list, MAX_SEQ_LENGTH, tokenizer)\n",
        "val_features = bert.run_classifier.convert_examples_to_features(val_InputExamples, label_list, MAX_SEQ_LENGTH, tokenizer)"
      ],
      "execution_count": 14,
      "outputs": [
        {
          "output_type": "stream",
          "text": [
            "WARNING:tensorflow:From /usr/local/lib/python3.6/dist-packages/bert/run_classifier.py:774: The name tf.logging.info is deprecated. Please use tf.compat.v1.logging.info instead.\n",
            "\n"
          ],
          "name": "stdout"
        },
        {
          "output_type": "stream",
          "text": [
            "WARNING:tensorflow:From /usr/local/lib/python3.6/dist-packages/bert/run_classifier.py:774: The name tf.logging.info is deprecated. Please use tf.compat.v1.logging.info instead.\n",
            "\n"
          ],
          "name": "stderr"
        },
        {
          "output_type": "stream",
          "text": [
            "INFO:tensorflow:Writing example 0 of 20000\n"
          ],
          "name": "stdout"
        },
        {
          "output_type": "stream",
          "text": [
            "INFO:tensorflow:Writing example 0 of 20000\n"
          ],
          "name": "stderr"
        },
        {
          "output_type": "stream",
          "text": [
            "INFO:tensorflow:*** Example ***\n"
          ],
          "name": "stdout"
        },
        {
          "output_type": "stream",
          "text": [
            "INFO:tensorflow:*** Example ***\n"
          ],
          "name": "stderr"
        },
        {
          "output_type": "stream",
          "text": [
            "INFO:tensorflow:guid: None\n"
          ],
          "name": "stdout"
        },
        {
          "output_type": "stream",
          "text": [
            "INFO:tensorflow:guid: None\n"
          ],
          "name": "stderr"
        },
        {
          "output_type": "stream",
          "text": [
            "INFO:tensorflow:tokens: [CLS] \" what do you do for recreation ? \" \" oh , the usual . i bowl . drive around . the occasional acid flashback . \" i do not actually like bowling . it ' s my nature . i only like things that i am good at and i am not even certain i would like to be good at bowling so i had my reservations when being invited to hang with the optimism club kids but i love these kids so . . . \" fuck it , dude , let ' s go bowling . \" i do have to admit ; i really had a blast here . it is vintage and sc ##um ##my on the outside which to me [SEP]\n"
          ],
          "name": "stdout"
        },
        {
          "output_type": "stream",
          "text": [
            "INFO:tensorflow:tokens: [CLS] \" what do you do for recreation ? \" \" oh , the usual . i bowl . drive around . the occasional acid flashback . \" i do not actually like bowling . it ' s my nature . i only like things that i am good at and i am not even certain i would like to be good at bowling so i had my reservations when being invited to hang with the optimism club kids but i love these kids so . . . \" fuck it , dude , let ' s go bowling . \" i do have to admit ; i really had a blast here . it is vintage and sc ##um ##my on the outside which to me [SEP]\n"
          ],
          "name": "stderr"
        },
        {
          "output_type": "stream",
          "text": [
            "INFO:tensorflow:input_ids: 101 1000 2054 2079 2017 2079 2005 8640 1029 1000 1000 2821 1010 1996 5156 1012 1045 4605 1012 3298 2105 1012 1996 8138 5648 21907 1012 1000 1045 2079 2025 2941 2066 9116 1012 2009 1005 1055 2026 3267 1012 1045 2069 2066 2477 2008 1045 2572 2204 2012 1998 1045 2572 2025 2130 3056 1045 2052 2066 2000 2022 2204 2012 9116 2061 1045 2018 2026 17829 2043 2108 4778 2000 6865 2007 1996 27451 2252 4268 2021 1045 2293 2122 4268 2061 1012 1012 1012 1000 6616 2009 1010 12043 1010 2292 1005 1055 2175 9116 1012 1000 1045 2079 2031 2000 6449 1025 1045 2428 2018 1037 8479 2182 1012 2009 2003 13528 1998 8040 2819 8029 2006 1996 2648 2029 2000 2033 102\n"
          ],
          "name": "stdout"
        },
        {
          "output_type": "stream",
          "text": [
            "INFO:tensorflow:input_ids: 101 1000 2054 2079 2017 2079 2005 8640 1029 1000 1000 2821 1010 1996 5156 1012 1045 4605 1012 3298 2105 1012 1996 8138 5648 21907 1012 1000 1045 2079 2025 2941 2066 9116 1012 2009 1005 1055 2026 3267 1012 1045 2069 2066 2477 2008 1045 2572 2204 2012 1998 1045 2572 2025 2130 3056 1045 2052 2066 2000 2022 2204 2012 9116 2061 1045 2018 2026 17829 2043 2108 4778 2000 6865 2007 1996 27451 2252 4268 2021 1045 2293 2122 4268 2061 1012 1012 1012 1000 6616 2009 1010 12043 1010 2292 1005 1055 2175 9116 1012 1000 1045 2079 2031 2000 6449 1025 1045 2428 2018 1037 8479 2182 1012 2009 2003 13528 1998 8040 2819 8029 2006 1996 2648 2029 2000 2033 102\n"
          ],
          "name": "stderr"
        },
        {
          "output_type": "stream",
          "text": [
            "INFO:tensorflow:input_mask: 1 1 1 1 1 1 1 1 1 1 1 1 1 1 1 1 1 1 1 1 1 1 1 1 1 1 1 1 1 1 1 1 1 1 1 1 1 1 1 1 1 1 1 1 1 1 1 1 1 1 1 1 1 1 1 1 1 1 1 1 1 1 1 1 1 1 1 1 1 1 1 1 1 1 1 1 1 1 1 1 1 1 1 1 1 1 1 1 1 1 1 1 1 1 1 1 1 1 1 1 1 1 1 1 1 1 1 1 1 1 1 1 1 1 1 1 1 1 1 1 1 1 1 1 1 1 1 1\n"
          ],
          "name": "stdout"
        },
        {
          "output_type": "stream",
          "text": [
            "INFO:tensorflow:input_mask: 1 1 1 1 1 1 1 1 1 1 1 1 1 1 1 1 1 1 1 1 1 1 1 1 1 1 1 1 1 1 1 1 1 1 1 1 1 1 1 1 1 1 1 1 1 1 1 1 1 1 1 1 1 1 1 1 1 1 1 1 1 1 1 1 1 1 1 1 1 1 1 1 1 1 1 1 1 1 1 1 1 1 1 1 1 1 1 1 1 1 1 1 1 1 1 1 1 1 1 1 1 1 1 1 1 1 1 1 1 1 1 1 1 1 1 1 1 1 1 1 1 1 1 1 1 1 1 1\n"
          ],
          "name": "stderr"
        },
        {
          "output_type": "stream",
          "text": [
            "INFO:tensorflow:segment_ids: 0 0 0 0 0 0 0 0 0 0 0 0 0 0 0 0 0 0 0 0 0 0 0 0 0 0 0 0 0 0 0 0 0 0 0 0 0 0 0 0 0 0 0 0 0 0 0 0 0 0 0 0 0 0 0 0 0 0 0 0 0 0 0 0 0 0 0 0 0 0 0 0 0 0 0 0 0 0 0 0 0 0 0 0 0 0 0 0 0 0 0 0 0 0 0 0 0 0 0 0 0 0 0 0 0 0 0 0 0 0 0 0 0 0 0 0 0 0 0 0 0 0 0 0 0 0 0 0\n"
          ],
          "name": "stdout"
        },
        {
          "output_type": "stream",
          "text": [
            "INFO:tensorflow:segment_ids: 0 0 0 0 0 0 0 0 0 0 0 0 0 0 0 0 0 0 0 0 0 0 0 0 0 0 0 0 0 0 0 0 0 0 0 0 0 0 0 0 0 0 0 0 0 0 0 0 0 0 0 0 0 0 0 0 0 0 0 0 0 0 0 0 0 0 0 0 0 0 0 0 0 0 0 0 0 0 0 0 0 0 0 0 0 0 0 0 0 0 0 0 0 0 0 0 0 0 0 0 0 0 0 0 0 0 0 0 0 0 0 0 0 0 0 0 0 0 0 0 0 0 0 0 0 0 0 0\n"
          ],
          "name": "stderr"
        },
        {
          "output_type": "stream",
          "text": [
            "INFO:tensorflow:label: 4 (id = 3)\n"
          ],
          "name": "stdout"
        },
        {
          "output_type": "stream",
          "text": [
            "INFO:tensorflow:label: 4 (id = 3)\n"
          ],
          "name": "stderr"
        },
        {
          "output_type": "stream",
          "text": [
            "INFO:tensorflow:*** Example ***\n"
          ],
          "name": "stdout"
        },
        {
          "output_type": "stream",
          "text": [
            "INFO:tensorflow:*** Example ***\n"
          ],
          "name": "stderr"
        },
        {
          "output_type": "stream",
          "text": [
            "INFO:tensorflow:guid: None\n"
          ],
          "name": "stdout"
        },
        {
          "output_type": "stream",
          "text": [
            "INFO:tensorflow:guid: None\n"
          ],
          "name": "stderr"
        },
        {
          "output_type": "stream",
          "text": [
            "INFO:tensorflow:tokens: [CLS] the burger ##s are good and they have good fries too . i used to get the ib ##ion rings but i can ' t eat onion now unfortunately . would recommend to anyone for lunch . [SEP]\n"
          ],
          "name": "stdout"
        },
        {
          "output_type": "stream",
          "text": [
            "INFO:tensorflow:tokens: [CLS] the burger ##s are good and they have good fries too . i used to get the ib ##ion rings but i can ' t eat onion now unfortunately . would recommend to anyone for lunch . [SEP]\n"
          ],
          "name": "stderr"
        },
        {
          "output_type": "stream",
          "text": [
            "INFO:tensorflow:input_ids: 101 1996 15890 2015 2024 2204 1998 2027 2031 2204 22201 2205 1012 1045 2109 2000 2131 1996 21307 3258 7635 2021 1045 2064 1005 1056 4521 20949 2085 6854 1012 2052 16755 2000 3087 2005 6265 1012 102 0 0 0 0 0 0 0 0 0 0 0 0 0 0 0 0 0 0 0 0 0 0 0 0 0 0 0 0 0 0 0 0 0 0 0 0 0 0 0 0 0 0 0 0 0 0 0 0 0 0 0 0 0 0 0 0 0 0 0 0 0 0 0 0 0 0 0 0 0 0 0 0 0 0 0 0 0 0 0 0 0 0 0 0 0 0 0 0 0\n"
          ],
          "name": "stdout"
        },
        {
          "output_type": "stream",
          "text": [
            "INFO:tensorflow:input_ids: 101 1996 15890 2015 2024 2204 1998 2027 2031 2204 22201 2205 1012 1045 2109 2000 2131 1996 21307 3258 7635 2021 1045 2064 1005 1056 4521 20949 2085 6854 1012 2052 16755 2000 3087 2005 6265 1012 102 0 0 0 0 0 0 0 0 0 0 0 0 0 0 0 0 0 0 0 0 0 0 0 0 0 0 0 0 0 0 0 0 0 0 0 0 0 0 0 0 0 0 0 0 0 0 0 0 0 0 0 0 0 0 0 0 0 0 0 0 0 0 0 0 0 0 0 0 0 0 0 0 0 0 0 0 0 0 0 0 0 0 0 0 0 0 0 0 0\n"
          ],
          "name": "stderr"
        },
        {
          "output_type": "stream",
          "text": [
            "INFO:tensorflow:input_mask: 1 1 1 1 1 1 1 1 1 1 1 1 1 1 1 1 1 1 1 1 1 1 1 1 1 1 1 1 1 1 1 1 1 1 1 1 1 1 1 0 0 0 0 0 0 0 0 0 0 0 0 0 0 0 0 0 0 0 0 0 0 0 0 0 0 0 0 0 0 0 0 0 0 0 0 0 0 0 0 0 0 0 0 0 0 0 0 0 0 0 0 0 0 0 0 0 0 0 0 0 0 0 0 0 0 0 0 0 0 0 0 0 0 0 0 0 0 0 0 0 0 0 0 0 0 0 0 0\n"
          ],
          "name": "stdout"
        },
        {
          "output_type": "stream",
          "text": [
            "INFO:tensorflow:input_mask: 1 1 1 1 1 1 1 1 1 1 1 1 1 1 1 1 1 1 1 1 1 1 1 1 1 1 1 1 1 1 1 1 1 1 1 1 1 1 1 0 0 0 0 0 0 0 0 0 0 0 0 0 0 0 0 0 0 0 0 0 0 0 0 0 0 0 0 0 0 0 0 0 0 0 0 0 0 0 0 0 0 0 0 0 0 0 0 0 0 0 0 0 0 0 0 0 0 0 0 0 0 0 0 0 0 0 0 0 0 0 0 0 0 0 0 0 0 0 0 0 0 0 0 0 0 0 0 0\n"
          ],
          "name": "stderr"
        },
        {
          "output_type": "stream",
          "text": [
            "INFO:tensorflow:segment_ids: 0 0 0 0 0 0 0 0 0 0 0 0 0 0 0 0 0 0 0 0 0 0 0 0 0 0 0 0 0 0 0 0 0 0 0 0 0 0 0 0 0 0 0 0 0 0 0 0 0 0 0 0 0 0 0 0 0 0 0 0 0 0 0 0 0 0 0 0 0 0 0 0 0 0 0 0 0 0 0 0 0 0 0 0 0 0 0 0 0 0 0 0 0 0 0 0 0 0 0 0 0 0 0 0 0 0 0 0 0 0 0 0 0 0 0 0 0 0 0 0 0 0 0 0 0 0 0 0\n"
          ],
          "name": "stdout"
        },
        {
          "output_type": "stream",
          "text": [
            "INFO:tensorflow:segment_ids: 0 0 0 0 0 0 0 0 0 0 0 0 0 0 0 0 0 0 0 0 0 0 0 0 0 0 0 0 0 0 0 0 0 0 0 0 0 0 0 0 0 0 0 0 0 0 0 0 0 0 0 0 0 0 0 0 0 0 0 0 0 0 0 0 0 0 0 0 0 0 0 0 0 0 0 0 0 0 0 0 0 0 0 0 0 0 0 0 0 0 0 0 0 0 0 0 0 0 0 0 0 0 0 0 0 0 0 0 0 0 0 0 0 0 0 0 0 0 0 0 0 0 0 0 0 0 0 0\n"
          ],
          "name": "stderr"
        },
        {
          "output_type": "stream",
          "text": [
            "INFO:tensorflow:label: 5 (id = 4)\n"
          ],
          "name": "stdout"
        },
        {
          "output_type": "stream",
          "text": [
            "INFO:tensorflow:label: 5 (id = 4)\n"
          ],
          "name": "stderr"
        },
        {
          "output_type": "stream",
          "text": [
            "INFO:tensorflow:*** Example ***\n"
          ],
          "name": "stdout"
        },
        {
          "output_type": "stream",
          "text": [
            "INFO:tensorflow:*** Example ***\n"
          ],
          "name": "stderr"
        },
        {
          "output_type": "stream",
          "text": [
            "INFO:tensorflow:guid: None\n"
          ],
          "name": "stdout"
        },
        {
          "output_type": "stream",
          "text": [
            "INFO:tensorflow:guid: None\n"
          ],
          "name": "stderr"
        },
        {
          "output_type": "stream",
          "text": [
            "INFO:tensorflow:tokens: [CLS] been there three times , twice they didn ' t have gu ##aca ##mo ##le . took the family on thursday night to hear live reggae , which they had confirmed when i called earlier in the day . ordered gu ##ac . . . no gu ##ac . ordered beef with mole . . . we ' re out of mole . wife ordered car ##ni ##tas , after long wait , waitress came back and informed her they were out of car ##ni ##tas . i think any problems relate to lai ##sse ##z fair ##e management . service is slow because they don ' t pay for enough staff . food takes long b / c there is only room for one cook [SEP]\n"
          ],
          "name": "stdout"
        },
        {
          "output_type": "stream",
          "text": [
            "INFO:tensorflow:tokens: [CLS] been there three times , twice they didn ' t have gu ##aca ##mo ##le . took the family on thursday night to hear live reggae , which they had confirmed when i called earlier in the day . ordered gu ##ac . . . no gu ##ac . ordered beef with mole . . . we ' re out of mole . wife ordered car ##ni ##tas , after long wait , waitress came back and informed her they were out of car ##ni ##tas . i think any problems relate to lai ##sse ##z fair ##e management . service is slow because they don ' t pay for enough staff . food takes long b / c there is only room for one cook [SEP]\n"
          ],
          "name": "stderr"
        },
        {
          "output_type": "stream",
          "text": [
            "INFO:tensorflow:input_ids: 101 2042 2045 2093 2335 1010 3807 2027 2134 1005 1056 2031 19739 19629 5302 2571 1012 2165 1996 2155 2006 9432 2305 2000 2963 2444 15662 1010 2029 2027 2018 4484 2043 1045 2170 3041 1999 1996 2154 1012 3641 19739 6305 1012 1012 1012 2053 19739 6305 1012 3641 12486 2007 16709 1012 1012 1012 2057 1005 2128 2041 1997 16709 1012 2564 3641 2482 3490 10230 1010 2044 2146 3524 1010 13877 2234 2067 1998 6727 2014 2027 2020 2041 1997 2482 3490 10230 1012 1045 2228 2151 3471 14396 2000 21110 11393 2480 4189 2063 2968 1012 2326 2003 4030 2138 2027 2123 1005 1056 3477 2005 2438 3095 1012 2833 3138 2146 1038 1013 1039 2045 2003 2069 2282 2005 2028 5660 102\n"
          ],
          "name": "stdout"
        },
        {
          "output_type": "stream",
          "text": [
            "INFO:tensorflow:input_ids: 101 2042 2045 2093 2335 1010 3807 2027 2134 1005 1056 2031 19739 19629 5302 2571 1012 2165 1996 2155 2006 9432 2305 2000 2963 2444 15662 1010 2029 2027 2018 4484 2043 1045 2170 3041 1999 1996 2154 1012 3641 19739 6305 1012 1012 1012 2053 19739 6305 1012 3641 12486 2007 16709 1012 1012 1012 2057 1005 2128 2041 1997 16709 1012 2564 3641 2482 3490 10230 1010 2044 2146 3524 1010 13877 2234 2067 1998 6727 2014 2027 2020 2041 1997 2482 3490 10230 1012 1045 2228 2151 3471 14396 2000 21110 11393 2480 4189 2063 2968 1012 2326 2003 4030 2138 2027 2123 1005 1056 3477 2005 2438 3095 1012 2833 3138 2146 1038 1013 1039 2045 2003 2069 2282 2005 2028 5660 102\n"
          ],
          "name": "stderr"
        },
        {
          "output_type": "stream",
          "text": [
            "INFO:tensorflow:input_mask: 1 1 1 1 1 1 1 1 1 1 1 1 1 1 1 1 1 1 1 1 1 1 1 1 1 1 1 1 1 1 1 1 1 1 1 1 1 1 1 1 1 1 1 1 1 1 1 1 1 1 1 1 1 1 1 1 1 1 1 1 1 1 1 1 1 1 1 1 1 1 1 1 1 1 1 1 1 1 1 1 1 1 1 1 1 1 1 1 1 1 1 1 1 1 1 1 1 1 1 1 1 1 1 1 1 1 1 1 1 1 1 1 1 1 1 1 1 1 1 1 1 1 1 1 1 1 1 1\n"
          ],
          "name": "stdout"
        },
        {
          "output_type": "stream",
          "text": [
            "INFO:tensorflow:input_mask: 1 1 1 1 1 1 1 1 1 1 1 1 1 1 1 1 1 1 1 1 1 1 1 1 1 1 1 1 1 1 1 1 1 1 1 1 1 1 1 1 1 1 1 1 1 1 1 1 1 1 1 1 1 1 1 1 1 1 1 1 1 1 1 1 1 1 1 1 1 1 1 1 1 1 1 1 1 1 1 1 1 1 1 1 1 1 1 1 1 1 1 1 1 1 1 1 1 1 1 1 1 1 1 1 1 1 1 1 1 1 1 1 1 1 1 1 1 1 1 1 1 1 1 1 1 1 1 1\n"
          ],
          "name": "stderr"
        },
        {
          "output_type": "stream",
          "text": [
            "INFO:tensorflow:segment_ids: 0 0 0 0 0 0 0 0 0 0 0 0 0 0 0 0 0 0 0 0 0 0 0 0 0 0 0 0 0 0 0 0 0 0 0 0 0 0 0 0 0 0 0 0 0 0 0 0 0 0 0 0 0 0 0 0 0 0 0 0 0 0 0 0 0 0 0 0 0 0 0 0 0 0 0 0 0 0 0 0 0 0 0 0 0 0 0 0 0 0 0 0 0 0 0 0 0 0 0 0 0 0 0 0 0 0 0 0 0 0 0 0 0 0 0 0 0 0 0 0 0 0 0 0 0 0 0 0\n"
          ],
          "name": "stdout"
        },
        {
          "output_type": "stream",
          "text": [
            "INFO:tensorflow:segment_ids: 0 0 0 0 0 0 0 0 0 0 0 0 0 0 0 0 0 0 0 0 0 0 0 0 0 0 0 0 0 0 0 0 0 0 0 0 0 0 0 0 0 0 0 0 0 0 0 0 0 0 0 0 0 0 0 0 0 0 0 0 0 0 0 0 0 0 0 0 0 0 0 0 0 0 0 0 0 0 0 0 0 0 0 0 0 0 0 0 0 0 0 0 0 0 0 0 0 0 0 0 0 0 0 0 0 0 0 0 0 0 0 0 0 0 0 0 0 0 0 0 0 0 0 0 0 0 0 0\n"
          ],
          "name": "stderr"
        },
        {
          "output_type": "stream",
          "text": [
            "INFO:tensorflow:label: 2 (id = 1)\n"
          ],
          "name": "stdout"
        },
        {
          "output_type": "stream",
          "text": [
            "INFO:tensorflow:label: 2 (id = 1)\n"
          ],
          "name": "stderr"
        },
        {
          "output_type": "stream",
          "text": [
            "INFO:tensorflow:*** Example ***\n"
          ],
          "name": "stdout"
        },
        {
          "output_type": "stream",
          "text": [
            "INFO:tensorflow:*** Example ***\n"
          ],
          "name": "stderr"
        },
        {
          "output_type": "stream",
          "text": [
            "INFO:tensorflow:guid: None\n"
          ],
          "name": "stdout"
        },
        {
          "output_type": "stream",
          "text": [
            "INFO:tensorflow:guid: None\n"
          ],
          "name": "stderr"
        },
        {
          "output_type": "stream",
          "text": [
            "INFO:tensorflow:tokens: [CLS] pretty excited to discover this cal ##i gas ##tro ##pu ##b was arriving at the swan ##ky downtown summer ##lin . great beers and our server was not only fun but extremely knowledge ##able and turned me on to the w ##him ##sic ##al and ta ##sty golden monkey . outdoor patio is great place for a late night meal . and best of al locals get half off their bill on mondays . how good is that ? [SEP]\n"
          ],
          "name": "stdout"
        },
        {
          "output_type": "stream",
          "text": [
            "INFO:tensorflow:tokens: [CLS] pretty excited to discover this cal ##i gas ##tro ##pu ##b was arriving at the swan ##ky downtown summer ##lin . great beers and our server was not only fun but extremely knowledge ##able and turned me on to the w ##him ##sic ##al and ta ##sty golden monkey . outdoor patio is great place for a late night meal . and best of al locals get half off their bill on mondays . how good is that ? [SEP]\n"
          ],
          "name": "stderr"
        },
        {
          "output_type": "stream",
          "text": [
            "INFO:tensorflow:input_ids: 101 3492 7568 2000 7523 2023 10250 2072 3806 13181 14289 2497 2001 7194 2012 1996 10677 4801 5116 2621 4115 1012 2307 18007 1998 2256 8241 2001 2025 2069 4569 2021 5186 3716 3085 1998 2357 2033 2006 2000 1996 1059 14341 19570 2389 1998 11937 21756 3585 10608 1012 7254 19404 2003 2307 2173 2005 1037 2397 2305 7954 1012 1998 2190 1997 2632 10575 2131 2431 2125 2037 3021 2006 28401 1012 2129 2204 2003 2008 1029 102 0 0 0 0 0 0 0 0 0 0 0 0 0 0 0 0 0 0 0 0 0 0 0 0 0 0 0 0 0 0 0 0 0 0 0 0 0 0 0 0 0 0 0 0 0 0 0\n"
          ],
          "name": "stdout"
        },
        {
          "output_type": "stream",
          "text": [
            "INFO:tensorflow:input_ids: 101 3492 7568 2000 7523 2023 10250 2072 3806 13181 14289 2497 2001 7194 2012 1996 10677 4801 5116 2621 4115 1012 2307 18007 1998 2256 8241 2001 2025 2069 4569 2021 5186 3716 3085 1998 2357 2033 2006 2000 1996 1059 14341 19570 2389 1998 11937 21756 3585 10608 1012 7254 19404 2003 2307 2173 2005 1037 2397 2305 7954 1012 1998 2190 1997 2632 10575 2131 2431 2125 2037 3021 2006 28401 1012 2129 2204 2003 2008 1029 102 0 0 0 0 0 0 0 0 0 0 0 0 0 0 0 0 0 0 0 0 0 0 0 0 0 0 0 0 0 0 0 0 0 0 0 0 0 0 0 0 0 0 0 0 0 0 0\n"
          ],
          "name": "stderr"
        },
        {
          "output_type": "stream",
          "text": [
            "INFO:tensorflow:input_mask: 1 1 1 1 1 1 1 1 1 1 1 1 1 1 1 1 1 1 1 1 1 1 1 1 1 1 1 1 1 1 1 1 1 1 1 1 1 1 1 1 1 1 1 1 1 1 1 1 1 1 1 1 1 1 1 1 1 1 1 1 1 1 1 1 1 1 1 1 1 1 1 1 1 1 1 1 1 1 1 1 1 0 0 0 0 0 0 0 0 0 0 0 0 0 0 0 0 0 0 0 0 0 0 0 0 0 0 0 0 0 0 0 0 0 0 0 0 0 0 0 0 0 0 0 0 0 0 0\n"
          ],
          "name": "stdout"
        },
        {
          "output_type": "stream",
          "text": [
            "INFO:tensorflow:input_mask: 1 1 1 1 1 1 1 1 1 1 1 1 1 1 1 1 1 1 1 1 1 1 1 1 1 1 1 1 1 1 1 1 1 1 1 1 1 1 1 1 1 1 1 1 1 1 1 1 1 1 1 1 1 1 1 1 1 1 1 1 1 1 1 1 1 1 1 1 1 1 1 1 1 1 1 1 1 1 1 1 1 0 0 0 0 0 0 0 0 0 0 0 0 0 0 0 0 0 0 0 0 0 0 0 0 0 0 0 0 0 0 0 0 0 0 0 0 0 0 0 0 0 0 0 0 0 0 0\n"
          ],
          "name": "stderr"
        },
        {
          "output_type": "stream",
          "text": [
            "INFO:tensorflow:segment_ids: 0 0 0 0 0 0 0 0 0 0 0 0 0 0 0 0 0 0 0 0 0 0 0 0 0 0 0 0 0 0 0 0 0 0 0 0 0 0 0 0 0 0 0 0 0 0 0 0 0 0 0 0 0 0 0 0 0 0 0 0 0 0 0 0 0 0 0 0 0 0 0 0 0 0 0 0 0 0 0 0 0 0 0 0 0 0 0 0 0 0 0 0 0 0 0 0 0 0 0 0 0 0 0 0 0 0 0 0 0 0 0 0 0 0 0 0 0 0 0 0 0 0 0 0 0 0 0 0\n"
          ],
          "name": "stdout"
        },
        {
          "output_type": "stream",
          "text": [
            "INFO:tensorflow:segment_ids: 0 0 0 0 0 0 0 0 0 0 0 0 0 0 0 0 0 0 0 0 0 0 0 0 0 0 0 0 0 0 0 0 0 0 0 0 0 0 0 0 0 0 0 0 0 0 0 0 0 0 0 0 0 0 0 0 0 0 0 0 0 0 0 0 0 0 0 0 0 0 0 0 0 0 0 0 0 0 0 0 0 0 0 0 0 0 0 0 0 0 0 0 0 0 0 0 0 0 0 0 0 0 0 0 0 0 0 0 0 0 0 0 0 0 0 0 0 0 0 0 0 0 0 0 0 0 0 0\n"
          ],
          "name": "stderr"
        },
        {
          "output_type": "stream",
          "text": [
            "INFO:tensorflow:label: 5 (id = 4)\n"
          ],
          "name": "stdout"
        },
        {
          "output_type": "stream",
          "text": [
            "INFO:tensorflow:label: 5 (id = 4)\n"
          ],
          "name": "stderr"
        },
        {
          "output_type": "stream",
          "text": [
            "INFO:tensorflow:*** Example ***\n"
          ],
          "name": "stdout"
        },
        {
          "output_type": "stream",
          "text": [
            "INFO:tensorflow:*** Example ***\n"
          ],
          "name": "stderr"
        },
        {
          "output_type": "stream",
          "text": [
            "INFO:tensorflow:guid: None\n"
          ],
          "name": "stdout"
        },
        {
          "output_type": "stream",
          "text": [
            "INFO:tensorflow:guid: None\n"
          ],
          "name": "stderr"
        },
        {
          "output_type": "stream",
          "text": [
            "INFO:tensorflow:tokens: [CLS] i have been very pleased with the care that i receive here . i have been going to them since 2002 for five different reasons and i love them . they are thorough , caring and very dedicated to see you recover completely . their front office staff is amazing . they will work with you to assure that you are getting everything you need and make sure that your insurance and referring physician are informed about your care . i have had pablo and cory as my therapist and i would recommend them to anyone that needs physical therapy . [SEP]\n"
          ],
          "name": "stdout"
        },
        {
          "output_type": "stream",
          "text": [
            "INFO:tensorflow:tokens: [CLS] i have been very pleased with the care that i receive here . i have been going to them since 2002 for five different reasons and i love them . they are thorough , caring and very dedicated to see you recover completely . their front office staff is amazing . they will work with you to assure that you are getting everything you need and make sure that your insurance and referring physician are informed about your care . i have had pablo and cory as my therapist and i would recommend them to anyone that needs physical therapy . [SEP]\n"
          ],
          "name": "stderr"
        },
        {
          "output_type": "stream",
          "text": [
            "INFO:tensorflow:input_ids: 101 1045 2031 2042 2200 7537 2007 1996 2729 2008 1045 4374 2182 1012 1045 2031 2042 2183 2000 2068 2144 2526 2005 2274 2367 4436 1998 1045 2293 2068 1012 2027 2024 16030 1010 11922 1998 2200 4056 2000 2156 2017 8980 3294 1012 2037 2392 2436 3095 2003 6429 1012 2027 2097 2147 2007 2017 2000 14306 2008 2017 2024 2893 2673 2017 2342 1998 2191 2469 2008 2115 5427 1998 7727 7522 2024 6727 2055 2115 2729 1012 1045 2031 2018 11623 1998 18342 2004 2026 19294 1998 1045 2052 16755 2068 2000 3087 2008 3791 3558 7242 1012 102 0 0 0 0 0 0 0 0 0 0 0 0 0 0 0 0 0 0 0 0 0 0 0 0 0\n"
          ],
          "name": "stdout"
        },
        {
          "output_type": "stream",
          "text": [
            "INFO:tensorflow:input_ids: 101 1045 2031 2042 2200 7537 2007 1996 2729 2008 1045 4374 2182 1012 1045 2031 2042 2183 2000 2068 2144 2526 2005 2274 2367 4436 1998 1045 2293 2068 1012 2027 2024 16030 1010 11922 1998 2200 4056 2000 2156 2017 8980 3294 1012 2037 2392 2436 3095 2003 6429 1012 2027 2097 2147 2007 2017 2000 14306 2008 2017 2024 2893 2673 2017 2342 1998 2191 2469 2008 2115 5427 1998 7727 7522 2024 6727 2055 2115 2729 1012 1045 2031 2018 11623 1998 18342 2004 2026 19294 1998 1045 2052 16755 2068 2000 3087 2008 3791 3558 7242 1012 102 0 0 0 0 0 0 0 0 0 0 0 0 0 0 0 0 0 0 0 0 0 0 0 0 0\n"
          ],
          "name": "stderr"
        },
        {
          "output_type": "stream",
          "text": [
            "INFO:tensorflow:input_mask: 1 1 1 1 1 1 1 1 1 1 1 1 1 1 1 1 1 1 1 1 1 1 1 1 1 1 1 1 1 1 1 1 1 1 1 1 1 1 1 1 1 1 1 1 1 1 1 1 1 1 1 1 1 1 1 1 1 1 1 1 1 1 1 1 1 1 1 1 1 1 1 1 1 1 1 1 1 1 1 1 1 1 1 1 1 1 1 1 1 1 1 1 1 1 1 1 1 1 1 1 1 1 1 0 0 0 0 0 0 0 0 0 0 0 0 0 0 0 0 0 0 0 0 0 0 0 0 0\n"
          ],
          "name": "stdout"
        },
        {
          "output_type": "stream",
          "text": [
            "INFO:tensorflow:input_mask: 1 1 1 1 1 1 1 1 1 1 1 1 1 1 1 1 1 1 1 1 1 1 1 1 1 1 1 1 1 1 1 1 1 1 1 1 1 1 1 1 1 1 1 1 1 1 1 1 1 1 1 1 1 1 1 1 1 1 1 1 1 1 1 1 1 1 1 1 1 1 1 1 1 1 1 1 1 1 1 1 1 1 1 1 1 1 1 1 1 1 1 1 1 1 1 1 1 1 1 1 1 1 1 0 0 0 0 0 0 0 0 0 0 0 0 0 0 0 0 0 0 0 0 0 0 0 0 0\n"
          ],
          "name": "stderr"
        },
        {
          "output_type": "stream",
          "text": [
            "INFO:tensorflow:segment_ids: 0 0 0 0 0 0 0 0 0 0 0 0 0 0 0 0 0 0 0 0 0 0 0 0 0 0 0 0 0 0 0 0 0 0 0 0 0 0 0 0 0 0 0 0 0 0 0 0 0 0 0 0 0 0 0 0 0 0 0 0 0 0 0 0 0 0 0 0 0 0 0 0 0 0 0 0 0 0 0 0 0 0 0 0 0 0 0 0 0 0 0 0 0 0 0 0 0 0 0 0 0 0 0 0 0 0 0 0 0 0 0 0 0 0 0 0 0 0 0 0 0 0 0 0 0 0 0 0\n"
          ],
          "name": "stdout"
        },
        {
          "output_type": "stream",
          "text": [
            "INFO:tensorflow:segment_ids: 0 0 0 0 0 0 0 0 0 0 0 0 0 0 0 0 0 0 0 0 0 0 0 0 0 0 0 0 0 0 0 0 0 0 0 0 0 0 0 0 0 0 0 0 0 0 0 0 0 0 0 0 0 0 0 0 0 0 0 0 0 0 0 0 0 0 0 0 0 0 0 0 0 0 0 0 0 0 0 0 0 0 0 0 0 0 0 0 0 0 0 0 0 0 0 0 0 0 0 0 0 0 0 0 0 0 0 0 0 0 0 0 0 0 0 0 0 0 0 0 0 0 0 0 0 0 0 0\n"
          ],
          "name": "stderr"
        },
        {
          "output_type": "stream",
          "text": [
            "INFO:tensorflow:label: 5 (id = 4)\n"
          ],
          "name": "stdout"
        },
        {
          "output_type": "stream",
          "text": [
            "INFO:tensorflow:label: 5 (id = 4)\n"
          ],
          "name": "stderr"
        },
        {
          "output_type": "stream",
          "text": [
            "INFO:tensorflow:Writing example 10000 of 20000\n"
          ],
          "name": "stdout"
        },
        {
          "output_type": "stream",
          "text": [
            "INFO:tensorflow:Writing example 10000 of 20000\n"
          ],
          "name": "stderr"
        },
        {
          "output_type": "stream",
          "text": [
            "INFO:tensorflow:Writing example 0 of 2000\n"
          ],
          "name": "stdout"
        },
        {
          "output_type": "stream",
          "text": [
            "INFO:tensorflow:Writing example 0 of 2000\n"
          ],
          "name": "stderr"
        },
        {
          "output_type": "stream",
          "text": [
            "INFO:tensorflow:*** Example ***\n"
          ],
          "name": "stdout"
        },
        {
          "output_type": "stream",
          "text": [
            "INFO:tensorflow:*** Example ***\n"
          ],
          "name": "stderr"
        },
        {
          "output_type": "stream",
          "text": [
            "INFO:tensorflow:guid: None\n"
          ],
          "name": "stdout"
        },
        {
          "output_type": "stream",
          "text": [
            "INFO:tensorflow:guid: None\n"
          ],
          "name": "stderr"
        },
        {
          "output_type": "stream",
          "text": [
            "INFO:tensorflow:tokens: [CLS] food is sometimes sometimes great and something ##s just good . wasn ' t a fan of their br ##un ##ch but lunch and dinner is good . service is hit and miss . [SEP]\n"
          ],
          "name": "stdout"
        },
        {
          "output_type": "stream",
          "text": [
            "INFO:tensorflow:tokens: [CLS] food is sometimes sometimes great and something ##s just good . wasn ' t a fan of their br ##un ##ch but lunch and dinner is good . service is hit and miss . [SEP]\n"
          ],
          "name": "stderr"
        },
        {
          "output_type": "stream",
          "text": [
            "INFO:tensorflow:input_ids: 101 2833 2003 2823 2823 2307 1998 2242 2015 2074 2204 1012 2347 1005 1056 1037 5470 1997 2037 7987 4609 2818 2021 6265 1998 4596 2003 2204 1012 2326 2003 2718 1998 3335 1012 102 0 0 0 0 0 0 0 0 0 0 0 0 0 0 0 0 0 0 0 0 0 0 0 0 0 0 0 0 0 0 0 0 0 0 0 0 0 0 0 0 0 0 0 0 0 0 0 0 0 0 0 0 0 0 0 0 0 0 0 0 0 0 0 0 0 0 0 0 0 0 0 0 0 0 0 0 0 0 0 0 0 0 0 0 0 0 0 0 0 0 0 0\n"
          ],
          "name": "stdout"
        },
        {
          "output_type": "stream",
          "text": [
            "INFO:tensorflow:input_ids: 101 2833 2003 2823 2823 2307 1998 2242 2015 2074 2204 1012 2347 1005 1056 1037 5470 1997 2037 7987 4609 2818 2021 6265 1998 4596 2003 2204 1012 2326 2003 2718 1998 3335 1012 102 0 0 0 0 0 0 0 0 0 0 0 0 0 0 0 0 0 0 0 0 0 0 0 0 0 0 0 0 0 0 0 0 0 0 0 0 0 0 0 0 0 0 0 0 0 0 0 0 0 0 0 0 0 0 0 0 0 0 0 0 0 0 0 0 0 0 0 0 0 0 0 0 0 0 0 0 0 0 0 0 0 0 0 0 0 0 0 0 0 0 0 0\n"
          ],
          "name": "stderr"
        },
        {
          "output_type": "stream",
          "text": [
            "INFO:tensorflow:input_mask: 1 1 1 1 1 1 1 1 1 1 1 1 1 1 1 1 1 1 1 1 1 1 1 1 1 1 1 1 1 1 1 1 1 1 1 1 0 0 0 0 0 0 0 0 0 0 0 0 0 0 0 0 0 0 0 0 0 0 0 0 0 0 0 0 0 0 0 0 0 0 0 0 0 0 0 0 0 0 0 0 0 0 0 0 0 0 0 0 0 0 0 0 0 0 0 0 0 0 0 0 0 0 0 0 0 0 0 0 0 0 0 0 0 0 0 0 0 0 0 0 0 0 0 0 0 0 0 0\n"
          ],
          "name": "stdout"
        },
        {
          "output_type": "stream",
          "text": [
            "INFO:tensorflow:input_mask: 1 1 1 1 1 1 1 1 1 1 1 1 1 1 1 1 1 1 1 1 1 1 1 1 1 1 1 1 1 1 1 1 1 1 1 1 0 0 0 0 0 0 0 0 0 0 0 0 0 0 0 0 0 0 0 0 0 0 0 0 0 0 0 0 0 0 0 0 0 0 0 0 0 0 0 0 0 0 0 0 0 0 0 0 0 0 0 0 0 0 0 0 0 0 0 0 0 0 0 0 0 0 0 0 0 0 0 0 0 0 0 0 0 0 0 0 0 0 0 0 0 0 0 0 0 0 0 0\n"
          ],
          "name": "stderr"
        },
        {
          "output_type": "stream",
          "text": [
            "INFO:tensorflow:segment_ids: 0 0 0 0 0 0 0 0 0 0 0 0 0 0 0 0 0 0 0 0 0 0 0 0 0 0 0 0 0 0 0 0 0 0 0 0 0 0 0 0 0 0 0 0 0 0 0 0 0 0 0 0 0 0 0 0 0 0 0 0 0 0 0 0 0 0 0 0 0 0 0 0 0 0 0 0 0 0 0 0 0 0 0 0 0 0 0 0 0 0 0 0 0 0 0 0 0 0 0 0 0 0 0 0 0 0 0 0 0 0 0 0 0 0 0 0 0 0 0 0 0 0 0 0 0 0 0 0\n"
          ],
          "name": "stdout"
        },
        {
          "output_type": "stream",
          "text": [
            "INFO:tensorflow:segment_ids: 0 0 0 0 0 0 0 0 0 0 0 0 0 0 0 0 0 0 0 0 0 0 0 0 0 0 0 0 0 0 0 0 0 0 0 0 0 0 0 0 0 0 0 0 0 0 0 0 0 0 0 0 0 0 0 0 0 0 0 0 0 0 0 0 0 0 0 0 0 0 0 0 0 0 0 0 0 0 0 0 0 0 0 0 0 0 0 0 0 0 0 0 0 0 0 0 0 0 0 0 0 0 0 0 0 0 0 0 0 0 0 0 0 0 0 0 0 0 0 0 0 0 0 0 0 0 0 0\n"
          ],
          "name": "stderr"
        },
        {
          "output_type": "stream",
          "text": [
            "INFO:tensorflow:label: 4 (id = 3)\n"
          ],
          "name": "stdout"
        },
        {
          "output_type": "stream",
          "text": [
            "INFO:tensorflow:label: 4 (id = 3)\n"
          ],
          "name": "stderr"
        },
        {
          "output_type": "stream",
          "text": [
            "INFO:tensorflow:*** Example ***\n"
          ],
          "name": "stdout"
        },
        {
          "output_type": "stream",
          "text": [
            "INFO:tensorflow:*** Example ***\n"
          ],
          "name": "stderr"
        },
        {
          "output_type": "stream",
          "text": [
            "INFO:tensorflow:guid: None\n"
          ],
          "name": "stdout"
        },
        {
          "output_type": "stream",
          "text": [
            "INFO:tensorflow:guid: None\n"
          ],
          "name": "stderr"
        },
        {
          "output_type": "stream",
          "text": [
            "INFO:tensorflow:tokens: [CLS] they should seriously market the sausage and gr ##av ##y . you may hear chicken sausage but - good lord this is some amazing sausage biscuits and gr ##av ##y . [SEP]\n"
          ],
          "name": "stdout"
        },
        {
          "output_type": "stream",
          "text": [
            "INFO:tensorflow:tokens: [CLS] they should seriously market the sausage and gr ##av ##y . you may hear chicken sausage but - good lord this is some amazing sausage biscuits and gr ##av ##y . [SEP]\n"
          ],
          "name": "stderr"
        },
        {
          "output_type": "stream",
          "text": [
            "INFO:tensorflow:input_ids: 101 2027 2323 5667 3006 1996 24165 1998 24665 11431 2100 1012 2017 2089 2963 7975 24165 2021 1011 2204 2935 2023 2003 2070 6429 24165 27529 1998 24665 11431 2100 1012 102 0 0 0 0 0 0 0 0 0 0 0 0 0 0 0 0 0 0 0 0 0 0 0 0 0 0 0 0 0 0 0 0 0 0 0 0 0 0 0 0 0 0 0 0 0 0 0 0 0 0 0 0 0 0 0 0 0 0 0 0 0 0 0 0 0 0 0 0 0 0 0 0 0 0 0 0 0 0 0 0 0 0 0 0 0 0 0 0 0 0 0 0 0 0 0\n"
          ],
          "name": "stdout"
        },
        {
          "output_type": "stream",
          "text": [
            "INFO:tensorflow:input_ids: 101 2027 2323 5667 3006 1996 24165 1998 24665 11431 2100 1012 2017 2089 2963 7975 24165 2021 1011 2204 2935 2023 2003 2070 6429 24165 27529 1998 24665 11431 2100 1012 102 0 0 0 0 0 0 0 0 0 0 0 0 0 0 0 0 0 0 0 0 0 0 0 0 0 0 0 0 0 0 0 0 0 0 0 0 0 0 0 0 0 0 0 0 0 0 0 0 0 0 0 0 0 0 0 0 0 0 0 0 0 0 0 0 0 0 0 0 0 0 0 0 0 0 0 0 0 0 0 0 0 0 0 0 0 0 0 0 0 0 0 0 0 0 0\n"
          ],
          "name": "stderr"
        },
        {
          "output_type": "stream",
          "text": [
            "INFO:tensorflow:input_mask: 1 1 1 1 1 1 1 1 1 1 1 1 1 1 1 1 1 1 1 1 1 1 1 1 1 1 1 1 1 1 1 1 1 0 0 0 0 0 0 0 0 0 0 0 0 0 0 0 0 0 0 0 0 0 0 0 0 0 0 0 0 0 0 0 0 0 0 0 0 0 0 0 0 0 0 0 0 0 0 0 0 0 0 0 0 0 0 0 0 0 0 0 0 0 0 0 0 0 0 0 0 0 0 0 0 0 0 0 0 0 0 0 0 0 0 0 0 0 0 0 0 0 0 0 0 0 0 0\n"
          ],
          "name": "stdout"
        },
        {
          "output_type": "stream",
          "text": [
            "INFO:tensorflow:input_mask: 1 1 1 1 1 1 1 1 1 1 1 1 1 1 1 1 1 1 1 1 1 1 1 1 1 1 1 1 1 1 1 1 1 0 0 0 0 0 0 0 0 0 0 0 0 0 0 0 0 0 0 0 0 0 0 0 0 0 0 0 0 0 0 0 0 0 0 0 0 0 0 0 0 0 0 0 0 0 0 0 0 0 0 0 0 0 0 0 0 0 0 0 0 0 0 0 0 0 0 0 0 0 0 0 0 0 0 0 0 0 0 0 0 0 0 0 0 0 0 0 0 0 0 0 0 0 0 0\n"
          ],
          "name": "stderr"
        },
        {
          "output_type": "stream",
          "text": [
            "INFO:tensorflow:segment_ids: 0 0 0 0 0 0 0 0 0 0 0 0 0 0 0 0 0 0 0 0 0 0 0 0 0 0 0 0 0 0 0 0 0 0 0 0 0 0 0 0 0 0 0 0 0 0 0 0 0 0 0 0 0 0 0 0 0 0 0 0 0 0 0 0 0 0 0 0 0 0 0 0 0 0 0 0 0 0 0 0 0 0 0 0 0 0 0 0 0 0 0 0 0 0 0 0 0 0 0 0 0 0 0 0 0 0 0 0 0 0 0 0 0 0 0 0 0 0 0 0 0 0 0 0 0 0 0 0\n"
          ],
          "name": "stdout"
        },
        {
          "output_type": "stream",
          "text": [
            "INFO:tensorflow:segment_ids: 0 0 0 0 0 0 0 0 0 0 0 0 0 0 0 0 0 0 0 0 0 0 0 0 0 0 0 0 0 0 0 0 0 0 0 0 0 0 0 0 0 0 0 0 0 0 0 0 0 0 0 0 0 0 0 0 0 0 0 0 0 0 0 0 0 0 0 0 0 0 0 0 0 0 0 0 0 0 0 0 0 0 0 0 0 0 0 0 0 0 0 0 0 0 0 0 0 0 0 0 0 0 0 0 0 0 0 0 0 0 0 0 0 0 0 0 0 0 0 0 0 0 0 0 0 0 0 0\n"
          ],
          "name": "stderr"
        },
        {
          "output_type": "stream",
          "text": [
            "INFO:tensorflow:label: 5 (id = 4)\n"
          ],
          "name": "stdout"
        },
        {
          "output_type": "stream",
          "text": [
            "INFO:tensorflow:label: 5 (id = 4)\n"
          ],
          "name": "stderr"
        },
        {
          "output_type": "stream",
          "text": [
            "INFO:tensorflow:*** Example ***\n"
          ],
          "name": "stdout"
        },
        {
          "output_type": "stream",
          "text": [
            "INFO:tensorflow:*** Example ***\n"
          ],
          "name": "stderr"
        },
        {
          "output_type": "stream",
          "text": [
            "INFO:tensorflow:guid: None\n"
          ],
          "name": "stdout"
        },
        {
          "output_type": "stream",
          "text": [
            "INFO:tensorflow:guid: None\n"
          ],
          "name": "stderr"
        },
        {
          "output_type": "stream",
          "text": [
            "INFO:tensorflow:tokens: [CLS] while i have had several average salon and spa services at holt ##s this review is for my hair coloring experiences with ina . i have had my blonde highlights done by ina on and off for a few years . i was always very happy with the results , yet i was kept trying to look for a more reasonably priced place because it is very expensive indeed ( in my case about $ 300 with the tone ##r and blow dry , which is not included ) . and so it was that a month before my wedding i went to a very rep ##utable downtown salon ( supposedly the best in to ) to have my highlights done . to make a very [SEP]\n"
          ],
          "name": "stdout"
        },
        {
          "output_type": "stream",
          "text": [
            "INFO:tensorflow:tokens: [CLS] while i have had several average salon and spa services at holt ##s this review is for my hair coloring experiences with ina . i have had my blonde highlights done by ina on and off for a few years . i was always very happy with the results , yet i was kept trying to look for a more reasonably priced place because it is very expensive indeed ( in my case about $ 300 with the tone ##r and blow dry , which is not included ) . and so it was that a month before my wedding i went to a very rep ##utable downtown salon ( supposedly the best in to ) to have my highlights done . to make a very [SEP]\n"
          ],
          "name": "stderr"
        },
        {
          "output_type": "stream",
          "text": [
            "INFO:tensorflow:input_ids: 101 2096 1045 2031 2018 2195 2779 11090 1998 12403 2578 2012 12621 2015 2023 3319 2003 2005 2026 2606 22276 6322 2007 27118 1012 1045 2031 2018 2026 9081 11637 2589 2011 27118 2006 1998 2125 2005 1037 2261 2086 1012 1045 2001 2467 2200 3407 2007 1996 3463 1010 2664 1045 2001 2921 2667 2000 2298 2005 1037 2062 16286 21125 2173 2138 2009 2003 2200 6450 5262 1006 1999 2026 2553 2055 1002 3998 2007 1996 4309 2099 1998 6271 4318 1010 2029 2003 2025 2443 1007 1012 1998 2061 2009 2001 2008 1037 3204 2077 2026 5030 1045 2253 2000 1037 2200 16360 23056 5116 11090 1006 10743 1996 2190 1999 2000 1007 2000 2031 2026 11637 2589 1012 2000 2191 1037 2200 102\n"
          ],
          "name": "stdout"
        },
        {
          "output_type": "stream",
          "text": [
            "INFO:tensorflow:input_ids: 101 2096 1045 2031 2018 2195 2779 11090 1998 12403 2578 2012 12621 2015 2023 3319 2003 2005 2026 2606 22276 6322 2007 27118 1012 1045 2031 2018 2026 9081 11637 2589 2011 27118 2006 1998 2125 2005 1037 2261 2086 1012 1045 2001 2467 2200 3407 2007 1996 3463 1010 2664 1045 2001 2921 2667 2000 2298 2005 1037 2062 16286 21125 2173 2138 2009 2003 2200 6450 5262 1006 1999 2026 2553 2055 1002 3998 2007 1996 4309 2099 1998 6271 4318 1010 2029 2003 2025 2443 1007 1012 1998 2061 2009 2001 2008 1037 3204 2077 2026 5030 1045 2253 2000 1037 2200 16360 23056 5116 11090 1006 10743 1996 2190 1999 2000 1007 2000 2031 2026 11637 2589 1012 2000 2191 1037 2200 102\n"
          ],
          "name": "stderr"
        },
        {
          "output_type": "stream",
          "text": [
            "INFO:tensorflow:input_mask: 1 1 1 1 1 1 1 1 1 1 1 1 1 1 1 1 1 1 1 1 1 1 1 1 1 1 1 1 1 1 1 1 1 1 1 1 1 1 1 1 1 1 1 1 1 1 1 1 1 1 1 1 1 1 1 1 1 1 1 1 1 1 1 1 1 1 1 1 1 1 1 1 1 1 1 1 1 1 1 1 1 1 1 1 1 1 1 1 1 1 1 1 1 1 1 1 1 1 1 1 1 1 1 1 1 1 1 1 1 1 1 1 1 1 1 1 1 1 1 1 1 1 1 1 1 1 1 1\n"
          ],
          "name": "stdout"
        },
        {
          "output_type": "stream",
          "text": [
            "INFO:tensorflow:input_mask: 1 1 1 1 1 1 1 1 1 1 1 1 1 1 1 1 1 1 1 1 1 1 1 1 1 1 1 1 1 1 1 1 1 1 1 1 1 1 1 1 1 1 1 1 1 1 1 1 1 1 1 1 1 1 1 1 1 1 1 1 1 1 1 1 1 1 1 1 1 1 1 1 1 1 1 1 1 1 1 1 1 1 1 1 1 1 1 1 1 1 1 1 1 1 1 1 1 1 1 1 1 1 1 1 1 1 1 1 1 1 1 1 1 1 1 1 1 1 1 1 1 1 1 1 1 1 1 1\n"
          ],
          "name": "stderr"
        },
        {
          "output_type": "stream",
          "text": [
            "INFO:tensorflow:segment_ids: 0 0 0 0 0 0 0 0 0 0 0 0 0 0 0 0 0 0 0 0 0 0 0 0 0 0 0 0 0 0 0 0 0 0 0 0 0 0 0 0 0 0 0 0 0 0 0 0 0 0 0 0 0 0 0 0 0 0 0 0 0 0 0 0 0 0 0 0 0 0 0 0 0 0 0 0 0 0 0 0 0 0 0 0 0 0 0 0 0 0 0 0 0 0 0 0 0 0 0 0 0 0 0 0 0 0 0 0 0 0 0 0 0 0 0 0 0 0 0 0 0 0 0 0 0 0 0 0\n"
          ],
          "name": "stdout"
        },
        {
          "output_type": "stream",
          "text": [
            "INFO:tensorflow:segment_ids: 0 0 0 0 0 0 0 0 0 0 0 0 0 0 0 0 0 0 0 0 0 0 0 0 0 0 0 0 0 0 0 0 0 0 0 0 0 0 0 0 0 0 0 0 0 0 0 0 0 0 0 0 0 0 0 0 0 0 0 0 0 0 0 0 0 0 0 0 0 0 0 0 0 0 0 0 0 0 0 0 0 0 0 0 0 0 0 0 0 0 0 0 0 0 0 0 0 0 0 0 0 0 0 0 0 0 0 0 0 0 0 0 0 0 0 0 0 0 0 0 0 0 0 0 0 0 0 0\n"
          ],
          "name": "stderr"
        },
        {
          "output_type": "stream",
          "text": [
            "INFO:tensorflow:label: 5 (id = 4)\n"
          ],
          "name": "stdout"
        },
        {
          "output_type": "stream",
          "text": [
            "INFO:tensorflow:label: 5 (id = 4)\n"
          ],
          "name": "stderr"
        },
        {
          "output_type": "stream",
          "text": [
            "INFO:tensorflow:*** Example ***\n"
          ],
          "name": "stdout"
        },
        {
          "output_type": "stream",
          "text": [
            "INFO:tensorflow:*** Example ***\n"
          ],
          "name": "stderr"
        },
        {
          "output_type": "stream",
          "text": [
            "INFO:tensorflow:guid: None\n"
          ],
          "name": "stdout"
        },
        {
          "output_type": "stream",
          "text": [
            "INFO:tensorflow:guid: None\n"
          ],
          "name": "stderr"
        },
        {
          "output_type": "stream",
          "text": [
            "INFO:tensorflow:tokens: [CLS] i have been coming to nc ##s for almost two years . i had been going to a salon in the mall for about a year and i noticed that my hair was getting extremely dry . i used some products that they recommended but nothing seemed to help . a friend recommended sara d so i made an appointment with her hoping that she would be able to make some suggestions for my dry and damaged hair . she suggested one product and gave me tips for drying and styling that would help . since that first visit , my hair has come along way . sara always gives me suggestions for keeping my hair healthy and she ' ll recommend different products in the [SEP]\n"
          ],
          "name": "stdout"
        },
        {
          "output_type": "stream",
          "text": [
            "INFO:tensorflow:tokens: [CLS] i have been coming to nc ##s for almost two years . i had been going to a salon in the mall for about a year and i noticed that my hair was getting extremely dry . i used some products that they recommended but nothing seemed to help . a friend recommended sara d so i made an appointment with her hoping that she would be able to make some suggestions for my dry and damaged hair . she suggested one product and gave me tips for drying and styling that would help . since that first visit , my hair has come along way . sara always gives me suggestions for keeping my hair healthy and she ' ll recommend different products in the [SEP]\n"
          ],
          "name": "stderr"
        },
        {
          "output_type": "stream",
          "text": [
            "INFO:tensorflow:input_ids: 101 1045 2031 2042 2746 2000 13316 2015 2005 2471 2048 2086 1012 1045 2018 2042 2183 2000 1037 11090 1999 1996 6670 2005 2055 1037 2095 1998 1045 4384 2008 2026 2606 2001 2893 5186 4318 1012 1045 2109 2070 3688 2008 2027 6749 2021 2498 2790 2000 2393 1012 1037 2767 6749 7354 1040 2061 1045 2081 2019 6098 2007 2014 5327 2008 2016 2052 2022 2583 2000 2191 2070 15690 2005 2026 4318 1998 5591 2606 1012 2016 4081 2028 4031 1998 2435 2033 10247 2005 17462 1998 20724 2008 2052 2393 1012 2144 2008 2034 3942 1010 2026 2606 2038 2272 2247 2126 1012 7354 2467 3957 2033 15690 2005 4363 2026 2606 7965 1998 2016 1005 2222 16755 2367 3688 1999 1996 102\n"
          ],
          "name": "stdout"
        },
        {
          "output_type": "stream",
          "text": [
            "INFO:tensorflow:input_ids: 101 1045 2031 2042 2746 2000 13316 2015 2005 2471 2048 2086 1012 1045 2018 2042 2183 2000 1037 11090 1999 1996 6670 2005 2055 1037 2095 1998 1045 4384 2008 2026 2606 2001 2893 5186 4318 1012 1045 2109 2070 3688 2008 2027 6749 2021 2498 2790 2000 2393 1012 1037 2767 6749 7354 1040 2061 1045 2081 2019 6098 2007 2014 5327 2008 2016 2052 2022 2583 2000 2191 2070 15690 2005 2026 4318 1998 5591 2606 1012 2016 4081 2028 4031 1998 2435 2033 10247 2005 17462 1998 20724 2008 2052 2393 1012 2144 2008 2034 3942 1010 2026 2606 2038 2272 2247 2126 1012 7354 2467 3957 2033 15690 2005 4363 2026 2606 7965 1998 2016 1005 2222 16755 2367 3688 1999 1996 102\n"
          ],
          "name": "stderr"
        },
        {
          "output_type": "stream",
          "text": [
            "INFO:tensorflow:input_mask: 1 1 1 1 1 1 1 1 1 1 1 1 1 1 1 1 1 1 1 1 1 1 1 1 1 1 1 1 1 1 1 1 1 1 1 1 1 1 1 1 1 1 1 1 1 1 1 1 1 1 1 1 1 1 1 1 1 1 1 1 1 1 1 1 1 1 1 1 1 1 1 1 1 1 1 1 1 1 1 1 1 1 1 1 1 1 1 1 1 1 1 1 1 1 1 1 1 1 1 1 1 1 1 1 1 1 1 1 1 1 1 1 1 1 1 1 1 1 1 1 1 1 1 1 1 1 1 1\n"
          ],
          "name": "stdout"
        },
        {
          "output_type": "stream",
          "text": [
            "INFO:tensorflow:input_mask: 1 1 1 1 1 1 1 1 1 1 1 1 1 1 1 1 1 1 1 1 1 1 1 1 1 1 1 1 1 1 1 1 1 1 1 1 1 1 1 1 1 1 1 1 1 1 1 1 1 1 1 1 1 1 1 1 1 1 1 1 1 1 1 1 1 1 1 1 1 1 1 1 1 1 1 1 1 1 1 1 1 1 1 1 1 1 1 1 1 1 1 1 1 1 1 1 1 1 1 1 1 1 1 1 1 1 1 1 1 1 1 1 1 1 1 1 1 1 1 1 1 1 1 1 1 1 1 1\n"
          ],
          "name": "stderr"
        },
        {
          "output_type": "stream",
          "text": [
            "INFO:tensorflow:segment_ids: 0 0 0 0 0 0 0 0 0 0 0 0 0 0 0 0 0 0 0 0 0 0 0 0 0 0 0 0 0 0 0 0 0 0 0 0 0 0 0 0 0 0 0 0 0 0 0 0 0 0 0 0 0 0 0 0 0 0 0 0 0 0 0 0 0 0 0 0 0 0 0 0 0 0 0 0 0 0 0 0 0 0 0 0 0 0 0 0 0 0 0 0 0 0 0 0 0 0 0 0 0 0 0 0 0 0 0 0 0 0 0 0 0 0 0 0 0 0 0 0 0 0 0 0 0 0 0 0\n"
          ],
          "name": "stdout"
        },
        {
          "output_type": "stream",
          "text": [
            "INFO:tensorflow:segment_ids: 0 0 0 0 0 0 0 0 0 0 0 0 0 0 0 0 0 0 0 0 0 0 0 0 0 0 0 0 0 0 0 0 0 0 0 0 0 0 0 0 0 0 0 0 0 0 0 0 0 0 0 0 0 0 0 0 0 0 0 0 0 0 0 0 0 0 0 0 0 0 0 0 0 0 0 0 0 0 0 0 0 0 0 0 0 0 0 0 0 0 0 0 0 0 0 0 0 0 0 0 0 0 0 0 0 0 0 0 0 0 0 0 0 0 0 0 0 0 0 0 0 0 0 0 0 0 0 0\n"
          ],
          "name": "stderr"
        },
        {
          "output_type": "stream",
          "text": [
            "INFO:tensorflow:label: 5 (id = 4)\n"
          ],
          "name": "stdout"
        },
        {
          "output_type": "stream",
          "text": [
            "INFO:tensorflow:label: 5 (id = 4)\n"
          ],
          "name": "stderr"
        },
        {
          "output_type": "stream",
          "text": [
            "INFO:tensorflow:*** Example ***\n"
          ],
          "name": "stdout"
        },
        {
          "output_type": "stream",
          "text": [
            "INFO:tensorflow:*** Example ***\n"
          ],
          "name": "stderr"
        },
        {
          "output_type": "stream",
          "text": [
            "INFO:tensorflow:guid: None\n"
          ],
          "name": "stdout"
        },
        {
          "output_type": "stream",
          "text": [
            "INFO:tensorflow:guid: None\n"
          ],
          "name": "stderr"
        },
        {
          "output_type": "stream",
          "text": [
            "INFO:tensorflow:tokens: [CLS] this place should be renamed to \" we take our sweet ass time \" large fried chicken . j ##ks , but seriously . there was no line , and only 3 people waiting in front of me for their order , and it still took a good 15 minutes to receive my order . i ordered the regular chicken w / the strawberry drink ( forgot what it ' s called ) . the chicken was pretty good , i must admit . the drink , however , was decent - tasted like strawberry sp ##rite - but not worth ~ $ 3 . 50 . come here only if you have time to spare . [SEP]\n"
          ],
          "name": "stdout"
        },
        {
          "output_type": "stream",
          "text": [
            "INFO:tensorflow:tokens: [CLS] this place should be renamed to \" we take our sweet ass time \" large fried chicken . j ##ks , but seriously . there was no line , and only 3 people waiting in front of me for their order , and it still took a good 15 minutes to receive my order . i ordered the regular chicken w / the strawberry drink ( forgot what it ' s called ) . the chicken was pretty good , i must admit . the drink , however , was decent - tasted like strawberry sp ##rite - but not worth ~ $ 3 . 50 . come here only if you have time to spare . [SEP]\n"
          ],
          "name": "stderr"
        },
        {
          "output_type": "stream",
          "text": [
            "INFO:tensorflow:input_ids: 101 2023 2173 2323 2022 4096 2000 1000 2057 2202 2256 4086 4632 2051 1000 2312 13017 7975 1012 1046 5705 1010 2021 5667 1012 2045 2001 2053 2240 1010 1998 2069 1017 2111 3403 1999 2392 1997 2033 2005 2037 2344 1010 1998 2009 2145 2165 1037 2204 2321 2781 2000 4374 2026 2344 1012 1045 3641 1996 3180 7975 1059 1013 1996 16876 4392 1006 9471 2054 2009 1005 1055 2170 1007 1012 1996 7975 2001 3492 2204 1010 1045 2442 6449 1012 1996 4392 1010 2174 1010 2001 11519 1011 12595 2066 16876 11867 17625 1011 2021 2025 4276 1066 1002 1017 1012 2753 1012 2272 2182 2069 2065 2017 2031 2051 2000 8622 1012 102 0 0 0 0 0 0 0 0 0\n"
          ],
          "name": "stdout"
        },
        {
          "output_type": "stream",
          "text": [
            "INFO:tensorflow:input_ids: 101 2023 2173 2323 2022 4096 2000 1000 2057 2202 2256 4086 4632 2051 1000 2312 13017 7975 1012 1046 5705 1010 2021 5667 1012 2045 2001 2053 2240 1010 1998 2069 1017 2111 3403 1999 2392 1997 2033 2005 2037 2344 1010 1998 2009 2145 2165 1037 2204 2321 2781 2000 4374 2026 2344 1012 1045 3641 1996 3180 7975 1059 1013 1996 16876 4392 1006 9471 2054 2009 1005 1055 2170 1007 1012 1996 7975 2001 3492 2204 1010 1045 2442 6449 1012 1996 4392 1010 2174 1010 2001 11519 1011 12595 2066 16876 11867 17625 1011 2021 2025 4276 1066 1002 1017 1012 2753 1012 2272 2182 2069 2065 2017 2031 2051 2000 8622 1012 102 0 0 0 0 0 0 0 0 0\n"
          ],
          "name": "stderr"
        },
        {
          "output_type": "stream",
          "text": [
            "INFO:tensorflow:input_mask: 1 1 1 1 1 1 1 1 1 1 1 1 1 1 1 1 1 1 1 1 1 1 1 1 1 1 1 1 1 1 1 1 1 1 1 1 1 1 1 1 1 1 1 1 1 1 1 1 1 1 1 1 1 1 1 1 1 1 1 1 1 1 1 1 1 1 1 1 1 1 1 1 1 1 1 1 1 1 1 1 1 1 1 1 1 1 1 1 1 1 1 1 1 1 1 1 1 1 1 1 1 1 1 1 1 1 1 1 1 1 1 1 1 1 1 1 1 1 1 0 0 0 0 0 0 0 0 0\n"
          ],
          "name": "stdout"
        },
        {
          "output_type": "stream",
          "text": [
            "INFO:tensorflow:input_mask: 1 1 1 1 1 1 1 1 1 1 1 1 1 1 1 1 1 1 1 1 1 1 1 1 1 1 1 1 1 1 1 1 1 1 1 1 1 1 1 1 1 1 1 1 1 1 1 1 1 1 1 1 1 1 1 1 1 1 1 1 1 1 1 1 1 1 1 1 1 1 1 1 1 1 1 1 1 1 1 1 1 1 1 1 1 1 1 1 1 1 1 1 1 1 1 1 1 1 1 1 1 1 1 1 1 1 1 1 1 1 1 1 1 1 1 1 1 1 1 0 0 0 0 0 0 0 0 0\n"
          ],
          "name": "stderr"
        },
        {
          "output_type": "stream",
          "text": [
            "INFO:tensorflow:segment_ids: 0 0 0 0 0 0 0 0 0 0 0 0 0 0 0 0 0 0 0 0 0 0 0 0 0 0 0 0 0 0 0 0 0 0 0 0 0 0 0 0 0 0 0 0 0 0 0 0 0 0 0 0 0 0 0 0 0 0 0 0 0 0 0 0 0 0 0 0 0 0 0 0 0 0 0 0 0 0 0 0 0 0 0 0 0 0 0 0 0 0 0 0 0 0 0 0 0 0 0 0 0 0 0 0 0 0 0 0 0 0 0 0 0 0 0 0 0 0 0 0 0 0 0 0 0 0 0 0\n"
          ],
          "name": "stdout"
        },
        {
          "output_type": "stream",
          "text": [
            "INFO:tensorflow:segment_ids: 0 0 0 0 0 0 0 0 0 0 0 0 0 0 0 0 0 0 0 0 0 0 0 0 0 0 0 0 0 0 0 0 0 0 0 0 0 0 0 0 0 0 0 0 0 0 0 0 0 0 0 0 0 0 0 0 0 0 0 0 0 0 0 0 0 0 0 0 0 0 0 0 0 0 0 0 0 0 0 0 0 0 0 0 0 0 0 0 0 0 0 0 0 0 0 0 0 0 0 0 0 0 0 0 0 0 0 0 0 0 0 0 0 0 0 0 0 0 0 0 0 0 0 0 0 0 0 0\n"
          ],
          "name": "stderr"
        },
        {
          "output_type": "stream",
          "text": [
            "INFO:tensorflow:label: 3 (id = 2)\n"
          ],
          "name": "stdout"
        },
        {
          "output_type": "stream",
          "text": [
            "INFO:tensorflow:label: 3 (id = 2)\n"
          ],
          "name": "stderr"
        }
      ]
    },
    {
      "cell_type": "markdown",
      "metadata": {
        "id": "ccp5trMwRtmr",
        "colab_type": "text"
      },
      "source": [
        "#Creating a model\n",
        "\n",
        "Now that we've prepared our data, let's focus on building a model. `create_model` does just this below. First, it loads the BERT tf hub module again (this time to extract the computation graph). Next, it creates a single new layer that will be trained to adapt BERT to our sentiment task (i.e. classifying whether a movie review is positive or negative). This strategy of using a mostly trained model is called [fine-tuning](http://wiki.fast.ai/index.php/Fine_tuning)."
      ]
    },
    {
      "cell_type": "code",
      "metadata": {
        "id": "6o2a5ZIvRcJq",
        "colab_type": "code",
        "colab": {}
      },
      "source": [
        "def create_model(is_predicting, input_ids, input_mask, segment_ids, labels,\n",
        "                 num_labels):\n",
        "  \"\"\"Creates a classification model.\"\"\"\n",
        "\n",
        "  bert_module = hub.Module(\n",
        "      BERT_MODEL_HUB,\n",
        "      trainable=True)\n",
        "  bert_inputs = dict(\n",
        "      input_ids=input_ids,\n",
        "      input_mask=input_mask,\n",
        "      segment_ids=segment_ids)\n",
        "  bert_outputs = bert_module(\n",
        "      inputs=bert_inputs,\n",
        "      signature=\"tokens\",\n",
        "      as_dict=True)\n",
        "\n",
        "  # Use \"pooled_output\" for classification tasks on an entire sentence.\n",
        "  # Use \"sequence_outputs\" for token-level output.\n",
        "  output_layer = bert_outputs[\"pooled_output\"]\n",
        "\n",
        "  hidden_size = output_layer.shape[-1].value\n",
        "\n",
        "  # Create our own layer to tune for politeness data.\n",
        "  output_weights = tf.get_variable(\n",
        "      \"output_weights\", [num_labels, hidden_size],\n",
        "      initializer=tf.truncated_normal_initializer(stddev=0.02))\n",
        "\n",
        "  output_bias = tf.get_variable(\n",
        "      \"output_bias\", [num_labels], initializer=tf.zeros_initializer())\n",
        "\n",
        "  with tf.variable_scope(\"loss\"):\n",
        "\n",
        "    # Dropout helps prevent overfitting\n",
        "    output_layer = tf.nn.dropout(output_layer, keep_prob=0.9)\n",
        "\n",
        "    logits = tf.matmul(output_layer, output_weights, transpose_b=True)\n",
        "    logits = tf.nn.bias_add(logits, output_bias)\n",
        "    log_probs = tf.nn.log_softmax(logits, axis=-1)\n",
        "\n",
        "    # Convert labels into one-hot encoding\n",
        "    one_hot_labels = tf.one_hot(labels, depth=num_labels, dtype=tf.float32)\n",
        "\n",
        "    predicted_labels = tf.squeeze(tf.argmax(log_probs, axis=-1, output_type=tf.int32))\n",
        "    # If we're predicting, we want predicted labels and the probabiltiies.\n",
        "    if is_predicting:\n",
        "      return (predicted_labels, log_probs)\n",
        "\n",
        "    # If we're train/eval, compute loss between predicted and actual label\n",
        "    per_example_loss = -tf.reduce_sum(one_hot_labels * log_probs, axis=-1)\n",
        "    loss = tf.reduce_mean(per_example_loss)\n",
        "    return (loss, predicted_labels, log_probs)\n"
      ],
      "execution_count": 0,
      "outputs": []
    },
    {
      "cell_type": "markdown",
      "metadata": {
        "id": "qpE0ZIDOCQzE",
        "colab_type": "text"
      },
      "source": [
        "Next we'll wrap our model function in a `model_fn_builder` function that adapts our model to work for training, evaluation, and prediction."
      ]
    },
    {
      "cell_type": "code",
      "metadata": {
        "id": "FnH-AnOQ9KKW",
        "colab_type": "code",
        "colab": {}
      },
      "source": [
        "# model_fn_builder actually creates our model function\n",
        "# using the passed parameters for num_labels, learning_rate, etc.\n",
        "def model_fn_builder(num_labels, learning_rate, num_train_steps,\n",
        "                     num_warmup_steps):\n",
        "  \"\"\"Returns `model_fn` closure for TPUEstimator.\"\"\"\n",
        "  def model_fn(features, labels, mode, params):  # pylint: disable=unused-argument\n",
        "    \"\"\"The `model_fn` for TPUEstimator.\"\"\"\n",
        "\n",
        "    input_ids = features[\"input_ids\"]\n",
        "    input_mask = features[\"input_mask\"]\n",
        "    segment_ids = features[\"segment_ids\"]\n",
        "    label_ids = features[\"label_ids\"]\n",
        "\n",
        "    is_predicting = (mode == tf.estimator.ModeKeys.PREDICT)\n",
        "    \n",
        "    # TRAIN and EVAL\n",
        "    if not is_predicting:\n",
        "\n",
        "      (loss, predicted_labels, log_probs) = create_model(\n",
        "        is_predicting, input_ids, input_mask, segment_ids, label_ids, num_labels)\n",
        "\n",
        "      train_op = bert.optimization.create_optimizer(\n",
        "          loss, learning_rate, num_train_steps, num_warmup_steps, use_tpu=False)\n",
        "\n",
        "      # Calculate evaluation metrics. \n",
        "      def metric_fn(label_ids, predicted_labels):\n",
        "        accuracy = tf.metrics.accuracy(label_ids, predicted_labels)\n",
        "        '''\n",
        "        f1_score = tf.contrib.metrics.f1_score(\n",
        "            label_ids,\n",
        "            predicted_labels)\n",
        "        auc = tf.metrics.auc(\n",
        "            label_ids,\n",
        "            predicted_labels)\n",
        "        recall = tf.metrics.recall(\n",
        "            label_ids,\n",
        "            predicted_labels)\n",
        "        precision = tf.metrics.precision(\n",
        "            label_ids,\n",
        "            predicted_labels) \n",
        "        '''\n",
        "        true_pos = tf.metrics.true_positives(\n",
        "            label_ids,\n",
        "            predicted_labels)\n",
        "        true_neg = tf.metrics.true_negatives(\n",
        "            label_ids,\n",
        "            predicted_labels)   \n",
        "        false_pos = tf.metrics.false_positives(\n",
        "            label_ids,\n",
        "            predicted_labels)  \n",
        "        false_neg = tf.metrics.false_negatives(\n",
        "            label_ids,\n",
        "            predicted_labels)\n",
        "        return {\n",
        "            \"eval_accuracy\": accuracy,\n",
        "            '''\n",
        "            \"f1_score\": f1_score,\n",
        "            \"auc\": auc,\n",
        "            \"precision\": precision,\n",
        "            \"recall\": recall,\n",
        "            '''\n",
        "            \"true_positives\": true_pos,\n",
        "            \"true_negatives\": true_neg,\n",
        "            \"false_positives\": false_pos,\n",
        "            \"false_negatives\": false_neg\n",
        "        }\n",
        "\n",
        "      eval_metrics = metric_fn(label_ids, predicted_labels)\n",
        "\n",
        "      if mode == tf.estimator.ModeKeys.TRAIN:\n",
        "        return tf.estimator.EstimatorSpec(mode=mode,\n",
        "          loss=loss,\n",
        "          train_op=train_op)\n",
        "      else:\n",
        "          return tf.estimator.EstimatorSpec(mode=mode,\n",
        "            loss=loss,\n",
        "            eval_metric_ops=eval_metrics)\n",
        "    else:\n",
        "      (predicted_labels, log_probs) = create_model(\n",
        "        is_predicting, input_ids, input_mask, segment_ids, label_ids, num_labels)\n",
        "\n",
        "      predictions = {\n",
        "          'probabilities': log_probs,\n",
        "          'labels': predicted_labels\n",
        "      }\n",
        "      return tf.estimator.EstimatorSpec(mode, predictions=predictions)\n",
        "\n",
        "  # Return the actual model function in the closure\n",
        "  return model_fn\n"
      ],
      "execution_count": 0,
      "outputs": []
    },
    {
      "cell_type": "code",
      "metadata": {
        "id": "OjwJ4bTeWXD8",
        "colab_type": "code",
        "colab": {}
      },
      "source": [
        "# Compute train and warmup steps from batch size\n",
        "# These hyperparameters are copied from this colab notebook (https://colab.sandbox.google.com/github/tensorflow/tpu/blob/master/tools/colab/bert_finetuning_with_cloud_tpus.ipynb)\n",
        "BATCH_SIZE = 32\n",
        "LEARNING_RATE = 2e-5\n",
        "NUM_TRAIN_EPOCHS = 2.0\n",
        "# Warmup is a period of time where hte learning rate \n",
        "# is small and gradually increases--usually helps training.\n",
        "WARMUP_PROPORTION = 0.1\n",
        "# Model configs\n",
        "SAVE_CHECKPOINTS_STEPS = 500\n",
        "SAVE_SUMMARY_STEPS = 100"
      ],
      "execution_count": 0,
      "outputs": []
    },
    {
      "cell_type": "code",
      "metadata": {
        "id": "emHf9GhfWBZ_",
        "colab_type": "code",
        "colab": {}
      },
      "source": [
        "# Compute # train and warmup steps from batch size\n",
        "num_train_steps = int(len(train_features) / BATCH_SIZE * NUM_TRAIN_EPOCHS)\n",
        "num_warmup_steps = int(num_train_steps * WARMUP_PROPORTION)"
      ],
      "execution_count": 0,
      "outputs": []
    },
    {
      "cell_type": "code",
      "metadata": {
        "id": "oEJldMr3WYZa",
        "colab_type": "code",
        "colab": {}
      },
      "source": [
        "# Specify outpit directory and number of checkpoint steps to save\n",
        "run_config = tf.estimator.RunConfig(\n",
        "    model_dir=OUTPUT_DIR,\n",
        "    save_summary_steps=SAVE_SUMMARY_STEPS,\n",
        "    save_checkpoints_steps=SAVE_CHECKPOINTS_STEPS)"
      ],
      "execution_count": 0,
      "outputs": []
    },
    {
      "cell_type": "code",
      "metadata": {
        "id": "q_WebpS1X97v",
        "colab_type": "code",
        "outputId": "48875295-c38f-4591-ec42-1fc13eb96691",
        "colab": {
          "base_uri": "https://localhost:8080/",
          "height": 275
        }
      },
      "source": [
        "model_fn = model_fn_builder(\n",
        "  num_labels=len(label_list),\n",
        "  learning_rate=LEARNING_RATE,\n",
        "  num_train_steps=num_train_steps,\n",
        "  num_warmup_steps=num_warmup_steps)\n",
        "\n",
        "estimator = tf.estimator.Estimator(\n",
        "  model_fn=model_fn,\n",
        "  config=run_config,\n",
        "  params={\"batch_size\": BATCH_SIZE})\n"
      ],
      "execution_count": 21,
      "outputs": [
        {
          "output_type": "stream",
          "text": [
            "INFO:tensorflow:Using config: {'_model_dir': 'OUTPUT_DIR_NAME', '_tf_random_seed': None, '_save_summary_steps': 100, '_save_checkpoints_steps': 500, '_save_checkpoints_secs': None, '_session_config': allow_soft_placement: true\n",
            "graph_options {\n",
            "  rewrite_options {\n",
            "    meta_optimizer_iterations: ONE\n",
            "  }\n",
            "}\n",
            ", '_keep_checkpoint_max': 5, '_keep_checkpoint_every_n_hours': 10000, '_log_step_count_steps': 100, '_train_distribute': None, '_device_fn': None, '_protocol': None, '_eval_distribute': None, '_experimental_distribute': None, '_experimental_max_worker_delay_secs': None, '_session_creation_timeout_secs': 7200, '_service': None, '_cluster_spec': <tensorflow.python.training.server_lib.ClusterSpec object at 0x7ff15c8df940>, '_task_type': 'worker', '_task_id': 0, '_global_id_in_cluster': 0, '_master': '', '_evaluation_master': '', '_is_chief': True, '_num_ps_replicas': 0, '_num_worker_replicas': 1}\n"
          ],
          "name": "stdout"
        },
        {
          "output_type": "stream",
          "text": [
            "INFO:tensorflow:Using config: {'_model_dir': 'OUTPUT_DIR_NAME', '_tf_random_seed': None, '_save_summary_steps': 100, '_save_checkpoints_steps': 500, '_save_checkpoints_secs': None, '_session_config': allow_soft_placement: true\n",
            "graph_options {\n",
            "  rewrite_options {\n",
            "    meta_optimizer_iterations: ONE\n",
            "  }\n",
            "}\n",
            ", '_keep_checkpoint_max': 5, '_keep_checkpoint_every_n_hours': 10000, '_log_step_count_steps': 100, '_train_distribute': None, '_device_fn': None, '_protocol': None, '_eval_distribute': None, '_experimental_distribute': None, '_experimental_max_worker_delay_secs': None, '_session_creation_timeout_secs': 7200, '_service': None, '_cluster_spec': <tensorflow.python.training.server_lib.ClusterSpec object at 0x7ff15c8df940>, '_task_type': 'worker', '_task_id': 0, '_global_id_in_cluster': 0, '_master': '', '_evaluation_master': '', '_is_chief': True, '_num_ps_replicas': 0, '_num_worker_replicas': 1}\n"
          ],
          "name": "stderr"
        }
      ]
    },
    {
      "cell_type": "markdown",
      "metadata": {
        "id": "NOO3RfG1DYLo",
        "colab_type": "text"
      },
      "source": [
        "Next we create an input builder function that takes our training feature set (`train_features`) and produces a generator. This is a pretty standard design pattern for working with Tensorflow [Estimators](https://www.tensorflow.org/guide/estimators)."
      ]
    },
    {
      "cell_type": "code",
      "metadata": {
        "id": "1Pv2bAlOX_-K",
        "colab_type": "code",
        "colab": {}
      },
      "source": [
        "# Create an input function for training. drop_remainder = True for using TPUs.\n",
        "train_input_fn = bert.run_classifier.input_fn_builder(\n",
        "    features=train_features,\n",
        "    seq_length=MAX_SEQ_LENGTH,\n",
        "    is_training=True,\n",
        "    drop_remainder=False)"
      ],
      "execution_count": 0,
      "outputs": []
    },
    {
      "cell_type": "markdown",
      "metadata": {
        "id": "t6Nukby2EB6-",
        "colab_type": "text"
      },
      "source": [
        "Now we train our model! For me, using a Colab notebook running on Google's GPUs, my training time was about 14 minutes."
      ]
    },
    {
      "cell_type": "code",
      "metadata": {
        "id": "nucD4gluYJmK",
        "colab_type": "code",
        "outputId": "84f9c640-8f4c-4845-e5c8-7b4b9ef1eb9f",
        "colab": {
          "base_uri": "https://localhost:8080/",
          "height": 1000
        }
      },
      "source": [
        "print(f'Beginning Training!')\n",
        "current_time = datetime.now()\n",
        "estimator.train(input_fn=train_input_fn, max_steps=num_train_steps)\n",
        "print(\"Training took time \", datetime.now() - current_time)"
      ],
      "execution_count": 23,
      "outputs": [
        {
          "output_type": "stream",
          "text": [
            "Beginning Training!\n",
            "WARNING:tensorflow:From /tensorflow-1.15.2/python3.6/tensorflow_core/python/training/training_util.py:236: Variable.initialized_value (from tensorflow.python.ops.variables) is deprecated and will be removed in a future version.\n",
            "Instructions for updating:\n",
            "Use Variable.read_value. Variables in 2.X are initialized automatically both in eager and graph (inside tf.defun) contexts.\n"
          ],
          "name": "stdout"
        },
        {
          "output_type": "stream",
          "text": [
            "WARNING:tensorflow:From /tensorflow-1.15.2/python3.6/tensorflow_core/python/training/training_util.py:236: Variable.initialized_value (from tensorflow.python.ops.variables) is deprecated and will be removed in a future version.\n",
            "Instructions for updating:\n",
            "Use Variable.read_value. Variables in 2.X are initialized automatically both in eager and graph (inside tf.defun) contexts.\n"
          ],
          "name": "stderr"
        },
        {
          "output_type": "stream",
          "text": [
            "INFO:tensorflow:Calling model_fn.\n"
          ],
          "name": "stdout"
        },
        {
          "output_type": "stream",
          "text": [
            "INFO:tensorflow:Calling model_fn.\n"
          ],
          "name": "stderr"
        },
        {
          "output_type": "stream",
          "text": [
            "INFO:tensorflow:Saver not created because there are no variables in the graph to restore\n"
          ],
          "name": "stdout"
        },
        {
          "output_type": "stream",
          "text": [
            "INFO:tensorflow:Saver not created because there are no variables in the graph to restore\n"
          ],
          "name": "stderr"
        },
        {
          "output_type": "stream",
          "text": [
            "WARNING:tensorflow:From <ipython-input-15-ca03218f28a6>:34: calling dropout (from tensorflow.python.ops.nn_ops) with keep_prob is deprecated and will be removed in a future version.\n",
            "Instructions for updating:\n",
            "Please use `rate` instead of `keep_prob`. Rate should be set to `rate = 1 - keep_prob`.\n"
          ],
          "name": "stdout"
        },
        {
          "output_type": "stream",
          "text": [
            "WARNING:tensorflow:From <ipython-input-15-ca03218f28a6>:34: calling dropout (from tensorflow.python.ops.nn_ops) with keep_prob is deprecated and will be removed in a future version.\n",
            "Instructions for updating:\n",
            "Please use `rate` instead of `keep_prob`. Rate should be set to `rate = 1 - keep_prob`.\n"
          ],
          "name": "stderr"
        },
        {
          "output_type": "stream",
          "text": [
            "WARNING:tensorflow:From /usr/local/lib/python3.6/dist-packages/bert/optimization.py:27: The name tf.train.get_or_create_global_step is deprecated. Please use tf.compat.v1.train.get_or_create_global_step instead.\n",
            "\n"
          ],
          "name": "stdout"
        },
        {
          "output_type": "stream",
          "text": [
            "WARNING:tensorflow:From /usr/local/lib/python3.6/dist-packages/bert/optimization.py:27: The name tf.train.get_or_create_global_step is deprecated. Please use tf.compat.v1.train.get_or_create_global_step instead.\n",
            "\n"
          ],
          "name": "stderr"
        },
        {
          "output_type": "stream",
          "text": [
            "WARNING:tensorflow:From /usr/local/lib/python3.6/dist-packages/bert/optimization.py:32: The name tf.train.polynomial_decay is deprecated. Please use tf.compat.v1.train.polynomial_decay instead.\n",
            "\n"
          ],
          "name": "stdout"
        },
        {
          "output_type": "stream",
          "text": [
            "WARNING:tensorflow:From /usr/local/lib/python3.6/dist-packages/bert/optimization.py:32: The name tf.train.polynomial_decay is deprecated. Please use tf.compat.v1.train.polynomial_decay instead.\n",
            "\n"
          ],
          "name": "stderr"
        },
        {
          "output_type": "stream",
          "text": [
            "WARNING:tensorflow:From /usr/local/lib/python3.6/dist-packages/bert/optimization.py:70: The name tf.trainable_variables is deprecated. Please use tf.compat.v1.trainable_variables instead.\n",
            "\n"
          ],
          "name": "stdout"
        },
        {
          "output_type": "stream",
          "text": [
            "WARNING:tensorflow:From /usr/local/lib/python3.6/dist-packages/bert/optimization.py:70: The name tf.trainable_variables is deprecated. Please use tf.compat.v1.trainable_variables instead.\n",
            "\n"
          ],
          "name": "stderr"
        },
        {
          "output_type": "stream",
          "text": [
            "WARNING:tensorflow:From /tensorflow-1.15.2/python3.6/tensorflow_core/python/ops/math_grad.py:1375: where (from tensorflow.python.ops.array_ops) is deprecated and will be removed in a future version.\n",
            "Instructions for updating:\n",
            "Use tf.where in 2.0, which has the same broadcast rule as np.where\n"
          ],
          "name": "stdout"
        },
        {
          "output_type": "stream",
          "text": [
            "WARNING:tensorflow:From /tensorflow-1.15.2/python3.6/tensorflow_core/python/ops/math_grad.py:1375: where (from tensorflow.python.ops.array_ops) is deprecated and will be removed in a future version.\n",
            "Instructions for updating:\n",
            "Use tf.where in 2.0, which has the same broadcast rule as np.where\n",
            "/tensorflow-1.15.2/python3.6/tensorflow_core/python/framework/indexed_slices.py:424: UserWarning: Converting sparse IndexedSlices to a dense Tensor of unknown shape. This may consume a large amount of memory.\n",
            "  \"Converting sparse IndexedSlices to a dense Tensor of unknown shape. \"\n"
          ],
          "name": "stderr"
        },
        {
          "output_type": "stream",
          "text": [
            "INFO:tensorflow:Done calling model_fn.\n"
          ],
          "name": "stdout"
        },
        {
          "output_type": "stream",
          "text": [
            "INFO:tensorflow:Done calling model_fn.\n"
          ],
          "name": "stderr"
        },
        {
          "output_type": "stream",
          "text": [
            "INFO:tensorflow:Create CheckpointSaverHook.\n"
          ],
          "name": "stdout"
        },
        {
          "output_type": "stream",
          "text": [
            "INFO:tensorflow:Create CheckpointSaverHook.\n"
          ],
          "name": "stderr"
        },
        {
          "output_type": "stream",
          "text": [
            "INFO:tensorflow:Graph was finalized.\n"
          ],
          "name": "stdout"
        },
        {
          "output_type": "stream",
          "text": [
            "INFO:tensorflow:Graph was finalized.\n"
          ],
          "name": "stderr"
        },
        {
          "output_type": "stream",
          "text": [
            "INFO:tensorflow:Running local_init_op.\n"
          ],
          "name": "stdout"
        },
        {
          "output_type": "stream",
          "text": [
            "INFO:tensorflow:Running local_init_op.\n"
          ],
          "name": "stderr"
        },
        {
          "output_type": "stream",
          "text": [
            "INFO:tensorflow:Done running local_init_op.\n"
          ],
          "name": "stdout"
        },
        {
          "output_type": "stream",
          "text": [
            "INFO:tensorflow:Done running local_init_op.\n"
          ],
          "name": "stderr"
        },
        {
          "output_type": "stream",
          "text": [
            "INFO:tensorflow:Saving checkpoints for 0 into OUTPUT_DIR_NAME/model.ckpt.\n"
          ],
          "name": "stdout"
        },
        {
          "output_type": "stream",
          "text": [
            "INFO:tensorflow:Saving checkpoints for 0 into OUTPUT_DIR_NAME/model.ckpt.\n"
          ],
          "name": "stderr"
        },
        {
          "output_type": "stream",
          "text": [
            "INFO:tensorflow:loss = 1.6400478, step = 0\n"
          ],
          "name": "stdout"
        },
        {
          "output_type": "stream",
          "text": [
            "INFO:tensorflow:loss = 1.6400478, step = 0\n"
          ],
          "name": "stderr"
        },
        {
          "output_type": "stream",
          "text": [
            "INFO:tensorflow:global_step/sec: 1.06552\n"
          ],
          "name": "stdout"
        },
        {
          "output_type": "stream",
          "text": [
            "INFO:tensorflow:global_step/sec: 1.06552\n"
          ],
          "name": "stderr"
        },
        {
          "output_type": "stream",
          "text": [
            "INFO:tensorflow:loss = 0.74394643, step = 100 (93.852 sec)\n"
          ],
          "name": "stdout"
        },
        {
          "output_type": "stream",
          "text": [
            "INFO:tensorflow:loss = 0.74394643, step = 100 (93.852 sec)\n"
          ],
          "name": "stderr"
        },
        {
          "output_type": "stream",
          "text": [
            "INFO:tensorflow:global_step/sec: 1.19902\n"
          ],
          "name": "stdout"
        },
        {
          "output_type": "stream",
          "text": [
            "INFO:tensorflow:global_step/sec: 1.19902\n"
          ],
          "name": "stderr"
        },
        {
          "output_type": "stream",
          "text": [
            "INFO:tensorflow:loss = 0.9595437, step = 200 (83.402 sec)\n"
          ],
          "name": "stdout"
        },
        {
          "output_type": "stream",
          "text": [
            "INFO:tensorflow:loss = 0.9595437, step = 200 (83.402 sec)\n"
          ],
          "name": "stderr"
        },
        {
          "output_type": "stream",
          "text": [
            "INFO:tensorflow:global_step/sec: 1.1807\n"
          ],
          "name": "stdout"
        },
        {
          "output_type": "stream",
          "text": [
            "INFO:tensorflow:global_step/sec: 1.1807\n"
          ],
          "name": "stderr"
        },
        {
          "output_type": "stream",
          "text": [
            "INFO:tensorflow:loss = 0.84854984, step = 300 (84.695 sec)\n"
          ],
          "name": "stdout"
        },
        {
          "output_type": "stream",
          "text": [
            "INFO:tensorflow:loss = 0.84854984, step = 300 (84.695 sec)\n"
          ],
          "name": "stderr"
        },
        {
          "output_type": "stream",
          "text": [
            "INFO:tensorflow:global_step/sec: 1.17504\n"
          ],
          "name": "stdout"
        },
        {
          "output_type": "stream",
          "text": [
            "INFO:tensorflow:global_step/sec: 1.17504\n"
          ],
          "name": "stderr"
        },
        {
          "output_type": "stream",
          "text": [
            "INFO:tensorflow:loss = 0.6457206, step = 400 (85.104 sec)\n"
          ],
          "name": "stdout"
        },
        {
          "output_type": "stream",
          "text": [
            "INFO:tensorflow:loss = 0.6457206, step = 400 (85.104 sec)\n"
          ],
          "name": "stderr"
        },
        {
          "output_type": "stream",
          "text": [
            "INFO:tensorflow:Saving checkpoints for 500 into OUTPUT_DIR_NAME/model.ckpt.\n"
          ],
          "name": "stdout"
        },
        {
          "output_type": "stream",
          "text": [
            "INFO:tensorflow:Saving checkpoints for 500 into OUTPUT_DIR_NAME/model.ckpt.\n"
          ],
          "name": "stderr"
        },
        {
          "output_type": "stream",
          "text": [
            "INFO:tensorflow:global_step/sec: 1.09439\n"
          ],
          "name": "stdout"
        },
        {
          "output_type": "stream",
          "text": [
            "INFO:tensorflow:global_step/sec: 1.09439\n"
          ],
          "name": "stderr"
        },
        {
          "output_type": "stream",
          "text": [
            "INFO:tensorflow:loss = 0.60139203, step = 500 (91.380 sec)\n"
          ],
          "name": "stdout"
        },
        {
          "output_type": "stream",
          "text": [
            "INFO:tensorflow:loss = 0.60139203, step = 500 (91.380 sec)\n"
          ],
          "name": "stderr"
        },
        {
          "output_type": "stream",
          "text": [
            "INFO:tensorflow:global_step/sec: 1.17287\n"
          ],
          "name": "stdout"
        },
        {
          "output_type": "stream",
          "text": [
            "INFO:tensorflow:global_step/sec: 1.17287\n"
          ],
          "name": "stderr"
        },
        {
          "output_type": "stream",
          "text": [
            "INFO:tensorflow:loss = 0.83074844, step = 600 (85.256 sec)\n"
          ],
          "name": "stdout"
        },
        {
          "output_type": "stream",
          "text": [
            "INFO:tensorflow:loss = 0.83074844, step = 600 (85.256 sec)\n"
          ],
          "name": "stderr"
        },
        {
          "output_type": "stream",
          "text": [
            "INFO:tensorflow:global_step/sec: 1.16838\n"
          ],
          "name": "stdout"
        },
        {
          "output_type": "stream",
          "text": [
            "INFO:tensorflow:global_step/sec: 1.16838\n"
          ],
          "name": "stderr"
        },
        {
          "output_type": "stream",
          "text": [
            "INFO:tensorflow:loss = 0.77076805, step = 700 (85.593 sec)\n"
          ],
          "name": "stdout"
        },
        {
          "output_type": "stream",
          "text": [
            "INFO:tensorflow:loss = 0.77076805, step = 700 (85.593 sec)\n"
          ],
          "name": "stderr"
        },
        {
          "output_type": "stream",
          "text": [
            "INFO:tensorflow:global_step/sec: 1.165\n"
          ],
          "name": "stdout"
        },
        {
          "output_type": "stream",
          "text": [
            "INFO:tensorflow:global_step/sec: 1.165\n"
          ],
          "name": "stderr"
        },
        {
          "output_type": "stream",
          "text": [
            "INFO:tensorflow:loss = 0.43521738, step = 800 (85.833 sec)\n"
          ],
          "name": "stdout"
        },
        {
          "output_type": "stream",
          "text": [
            "INFO:tensorflow:loss = 0.43521738, step = 800 (85.833 sec)\n"
          ],
          "name": "stderr"
        },
        {
          "output_type": "stream",
          "text": [
            "INFO:tensorflow:global_step/sec: 1.16552\n"
          ],
          "name": "stdout"
        },
        {
          "output_type": "stream",
          "text": [
            "INFO:tensorflow:global_step/sec: 1.16552\n"
          ],
          "name": "stderr"
        },
        {
          "output_type": "stream",
          "text": [
            "INFO:tensorflow:loss = 0.6175382, step = 900 (85.800 sec)\n"
          ],
          "name": "stdout"
        },
        {
          "output_type": "stream",
          "text": [
            "INFO:tensorflow:loss = 0.6175382, step = 900 (85.800 sec)\n"
          ],
          "name": "stderr"
        },
        {
          "output_type": "stream",
          "text": [
            "INFO:tensorflow:Saving checkpoints for 1000 into OUTPUT_DIR_NAME/model.ckpt.\n"
          ],
          "name": "stdout"
        },
        {
          "output_type": "stream",
          "text": [
            "INFO:tensorflow:Saving checkpoints for 1000 into OUTPUT_DIR_NAME/model.ckpt.\n"
          ],
          "name": "stderr"
        },
        {
          "output_type": "stream",
          "text": [
            "INFO:tensorflow:global_step/sec: 1.09102\n"
          ],
          "name": "stdout"
        },
        {
          "output_type": "stream",
          "text": [
            "INFO:tensorflow:global_step/sec: 1.09102\n"
          ],
          "name": "stderr"
        },
        {
          "output_type": "stream",
          "text": [
            "INFO:tensorflow:loss = 0.8510931, step = 1000 (91.655 sec)\n"
          ],
          "name": "stdout"
        },
        {
          "output_type": "stream",
          "text": [
            "INFO:tensorflow:loss = 0.8510931, step = 1000 (91.655 sec)\n"
          ],
          "name": "stderr"
        },
        {
          "output_type": "stream",
          "text": [
            "INFO:tensorflow:global_step/sec: 1.17258\n"
          ],
          "name": "stdout"
        },
        {
          "output_type": "stream",
          "text": [
            "INFO:tensorflow:global_step/sec: 1.17258\n"
          ],
          "name": "stderr"
        },
        {
          "output_type": "stream",
          "text": [
            "INFO:tensorflow:loss = 0.6240107, step = 1100 (85.286 sec)\n"
          ],
          "name": "stdout"
        },
        {
          "output_type": "stream",
          "text": [
            "INFO:tensorflow:loss = 0.6240107, step = 1100 (85.286 sec)\n"
          ],
          "name": "stderr"
        },
        {
          "output_type": "stream",
          "text": [
            "INFO:tensorflow:global_step/sec: 1.16861\n"
          ],
          "name": "stdout"
        },
        {
          "output_type": "stream",
          "text": [
            "INFO:tensorflow:global_step/sec: 1.16861\n"
          ],
          "name": "stderr"
        },
        {
          "output_type": "stream",
          "text": [
            "INFO:tensorflow:loss = 0.54200184, step = 1200 (85.568 sec)\n"
          ],
          "name": "stdout"
        },
        {
          "output_type": "stream",
          "text": [
            "INFO:tensorflow:loss = 0.54200184, step = 1200 (85.568 sec)\n"
          ],
          "name": "stderr"
        },
        {
          "output_type": "stream",
          "text": [
            "INFO:tensorflow:Saving checkpoints for 1250 into OUTPUT_DIR_NAME/model.ckpt.\n"
          ],
          "name": "stdout"
        },
        {
          "output_type": "stream",
          "text": [
            "INFO:tensorflow:Saving checkpoints for 1250 into OUTPUT_DIR_NAME/model.ckpt.\n"
          ],
          "name": "stderr"
        },
        {
          "output_type": "stream",
          "text": [
            "INFO:tensorflow:Loss for final step: 0.58162963.\n"
          ],
          "name": "stdout"
        },
        {
          "output_type": "stream",
          "text": [
            "INFO:tensorflow:Loss for final step: 0.58162963.\n"
          ],
          "name": "stderr"
        },
        {
          "output_type": "stream",
          "text": [
            "Training took time  0:19:05.989914\n"
          ],
          "name": "stdout"
        }
      ]
    },
    {
      "cell_type": "markdown",
      "metadata": {
        "id": "CmbLTVniARy3",
        "colab_type": "text"
      },
      "source": [
        "Now let's use our test data to see how well our model did:"
      ]
    },
    {
      "cell_type": "code",
      "metadata": {
        "id": "JIhejfpyJ8Bx",
        "colab_type": "code",
        "colab": {}
      },
      "source": [
        "val_input_fn = run_classifier.input_fn_builder(\n",
        "    features=val_features,\n",
        "    seq_length=MAX_SEQ_LENGTH,\n",
        "    is_training=False,\n",
        "    drop_remainder=False)"
      ],
      "execution_count": 0,
      "outputs": []
    },
    {
      "cell_type": "code",
      "metadata": {
        "id": "PPVEXhNjYXC-",
        "colab_type": "code",
        "outputId": "2adbafb7-dddd-4d96-e51f-6509551eb914",
        "colab": {
          "base_uri": "https://localhost:8080/",
          "height": 734
        }
      },
      "source": [
        "estimator.evaluate(input_fn=val_input_fn, steps=None)"
      ],
      "execution_count": 25,
      "outputs": [
        {
          "output_type": "stream",
          "text": [
            "INFO:tensorflow:Calling model_fn.\n"
          ],
          "name": "stdout"
        },
        {
          "output_type": "stream",
          "text": [
            "INFO:tensorflow:Calling model_fn.\n"
          ],
          "name": "stderr"
        },
        {
          "output_type": "stream",
          "text": [
            "INFO:tensorflow:Saver not created because there are no variables in the graph to restore\n"
          ],
          "name": "stdout"
        },
        {
          "output_type": "stream",
          "text": [
            "INFO:tensorflow:Saver not created because there are no variables in the graph to restore\n",
            "/tensorflow-1.15.2/python3.6/tensorflow_core/python/framework/indexed_slices.py:424: UserWarning: Converting sparse IndexedSlices to a dense Tensor of unknown shape. This may consume a large amount of memory.\n",
            "  \"Converting sparse IndexedSlices to a dense Tensor of unknown shape. \"\n"
          ],
          "name": "stderr"
        },
        {
          "output_type": "stream",
          "text": [
            "INFO:tensorflow:Done calling model_fn.\n"
          ],
          "name": "stdout"
        },
        {
          "output_type": "stream",
          "text": [
            "INFO:tensorflow:Done calling model_fn.\n"
          ],
          "name": "stderr"
        },
        {
          "output_type": "stream",
          "text": [
            "INFO:tensorflow:Starting evaluation at 2020-04-16T11:45:56Z\n"
          ],
          "name": "stdout"
        },
        {
          "output_type": "stream",
          "text": [
            "INFO:tensorflow:Starting evaluation at 2020-04-16T11:45:56Z\n"
          ],
          "name": "stderr"
        },
        {
          "output_type": "stream",
          "text": [
            "INFO:tensorflow:Graph was finalized.\n"
          ],
          "name": "stdout"
        },
        {
          "output_type": "stream",
          "text": [
            "INFO:tensorflow:Graph was finalized.\n"
          ],
          "name": "stderr"
        },
        {
          "output_type": "stream",
          "text": [
            "INFO:tensorflow:Restoring parameters from OUTPUT_DIR_NAME/model.ckpt-1250\n"
          ],
          "name": "stdout"
        },
        {
          "output_type": "stream",
          "text": [
            "INFO:tensorflow:Restoring parameters from OUTPUT_DIR_NAME/model.ckpt-1250\n"
          ],
          "name": "stderr"
        },
        {
          "output_type": "stream",
          "text": [
            "INFO:tensorflow:Running local_init_op.\n"
          ],
          "name": "stdout"
        },
        {
          "output_type": "stream",
          "text": [
            "INFO:tensorflow:Running local_init_op.\n"
          ],
          "name": "stderr"
        },
        {
          "output_type": "stream",
          "text": [
            "INFO:tensorflow:Done running local_init_op.\n"
          ],
          "name": "stdout"
        },
        {
          "output_type": "stream",
          "text": [
            "INFO:tensorflow:Done running local_init_op.\n"
          ],
          "name": "stderr"
        },
        {
          "output_type": "stream",
          "text": [
            "INFO:tensorflow:Finished evaluation at 2020-04-16-11:46:19\n"
          ],
          "name": "stdout"
        },
        {
          "output_type": "stream",
          "text": [
            "INFO:tensorflow:Finished evaluation at 2020-04-16-11:46:19\n"
          ],
          "name": "stderr"
        },
        {
          "output_type": "stream",
          "text": [
            "INFO:tensorflow:Saving dict for global step 1250: \n",
            "            \"f1_score\": f1_score,\n",
            "            \"auc\": auc,\n",
            "            \"precision\": precision,\n",
            "            \"recall\": recall,\n",
            "            true_positives = 1611.0, eval_accuracy = 0.688, false_negatives = 74.0, false_positives = 63.0, global_step = 1250, loss = 0.7987433, true_negatives = 252.0\n"
          ],
          "name": "stdout"
        },
        {
          "output_type": "stream",
          "text": [
            "INFO:tensorflow:Saving dict for global step 1250: \n",
            "            \"f1_score\": f1_score,\n",
            "            \"auc\": auc,\n",
            "            \"precision\": precision,\n",
            "            \"recall\": recall,\n",
            "            true_positives = 1611.0, eval_accuracy = 0.688, false_negatives = 74.0, false_positives = 63.0, global_step = 1250, loss = 0.7987433, true_negatives = 252.0\n"
          ],
          "name": "stderr"
        },
        {
          "output_type": "stream",
          "text": [
            "INFO:tensorflow:Saving 'checkpoint_path' summary for global step 1250: OUTPUT_DIR_NAME/model.ckpt-1250\n"
          ],
          "name": "stdout"
        },
        {
          "output_type": "stream",
          "text": [
            "INFO:tensorflow:Saving 'checkpoint_path' summary for global step 1250: OUTPUT_DIR_NAME/model.ckpt-1250\n"
          ],
          "name": "stderr"
        },
        {
          "output_type": "execute_result",
          "data": {
            "text/plain": [
              "{'\\n            \"f1_score\": f1_score,\\n            \"auc\": auc,\\n            \"precision\": precision,\\n            \"recall\": recall,\\n            true_positives': 1611.0,\n",
              " 'eval_accuracy': 0.688,\n",
              " 'false_negatives': 74.0,\n",
              " 'false_positives': 63.0,\n",
              " 'global_step': 1250,\n",
              " 'loss': 0.7987433,\n",
              " 'true_negatives': 252.0}"
            ]
          },
          "metadata": {
            "tags": []
          },
          "execution_count": 25
        }
      ]
    },
    {
      "cell_type": "markdown",
      "metadata": {
        "id": "ueKsULteiz1B",
        "colab_type": "text"
      },
      "source": [
        "Now let's write code to make predictions on new sentences:"
      ]
    },
    {
      "cell_type": "code",
      "metadata": {
        "id": "OsrbTD2EJTVl",
        "colab_type": "code",
        "colab": {}
      },
      "source": [
        "def getPrediction(in_sentences):\n",
        "  labels = [1, 2, 3, 4, 5]\n",
        "  input_examples = [run_classifier.InputExample(guid=\"\", text_a = x, text_b = None, label = 1) for x in in_sentences] # here, \"\" is just a dummy label\n",
        "  input_features = run_classifier.convert_examples_to_features(input_examples, label_list, MAX_SEQ_LENGTH, tokenizer)\n",
        "  predict_input_fn = run_classifier.input_fn_builder(features=input_features, seq_length=MAX_SEQ_LENGTH, is_training=False, drop_remainder=False)\n",
        "  predictions = estimator.predict(predict_input_fn)\n",
        "  return [(sentence, labels[prediction['labels']]) for sentence, prediction in zip(in_sentences, predictions)]"
      ],
      "execution_count": 0,
      "outputs": []
    },
    {
      "cell_type": "code",
      "metadata": {
        "id": "-thbodgih_VJ",
        "colab_type": "code",
        "colab": {}
      },
      "source": [
        "pred_sentences = list(val['text'])"
      ],
      "execution_count": 0,
      "outputs": []
    },
    {
      "cell_type": "code",
      "metadata": {
        "id": "QrZmvZySKQTm",
        "colab_type": "code",
        "outputId": "fc1719f5-740c-4fb0-b67f-c270febaa16a",
        "colab": {
          "base_uri": "https://localhost:8080/",
          "height": 1000
        }
      },
      "source": [
        "predictions = getPrediction(pred_sentences)"
      ],
      "execution_count": 70,
      "outputs": [
        {
          "output_type": "stream",
          "text": [
            "INFO:tensorflow:Writing example 0 of 2000\n"
          ],
          "name": "stdout"
        },
        {
          "output_type": "stream",
          "text": [
            "INFO:tensorflow:Writing example 0 of 2000\n"
          ],
          "name": "stderr"
        },
        {
          "output_type": "stream",
          "text": [
            "INFO:tensorflow:*** Example ***\n"
          ],
          "name": "stdout"
        },
        {
          "output_type": "stream",
          "text": [
            "INFO:tensorflow:*** Example ***\n"
          ],
          "name": "stderr"
        },
        {
          "output_type": "stream",
          "text": [
            "INFO:tensorflow:guid: \n"
          ],
          "name": "stdout"
        },
        {
          "output_type": "stream",
          "text": [
            "INFO:tensorflow:guid: \n"
          ],
          "name": "stderr"
        },
        {
          "output_type": "stream",
          "text": [
            "INFO:tensorflow:tokens: [CLS] food is sometimes sometimes great and something ##s just good . wasn ' t a fan of their br ##un ##ch but lunch and dinner is good . service is hit and miss . [SEP]\n"
          ],
          "name": "stdout"
        },
        {
          "output_type": "stream",
          "text": [
            "INFO:tensorflow:tokens: [CLS] food is sometimes sometimes great and something ##s just good . wasn ' t a fan of their br ##un ##ch but lunch and dinner is good . service is hit and miss . [SEP]\n"
          ],
          "name": "stderr"
        },
        {
          "output_type": "stream",
          "text": [
            "INFO:tensorflow:input_ids: 101 2833 2003 2823 2823 2307 1998 2242 2015 2074 2204 1012 2347 1005 1056 1037 5470 1997 2037 7987 4609 2818 2021 6265 1998 4596 2003 2204 1012 2326 2003 2718 1998 3335 1012 102 0 0 0 0 0 0 0 0 0 0 0 0 0 0 0 0 0 0 0 0 0 0 0 0 0 0 0 0 0 0 0 0 0 0 0 0 0 0 0 0 0 0 0 0 0 0 0 0 0 0 0 0 0 0 0 0 0 0 0 0 0 0 0 0 0 0 0 0 0 0 0 0 0 0 0 0 0 0 0 0 0 0 0 0 0 0 0 0 0 0 0 0\n"
          ],
          "name": "stdout"
        },
        {
          "output_type": "stream",
          "text": [
            "INFO:tensorflow:input_ids: 101 2833 2003 2823 2823 2307 1998 2242 2015 2074 2204 1012 2347 1005 1056 1037 5470 1997 2037 7987 4609 2818 2021 6265 1998 4596 2003 2204 1012 2326 2003 2718 1998 3335 1012 102 0 0 0 0 0 0 0 0 0 0 0 0 0 0 0 0 0 0 0 0 0 0 0 0 0 0 0 0 0 0 0 0 0 0 0 0 0 0 0 0 0 0 0 0 0 0 0 0 0 0 0 0 0 0 0 0 0 0 0 0 0 0 0 0 0 0 0 0 0 0 0 0 0 0 0 0 0 0 0 0 0 0 0 0 0 0 0 0 0 0 0 0\n"
          ],
          "name": "stderr"
        },
        {
          "output_type": "stream",
          "text": [
            "INFO:tensorflow:input_mask: 1 1 1 1 1 1 1 1 1 1 1 1 1 1 1 1 1 1 1 1 1 1 1 1 1 1 1 1 1 1 1 1 1 1 1 1 0 0 0 0 0 0 0 0 0 0 0 0 0 0 0 0 0 0 0 0 0 0 0 0 0 0 0 0 0 0 0 0 0 0 0 0 0 0 0 0 0 0 0 0 0 0 0 0 0 0 0 0 0 0 0 0 0 0 0 0 0 0 0 0 0 0 0 0 0 0 0 0 0 0 0 0 0 0 0 0 0 0 0 0 0 0 0 0 0 0 0 0\n"
          ],
          "name": "stdout"
        },
        {
          "output_type": "stream",
          "text": [
            "INFO:tensorflow:input_mask: 1 1 1 1 1 1 1 1 1 1 1 1 1 1 1 1 1 1 1 1 1 1 1 1 1 1 1 1 1 1 1 1 1 1 1 1 0 0 0 0 0 0 0 0 0 0 0 0 0 0 0 0 0 0 0 0 0 0 0 0 0 0 0 0 0 0 0 0 0 0 0 0 0 0 0 0 0 0 0 0 0 0 0 0 0 0 0 0 0 0 0 0 0 0 0 0 0 0 0 0 0 0 0 0 0 0 0 0 0 0 0 0 0 0 0 0 0 0 0 0 0 0 0 0 0 0 0 0\n"
          ],
          "name": "stderr"
        },
        {
          "output_type": "stream",
          "text": [
            "INFO:tensorflow:segment_ids: 0 0 0 0 0 0 0 0 0 0 0 0 0 0 0 0 0 0 0 0 0 0 0 0 0 0 0 0 0 0 0 0 0 0 0 0 0 0 0 0 0 0 0 0 0 0 0 0 0 0 0 0 0 0 0 0 0 0 0 0 0 0 0 0 0 0 0 0 0 0 0 0 0 0 0 0 0 0 0 0 0 0 0 0 0 0 0 0 0 0 0 0 0 0 0 0 0 0 0 0 0 0 0 0 0 0 0 0 0 0 0 0 0 0 0 0 0 0 0 0 0 0 0 0 0 0 0 0\n"
          ],
          "name": "stdout"
        },
        {
          "output_type": "stream",
          "text": [
            "INFO:tensorflow:segment_ids: 0 0 0 0 0 0 0 0 0 0 0 0 0 0 0 0 0 0 0 0 0 0 0 0 0 0 0 0 0 0 0 0 0 0 0 0 0 0 0 0 0 0 0 0 0 0 0 0 0 0 0 0 0 0 0 0 0 0 0 0 0 0 0 0 0 0 0 0 0 0 0 0 0 0 0 0 0 0 0 0 0 0 0 0 0 0 0 0 0 0 0 0 0 0 0 0 0 0 0 0 0 0 0 0 0 0 0 0 0 0 0 0 0 0 0 0 0 0 0 0 0 0 0 0 0 0 0 0\n"
          ],
          "name": "stderr"
        },
        {
          "output_type": "stream",
          "text": [
            "INFO:tensorflow:label: 1 (id = 0)\n"
          ],
          "name": "stdout"
        },
        {
          "output_type": "stream",
          "text": [
            "INFO:tensorflow:label: 1 (id = 0)\n"
          ],
          "name": "stderr"
        },
        {
          "output_type": "stream",
          "text": [
            "INFO:tensorflow:*** Example ***\n"
          ],
          "name": "stdout"
        },
        {
          "output_type": "stream",
          "text": [
            "INFO:tensorflow:*** Example ***\n"
          ],
          "name": "stderr"
        },
        {
          "output_type": "stream",
          "text": [
            "INFO:tensorflow:guid: \n"
          ],
          "name": "stdout"
        },
        {
          "output_type": "stream",
          "text": [
            "INFO:tensorflow:guid: \n"
          ],
          "name": "stderr"
        },
        {
          "output_type": "stream",
          "text": [
            "INFO:tensorflow:tokens: [CLS] they should seriously market the sausage and gr ##av ##y . you may hear chicken sausage but - good lord this is some amazing sausage biscuits and gr ##av ##y . [SEP]\n"
          ],
          "name": "stdout"
        },
        {
          "output_type": "stream",
          "text": [
            "INFO:tensorflow:tokens: [CLS] they should seriously market the sausage and gr ##av ##y . you may hear chicken sausage but - good lord this is some amazing sausage biscuits and gr ##av ##y . [SEP]\n"
          ],
          "name": "stderr"
        },
        {
          "output_type": "stream",
          "text": [
            "INFO:tensorflow:input_ids: 101 2027 2323 5667 3006 1996 24165 1998 24665 11431 2100 1012 2017 2089 2963 7975 24165 2021 1011 2204 2935 2023 2003 2070 6429 24165 27529 1998 24665 11431 2100 1012 102 0 0 0 0 0 0 0 0 0 0 0 0 0 0 0 0 0 0 0 0 0 0 0 0 0 0 0 0 0 0 0 0 0 0 0 0 0 0 0 0 0 0 0 0 0 0 0 0 0 0 0 0 0 0 0 0 0 0 0 0 0 0 0 0 0 0 0 0 0 0 0 0 0 0 0 0 0 0 0 0 0 0 0 0 0 0 0 0 0 0 0 0 0 0 0\n"
          ],
          "name": "stdout"
        },
        {
          "output_type": "stream",
          "text": [
            "INFO:tensorflow:input_ids: 101 2027 2323 5667 3006 1996 24165 1998 24665 11431 2100 1012 2017 2089 2963 7975 24165 2021 1011 2204 2935 2023 2003 2070 6429 24165 27529 1998 24665 11431 2100 1012 102 0 0 0 0 0 0 0 0 0 0 0 0 0 0 0 0 0 0 0 0 0 0 0 0 0 0 0 0 0 0 0 0 0 0 0 0 0 0 0 0 0 0 0 0 0 0 0 0 0 0 0 0 0 0 0 0 0 0 0 0 0 0 0 0 0 0 0 0 0 0 0 0 0 0 0 0 0 0 0 0 0 0 0 0 0 0 0 0 0 0 0 0 0 0 0\n"
          ],
          "name": "stderr"
        },
        {
          "output_type": "stream",
          "text": [
            "INFO:tensorflow:input_mask: 1 1 1 1 1 1 1 1 1 1 1 1 1 1 1 1 1 1 1 1 1 1 1 1 1 1 1 1 1 1 1 1 1 0 0 0 0 0 0 0 0 0 0 0 0 0 0 0 0 0 0 0 0 0 0 0 0 0 0 0 0 0 0 0 0 0 0 0 0 0 0 0 0 0 0 0 0 0 0 0 0 0 0 0 0 0 0 0 0 0 0 0 0 0 0 0 0 0 0 0 0 0 0 0 0 0 0 0 0 0 0 0 0 0 0 0 0 0 0 0 0 0 0 0 0 0 0 0\n"
          ],
          "name": "stdout"
        },
        {
          "output_type": "stream",
          "text": [
            "INFO:tensorflow:input_mask: 1 1 1 1 1 1 1 1 1 1 1 1 1 1 1 1 1 1 1 1 1 1 1 1 1 1 1 1 1 1 1 1 1 0 0 0 0 0 0 0 0 0 0 0 0 0 0 0 0 0 0 0 0 0 0 0 0 0 0 0 0 0 0 0 0 0 0 0 0 0 0 0 0 0 0 0 0 0 0 0 0 0 0 0 0 0 0 0 0 0 0 0 0 0 0 0 0 0 0 0 0 0 0 0 0 0 0 0 0 0 0 0 0 0 0 0 0 0 0 0 0 0 0 0 0 0 0 0\n"
          ],
          "name": "stderr"
        },
        {
          "output_type": "stream",
          "text": [
            "INFO:tensorflow:segment_ids: 0 0 0 0 0 0 0 0 0 0 0 0 0 0 0 0 0 0 0 0 0 0 0 0 0 0 0 0 0 0 0 0 0 0 0 0 0 0 0 0 0 0 0 0 0 0 0 0 0 0 0 0 0 0 0 0 0 0 0 0 0 0 0 0 0 0 0 0 0 0 0 0 0 0 0 0 0 0 0 0 0 0 0 0 0 0 0 0 0 0 0 0 0 0 0 0 0 0 0 0 0 0 0 0 0 0 0 0 0 0 0 0 0 0 0 0 0 0 0 0 0 0 0 0 0 0 0 0\n"
          ],
          "name": "stdout"
        },
        {
          "output_type": "stream",
          "text": [
            "INFO:tensorflow:segment_ids: 0 0 0 0 0 0 0 0 0 0 0 0 0 0 0 0 0 0 0 0 0 0 0 0 0 0 0 0 0 0 0 0 0 0 0 0 0 0 0 0 0 0 0 0 0 0 0 0 0 0 0 0 0 0 0 0 0 0 0 0 0 0 0 0 0 0 0 0 0 0 0 0 0 0 0 0 0 0 0 0 0 0 0 0 0 0 0 0 0 0 0 0 0 0 0 0 0 0 0 0 0 0 0 0 0 0 0 0 0 0 0 0 0 0 0 0 0 0 0 0 0 0 0 0 0 0 0 0\n"
          ],
          "name": "stderr"
        },
        {
          "output_type": "stream",
          "text": [
            "INFO:tensorflow:label: 1 (id = 0)\n"
          ],
          "name": "stdout"
        },
        {
          "output_type": "stream",
          "text": [
            "INFO:tensorflow:label: 1 (id = 0)\n"
          ],
          "name": "stderr"
        },
        {
          "output_type": "stream",
          "text": [
            "INFO:tensorflow:*** Example ***\n"
          ],
          "name": "stdout"
        },
        {
          "output_type": "stream",
          "text": [
            "INFO:tensorflow:*** Example ***\n"
          ],
          "name": "stderr"
        },
        {
          "output_type": "stream",
          "text": [
            "INFO:tensorflow:guid: \n"
          ],
          "name": "stdout"
        },
        {
          "output_type": "stream",
          "text": [
            "INFO:tensorflow:guid: \n"
          ],
          "name": "stderr"
        },
        {
          "output_type": "stream",
          "text": [
            "INFO:tensorflow:tokens: [CLS] while i have had several average salon and spa services at holt ##s this review is for my hair coloring experiences with ina . i have had my blonde highlights done by ina on and off for a few years . i was always very happy with the results , yet i was kept trying to look for a more reasonably priced place because it is very expensive indeed ( in my case about $ 300 with the tone ##r and blow dry , which is not included ) . and so it was that a month before my wedding i went to a very rep ##utable downtown salon ( supposedly the best in to ) to have my highlights done . to make a very [SEP]\n"
          ],
          "name": "stdout"
        },
        {
          "output_type": "stream",
          "text": [
            "INFO:tensorflow:tokens: [CLS] while i have had several average salon and spa services at holt ##s this review is for my hair coloring experiences with ina . i have had my blonde highlights done by ina on and off for a few years . i was always very happy with the results , yet i was kept trying to look for a more reasonably priced place because it is very expensive indeed ( in my case about $ 300 with the tone ##r and blow dry , which is not included ) . and so it was that a month before my wedding i went to a very rep ##utable downtown salon ( supposedly the best in to ) to have my highlights done . to make a very [SEP]\n"
          ],
          "name": "stderr"
        },
        {
          "output_type": "stream",
          "text": [
            "INFO:tensorflow:input_ids: 101 2096 1045 2031 2018 2195 2779 11090 1998 12403 2578 2012 12621 2015 2023 3319 2003 2005 2026 2606 22276 6322 2007 27118 1012 1045 2031 2018 2026 9081 11637 2589 2011 27118 2006 1998 2125 2005 1037 2261 2086 1012 1045 2001 2467 2200 3407 2007 1996 3463 1010 2664 1045 2001 2921 2667 2000 2298 2005 1037 2062 16286 21125 2173 2138 2009 2003 2200 6450 5262 1006 1999 2026 2553 2055 1002 3998 2007 1996 4309 2099 1998 6271 4318 1010 2029 2003 2025 2443 1007 1012 1998 2061 2009 2001 2008 1037 3204 2077 2026 5030 1045 2253 2000 1037 2200 16360 23056 5116 11090 1006 10743 1996 2190 1999 2000 1007 2000 2031 2026 11637 2589 1012 2000 2191 1037 2200 102\n"
          ],
          "name": "stdout"
        },
        {
          "output_type": "stream",
          "text": [
            "INFO:tensorflow:input_ids: 101 2096 1045 2031 2018 2195 2779 11090 1998 12403 2578 2012 12621 2015 2023 3319 2003 2005 2026 2606 22276 6322 2007 27118 1012 1045 2031 2018 2026 9081 11637 2589 2011 27118 2006 1998 2125 2005 1037 2261 2086 1012 1045 2001 2467 2200 3407 2007 1996 3463 1010 2664 1045 2001 2921 2667 2000 2298 2005 1037 2062 16286 21125 2173 2138 2009 2003 2200 6450 5262 1006 1999 2026 2553 2055 1002 3998 2007 1996 4309 2099 1998 6271 4318 1010 2029 2003 2025 2443 1007 1012 1998 2061 2009 2001 2008 1037 3204 2077 2026 5030 1045 2253 2000 1037 2200 16360 23056 5116 11090 1006 10743 1996 2190 1999 2000 1007 2000 2031 2026 11637 2589 1012 2000 2191 1037 2200 102\n"
          ],
          "name": "stderr"
        },
        {
          "output_type": "stream",
          "text": [
            "INFO:tensorflow:input_mask: 1 1 1 1 1 1 1 1 1 1 1 1 1 1 1 1 1 1 1 1 1 1 1 1 1 1 1 1 1 1 1 1 1 1 1 1 1 1 1 1 1 1 1 1 1 1 1 1 1 1 1 1 1 1 1 1 1 1 1 1 1 1 1 1 1 1 1 1 1 1 1 1 1 1 1 1 1 1 1 1 1 1 1 1 1 1 1 1 1 1 1 1 1 1 1 1 1 1 1 1 1 1 1 1 1 1 1 1 1 1 1 1 1 1 1 1 1 1 1 1 1 1 1 1 1 1 1 1\n"
          ],
          "name": "stdout"
        },
        {
          "output_type": "stream",
          "text": [
            "INFO:tensorflow:input_mask: 1 1 1 1 1 1 1 1 1 1 1 1 1 1 1 1 1 1 1 1 1 1 1 1 1 1 1 1 1 1 1 1 1 1 1 1 1 1 1 1 1 1 1 1 1 1 1 1 1 1 1 1 1 1 1 1 1 1 1 1 1 1 1 1 1 1 1 1 1 1 1 1 1 1 1 1 1 1 1 1 1 1 1 1 1 1 1 1 1 1 1 1 1 1 1 1 1 1 1 1 1 1 1 1 1 1 1 1 1 1 1 1 1 1 1 1 1 1 1 1 1 1 1 1 1 1 1 1\n"
          ],
          "name": "stderr"
        },
        {
          "output_type": "stream",
          "text": [
            "INFO:tensorflow:segment_ids: 0 0 0 0 0 0 0 0 0 0 0 0 0 0 0 0 0 0 0 0 0 0 0 0 0 0 0 0 0 0 0 0 0 0 0 0 0 0 0 0 0 0 0 0 0 0 0 0 0 0 0 0 0 0 0 0 0 0 0 0 0 0 0 0 0 0 0 0 0 0 0 0 0 0 0 0 0 0 0 0 0 0 0 0 0 0 0 0 0 0 0 0 0 0 0 0 0 0 0 0 0 0 0 0 0 0 0 0 0 0 0 0 0 0 0 0 0 0 0 0 0 0 0 0 0 0 0 0\n"
          ],
          "name": "stdout"
        },
        {
          "output_type": "stream",
          "text": [
            "INFO:tensorflow:segment_ids: 0 0 0 0 0 0 0 0 0 0 0 0 0 0 0 0 0 0 0 0 0 0 0 0 0 0 0 0 0 0 0 0 0 0 0 0 0 0 0 0 0 0 0 0 0 0 0 0 0 0 0 0 0 0 0 0 0 0 0 0 0 0 0 0 0 0 0 0 0 0 0 0 0 0 0 0 0 0 0 0 0 0 0 0 0 0 0 0 0 0 0 0 0 0 0 0 0 0 0 0 0 0 0 0 0 0 0 0 0 0 0 0 0 0 0 0 0 0 0 0 0 0 0 0 0 0 0 0\n"
          ],
          "name": "stderr"
        },
        {
          "output_type": "stream",
          "text": [
            "INFO:tensorflow:label: 1 (id = 0)\n"
          ],
          "name": "stdout"
        },
        {
          "output_type": "stream",
          "text": [
            "INFO:tensorflow:label: 1 (id = 0)\n"
          ],
          "name": "stderr"
        },
        {
          "output_type": "stream",
          "text": [
            "INFO:tensorflow:*** Example ***\n"
          ],
          "name": "stdout"
        },
        {
          "output_type": "stream",
          "text": [
            "INFO:tensorflow:*** Example ***\n"
          ],
          "name": "stderr"
        },
        {
          "output_type": "stream",
          "text": [
            "INFO:tensorflow:guid: \n"
          ],
          "name": "stdout"
        },
        {
          "output_type": "stream",
          "text": [
            "INFO:tensorflow:guid: \n"
          ],
          "name": "stderr"
        },
        {
          "output_type": "stream",
          "text": [
            "INFO:tensorflow:tokens: [CLS] i have been coming to nc ##s for almost two years . i had been going to a salon in the mall for about a year and i noticed that my hair was getting extremely dry . i used some products that they recommended but nothing seemed to help . a friend recommended sara d so i made an appointment with her hoping that she would be able to make some suggestions for my dry and damaged hair . she suggested one product and gave me tips for drying and styling that would help . since that first visit , my hair has come along way . sara always gives me suggestions for keeping my hair healthy and she ' ll recommend different products in the [SEP]\n"
          ],
          "name": "stdout"
        },
        {
          "output_type": "stream",
          "text": [
            "INFO:tensorflow:tokens: [CLS] i have been coming to nc ##s for almost two years . i had been going to a salon in the mall for about a year and i noticed that my hair was getting extremely dry . i used some products that they recommended but nothing seemed to help . a friend recommended sara d so i made an appointment with her hoping that she would be able to make some suggestions for my dry and damaged hair . she suggested one product and gave me tips for drying and styling that would help . since that first visit , my hair has come along way . sara always gives me suggestions for keeping my hair healthy and she ' ll recommend different products in the [SEP]\n"
          ],
          "name": "stderr"
        },
        {
          "output_type": "stream",
          "text": [
            "INFO:tensorflow:input_ids: 101 1045 2031 2042 2746 2000 13316 2015 2005 2471 2048 2086 1012 1045 2018 2042 2183 2000 1037 11090 1999 1996 6670 2005 2055 1037 2095 1998 1045 4384 2008 2026 2606 2001 2893 5186 4318 1012 1045 2109 2070 3688 2008 2027 6749 2021 2498 2790 2000 2393 1012 1037 2767 6749 7354 1040 2061 1045 2081 2019 6098 2007 2014 5327 2008 2016 2052 2022 2583 2000 2191 2070 15690 2005 2026 4318 1998 5591 2606 1012 2016 4081 2028 4031 1998 2435 2033 10247 2005 17462 1998 20724 2008 2052 2393 1012 2144 2008 2034 3942 1010 2026 2606 2038 2272 2247 2126 1012 7354 2467 3957 2033 15690 2005 4363 2026 2606 7965 1998 2016 1005 2222 16755 2367 3688 1999 1996 102\n"
          ],
          "name": "stdout"
        },
        {
          "output_type": "stream",
          "text": [
            "INFO:tensorflow:input_ids: 101 1045 2031 2042 2746 2000 13316 2015 2005 2471 2048 2086 1012 1045 2018 2042 2183 2000 1037 11090 1999 1996 6670 2005 2055 1037 2095 1998 1045 4384 2008 2026 2606 2001 2893 5186 4318 1012 1045 2109 2070 3688 2008 2027 6749 2021 2498 2790 2000 2393 1012 1037 2767 6749 7354 1040 2061 1045 2081 2019 6098 2007 2014 5327 2008 2016 2052 2022 2583 2000 2191 2070 15690 2005 2026 4318 1998 5591 2606 1012 2016 4081 2028 4031 1998 2435 2033 10247 2005 17462 1998 20724 2008 2052 2393 1012 2144 2008 2034 3942 1010 2026 2606 2038 2272 2247 2126 1012 7354 2467 3957 2033 15690 2005 4363 2026 2606 7965 1998 2016 1005 2222 16755 2367 3688 1999 1996 102\n"
          ],
          "name": "stderr"
        },
        {
          "output_type": "stream",
          "text": [
            "INFO:tensorflow:input_mask: 1 1 1 1 1 1 1 1 1 1 1 1 1 1 1 1 1 1 1 1 1 1 1 1 1 1 1 1 1 1 1 1 1 1 1 1 1 1 1 1 1 1 1 1 1 1 1 1 1 1 1 1 1 1 1 1 1 1 1 1 1 1 1 1 1 1 1 1 1 1 1 1 1 1 1 1 1 1 1 1 1 1 1 1 1 1 1 1 1 1 1 1 1 1 1 1 1 1 1 1 1 1 1 1 1 1 1 1 1 1 1 1 1 1 1 1 1 1 1 1 1 1 1 1 1 1 1 1\n"
          ],
          "name": "stdout"
        },
        {
          "output_type": "stream",
          "text": [
            "INFO:tensorflow:input_mask: 1 1 1 1 1 1 1 1 1 1 1 1 1 1 1 1 1 1 1 1 1 1 1 1 1 1 1 1 1 1 1 1 1 1 1 1 1 1 1 1 1 1 1 1 1 1 1 1 1 1 1 1 1 1 1 1 1 1 1 1 1 1 1 1 1 1 1 1 1 1 1 1 1 1 1 1 1 1 1 1 1 1 1 1 1 1 1 1 1 1 1 1 1 1 1 1 1 1 1 1 1 1 1 1 1 1 1 1 1 1 1 1 1 1 1 1 1 1 1 1 1 1 1 1 1 1 1 1\n"
          ],
          "name": "stderr"
        },
        {
          "output_type": "stream",
          "text": [
            "INFO:tensorflow:segment_ids: 0 0 0 0 0 0 0 0 0 0 0 0 0 0 0 0 0 0 0 0 0 0 0 0 0 0 0 0 0 0 0 0 0 0 0 0 0 0 0 0 0 0 0 0 0 0 0 0 0 0 0 0 0 0 0 0 0 0 0 0 0 0 0 0 0 0 0 0 0 0 0 0 0 0 0 0 0 0 0 0 0 0 0 0 0 0 0 0 0 0 0 0 0 0 0 0 0 0 0 0 0 0 0 0 0 0 0 0 0 0 0 0 0 0 0 0 0 0 0 0 0 0 0 0 0 0 0 0\n"
          ],
          "name": "stdout"
        },
        {
          "output_type": "stream",
          "text": [
            "INFO:tensorflow:segment_ids: 0 0 0 0 0 0 0 0 0 0 0 0 0 0 0 0 0 0 0 0 0 0 0 0 0 0 0 0 0 0 0 0 0 0 0 0 0 0 0 0 0 0 0 0 0 0 0 0 0 0 0 0 0 0 0 0 0 0 0 0 0 0 0 0 0 0 0 0 0 0 0 0 0 0 0 0 0 0 0 0 0 0 0 0 0 0 0 0 0 0 0 0 0 0 0 0 0 0 0 0 0 0 0 0 0 0 0 0 0 0 0 0 0 0 0 0 0 0 0 0 0 0 0 0 0 0 0 0\n"
          ],
          "name": "stderr"
        },
        {
          "output_type": "stream",
          "text": [
            "INFO:tensorflow:label: 1 (id = 0)\n"
          ],
          "name": "stdout"
        },
        {
          "output_type": "stream",
          "text": [
            "INFO:tensorflow:label: 1 (id = 0)\n"
          ],
          "name": "stderr"
        },
        {
          "output_type": "stream",
          "text": [
            "INFO:tensorflow:*** Example ***\n"
          ],
          "name": "stdout"
        },
        {
          "output_type": "stream",
          "text": [
            "INFO:tensorflow:*** Example ***\n"
          ],
          "name": "stderr"
        },
        {
          "output_type": "stream",
          "text": [
            "INFO:tensorflow:guid: \n"
          ],
          "name": "stdout"
        },
        {
          "output_type": "stream",
          "text": [
            "INFO:tensorflow:guid: \n"
          ],
          "name": "stderr"
        },
        {
          "output_type": "stream",
          "text": [
            "INFO:tensorflow:tokens: [CLS] this place should be renamed to \" we take our sweet ass time \" large fried chicken . j ##ks , but seriously . there was no line , and only 3 people waiting in front of me for their order , and it still took a good 15 minutes to receive my order . i ordered the regular chicken w / the strawberry drink ( forgot what it ' s called ) . the chicken was pretty good , i must admit . the drink , however , was decent - tasted like strawberry sp ##rite - but not worth ~ $ 3 . 50 . come here only if you have time to spare . [SEP]\n"
          ],
          "name": "stdout"
        },
        {
          "output_type": "stream",
          "text": [
            "INFO:tensorflow:tokens: [CLS] this place should be renamed to \" we take our sweet ass time \" large fried chicken . j ##ks , but seriously . there was no line , and only 3 people waiting in front of me for their order , and it still took a good 15 minutes to receive my order . i ordered the regular chicken w / the strawberry drink ( forgot what it ' s called ) . the chicken was pretty good , i must admit . the drink , however , was decent - tasted like strawberry sp ##rite - but not worth ~ $ 3 . 50 . come here only if you have time to spare . [SEP]\n"
          ],
          "name": "stderr"
        },
        {
          "output_type": "stream",
          "text": [
            "INFO:tensorflow:input_ids: 101 2023 2173 2323 2022 4096 2000 1000 2057 2202 2256 4086 4632 2051 1000 2312 13017 7975 1012 1046 5705 1010 2021 5667 1012 2045 2001 2053 2240 1010 1998 2069 1017 2111 3403 1999 2392 1997 2033 2005 2037 2344 1010 1998 2009 2145 2165 1037 2204 2321 2781 2000 4374 2026 2344 1012 1045 3641 1996 3180 7975 1059 1013 1996 16876 4392 1006 9471 2054 2009 1005 1055 2170 1007 1012 1996 7975 2001 3492 2204 1010 1045 2442 6449 1012 1996 4392 1010 2174 1010 2001 11519 1011 12595 2066 16876 11867 17625 1011 2021 2025 4276 1066 1002 1017 1012 2753 1012 2272 2182 2069 2065 2017 2031 2051 2000 8622 1012 102 0 0 0 0 0 0 0 0 0\n"
          ],
          "name": "stdout"
        },
        {
          "output_type": "stream",
          "text": [
            "INFO:tensorflow:input_ids: 101 2023 2173 2323 2022 4096 2000 1000 2057 2202 2256 4086 4632 2051 1000 2312 13017 7975 1012 1046 5705 1010 2021 5667 1012 2045 2001 2053 2240 1010 1998 2069 1017 2111 3403 1999 2392 1997 2033 2005 2037 2344 1010 1998 2009 2145 2165 1037 2204 2321 2781 2000 4374 2026 2344 1012 1045 3641 1996 3180 7975 1059 1013 1996 16876 4392 1006 9471 2054 2009 1005 1055 2170 1007 1012 1996 7975 2001 3492 2204 1010 1045 2442 6449 1012 1996 4392 1010 2174 1010 2001 11519 1011 12595 2066 16876 11867 17625 1011 2021 2025 4276 1066 1002 1017 1012 2753 1012 2272 2182 2069 2065 2017 2031 2051 2000 8622 1012 102 0 0 0 0 0 0 0 0 0\n"
          ],
          "name": "stderr"
        },
        {
          "output_type": "stream",
          "text": [
            "INFO:tensorflow:input_mask: 1 1 1 1 1 1 1 1 1 1 1 1 1 1 1 1 1 1 1 1 1 1 1 1 1 1 1 1 1 1 1 1 1 1 1 1 1 1 1 1 1 1 1 1 1 1 1 1 1 1 1 1 1 1 1 1 1 1 1 1 1 1 1 1 1 1 1 1 1 1 1 1 1 1 1 1 1 1 1 1 1 1 1 1 1 1 1 1 1 1 1 1 1 1 1 1 1 1 1 1 1 1 1 1 1 1 1 1 1 1 1 1 1 1 1 1 1 1 1 0 0 0 0 0 0 0 0 0\n"
          ],
          "name": "stdout"
        },
        {
          "output_type": "stream",
          "text": [
            "INFO:tensorflow:input_mask: 1 1 1 1 1 1 1 1 1 1 1 1 1 1 1 1 1 1 1 1 1 1 1 1 1 1 1 1 1 1 1 1 1 1 1 1 1 1 1 1 1 1 1 1 1 1 1 1 1 1 1 1 1 1 1 1 1 1 1 1 1 1 1 1 1 1 1 1 1 1 1 1 1 1 1 1 1 1 1 1 1 1 1 1 1 1 1 1 1 1 1 1 1 1 1 1 1 1 1 1 1 1 1 1 1 1 1 1 1 1 1 1 1 1 1 1 1 1 1 0 0 0 0 0 0 0 0 0\n"
          ],
          "name": "stderr"
        },
        {
          "output_type": "stream",
          "text": [
            "INFO:tensorflow:segment_ids: 0 0 0 0 0 0 0 0 0 0 0 0 0 0 0 0 0 0 0 0 0 0 0 0 0 0 0 0 0 0 0 0 0 0 0 0 0 0 0 0 0 0 0 0 0 0 0 0 0 0 0 0 0 0 0 0 0 0 0 0 0 0 0 0 0 0 0 0 0 0 0 0 0 0 0 0 0 0 0 0 0 0 0 0 0 0 0 0 0 0 0 0 0 0 0 0 0 0 0 0 0 0 0 0 0 0 0 0 0 0 0 0 0 0 0 0 0 0 0 0 0 0 0 0 0 0 0 0\n"
          ],
          "name": "stdout"
        },
        {
          "output_type": "stream",
          "text": [
            "INFO:tensorflow:segment_ids: 0 0 0 0 0 0 0 0 0 0 0 0 0 0 0 0 0 0 0 0 0 0 0 0 0 0 0 0 0 0 0 0 0 0 0 0 0 0 0 0 0 0 0 0 0 0 0 0 0 0 0 0 0 0 0 0 0 0 0 0 0 0 0 0 0 0 0 0 0 0 0 0 0 0 0 0 0 0 0 0 0 0 0 0 0 0 0 0 0 0 0 0 0 0 0 0 0 0 0 0 0 0 0 0 0 0 0 0 0 0 0 0 0 0 0 0 0 0 0 0 0 0 0 0 0 0 0 0\n"
          ],
          "name": "stderr"
        },
        {
          "output_type": "stream",
          "text": [
            "INFO:tensorflow:label: 1 (id = 0)\n"
          ],
          "name": "stdout"
        },
        {
          "output_type": "stream",
          "text": [
            "INFO:tensorflow:label: 1 (id = 0)\n"
          ],
          "name": "stderr"
        },
        {
          "output_type": "stream",
          "text": [
            "INFO:tensorflow:Calling model_fn.\n"
          ],
          "name": "stdout"
        },
        {
          "output_type": "stream",
          "text": [
            "INFO:tensorflow:Calling model_fn.\n"
          ],
          "name": "stderr"
        },
        {
          "output_type": "stream",
          "text": [
            "INFO:tensorflow:Saver not created because there are no variables in the graph to restore\n"
          ],
          "name": "stdout"
        },
        {
          "output_type": "stream",
          "text": [
            "INFO:tensorflow:Saver not created because there are no variables in the graph to restore\n"
          ],
          "name": "stderr"
        },
        {
          "output_type": "stream",
          "text": [
            "INFO:tensorflow:Done calling model_fn.\n"
          ],
          "name": "stdout"
        },
        {
          "output_type": "stream",
          "text": [
            "INFO:tensorflow:Done calling model_fn.\n"
          ],
          "name": "stderr"
        },
        {
          "output_type": "stream",
          "text": [
            "INFO:tensorflow:Graph was finalized.\n"
          ],
          "name": "stdout"
        },
        {
          "output_type": "stream",
          "text": [
            "INFO:tensorflow:Graph was finalized.\n"
          ],
          "name": "stderr"
        },
        {
          "output_type": "stream",
          "text": [
            "INFO:tensorflow:Restoring parameters from OUTPUT_DIR_NAME/model.ckpt-1250\n"
          ],
          "name": "stdout"
        },
        {
          "output_type": "stream",
          "text": [
            "INFO:tensorflow:Restoring parameters from OUTPUT_DIR_NAME/model.ckpt-1250\n"
          ],
          "name": "stderr"
        },
        {
          "output_type": "stream",
          "text": [
            "INFO:tensorflow:Running local_init_op.\n"
          ],
          "name": "stdout"
        },
        {
          "output_type": "stream",
          "text": [
            "INFO:tensorflow:Running local_init_op.\n"
          ],
          "name": "stderr"
        },
        {
          "output_type": "stream",
          "text": [
            "INFO:tensorflow:Done running local_init_op.\n"
          ],
          "name": "stdout"
        },
        {
          "output_type": "stream",
          "text": [
            "INFO:tensorflow:Done running local_init_op.\n"
          ],
          "name": "stderr"
        }
      ]
    },
    {
      "cell_type": "markdown",
      "metadata": {
        "id": "MXkRiEBUqN3n",
        "colab_type": "text"
      },
      "source": [
        "Voila! We have a sentiment classifier!"
      ]
    },
    {
      "cell_type": "code",
      "metadata": {
        "id": "ERkTE8-7oQLZ",
        "colab_type": "code",
        "outputId": "6d5b5e49-555f-4361-8dff-b53d6d212f8e",
        "colab": {
          "base_uri": "https://localhost:8080/",
          "height": 1000
        }
      },
      "source": [
        "predictions"
      ],
      "execution_count": 71,
      "outputs": [
        {
          "output_type": "execute_result",
          "data": {
            "text/plain": [
              "[(\"Food is sometimes sometimes great and somethings just good. Wasn't a fan of their brunch but lunch and dinner is good.  Service is hit and miss.\",\n",
              "  3),\n",
              " ('They should seriously market the sausage and gravy. You may hear chicken sausage but - good Lord this is some amazing sausage biscuits and gravy.',\n",
              "  5),\n",
              " ('While I have had several average salon and spa services at Holts this review is for my hair coloring experiences with Ina.\\n\\nI have had my blonde highlights done by Ina on and off for a few years. I was always very happy with the results, yet I was kept trying to look for a more reasonably priced place because it is very expensive indeed (in my case about $300 with the toner and blow dry, which is not included).\\n\\nAnd so it was that a month before my wedding I went to a very reputable downtown salon (supposedly the best in to) to have my highlights done. To make a very long and painful story short, my hair was butchered, orange, brassy, horrible. I did actually cry...so I went to Ina, to see if she could do anything to fix it, and she did. It was a very, very! long process; she put in new highlights and once the foils were in brushed with darker dye the rest of my hair, strand my strand...the result was absolutely amazing.\\n\\nThe bottom line is: she is good. She knows what to mix to get an ashy shade, she knows what will match your skin tone, she knows how thick/ think the highlights should be, where they should be...so I have decided that I would rather have my hair highlighted twice a year rather than every 3 months, but go to Ina rather than hopelessly keep trying to find a colorist that knows what they are doing.',\n",
              "  4),\n",
              " (\"I have been coming to NCS for almost two years. I had been going to a salon in the mall for about a year and I noticed that my hair was getting extremely dry. I used some products that they recommended but nothing seemed to help.\\nA friend recommended Sara D so I made an appointment with her hoping that she would be able to make some suggestions for my dry and damaged hair. She suggested one product and gave me tips for drying and styling that would help. Since that first visit, my hair has come along way. Sara always gives me suggestions for keeping my hair healthy and she'll recommend different products in the store but never pushes me to purchase a product. She always asks what my budget is and what I'm looking to have done so that I'm not disappointed with the outcome. I'd highly recommend Sara - or any of the other stylists.\",\n",
              "  5),\n",
              " ('This place should be renamed to \"We Take Our Sweet Ass Time\" Large Fried Chicken.\\n\\nJks, but seriously.  There was no line, and only 3 people waiting in front of me for their order, and it still took a good 15 minutes to receive my order.\\n\\nI ordered the regular chicken w/ the strawberry drink (forgot what it\\'s called).  The chicken was pretty good, I must admit.  The drink, however, was decent - tasted like strawberry Sprite -  but not worth ~$3.50.\\n\\nCome here only if you have time to spare.',\n",
              "  2),\n",
              " ('very friendly staff and bartender. Very inexpensive and good. Bar food only.\\nQuaint!',\n",
              "  4),\n",
              " ('Olive Garden just sucks period. Not this location in particular but the entire chain. I ordered 2   tour of Italy to go and the portion size was so small! Ummmm at $17+ per entree I expected a comparable amount of food. DONT WASTE YOUR TIME OR MONEY OG has truly minimized their product. They should just close them all.',\n",
              "  1),\n",
              " (\"I have had the pleasure to eat at this restaurant. While not all pizza is the same they do make an amazing Calzone and Alfredo Pasta which I had sirachi sauce added. The kids and family are always greeted at the door by the host and or owner which is a nice change from the bid scale eateries. This is a great small business and would recommend everyone to try. Remember if you don't get the same level of service that we have had, please speak up and talk with the management or owner. They deserve the opportunity make your experience enjoyable. Owe and the cheese steak Calzone with sauce on the side is number 1 for this guy.\",\n",
              "  5),\n",
              " (\"I recieved a dozen chocolate cover strawberries from the Decatur location on May 6th. After we came home from dinner I got out my box they smelled amazing but the strawberry was mushy and already sitting in liquid.  By Saturday morning they were mushy, soggy, messy strawberries sitting in over 70% liquid, just a large not edible mess.  I tried calling on Sumday and got hung up on over and over again.  On Monday I finally got a person on the phone.  I was told there was no manager available.  I explained the issue and she told me sorry you must of got a bad box.  She offered to replace the strawberries, but at this point I didn't want more strawberries concerned I would get more of the same.  I asked if I could get either bananas, pineapple or apples.  They had a box for less money with a mix of strawberries, bananas and pineapple, which I was interested in.  She explained they had been so busy over the weekend they had NO fruit.  This was after 12 in the afternoon, surely they should have gotten a delivery and if not for emergencies run to the grocery store right next door.  I said it didn't have to be today but I guess they never expected another delivery of fruit ever again.  She said the only thing she could do was refund the person who paid which was my mother in law.  I hung up and called my mother in law and told her I loved her idea but they were horrible and they would be contacting her for info so they could refund her.  It's now five days later and no one has called her for the refund and I never got anything edible.  They are liars and thieves.  If you want your special day for that special person messed up this is the place to call.  I have called back today but still no manager.  This was edible arrangements located at 1291 s. Decatur Blvd. 140, Las Vegas, NV 89102 phone 702-822-4469.  \\nAbsolutely the worst customer service and product I have ever recieved for my birthday.  Thank you for screwing it up and showing me you don't run a reputable or honest business.\",\n",
              "  1),\n",
              " (\"This is a fantastic venue. Big open space, nice mezzanine for viewing, nice bartenders. Sound was amazing as well. Dua Lipa rocked the house down! But the MOST important thing for me was the security. EVERY security person I interacted with was incredibly kind. I've been to many venues in the valley and they always have these macho bro-ed out dudes that are rude and pushy, but NOT here at the Van Buren. They were all so nice and orderly, I have never experienced that at a music venue. The one 'bad' thing I'd say is the woman who was running the seating on the mezzanine takes her job WAY too seriously and could not be bothered about anything, even when we had questions, but that one negative isn't deterring me from still leaving a 5 star review for everything else. Can't wait to see another show here, I know I'll be treated kindly by the bartenders and security peeps! Thank you!\",\n",
              "  5),\n",
              " ('My lovely daughter, VERONICA gifted me a visit here for my birthday! I loved this place nice and intimate. The staff are very friendly and knowledgeable. I am going to make sure and return. Thank you my lovely daughter!!!',\n",
              "  5),\n",
              " ('No 25 year old should have this much fun in a candy store. \\n\\nMy nephew wanted to come here to look at the the giant Chocolate Statue of Liberty. We ended up staying for at least an hour. They have so much cool stuff here! I bought a shot glass, he got a cupcake (I stole a bite -SO GOOD), and we both left with way too many pictures!',\n",
              "  5),\n",
              " (\"My coworkers favorite place to get lunch. I've had several dishes and have nothing but good things to say. Friendly service and great food.\",\n",
              "  5),\n",
              " ('Epic. These guy BROUGHT US A TABLE. We just sat in the middle of nowhere on some chairs and they BROUGHT THE TABLE.  Quality. The margs are great too.',\n",
              "  5),\n",
              " ('I have had my nails done here for years.  Recently, I went to Elle with my daughter and two of her bridesmaids for gel manicures and pedicures.  All our nails ended up looking lovely, and the salon was very accommodating in staying open past normal closing time to make sure we were all finished properly.\\nThere were some communication issues, and I was cut by the inexperienced tech, but otherwise it was a great experience and we will definitely be continuing our business here.  Their prices are reasonable, the salon is very clean, the massage time is extra long, and they offer many types of special details if you like flowers or designs on your toes.',\n",
              "  5),\n",
              " (\"There is no question, this is our favorite Indian buffet in Charlotte. The food is amazing and always very fresh. There are many options for vegetarians and non-veg (me). I don't know what it is about the University area and great Indian food, but this is definitely the best around. The malai kofta is always my favorite. Chicken tikka masala, paneer, tandoori chicken, fresh naan, and there's always something new to try. Fresh gulab jamun too for dessert which is delicious. We usually go to the lunch buffett on Saturday which is always slamming. It can be very crowded at times, just be patient, everyone is very friendly and just wants to get down with some good food, especially hungry college students!\",\n",
              "  5),\n",
              " ('Yep..I heard about these amazing red velvet pancakes and had to drag the family to that side of town and try em.\\nOf course the hubby had to try the grilled cheese and FF. They off the fries seasoned which is nice. His sandwich was pretty ordinary but he was happy.\\nI had the special which was a breakfast burrito and that came with 2 of the best pancakes EVER!!\\nThey come with a small jar of cream cheese syrup and they are sprinkled with chocolate bits and a huge spoonful of whipped cream.\\n1st the burrito..it was perfect. I had ham in mine since my little guy loves it and we were sharing. We both tore into it. It had just the right amount of cheese,potato,ham, and eggs. We ate the whole thing.\\nNow onto the most wonderful pancakes in the world...\\nOne word: YUMMY!!!!!\\nGo get some NOW!!! These are amazing. Then do some serious cardio cuz god only knows how much sugar/calories there are in them.\\nI also ate them both and did not share with the hubby or my baby!\\nLOL\\nIts a bit pricey..our bill was almost $24 bucks plus 5 buck tip. And it was on the other side of town. But I will drive here again  for THOSE pancakes.\\nOh..service was also fantastic!',\n",
              "  5),\n",
              " ('I have had their CornHash and their Bloody Mary both great. Their french toast are good and their hispanic entrees are also great, tasty and authentic.',\n",
              "  5),\n",
              " (\"Uhmmmmm let me just say, holy hell !! My husband and I ordered a heart shaped strawberry cheesecake from here for our wedding and it was tastier than a grass fed filet mignon; and if you know me, you know I love me some grassy heifers. For the first bite, we dug right in, hand and all and shoved it in each other's face. It was so good we nearly licked it off each other's face. TMI? Whatever!! Their cakes are BAUSS!!!\",\n",
              "  5),\n",
              " (\"I came back to Agio last night (a year later) from my last review. Most of my previous review still stands, but I definitely had a wonderful experience which is why I give this 5/5. This is not your typical, fast paced restaurant. The chef really makes each meal from scratch and alone, so yes, your meal in a bigger group or depending what you order may come out first before the others. It's definitely a homey feel. You really need to have patience if you want to eat here. For my experience, I thought the pace was great since we ordered lots!\\n\\nI made a 7pm reservation for Friday, and when I arrived only a table of 6 were in the restaurant. The server was really kind, and she gave us her recommendations. I had called in advance to ask for 2 orders of the lobster risotto, since I had a few colleagues rave about it recently and thought I just had to try. We also ordered caprese salad, fried calamari, linguine alla vongole - clams in white wine pesto sauce, spaghetti and meatballs, as well as the mushroom gnocchi. Yes - this many dishes shared between 4 people. We started with bread, as well as an app on the house (grilled zucchini with squash on top). Everything was delicious. I would prefer to try the grilled calamari next time though. In terms of the lobster risotto, it's not a traditional risotto but made in tomato sauce. If you love lobster, this dish or the lobster pasta is your ideal meal. It comes with a whole lobster! I would also recommend the linguine with clams, and the mushroom gnocchi was so delicious. Tasted fresh, and full of flavour.\\n\\nAt the end of our meal, the Chef also gave us creme brulee on the house - also the best creme brulee I've ever had. Just the perfect crust, and the dessert itself wasn't overly sweet. I'll definitely be back and hopefully it would take me a year to do so. This place is a gem!\",\n",
              "  5),\n",
              " ('Beautiful, we were in town for the Lake Las Vegas golf tournament, we are pickleball players so called this private club for possible day use of a court? Very gracious, let us in for $10 fee, beautiful grounds, pool, weight room, cardio equipment and golf training facility were awesome! Wish I had this near my home!',\n",
              "  5),\n",
              " (\"Absolutely fantastic! Make sure to get it fully loaded! Happy employees as well, always an important addition to me. Been twice and both times it's been just as fantastic. Great prices as well!\",\n",
              "  5),\n",
              " ('Wooo! Wow what a treat! Wonderful rich coffee and a warm greeting from the staff! The food and coffee were to die for.',\n",
              "  5),\n",
              " ('READ MY REVIEW, THEN THE OTHER 200+ ONE STAR RATINGS WITH NEGATIVE REVIEWS! ITS IN YOUR BEST INTEREST TO AT LEAST OBTAIN 2 OR 3 ESTIMATES PRIOR TO USING PARKER AND SONS. IT WILL SAVE YOU FROM HAVING TO WRITE REVIEWS LIKE THIS.\\n\\nI went to Home Depot last weekend to purchase two Rheem water heaters. I was advised that Parker and Sons was the company used to install Home Depot water heaters. The technician came to my house this morning, conducted a 5 minute walk through of both existing water heaters then spent 20 minutes in his truck writing an estimate. The estimate was $5,538! When I asked the technician how in the world the price could be so high, he responded, \"that\\'s our pricing on \"\"our\"\" water heaters. I told him this estimate was set up by Home Depot not Parker and Sons. He continued to tell me the pricing was for Parker and Sons water heaters. The water heater from Home Depot was $850 each, how could Parker and Sons charge an additional approx. $2,000 per unit to install? They said it was to bring my current water heater up to code and pull a permit.  I called the city of Scottsdale and they informed me the only cost that would be needed was a water pressure valve ($14) and a permit ($44). The remaining items on my current units are up to code and would easily pass in inspection. Parker and Sons pays it\\'s technicians commission for every job they are on. They will try to increase the price to receive that commission. This is a predatory business practice. Just look at all the reviews on Parker and Sons, they are almost all based on being mislead and over charged.\\n\\nUPDATE: Angie, please read my entire review prior to responding next time. My main complaint isn\\'t just pricing. I called this estimate through Home Depot to purchase a water heater from Home Depot. The technician quoted me a Parker and Sons water heater based on Parker and Sons pricing, not Home Depot pricing. There is no need to have a supervisor call me. I\\'ve already spoken with Paul Kelly, owner of Parker and Sons this morning.  I will leave our conversation of the review but I can assure everyone reading this review that I addressed my concern regarding the technician and company of this predatory business practice. He assured me he will investigate and follow up with me. \\n\\nUPDATE: I just received an estimate to install from Huntington Home Improvement for $750, all parts and haul away of both old units included.',\n",
              "  1),\n",
              " ('So amazingly enough I\\'ve been here two separate times - but for the same occasion:  a friend\\'s birthday dinner.  Since my visits were literally separated by a year, it\\'s good to see that this place has staying power.\\n\\nLocated in Uptown, it is definitely an experience to go eat here.  Both birthday dinner times were with a large crowd 8-10 and we had reservations.  Once everyone arrived, we were promptly sat at our table and the servers got our drink orders and food orders.  The chef/entertainer comes out and confirms all our orders and then starts cooking right in front of us.\\n\\nI\\'m a sucker for showmanship, but the chefs pull out all the tricks:  flaming onion volcano, fake ketchup bottle squirting, etc.  Probably the funnest thing is when the chef offers everyone some sake and proceeds to squirt the sake in peoples mouths until they had enough.  This latest visit was the entire table catching broccoli in their mouths...\\n\\nGood times -  The staff are really good here keeping your drinks flowing and catering to your needs.  I\\'d say its a solid \"birthday dinner place.\"',\n",
              "  5),\n",
              " ('I had the Greek chicken wrap and I thought it was quite good.  The feta paired nicely with the chicken, onions, and lettuce inside.  My parents had the caprese grilled cheese and brisket sandwich and they seemed to enjoy those as well.  The only complaint is the inefficiency of the ordering and food delivery.  They seemed quite understaffed.',\n",
              "  3),\n",
              " (\"I am writing a second review, this yelp must think a negative review has a personal agenda.  I assure you, I do not.\\n\\nI went to this place as a walk-in.  I was duped on the pricing (printed brochures and menus post one price but when I was done,  I was told it was higher) .  I witnessed another customer having this problem as she was checking out as well.\\n\\nRegardless, the pedi was horrible.  Toes were cut unevenly, I had polish on the skin, and it was overall, the worst pedi of my life, and for a price that is WAY over the competition in the area.\\n\\nThere is a reason this place is empty - women of North Scottsdale won't tolerate this kind of work.\",\n",
              "  1),\n",
              " (\"Free entrance and open bar?!!?!?!? You gotta be kidding me, we hit the jackpot! Some promoters on the strip convinced us to go so we hit it up. We were just walking around trying to find clubs to go to so we had nothing to lose. It's located in the back alley behind Fatburger, kinda sketchy location. We went in and they were playing house, I was like Ooo yeah, it's on!! They DJ played great music, however there wasn't many people there. My friends and I just formed a circle and housed/breaked most of the time, some other people would come up in our circle and session with us too. If there were more people, it'd be a lot better. I believe it's open from 2:00am until 8:00am. We came on a Thursday night, however when we came on a Saturday night, it wasn't free. I think it was about 5:00am, sun almost out, and they were charging a cover. The open bar was cool on Thursday night, however the drinks were pretty watered down. It has potential to be good, but I dunno how many people party that late. I was getting tired by 5:00am-6:00am.\",\n",
              "  4),\n",
              " ('I can only review the nonpareils and truffle sampler.   The nonpareils are very low quality dark chocolate and for 14.00 per pound definitely not worth it.   The truffles had two salted, one of which was milk chocolate.  They were so salty that the chocolate flavor did not come through.  I have to assume that the chocolate with  name brand wrappers are better than the ones they make in house.',\n",
              "  1),\n",
              " (\"Love this place! Even when they're busy they treat you like family. Not a stuffy corporate store, but still very professional. Handled all of my supplement needs and then some. The expert advice is well worth the price of admission! I wish I lived closer to this particular location.\",\n",
              "  5),\n",
              " ('Disappointing return visit reminds us that a restaurant can change very quickly depending on food quality and service.\\n\\nOur 2nd time here, we had a very curt and unfriendly waiter who forgot to refill drinks, forgot cutlery, mixed up orders and finally delivered ice cream that was inexplicably savory.\\n\\nThis is an all you can eat and cook Korean style restaurant where you order your raw proteins, cook on the burner in your table and enjoy.  You might imagine that you can begin to enjoy cooking unless you have utensils but our waiter, constantly running between tables, had this annoying reply to our requests \"I will get it later, ok?\"\\n\\nFood quality was mixed. The beef and short ribs were good. The sushi was fast and seemingly well prepared. There was a white fish that disintegrated into a mush when cooked - we suspected it had gone bad. Little shot glass servings of ice cream - you have a choice of mango or green tea - were presented to us without spoons (later, ok?) and ended up spit-out-savory as in \"what the hell kind of ice cream was that?\"\\n\\nOur meal concluded with a bill that included a 10% service charge which our waiter explained went to the restaurant but that he would only get whatever we tipped him. Wtf? I\\'ve been to restaurants that automatically add a tip to parties of 6 or more but the waiter doesn\\'t ask for another cut.\\n\\nFortunately there are a lot of Korean grill restaurants in Toronto - if Chaco doesn\\'t get their act together (the place was half empty on a sat night), they\\'re not going to be around for the long run.',\n",
              "  1),\n",
              " (\"Diners beware!  Extremely poor service here.  We placed an order through JustEats but it did not go through.  The kid behind the counter refused to check my order number and simply said they never received it.  He finally called JustEats and said he rejected my order because we tried to abuse the coupon code the past few days.  It was our first time there and only discovered the code today, so it couldn't of been us.  He refused to compare my phone number to the number he claimed made the previous orders.\\n\\nAnyways, it was a terrible customer service experience and I left empty handed after 20 long minutes at the restaurant.  The kid was rude and unhelpful, and honestly think he made up the excuse because he wanted to close up shop.  It's the last time I'm stepping foot in the restaurant until the service improves, they've got to realize there are TONS of other pizza options around the neighbourhood.\",\n",
              "  1),\n",
              " (\"I decided to give this place a try based on their high reviews from yelp. I was in need of a gel manicure before Chinese New Years. I decided to stop by, since walk ins are available. \\nThe decoration and atmosphere was very cute and bright. I really enjoy going to nail salons that are welcoming and bright. \\nI went during my lunch break asking if they could take me in. I didn't have to wait which was a major plus since I only had a hour break. \\nThey offer a lot of different varieties of color and shades! \\nThe service itself is great, but the execution was done poorly. I'm usually not very picky when it comes to people doing my nails. However, I felt like I was doing my own nails. The gel wasn't painted evenly and I have random extra paint on some nails. \\nWhen I was done I noticed a part of my nail wasn't even painted. When I told them they quickly apologized and offered to fix it. Usually my gel manicures cost $35 without tip, but they only charge $30 for a basic gel manicure. I rather spend an extra five dollars for a better job. \\nIt's very unfortunately, but I most likely will not be returning. I do appreciate their service and walk ins.\",\n",
              "  3),\n",
              " (\"We ate at Franco's tonight for the second time.  Tonight I started off with Chicken Pastina soup. It was better than my Grandma's recipe straight from Italy.  That is saying a lot. Next I split  two dinners with my Father because we could not decide. The Virgina Spots(Sea Bass) were outstanding. Small portion but I was expecting that when you order spots.  My Dad got the Veal special with 2 large shrimp. My Dad doesn't eat shrimp so it was a bonus for me.  They were cooked in some sort of light red sauce. I don't remember what it was called. It seemed to be a mix between tomato and Marsala. Not sure what the veal was like because my Dad did not share, which is unusual for him. The only reason for the 4 stars is the food took forever to come out. The servers were very good but the food should not take this long on a Monday at 5:30. It was worth the wait though. We will return soon.\",\n",
              "  4),\n",
              " (\"The office staff is really nice and do their job well.  Aside from that the place isn't very great. The carpet I believe you can catch herpes off of, the appliances are all outdated, the blinds have holes through them and are torn, the cops are here everyday, people literally knock on your door trying to sell you stolen things, we have had hella plumbing problems, there is a roach infestation and the refuse to come and spray even though they keep telling us they will. Last night seven people were arrested and bullets were fired through a window after the police burst down their door.  This place isn't safe for anyone but definitely not family friendly. Save your money and go somewhere else.\",\n",
              "  3),\n",
              " (\"Have been here for brunch, dinner, and just drinks, I think my favorite was brunch because the omelette was so good but dinner isn't far behind. The food here is quite delicious, and creative while still being pub-y. $4 Caesars on a Saturday morning is fantastic, and the brew coffee is actually decent, which seems to be a hard thing to come by at restaurants these days. My friend had the Benny which I tasted and it's rich but damn it's good.\",\n",
              "  4),\n",
              " (\"So, despite the reviews, I decided it would still be worth a look around and since I've never been to the top of Place Ville Marie, I'd at least appreciate the novelty and the view.  I found the place quite decent without lineups for the Saturday brunch time.  The food was average and my eggs Benedict tasted like they had been sitting there all morning just waiting for me to show up, that or the A/C seriously cooled it down before it made it to my table.  The earthy Benedict was rather tasty (as there was bacon in it!) and in general I'd say the food presentation is decent as well. How was the service? Nice and slow... So you better get a good window seat to enjoy the view while waiting. I would say that it's better to go to the resto and get food and a complimentary view than just to go to the observation deck alone so I would say it's definitely worth a visit.\",\n",
              "  3),\n",
              " (\"Came here on a Thursday evening. The place was empty, which was surprising given the high ratings on here. We had wonton soup, which was weak for broth but wontons were good. Also had a variety of dumplings and steamy buns, which were good also. Not sure if I'd go out if my way to come back but it hits the spot when dim sum is needed.\",\n",
              "  4),\n",
              " ('If you need an inexpensive way to and from your strip hotel makes sure you use Bell. I have used them on 3 different trips to Vegas so far and I have never been let down. Drivers have always been professional and vehicles have always been clean. Also great because you can arrange your transportation needs before you get into town and go straight to the dispatch stand. VIP Shuttle is my favorite way to and from the airport.',\n",
              "  5),\n",
              " ('Went with my partner thinking that we could get the \"all you can eat\" experience that every other Maki offers. They denied it to us on a busier day, portions and prices were not reasonable at all, and they snuck in a shady %15 service charge.\\n\\nA more reasonable solution would have been to just limit the amount of items their customers could order in a busier time. Instead, they capitalized on the influx of customers for an easy cash grab.\\n\\nNOT RECOMMENDED.',\n",
              "  1),\n",
              " (\"Last Fri.(03-11) my husband passed away at the VA hosp. In Madison WI. I stopped by your restaurant to eat before I headed back home, 70 miles, cashier was very attentive, noticed I'd been crying, inquired, I told her, placed my order, went to get my water & wait for my to go order, when the little gal brought out my order, she asked if she could give me a hug, the cashier had told her what had happen, here comes the cashier, and she gave me back my cost of my meal, saying they were paying for my mid-afternoon lunch. Thank you so very much for your thoughtfulness. I will be patronizing their establishment in the future. Thank you, thank you, thank you.\",\n",
              "  1),\n",
              " ('5 stars had there not been a smell on the second visit and a little less responsive daytime staff. \\n\\nThe food is excellent here and the service when we had dinner here was personable and prompt. The best anyone could ask for. \\n\\nWe kinda sampled it all. Some kind of chicken appetizer kabob creation (awesomely grilled), a vegetarian pizza that was ridiculously good, and the pot roast dinner. We split it all and it was just great all the way around. Will go again. \\n\\nPricey (especially wine) but good.',\n",
              "  5),\n",
              " (\"For the chicken sandwich alone, I would give this place 4 stars for taste to price ratio (~$8 sandwich). The chicken is juicy on the inside, and has a really good crunch on the outside. The sandwich is garnished with cucumber, lettuce, and isn't over saturated with seasoning/sauces. For add-ins, the wasabi honey is my favorite. It's just a hint of heat and sweetness, although the sandwich is good alone. Also, I am a fan of their fries and coleslaw. The fries are thin, shoe-string type and they are crispy on the outside and mashed potato-y on the inside, and not so greasy. I am usually not a fan of coleslaw mostly because I do not like mayo, but this coleslaw was pretty good! It is vinegary and not very creamy at all, which might not appeal to some people but was good for me. They also have their own recipe sodas and sweet and ice tea. The root beer is bomb.\",\n",
              "  4),\n",
              " ('I came in one day, to get prices for 2 \"black\" caps for center of my wheels, for my Jeep.  A super-nice attendant helped me, (I won\\'t reveal his name), he ordered up the two caps, and I confirmed with him, that they were black.  He was very confident and assured me, yes, they\\'ll be black.\\nAfter going in, to pick up the two caps, only to find that the order was for chrome (ooops!!), I got to re-order these caps in black, after *razzing* said clerk.  :)  They (Discount Tire) let me order as many as I needed (4, with an extra one for the spare tire), and did not charge me anything above what I had already paid for the first two caps. \\n\\nSweet way of doing business!!  Thank you Discount Tire!!  :)\\n\\n(Plus the nice cold water bottles are a major plus!!)',\n",
              "  5),\n",
              " ('Me and my friend Chris needed good attorney and these guys really came through! We came in, they helped us through everything and we highly recommend this to anyone',\n",
              "  5),\n",
              " (\"We came here on a Saturday afternoon. I got the veggies with homemade ranch (I love ranch). And the boytoy got a double bacon cheeseburger. He said it was absolutely amazing! And he adores cheeseburgers. So I believe him. My veggies and ranch were exactly what I wanted. Don't worry, I had French fries too. And they were so good! I like to pretend I'm healthy while I drink excessively... haha... so the beer was cold, the food we had was great, and the service and atmosphere were great! We will be back for sure. Ps. They brought our beers in about 15 seconds? It was amazing!\",\n",
              "  5),\n",
              " (\"I love the mango ice cream here. I've been here a few times and always get the mango. There are other options that sound good but the mango is too good to pass up.\",\n",
              "  4),\n",
              " (\"They took out the Sanrio store!!!! :/\\n\\nI used to frequent this mall when I lived in this area in high school. It has a good selection of stores and recently has had some more upscale retailers join in. \\n\\nThere is now a Coach store as well as a Guess store. They also have the usuals like Forever 21, Foot Locker etc.\\n\\nThis is a nice clean mall with a great selection of stores. Hellz yeah I'll be back anytime I'm in town.\",\n",
              "  4),\n",
              " ('Even though this is a chain I would say that it is one of our top places to eat in CLT. The prices are on the high end but we just keep going back because the food is so good. If you go right after work you can get a great spot on the patio. Our favorite dishes are the spicy eggplant/shrimp appetizer and the beef carpaccio. The eggplant/shrimp dish is scrumptious; it has a very yummy sauce and the carpaccio is HUGE, especially for an appetizer. It comes out in the biggest plate you will ever see and has a tasty salad, flatbread slices and capers on top to make it even better. If you sign up for their rewards card/app, they send a lot of promotions to lessen the pain of the bills. Almost every time I have been in we were able to get at least $10 off by using these offers.',\n",
              "  5),\n",
              " ('All I can say is yuck. My husband and I always check Yelp for reviews before we go to a new place. We ordered carry out Teriyaki Salmon, Chicken Katsu and a side of Edamame. The food was hot but there was barely any sauce on our entrees and it was bland. The Edamame was so small, maybe 2 beans per pod. We asked for chili sauce and had to pay a dollar for 4 tiny plastic cups. I will never go back again',\n",
              "  1),\n",
              " (\"Holy delicious !! \\nIf you are trying to eat clean, but are craving bad foods... EAT HERE ! \\n\\nZoe's food is so fresh and is seasoned perfectly that it tastes like a cheat meal. \\nIve only ordered take out, but it was a huge order and they got everything right AND it was still hot when I got back home. \\n\\nComing back ASAP\",\n",
              "  5),\n",
              " ('My favorite place in the valley for Calzones the size of your head! Their water filtration system Ph balances the water to be the same as New York City so the dough rises and tastes great. Finish off with their giant cookie and ice cream and walk away full, fat and sleepy.',\n",
              "  5),\n",
              " (\"I really enjoyed the deep dish pizza and as a New Yorker it's a little hard to say but it was really good.  Also had chicken wings and fingers and they were just as good.  We will be back many times to come!\",\n",
              "  5),\n",
              " ('I would absolutely recommend this place to and pierogi lover out there. The place is a small little thing but their menu certainly packs a punch. You get the option of having your pierogoes boiled or fried (I got mine fried of course) and then all the fixings on top. Very very good, im eastern European I know a good pierogi when i see one. They do also have a sweet pierogi on the menu which I absolutely have to go back and try! \\nOne last thing, the restaurant shares a bathroom with the place next door. The bathrooms were really clean, and well stocked.',\n",
              "  5),\n",
              " ('We recently purchased a new home and we only moved a mile away from our old house. Our sewer company changed from city of surprise to Epcor. Our bill with city of surprise was no more then $29. Our new sewer charges with Epcor water are officially now $89.33 that is not including what they are charging us for our regular water services. What a rip off this company is. If you are moving into an area they service beware. Make sure make sure to do your research on the costs they charge.',\n",
              "  1),\n",
              " (\"When my children were at preschool they used to have their pizza lunch on Fridays from antoninos. The pizza is delicious.  We haven't tried pasta and we've never eaten-in but the pizza is very good and reasonably priced when you pick up. Yum,\",\n",
              "  4),\n",
              " (\"Be prepared to pay at least  15% tip. It's mandatory because the manager himself will ask you for it if you don't pay it with the bill. Yes its been the same case with me twice now. Even if you get a bad service...they will beg you to pay up. Since the manager or the general manager won't pay his employees well enough.\",\n",
              "  1),\n",
              " (\"I was drawn into Misura after I saw one of the humorous shirts in the window. I couldn't resist buying one for the hubby, when I went to purchase the shirt they told me the humor shirts were buy one get one half off so I ended up buying 2, who can resist that deal! They had a lot of nice clothing and accessories for men, the shirts I bought were soft and high quality.\",\n",
              "  4),\n",
              " ('This was the best crab I have ever had. I\\'m a wimp when it comes to spice and I got the Louisiana flavoring with \"Baby Spice\" and it was amazing! The staff was super attentive and sweet, made sure we were taken care of the whole time. We are from out of town and next time we come back to Phoenix we will definitely be going again. Can\\'t say enough good things about this place! You need to try it!',\n",
              "  5),\n",
              " ('I\\'m giving this 4 stars, but I believe this will become a 5 star review and quite possilby the best restaurant in Madison in due time. \\n\\nI went after it was open for only 4 days, and my meal was excellent but not quite perfect. I am pretty picky at expensive restaurants, and none of the minor flaws were things that would prevent me from returning. I had the hamachi crudo with crispy potatoes -- if each bite had a little of every garnish (especially the tiny lightly spicy pepper) it was delicate and delicious. But if the bite missed any of the many small elements on the dish, then it lacked seasoning. I also had manila clams which were delicious, light with a wonderful broth -- but there was a little grit in the broth. And I also had a half order of agnolotti with a pea sauce with shaved truffles. The flavor was absolutely out of this world, but it arrived at the same time as the clams, and the truffle was too strong to eat alongside the light clams.The housemade pasta was a little TOO al dente for my taste, but I understand that many chefs believe in leaving a \"bite\" to noodles and risotto that isn\\'t to my taste. I was concerned the pasta would get cold if I ate it last, but it was just fine. So, a small plate, an antipasti and a 1/2 primi plus a nice glass of white wine ran me $70 with tip. So not cheap -- but a very elegant room and a really interesting menu. I am eager to go back and try several other items on the menu',\n",
              "  4),\n",
              " (\"One thing: half price Angelo's pizzas on Mondays! Which means you can hang out in a chill bar, drink some good beer and avoid the chaos (but still get the pizza!) \\n\\nWe've always had great service and they've always had a pretty interesting mix of drafts! It seems like an especially cozy winter bar -- dark wood, friendly people and locals. \\n\\nIt's become one of our go-to places every Monday.\",\n",
              "  4),\n",
              " ('No matter which Mad Mex location you visit you are going to have a good meal and leave happy and full.  My favorites are the fried tofu appetizer, the shrimp and spinach quesadilla or one of the AMAZING burritos.  \\n\\nMad Mex is high on the cool factor.  Their food is reasonably priced and well made.  Their bar is stocked with great craft brews, including local fare like the East End Brewery, and they make some decent margaritas.  Their margarita of the month right now is an apple cider margarita with the rim sprinkled with sugar and cinnamon.  Come on, can you get more amazing than that?',\n",
              "  5),\n",
              " (\"Love this place - the food, the ambiance, the SERVICE and the food again! Just perfect. Ask for Devynn if you go! She's fantastic. \\n\\nThis is an upscale place where you can either dress a little nicer for a great date night or a little more casual.\",\n",
              "  5),\n",
              " (\"I've been at this establishment several times and the host staff always greets us promptly and is very courteous. Wait staff varies on attentiveness; however, the food is great! You get a salad or soup with your meal. Prior to your meal they serve you hot ciabatta rolls with whipped butter. The caesar salad dressing is made perfect- with just the right anchovies. The prime rib is always tasty- perfectly cooked and seasoned well. They offer pure horseradish and less spicy horseradish sauce. On the side, you have a choice of potato or vegetables. The price of the meal between 3 of us was under $60 without tip. It's a great value. Keep in mind i've had prime rib at Lawry's and Prime Rib Loft is better.\",\n",
              "  5),\n",
              " (\"Went here to buy a bottle of wine while in Scottsdale, AZ and what a nice surprise to find all kinds of unique gift items in the store.  I didn't have much time to spend in the store nor did I have all kinds of room in my suitcase since I was traveling, but would have loved to buy more than a bottle of wine from this lovely store.  Staff was friendly and helpful and store was clean and organized.  Definitely recommend you stop in to seed the cool stuff they offer.\",\n",
              "  5),\n",
              " ('Honestly, not one complaint. Quaint little place, pleasant HUMBLE staff and amazing food. We had the French toast and meatatarian omelette. Five stars all around. Great price. Love love love.',\n",
              "  5),\n",
              " ('I come here regularly... The Wings are to die for! I especially like it with the Thai Chili Sauce. Jen and Crystal are great bartenders and always make me feel welcomed...',\n",
              "  5),\n",
              " (\"Nice hotel. Only downside is the machines took my money! LOL. Great restaurants for comfort food. Didn't really utilize much of the hotel other than the casino but saw signs that they have a bowling alley, a theater, an arcade, etc. I love that this is a Sam Boyd casino. Many locals from Hawaii like myself flock to these casinos. This is a favorite because it's really close to the new strip. Only about a $7 Uber ride from the Mandalay. The Uber driver also said that Orleans is the venue for all that feel good music. I saw that The Temptations will be there. If I was still here I'd for sure go.\",\n",
              "  4),\n",
              " (\"This place's interior is modern and new but, the food is very much lacking. It's Asian fusion and the menu is limited. The workers have to dress in tacky and offensive uniforms. The food was mediocre at best. The noodles in my mom's miso ramen weren't the correct ones. The soups are very sweet and it's not flavorful. My grandpa ordered one cup of tea and they brought each of the people at the table a pot of tea. Each is $5 per pot of tea. The only thing good were the fish tacos.\",\n",
              "  2),\n",
              " ('The roti here are an addiction which I indulge in at least once a week.  Unfortunately this is spoiled by the extremely poor table service which has gotten worse lately.   Several times I have sat for almost a half hour before anyone shows up at the table with a menu.  Once they do the meal comes quickly but then no one comes to the table to clear it or to ask if you want dessert or anything else.   Even though I have been a regular customer since they opened I often feel like I am wasting their time by wanting to eat in.  The good staff they had have all left.',\n",
              "  2),\n",
              " (\"I'm very disappointed We came here 3 years ago spent 500 dollars had the time of our lives we decided to try them again made our reservations very excited for our New Years plans. We ended up sick as a Dog Throwing up ETC on our New Years Eve Party ended the night sick as a dog in our room ruined our New Years Eve. Went to talk to the manger the next day instead of helping us sent us to security ( WHY ) made me feel like he didn't believe us we had to fill out a bunch of paperwork and no answers from management Do Not Go here there are a lot of places in LV enjoy elsewhere\",\n",
              "  1),\n",
              " ('Their staff is awesome, the food is amazing, and just an overall great place!!!!!!!!!!',\n",
              "  5),\n",
              " (\"Food was really god but the terrible service took away from enjoying it. We ordered four waters, got one right away and two right before the bill was dropped off, the fourth never came. Our food came out wrong and no one checked on us so it didn't get fixed. When they would drop off extra plates or waters they just slammed it on the table in front of us without saying a word, and walked away. \\n\\nAlso, don't sit on the patio. We were pooped on three times from birds in the tree shading the patio. \\n\\nI'm a waitress myself so I pride myself on being very polite to wait staff. This being said, there was no reason for them to be so rude to us.\",\n",
              "  1),\n",
              " (\"Some of the best pancakes with a crisp glaze and fluffy inside. And delicious potatoes! A little pricy but a nice homey feel inside.\\n\\nUpdate: I recently tried their cinnamon biscuits. They were tasty but didn't appear to actually have any cinnamon. My friend and I both looked and neither saw nor tasted cinnamon.\",\n",
              "  4),\n",
              " (\"Met Francesca today for the first time. Painless, and beautiful work. I'm so happy with the results after one day. Glad my friend Jewel brought me in to see her. She knows what she is doing, and knows what your face needs. Don't go anywhere else. To top it off, she is so personable.\",\n",
              "  5),\n",
              " ('I went in with high expectations of a unique attraction.\\nIn some ways they were met and in others they fell short although perhaps as they work out the kinks things will improve.\\n\\nThe good - an interesting array of pettable and viewable creatures from clown fish to sea horses, sting rays to sharks.  you can feed and pet the sharks, rays and some of the bigger fish. There are also some birds and snakes.  It is very interesting and there are nine different feeding stations.  We bought a season pass but if you want to feed, you have to buy feed tokens for extra. Still, it is pretty affordable.\\n\\nThe kinks - very little signage exists explaining the exhibits.  Several glass enclosures had no descriptions.  I really hoped it would include more information about the creatures.\\n\\nAlso, it is very difficult to see some of the creatures due to the opacity of the water, unless they swim right by.\\n\\nFinally, it has only been open just over a month but some of the exhibits are empty.\\n\\nI hope they fix these problems because this is a great experience for the kids and adults alike.',\n",
              "  3),\n",
              " ('What a slice of heaven.  From the salmon blinis to the special desert (\"in progress\" photo) this place is completely on point.  Great awesome service!',\n",
              "  5),\n",
              " (\"The best I can do is 2.5 stars after two visits. Not bad... Not great - just average (and a little pricey for average).\\n\\nI'm a huge fan of the two main Chase restaurants and return regularly. I had high expectations for Fin as I hoped it would serve as a new work lunch stop. Sadly... It disappoints.\\n\\nFirst I had the grilled Mahi Mahi sandwich. These trendy black buns appear to be all the rage in Japan but they are incredibly dry and tasteless. A McDonalds bun would be tastier.  The fish was good and fresh. That said, I prefer the grilled Mahi Mahi at Buster's Sea Cove in the Market. Equally fresh but a bigger portion and a few bucks cheaper. \\n\\nI also tried the Seared Tuna - same story as the Mahi Mahi. Salads are not bad but are served with too much dressing. I recommend asking for it on the side. \\n\\nPortions are on the small side and your fish, side and a drink will cost $20. \\n\\nService was good but the lunch crowd was light on both my visits. Your food is ready in about 5-7 minutes. They have a number of bar tables to eat on but not a chair / bar stool in sight. And the heat is blasting. Not very enjoyable to eat in the restaurant. \\n\\nNo real reason to make this a destination for lunch / dinner. I will stick with the main two restaurants. Not sure Fin will have long term success. I'm sure I represent their exact target market but they missed the mark in my opinion.\\n\\nBK\",\n",
              "  3),\n",
              " ('I heard a lot of mixed reviews from friends and from yelp but went to check it out last week and had an great time! \\nWe showed up at 7 on a Saturday, so we expected a wait, but we found a seat at the huge indoor/outdoor bar and had a few drinks while we waited.\\nWe loved the atmosphere and long tables & bench seating, other people were eating outside too. A band started playing at 9; the servers were very relaxed and casual but had great menu knowledge!! (which I always a good sign)\\nSIDEBAR: they have a waiter who looks like a cross between Ricky Martin and The Situation.\\nof COURSE we tried the pretzel fondue. Awesome. As well as the olives appetizer. I had the ahi tuna salad which was large and filling and my boyfriend had the ribs which he oogled they were better than Banderas haha.\\nAll in all, great time, will return!!',\n",
              "  4),\n",
              " (\"This pizza joint came highly recommended by two coworkers of mine, so I decided to give it a whirl and ordered it for delivery.\\n\\nToppings were copious and cheese was plentiful but the pizza was very soggy and the toppings fell off in large chunks. The closest comparison would be a grocery store made pizza which you have to take home and bake yourself. The pizza crust was thick like texas toast and the sauce was absent of flavour.\\n\\nMy coworker demanded I give it a second try, so he brought left over pizza to the office. I warmed up my slice in the toaster oven and chowed down. The pizza was less soggy this time but I felt like it was inferior to frozen pizza. \\n\\nDon't think I'll be eating here again.\",\n",
              "  2),\n",
              " (\"First time ordering from here but it won't be the last. We got the Hawaiian thin crust pizza and it was awesome. Real cheese and quality ingredients made for a very tasty pizza. I wasn't expecting it to be so good based on previous reviews. Delivery time was reasonable and the driver was really nice.\",\n",
              "  4),\n",
              " (\"Sky Van Liens give me A Good price. We have a lot of heavy and out sized items and they were all moved carefully and without doing any damage. On both jobs, the on site estimates provided before the move were spittoon. I've had the misfortune of using other movers in the past. Other movers have misrepresented costs, exerted heavy pressure for additional monies or tips, were not onetime, and couldn't communicate clearly due to language differences. In my book, it's worth a lot to put those bad experiences behind me.\\xa0\\xa0Thank you Sky Van Lines for a good experience.\",\n",
              "  5),\n",
              " ('Amazing food and service. We went to Joes for a wedding reception. First class the entire time. The bartender was awesome. The food was so wonderful. The best food at Caesars we have had. The staff was so polite and helpful. The reception for the wedding was flawless. I would absolutely come back and recommend this place to everyone!!',\n",
              "  5),\n",
              " (\"Lengthy line, would be nice if they took reservations.  The wait wouldn't not have bothered me if the food had lived up to the expectations we had for it.  This was the least favorite of the three Gordon Ramsay restaurants we went to on our recent trip.  We sat at the kitchen counter and it was fun to watch the staff work although it took a bit longer to get drink refills etc, even though we were passed by several waiters who were moving right past us. Christina Wilson was working the day we were there so that was a plus as we are huge Hell's Kitchen fans.  The manager Scott stopped by to see how we were doing, which was a nice touch.  My favorite part of the meal was the sticky toffee push up pops.  Those were divine.\",\n",
              "  3),\n",
              " (\"I'm really sad because I had high hopes for this place the two times I went. I went when they were bt's and now as American burger. They are the same and sadly I still waited 20 mins for a carry out order. I just don't understand. I really wish they could improve on the timeliness. It could be a great place.\",\n",
              "  2),\n",
              " (\"The food and service was the best I've had in a very long time. I recommend Metro Dinner to anyone that needs to be saved.. Service was top dollar. My server was Stephen was by far the best. And the price was well worth every penny. I recommend the pulled pork Mac stack, Trust me!!!\",\n",
              "  5),\n",
              " (\"On our way to Lake Las Vegas and decided to Yelp for a good brunch place in the area and we ended up here... BEST DECISION EVER. \\n\\nLocated in a corner of a little strip mall, interior is fun, bright, and colorful. Servers are in PJ's (must be nice!) LOL. Cool upside down umbrellas on the ceilings. They sell some pretty fun merch like shirts with witty sayings, socks and different kinds of stress balls. \\n\\nLet's talk food... First of all, you can't leave this place without trying their CUP-O-BREAD. Tastes like a cross of a cinnabon with a brioche bun, baked into a cup with cream cheese dipping sauce. I made the mistake of sharing. I would've devoured one... or two by myself. Steak and eggs, yes. Perfectly charred and seasoned on the outside but medium rare goodness on the inside. Tender, juicy, and flavorful. The chicken and waffles was okay. Big enough to split between two. Forgot what the name of the vegetarian everything bagel sandwich was, but it was good. The loco moco with spam... so delicious and big enough to split. \\n\\nService was exceptional. Special thanks to our server, Maria. She took good care of us. Thank you! We will definitely be back when we're in the area.\",\n",
              "  5),\n",
              " (\"We bought a Nissan Rogue here with NATHAN ESSICK!  Young, happy and hard working salesman!  Very pleased with his communication via texting and he wasn't afraid to ask for OUR awesome deal!  My brother is coming tomorrow from Frankfort, IL to pick up his Murano and ILLINI beat the prices up North!  Go see NATHAN if you want a great low price!!\",\n",
              "  5),\n",
              " ('Apparently this place has been hoppin\\' since the locals have saw on the news that Obama dropped by for a visit. And no that isn\\'t why I decided to go! It\\'s been on my to do list for a while. \\n\\nLuckily when we got there we had just missed the \"Obama Rush\". We were seated right away. \\n\\nOrdered:\\nVica - Wood Oven Sausage, Sauteed Fennel, Red Onions, Mascarpone, Mozzarella, Basil, Extra Virgin Olive Oil \\nDiavola - Crushed Tomatoes, Finnochiona (Peppered Salame), Roasted Red Bell Peppers, Crushed Red Peppers, Garlic, Mozzarella, Extra Virgin Olive Oil \\n\\nThe server was cool and pointed out that we had just ordered 2 white pizzas. He suggested we could ad tomato sauce to the Diaviola which ended up being pretty tasty. \\n\\nThen we couldn\\'t resist and ended up ordering 3 desserts. \\n\\nThey have 12 pizzas to choose from, all looked pretty damn good. I am also a huge fan of the thin crust. \\n\\nNot a huge selection of wine\\'s but it was just enough for a class pizza joint.',\n",
              "  4),\n",
              " (\"Service was great, seafood is their main forte. So if you're not a seafood person don't do it. Lobster and sushi is amazing!\",\n",
              "  5),\n",
              " (\"I have two words for you: pi-zookie\\n\\nIn certain situations there is nothing you crave more than a good BJs. Another review compared it to Chilis and that comparison is probably pretty apt but I think of it more as a cheese cake factory- they don't really specialize in anything (food wise)-they have an enormous menu with a bunch of diverse options, none of which knock your socks off but all of which are passable.BJs is a great compromise spot when trying to negotiate a meal with a large group- it has something for everyone .\\n\\n\\nAll that being said we all know what we really love about BJs- the pizookie. If it wasn't for this dessert no one would have heard of this restaurant/it would of gone the way of the dodo. The pizookie is a skillet cookie Sunday that you can get in a bunch of different flavors- both cookie and ice cream. They even have a sampler pizookie that comes with 3 different cookie and ice cream combinations so you can get a variety. However, for the discerning foodie the only real option is the white chocolate macadamia nut one- the cookie comes not quite baked through, very soft and gooey in the middle. This means the white chocolate will be basically molten (be careful you don't burn 1/2 your face off Harvey Dent style by shoveling it in too fast... I know from experience) and though the whole cookie itself is soft the nuts will give you that crunch for textural contrast that is so key. \\n\\nIn closing- PI ZOOKIE MOFO\",\n",
              "  4),\n",
              " (\"Some of the best service I've ever received. Everyone was nice, understanding and professional. You can tell that they really care about their people cliens and animal clients. I took my dog there in the middle of the night because we suspected he ate a grape. They took his vitals for free and advised me on next steps. Highly recommended!\",\n",
              "  5),\n",
              " (\"Good place for ice cream all year round. Friendly, efficient employees. The seating area was clean and well stocked with napkins and condiments. \\n\\nA very consistent location. Not to mention there's usually 2 for 1 coupons in the newspaper!\",\n",
              "  4),\n",
              " (\"pho: huge bowl, broth was ok, not the best but not oily and came out hot. the tai (beef) was on the harder side and the sach (tripe) was too chewy.\\npho sate: dad and mom liked it\\ncom bo loc lac: ok but my niece had better. the beef needed to be more tender.\\neggrolls: 2 free with check in. crunchy and tasty\\noverall: standard vietnamese joint. don't expect to be blown away but you will get full. \\nprobably will not be back as there are other places to try.\",\n",
              "  3),\n",
              " (\"Awesome eggs! Great service. I love this place. Just moved from Cali couple months ago and I've been coming here every weekend.\",\n",
              "  5),\n",
              " ('I ordered the Lil Amadi and a cup of coffee. The coffee was huge! The meal came out in good time. I enjoyed my meal. It was reasonable and I would definitely come back. My server Tenikia was nice and friendly too.',\n",
              "  4),\n",
              " ('You had me at jalapeño coffee BBQ sauce.  Their new chef has a brand new kitchen, complete with a bad ass rotisserie smoker.  I was there nosing around and he was smoking pork butts, sausage and ribs.  They offer Mason jars, that you can layer your own sides and proteins.  So you can do traditional BBQ, slaw and baked beans, or anything your heart desires!!  I saw one with mac&cheese, pork with jalapeños on top! ROAR!!!!!\\n\\nWhen it comes to Southern sides, usually I like mine better and his slaw, baked beans and mac&cheese were delicious --- either just as good or when it came to the mac&cheese, I liked his better!!\\n\\nAnd the bar specializes in Moonshine!  The blueberry lemonade is super dangerous.  In a good way. Kind of like a bad boy, you know you need to go home, but you end up with your panties around your ankles yelling, \"blueberry lemonade!!!!!!!!!!!\"\\n\\nFriendly staff, the bowling alley is coming along, but I really just want to go back and eat.  Totally want to plan a UYE, maybe we will plan one to welcome our new CM!  Call me! ;)',\n",
              "  5),\n",
              " (\"Excellent service, fun Team Trivia nights, a happening sports bar. \\n\\nLocation: Off 36th St and Indian school. Parking is OK but sometimes when crowded, like on a Friday night, it's impossible to find a spot near the bar.  \\n\\nFood: The bar serves kind of typical bar food, like nachos, hot dogs, big pretzels, and sandwiches. There are other options as well. The pretzel is tasty, but I haven't tried much else. There are other fried apps as well.  \\n\\nDrinks: I order the cider, and you can order pitchers of cider too.  There are beers and cocktails as well. \\n\\nService:  A+  The servers here are friendly, timely and helpful. I have been going to Team Trivia here for over six years, and some of the same servers are still here. They will do separate bills, come check up on our table multiple times, and refill drinks constantly.  \\n\\nAmbiance: This is a typical sports bar and they host Team Trivia Weds, Thurs and Fri nights. It's free, and your team can win gift cards to use for food/drinks!  Get there early, or your team may not get a table.\",\n",
              "  4),\n",
              " ('I recently just moved to Surprise and by far this  Walmart is the best one, I have ever been too hands down! The Walmart is very easy to navigate through! They actually had more than two cashier stations open! :) So unbelievable!  This Walmart is by far the cleanest and have friendly employees. They are very organized,  compared to other Walmarts. Also, the Walmart is less crowded! Which is a big plus for myself and others who like to shop here. You can actually find \"Princess Parking\"; parking that\\'s close to the front! I would recommend this Walmart to anyone who wants a great shopping experience that\\'s fast and easy!',\n",
              "  5),\n",
              " ('The one star is for location. That the ONLY good part. The teriaki chicken bowl is nothing but fatty meat and OVER PRICED. The amount you get is so small and their brocolli isnt cooked. Its practically raw. Will never be taking my business here again. Also, they seem to have no idea what customer service is.',\n",
              "  1),\n",
              " ('You need to read all the reviews on Google - there is A LOT of truth in what the real students said....not what the employees have said....especially note the one student who referenced other colleges in the area. \\nStautzenberger is all about THEIR profit - nothing else. Students have misused the system, employees have misused the system, etc. etc. - it goes on and on.....do you really want to be a part of an organization that is not on the \"up and up\"?',\n",
              "  1),\n",
              " ('Place was extremely busy drive threw forget about it.  We had to go inside where the staff looked busy and working hard. Customer service was ok as there was one cashier that her tone you could tell she was tired. The inside was a bit dirty but I am sure with all the traffic inside it was a bit cleaner when they started. Our order was prepared fast and looked just like the pictures so overall I would say they did a great job.',\n",
              "  3),\n",
              " ('Thank you Eye Candy Optical for a fun and easy eyeglass purchase. You took your time and helped me find the right pair to match my personality! Will definitely be back! :)',\n",
              "  5),\n",
              " (\"I forgot to bring my lunch at work so i decided to order food but didn't want anything unhealthy. I was so happy to find this sub place on grub hub and they deliver! I have to say my sandwich is amazing. I got the club sub meal and added jalapenos and instead of mayo did the chipotle. SO GOOD. I will definitely be eating here again.\",\n",
              "  5),\n",
              " (\"Let's keep up the 5 star rating! Fresh & tasty sandwiches. Sandwich, soup or chips & large drink for $7.50/$8.00:) Wow...finally another fast food sandwich place with many different varieties..my favorite is the meatball sandwich! Love the grilled cheese too. Friendly service, you just know the food is made with love & they are happy to make it for you:) Id rather give my $ to small businesses & watch them grow. You will have a pleasant experience & be happy with amount of FRESH food you get for $. Enjoy!\",\n",
              "  5),\n",
              " (\"This was one of our favorite eating experiences ever! The food, atmosphere, service and special attention from the manager was incredible. There aren't enough stars for this place.\",\n",
              "  5),\n",
              " (\"Union Chicken, it was good, it wasn't anything special though. \\n\\nI had the spicy chicken plate - whatever its called  - With a poutine. \\nIt was good, the chicken was spicy and crispy, the gravy on the poutine different but nice. They were however a little light on the cheese curds. \\n\\nThere was nothing bad about union chicken, it just wasn't amazing .\\n\\nWould I recommend? Sure if you REALLY want fried chicken. Will I be back? I'm going to say no, but crazier things have happened. \\n\\nUnion Chicken. It was good, but not anything special...especially for the price.\",\n",
              "  3),\n",
              " (\"A buddy had been recommending this place for a while and after getting a ridiculous diagnosis and quote from Airpark Jeep, I called Dave to get his thoughts.  He is an extremely knowledgeable, down to earth and a genuinely nice guy.  He went over all the things that the dealership told me I needed and broke them down into things I needed to do, things I should think about doing, and things that were completely unnecessary.  His prices were half of what the dealership would have charged and I have so much more confidence in the repairs as well.\\n\\nIn a world where it is hard to find someone that is not out to get you for as much as they can, it is refreshing to deal with an honest company that is really looking out for your best interests.  I can't recommend Dave and Advanced Autoworks enough.\",\n",
              "  5),\n",
              " (\"I am very happy with a recent visit to this Ray's location.  I was craving a meatball sub for dinner and decided to try Ray's.  There are so many options in my area for pizza/pasta/subs and I'm glad I went to Rays.  The girl at the counter was super nice and my food came out relatively quick.  I ordered a meatball parm and a Coors Lite.  My sub was hot and flavorful.  The sauce, cheese, and roll were all on point.  The meatballs themselves were nicely seasoned and had good texture.  After finishing my sub, I decided to be a fatty and ordered a slice and another beer.  They ran out of slices and had to make a fresh pie.  No complaints on my end, I'm happy to wait a few minutes longer for a fresh slice.  I will definitely be back in very soon.\",\n",
              "  4),\n",
              " ('Update: Management called to appologize for all th RATS running around and said he\\'d send me a coupon for our next visit. It never came. Surprised? Not really.\\n    \\nRATS!!! The wife and I stopped for quatro de Mayo and were halfway through our Quesadilla when I looked to my left and a BIG rat was sitting under the table next to us. As soon as i made a gesture towards him he ran back into the outdoor stainless bar/storage or whatever it is. OK, she was freaked out but I said, \"hey, we\\'re on the patio so &%#$ happens and told the waitress when she came back who was also a bit freaked out especially when I told her how big it was. This was no freakin\\' mouse. A few minutes later our food came out and as we were engaged in the act of eating... here came another big freaking rat who ran right under our table and out hole in the wall. I once again told the server who was a bit freaked out and started looking around as she went back to wherever she came from. Never did any management staff come out to apologize or maybe offer to move us or something so we finished most of our meal and hit the road. I\\'ve been frequenting Macayo\\'s for years but this and the fact that the food quality isn\\'t consistent has ensured we won\\'t frequent this establishment any time soon. We also planm to let everyone we know about this. I\\'ve lived here all my life so that\\'s quite a few people',\n",
              "  1),\n",
              " (\"I can't comment on the food yet because I have been waiting for at least 20 mins, not even counting the waiting time (another 10 mins). We were standing at the door, I'm sure the waitresses saw us but not greeting us.\",\n",
              "  1),\n",
              " ('I\\'ve often found fault with myself in raising expectations of restaurants that get mostly 5 star reviews pre-visit.   It\\'s so difficult for any experience to match the one I can create in my head while reading everyone eloquently explaining the meaning of life found in a piece of beef tongue.  Oddly enough I had the opposite experience with Yuzu.   Despite it\\'s high marks thus far on here, the reviewers that I know and love (okay, I\\'m talking Elite here) for the most part gave it a measly 4 stars.   Bah, why even bother?   It\\'s a sad state of affairs when even a 4 star review isn\\'t enough to get my juices flowing.   Well here it was, 9pm on a Friday night and wanting something quick and close to the house to grab a bite.  \\n\\nFrom the moment I walked in the door I had roughly 10 \"wow\" moments.  From the way they transformed what used to be a sandwich shop into a cute and quaint Japanese spot to every single dish, my mild expectations were pleasantly blown out of the water every few minutes.\\n\\nI started with a simple salad.  The kind waitress was eager to explain all dishes which arrived and I found that to be a nice touch.   She explained that the dressing was homemade and made of Yuzu, which was apropos.   I know I\\'ve had yuzu dressing before and this one was tangier and tasted better than I\\'m used to which set it apart from the standard Japanese side salad I\\'m accustomed to.  Next was the Miso soup.  My version which was part of some sort of combo with one of our entrees (add $3 to any entree gets you salad, soup, and rice) did not come with Tofu, but my friend that accompanied me ordered one a la carte which comes with tofu.   Ironically enough she hates tofu and I love it, so we switched.  The tofu was fantastic, which I might be wrong in assuming is their handmade Zaru tofu.  If it was not homemade, it definitely fooled me.  At this point in most Japanese restaurants I\\'ve eaten the salad and miso soup just because they\\'re there, but here at Yuzu they felt like important components to the meal.   \\n\\nNext our entrees started arriving, and first was the Kobe Beef Aburi.  Perfectly seared and with these little garlic chips which complemented it wonderfully.  I also received my side of rice around this time and I know you\\'ll just think I\\'m pulling your leg at this point, but even the rice seemed a step above.  To make sure I hadn\\'t accidentally ingested something laced with pot on the drive over, I had my friend try it and she confirmed that it did taste better than \"just rice\".   This is a master at work in the kitchen.\\n\\nNext up was one of our standard orders of Yellowtail jalapeno.  The fish melted in my mouth and the flavor was spectacular.  I did think that the jalapenos were a little too small and didn\\'t provide the kick that I normally like, but it was still delectable.  Our last entree was the Salmon Foil Broil, which is boiled with several veggies.   Good god was this delicious.  The salmon just fell apart and had a great flavor especially when combined with the veggies it\\'d been broiled with.   \"Wow\" was muttered for approximately the 8th time.   \\n\\nI decided I had to have the yuzu sorbet because at this point I was convinced everything was going to taste munchies-esque good.   I was right!   Being lactose intolerant I cannot resist sorbet, and the yuzu flavor was perfect.   The waitress also brought out a complimentary order of their soy milk pudding.  I\\'m not a huge fan of soy milk, but this one was light enough in the soy flavor and  topped with whipped cream which always helps.   I enjoyed it even though I had to pop a lactaid pill to do so.   \\n\\nThe final wow was brought on by the arrival of the bill.   All those fantastic dishes came out to a total of $48 or so after tax.   I even had to do the obligatory \"on the strip that would have cost $100 and been worth every penny\" comment.',\n",
              "  3),\n",
              " (\"This is the worst pizza store in Charlotte. I have ordered from this location three times and they have never gotten my order correct. Ever. As the other reviewers noted the management is horrible and rude. Don't waste your money.\",\n",
              "  1),\n",
              " (\"If I could give Steve 10 stars, I would. I called him at 11pm to schedule a 4:30am pickup the next morning. Though it was really a last minute thing, Steve was polite and professional and said he was available, took down my number and said he'd be there at 4:30. Now, I've taken enough taxis in Chicago to know that often, especially with big taxi companies, taxis aren't there to pick you up when they say they will. I wasn't sure - would he show up on time? Would he show up at all? 4:30 is pretty early in the morning. If he didn't show, or was late, I was going to miss my shuttle up to Midway and it was for work - I couldn't miss my flight. \\n\\nWell, I didn't have to worry. Not only did Steve show up, he was early (didn't charge me for that, of course). His taxi was incredibly clean and fresher than probably any car I've been in, including my own. Steve himself was personable as well as professional. He was also very knowledgeable about the area and knew exactly where my shuttle would arrive at the station. \\n\\nBut here's what impressed me the most. We got to the shuttle stop and the shuttle hadn't arrived yet, so he stayed with me to make sure I got on the shuttle safely, at no charge for his time. He explained he wouldn't feel right dropping someone off in the dark without knowing they got to their destination or next transfer safely. Then, it turned out my shuttle was full! I asked him if he went all the way to Midway. He said yes, but that honestly to go that distance, there were some cheaper options. He actually even brainstormed with me about other options in the area! He stayed there to make sure I wouldn't be stranded, as I tried to figure out if any of those other options would work. When it turned out they wouldn't, he offer to lower his rate so that I could have one more option - it was still more expensive than Uber would have been (slightly - maybe about a total $30 difference), but I was glad to do it as by then I knew I trusted him as an individual. As a woman going all the way to Midway by myself that early in the morning, I didn't want to take my chances with some random Uber driver who might not be a safe driver or a safe person. It was a great ride there - good conversation (he's a super interesting guy and easy to talk to without being in-your-face chatty) and he's a safe driver (unlike the last Uber I took when I was traveling, that tailgated and zoomed in and out of lanes so quickly that I was sick the whole day after).  \\n\\nTL;DR: Definitely go with Steve of Executive Taxi if you want to ride in a clean vehicle, with a professional, caring, conscientious driver. I was so impressed by his honesty and integrity, generosity, and caring. He is also just a really cool person to talk to if you are going on a long ride. Also, I found out talking to Steve that he basically IS Executive Taxi, so if you call you're going to get only him or, if he has an emergency and can't make it, one of two other trusted affiliates. He doesn't farm out to dozens of other taxi services, thankfully.\\n\\nI'll always be thankful I went with Executive Taxi for my 4:30am travel fiasco, because he turned it into such a positive experience. Thanks again Steve for saving the day for me!\",\n",
              "  5),\n",
              " (\"I have been a patient at Tatum Ranch Dental Care for the past 4 years. Dr. Keith Lamborn is the best.  He explains things clearly and in detail and he offers the highest degree of professionalism. He is responsible for my beautiful teeth, and he has taken my fears of dental pain seriously.  I can't recommend him and his lovely office staff enough.\",\n",
              "  5),\n",
              " (\"This was my first time coming here.  Man, it's hard to find a good barbershop in Vegas.  $18 for a basic cut.  The barber did a good job on my haircut.  It just took him  awhile to get started.  I will definitely go back again.\",\n",
              "  5),\n",
              " (\"Hell frickin' yeah! Great service, great poke. It's a little far, but so worth the drive. I've recommended Poke Express to numerous friends (both locations) and they have all thoroughly enjoyed it. I would recommend trying everything, because it's all good... :)\",\n",
              "  5),\n",
              " (\"I love this place for so many reasons. \\n\\n1) Because it's the best drinking spot with variety and low prices near my house. Proximity is important. \\n2) They have an extensive outdoor seating area so on nice evenings it is perfect. They also have some yard games. \\n3) It's just a very laid back environment. The bar staff is helpful and friendly. You can bring food with you and no one is going to make a stink about it (a friend and I showed up with a pizza, not a word). \\n4) To reiterate the prices you can't beat. \\n5) ANNND the variety is insane. For beer they have a room temp area to choose from, and you can throw it in their chiller. Or they have a fridge of already chilled beer (smaller selection), as well as several options on tap. Then, if you're more of a wine enthusiast, they have a decent selection of wine as well. \\n\\nEverybody wins. Go here and you won't regret it.\",\n",
              "  5),\n",
              " (\"I don't know if the Bellagio has fallen on hard times, but I ate here about five years ago and the food was in a whole different class of where it is now. I would expect such junk as DRY stir-fry noodles over at the Excalibur buffet for $15, but for the $25 Sunday Brunch? At one of the most expensive hotels on the strip? Gross!\\n\\nI suggest skipping the Bellagio buffet all together and heading over to the Wynn - a better buffet splurge (even though it's $5 or so cheaper). See my review for more info.\\n\\nLooking forward to maybe plunking down the $85 for the Bally's Silver Buffet or whatever it's called on my next trip!\",\n",
              "  2),\n",
              " ('I love the 1-on-1 training I get with Live Jacked. No BS waiting around for machines and no crowds. The atmosphere at Live Jacked Training Studio helps me get the most out of my workouts. I maximize my time at the gym. Love this place!',\n",
              "  5),\n",
              " (\"Stopped in for lunch twice now. Both times I had excellent sushi! Fresh and tasty. Service is efficient. I sat in the outdoor patio area both times because I had my puppy with me. Love the shady dog friendly patio.\\n\\nGreat selection of sushi and other Asian cuisine. This is my go-to sushi place when I'm out and about. Good prices too!\",\n",
              "  5),\n",
              " (\"We've always had a wonderful experience here, whether dropping in for cocktails or having a nice dinner. Overall food quality has always been excellent, especially the their seafood risotto. The bar offers unique cocktails on par with any mixology bar we've been to. Clientele has always been pleasant and service excellent. We especially enjoy the ambiance of this restaurant which we find relaxing and hip without the appearance of trying to hard.\",\n",
              "  5),\n",
              " ('First time here, recommended by a friend. Nice friendly staff, who take the time and train you, so you can be safe.\\nOnly pet peeve was the waivers for everyone, even if you are just going to sit at the tables and watch, you have to sign the waivers which is done on an ipad and takes forever to complete.\\nOther that that, the place is great!! Atmosphere is good.  Kid friendly place. Nothing intimidating here, everyone gives each other space and respects others. \\nFrom looking at the photos from other reviewers, it looks like they change the climbing rock formations once in awhile, to keep it interesting and challenging. Great idea!!!\\nVery happy with first visit, and happy that its kid friendly. Prepare to spend a few hours here.\\n\\nRecommended :)',\n",
              "  4),\n",
              " (\"All the ladies here were so nice! Me and two of my friends came in to get our nails done. I messaged Trinh to set us up for 5:30 but because of traffic most of us couldn't come until 6pm or later. They didn't complain or make any comments on it. I didn't get paint on my nails so I can't really show much of their stuff, but the one who did my pedicure complimented me a lot and was very friendly! Will go back again soon!\",\n",
              "  5),\n",
              " (\"I'm at training for work and went for a quick lunch. I was in the drive thru for 15+ minutes. I ordered the avocado chicken salad, which is my usual meal I order. The lettuce was old and chewy. Sad!!!\",\n",
              "  2),\n",
              " (\"A very old tavern with character - I really enjoy their 1/2 price wings on Sundays & their service is usually quick & friendly......no drink specials, but I won't lose sleep over it. Overall it's a cozy place that's consistent. I have been many times and they don't end up closing early like some places in the city - they are usually open till last call.\",\n",
              "  4),\n",
              " (\"I'm a couponer, not a member of the bourgeoisie. This place is like a palace of a grocery store, with prices to match. I was able to find a couple of things that were comparable to what I am used to spending, but only a few. If you are looking for high end delicacies, they've got them. If you are looking for affordable groceries to fill your pantry with, check elsewhere. Beautiful store, just a little bit out of my price range.\",\n",
              "  3),\n",
              " (\"Rating is 4 because \\n- excellent service \\n- friendly \\n- wait time for 2 is only about 10min and they text you when the seat is ready \\n- -1 star bc it's too much for me. What's too much? It's literally heart stopper with high calorie and there's no fruit/salad. Better, cheese, mayo... lots of salt.. you'd like it if you're into that kind of stuff. Not my favorite. I won't order California crepe again. Potatoes are good, again it's very salty.  \\n\\n\\nWhat we ordered \\n- California crepe with bacon mushroom and cheese \\n- banana muffin from Yelp check in \\n- classic eggs Benedict \\n- lemonade \\n- coffee \\n\\nTip: \\nNow I like it when my drinks are unlimited refill so I'd recommend it!\",\n",
              "  2),\n",
              " (\"I have shopped at this store for years and will say the Prior Manager Dan and the current Store. Manager Chris along with his staff have always been great to deal with,the prices are more than fair. If your looking to buy something and aren't treated in a way you feel is professional you may want to check this location out.\",\n",
              "  5),\n",
              " ('The chicken is wonderful, spicy, crispy on the outside perfectly moist on the inside.\\n\\nFar superior to  other fried chicken chains (you know who they are).\\n\\nThe chicken strips are fantabulous.\\n\\nThe fried okra and dirty rice are good.\\n\\nNot the fastest place for chicken but what they lack in fast food style  fried chicken speed they more than make up for in flavor.',\n",
              "  4),\n",
              " (\"This is where I learned everything about coffee. I took the SCAE coffee diploma class here, and the teacher Patrick is amazing. The coffee shop is also very nice. Friendly and skillful baristas, top quality coffees, and Great food. Try the crepes and it will blow your mind. Now I can't drink coffee anywhere else!\",\n",
              "  5),\n",
              " (\"First time being here and it was obvious to most of the patrons so be prepared when you come! There was only one menu along side where the line forms so it was a bit hard to take your time making a decision. \\n\\nThe crew seemed a bit lost and hectic (maybe because of busy lunch hour) but were very friendly. \\n\\nThe pizza was great! A lot of options that were unique or you can build your own. The prices were a bit steep though just for a pizza. There was a $5-$8 lunch special. \\n\\nThe ambiance was very trendy and the outside seating area was perfect for people watching. Although they had two TVs I wouldn't recommend for watching the big game or anything. The mood was a bit too relaxed for that. \\n\\nOverall, the pizza was good and the service was good. I would recommend it if you're looking for more trendy versus money saving meal.\",\n",
              "  4),\n",
              " ('How can one tell if sushi is the real deal and fresh? For one, tuna should be a bright red and translucent, like how red gelatin looks like. The consistency of fresh sashimi should be firm but not spongy. Fresh salmon, should glisten more. As a rule, the duller the color, the more spongy consistency; the lower the quality. Cleveland suffers from being far from the ocean. Sushi suffers a bit especially in the winter months.\\n\\nWith all that criteria laid out, and having had sushi in Asia as a frame of reference; Pacific East and Shuhei; have the freshest sashimi-grade fish one can find in Cleveland. I order sashimi in places like this. In lesser places I go for rolls and drown it in the sauces to compensate - not here. Sushi rock is good too -- but the quality is the same as Pacific East but at a much higher price. All the good places use authentic short-grain Japanese rice -- watch out for places that try to pull a fast one with substitutes to this kind of rice.\\n\\nOne of my favorite non-sushi dishes is Unagi Don and Shrimp tempura.\\n\\nSushi here can\\'t ever be as good as sushi in coastal areas and in Asia, but I\\'m giving it 4 stars because, all things considered, this is the best in Cleveland.\\n\\n...as for Malaysian food in a Japanese restaurant, sigh, why? OK, nothing wrong with that, but I have a thing about restaurant \"purity of theme\".',\n",
              "  3),\n",
              " (\"0 Stars if I could\\n\\nThe new owner & management is not customer focused.  We walked in last Saturday at 9:00 am and there was not one customer in there.  We inquired about getting two pedicures, the owner/manager told us they couldn't help us because we didn't have an appointment.  They were expecting their first appointment at 10:00 am.\\n\\nNeedless to say we walked out and will not be returning.\",\n",
              "  1),\n",
              " (\"Food blew me away for being at an airport.  I had Thor famous salad with chicken and avocado and it was a great meal to have while waiting at an airport as it wasn't too heavy.  Someone else in my party had the chick n and waffles and she loved them.  The staff was super friendly.\",\n",
              "  5),\n",
              " ('We had a group go here after a conference.  I have to admit the food was amazing but the service was terrible!  I didn\\'t know the type of place we were going so was not compliant with their dress code.  It was 110 degrees outside and I was in shorts.  When I was not allowed to sit with the rest of my party, I went back to my room at another hotel and changed.  I get places having dress codes but we were sitting outside and I have no idea why it was so strict.  The girl who \"talked\" to me was rude and condescending.  I\\'m sure if I looked like I had a bunch of money, she would have let me be seated with the rest of my group. \\n\\nThat being said, when I got back after changing, we ordered and the food was amazing.  It was one of the best cooked steaks I\\'ve had.  The \"show\" entertainment out in the pond was interesting.  I\\'m pretty sure I saw a red giant ball and a blue giant ball have sex and produce a little purple ball.  I have no idea who comes up with this stuff but we were laughing a lot at the shows every thirty minutes or so.\\n\\nSo for food, 5 stars.  Service 1 or 2.  Gets me to this average.',\n",
              "  2),\n",
              " (\"I ate here for the first time last night. Me and friends came in around 530 and were the first customers. Customer service was prompt and attentive. The chef even threw in some delicious fried chicken skins. We were the only customers for a good 30-45 so I can't comment what service would be like during a full house.\\n\\nThe was pretty good. We had the okonomiyaki (pancakes), shumai dumplings, fried oysters, and delicious takoyaki octopus balls!\\nWe also had the Tonkontsu Ramen, lamb skewers, and pork sandwiches for the main course. Ramen was pretty standard when compared to other quality Japanese ramen shops. \\n\\nI'd come again to try the other skewers.\\nThis place is also great for sharing with friends. So everyone can try something different.\",\n",
              "  4),\n",
              " ('I love coming to Essence!!! They have so many great selections and if they are out of a product they will call you when they get it in!!!\\nTheir bud tenders Zach, De Sean and Justin are really great at providing excellent customer service with a smile!!! They are very knowledgeable and their product recommendations are always on point and they are super cool and friendly! \\nMy favorite bud shop in Henderson!!!',\n",
              "  5),\n",
              " ('Pretty solid experiences here.  Nothing mind-blowing, but good and consistent.',\n",
              "  4),\n",
              " (\"The food was incredible and with great prices. I definitely recommend the prime rib. It's huge so you can share! Our bill for 2 was only $23.\",\n",
              "  5),\n",
              " (\"REALLY good cheese pizza--some of my favorite in the Burgh! I find Mineo's to be super-cheesy and the best crust from Pizza Perfectta in Shadyside.\",\n",
              "  5),\n",
              " ('My daughter had an appointment scheduled for Monday at 9am. When we arrived the office was unlocked but no one was there. We waited for 25 minutes and finally when the alarm company came they told us it was closed. Really I was given an appointment 7 months prior. So we called and the girl on the other line told me she had no record of my daughter and proceeded to hang up. When we got home 2 hrs later received two calls from the office to apologize that there was a communication problem that their dentist was not coming in so the office was closed. Never received a call regarding the closure. To add insult to injury the girl who hung up on me called to say she was sorry. Never going back. This is the second time has happened.',\n",
              "  1),\n",
              " (\"Came back here a couple weeks ago when my niece was in town. This time, the bartender was our server. I can't remember what my niece had but she gobbled it up so it must not have been bad.... I had the roasted pork that was super good!\\n\\n I ordered another dark and stormy (as I did on my previous visit) but this time it came in a BIGGER glass and was just as strong as it was in the little glass :) and I was driving. So when she came back and asked how the drink was I told her it was good but a bit strong. She made a joke about her drinks being too strong, then brought me the remaining (almost full) can of ginger beer so I could dilute it, which was quite nice.\\nAs soon as lent is over, I'm going back!\",\n",
              "  4),\n",
              " (\"I I've been seeing Dr. Khan for years, yes there are nurse practitioners that you see for your continued appointments once you've been stabilized on a medication regimen however if I ever need to see Dr. Khan or need assistance troubleshooting something all I have to do is make an appointment with him specifically the staff are fabulous as long as you talk to them and let them know what's going on I have never run into it problems with them because I'm straightforward and upfront with what I need. I've actually recommended them to several people and they've had the same experience it seems like to me that the people on here aren't saying who they need to see or having problems with their records because they aren't clarifying what they need. I have never had an issue even in the records department they have kept up with info to my disability department and provided whatever records I needed on time and been as diligent as possible  helping me to receive benefits as they possibly could be. I couldn't imagine having to go anywhere else\",\n",
              "  5),\n",
              " (\"Their lunch special is good and inexpensive. The service is not ideal. I'll keep coming back for the food but I wouldn't recommend it for service, decor,  or ambiance.\",\n",
              "  3),\n",
              " ('Looking around Yelp for something special in the area while traveling and my family and I enjoyed the photos and reviews for this spot, so we stopped in for dinner. Not sure why, but we had an awful experiance. Was extremely disappointed with the staff, quality of the food and experience overall.\\n\\nFamily of six and no one enjoyed their meal and said we should have gone to Del Taco after eating here. \\n\\nI ordered the ribeye tacos and they looked good, but the meat tasted awful, was super thin and cut up into very small chunks with a bad taste to it and even the tortilla tasted bad.  The fresh avocado was a nice touch, but this dish was a total fail!\\n\\nMy wife went with a mix of tacos. She said the barbacoa was very oily and could have used salt, chicken was very peppery and tasted like it came out of a bag and like be hated the ribeye.\\n\\nThe kids meals that come with a drink and side which is cool. We got quesadillas and unfortunately they were not good. The kids did not eat them and said they tasted bad. Sampling them to see what was up, my wife and I both agreed they were super super salty. $7 x 2 fail on the kids meals.\\n\\nMy son got $10 nachos with no sour cream.  Then when it came it had no beans and sour cream and when I told them that this was not what context (very politely) they argued with me and said I never said no sour cream and I said no beans. My son and I both were pretty clear at the register no sour and perhaps they heard no beans. The nachos were awful! The cheese wiz with peppery chicken that tasted like it was pulled out of a bag. The chips were very greasy and really did not work for nachos. This was an epic fail and I am very surprised this place has such good reviews considering everything we had was bad.',\n",
              "  1),\n",
              " ('Super authentic ramen. They have a great lunch combo - we ordered the tonkatsu ramen, mame ramen, fried chicken and fried rice. I prefer thick noodles and I was very happy with theirs. The fried chicken was authentic Japanese style and was delicious. Good service even though the restaurant was full and there was only one server. Broth had great flavor, egg was cooked right. A bit pricier than other ramen in Chinatown but the lunch combo made up for it.',\n",
              "  4),\n",
              " (\"We live about 4 miles away from this KFC (Gilbert & Baseline).  We ordered two 2pc white-meat meals and got dark meat. When I called their phone went unanswered (typical of their help, I'm sure) and I finally got a recording!  Called back and same thing (yes, checked the phone number, etc.  This is the THIRD time we have had problems at this KFC. Sadly, it seems as if this store is poorly managed and the help they hire isn't worth the minimum wage they are probably being paid. They are surly, rude, and dumb as sticks on top of it all. Avoid this KFC like the plague if you want my advice. There are newer and far cleaner stores in Mesa and Tempe and Gilbert that actually have well trained and polite and helpful staff. Too bad this isn't one of them! Who ever owns/manages this mess of a store ought to be ashamed of the lousy service, rude help and fairly dirty store! Do not go here even if you're starving!\",\n",
              "  1),\n",
              " ('The food here is really good and they have some awesome deals Tuesday, Wednesday and Thursday with Tacos, wings and pirogies. The nachos are also very good and so is the pizza. My only comment would be that the service is very slow and although the service when available is good, it is few and far in between. Would still recommend for good food and good times.',\n",
              "  4),\n",
              " (\"We have been here a few times in the last month. Unfortunately, there is no consistency in the quality of food or service. When we were there Saturday night my husband and father ordered the beef skewers. The meat was not cut against the grain so was extremely chewy...basically inedible. The same issue with the meat in my son's steak rolls and nephews dish. The vegetables were burnt on several of our plates. There were 9 of us and 6 people got the their food after 30-40 minutes. The other three half an hour after that. The majority of our party was done eating. The hummus trio is very good as was the bread. Even with that caveat, I don't think we will be back.\",\n",
              "  1),\n",
              " (\"Having recently found Khao Soi, which is a curry-like dish served with egg noodles, lime and crunchy noodles on top, I have been on a mission to try the same dish in as many places as possible. Khao San Road was next.\\n\\nThe restaurant itself is quite small and the wait can be long, but the hostess is super friendly and the line moves fast. Once at your table, the menu itself is very simple and everything tastes great. The restaurant itself is quite noisy and during the summer, the shutters at the front are open which gives the place a nice airy ambiance.\\n\\nThe Khao Soi (see above) is excellent and can be ordered to your preferred spice level. We also tried the squash fritters which were very tasty.\\n\\nThe bill was about $40 for two mains and a shared starter which is expensive enough, but it's worth it.\\n\\nA must try if you are in the Theatre District for a show or going to see a movie at Scotiabank Theatre!\",\n",
              "  4),\n",
              " (\"Went in to get my button repaired on my iPhone 5 and picked it up and the person who fixed it got dirt trapped throughout the screen. 6 pieces big enough to count, more that are just pieces throughout that are tiny. I wasn't even told when it got picked up. On top of that I asked him to fix it and was told that he would most likely break the screen trying to fix it and that he wouldn't warrant the repair of the screen broke. I will be calling manager and update Yelp post upon his response. I have never had such poor customer service. They just ruined a $600 phone. I could have replaced the button myself and just didn't want to. Hopefully manager fixes and I can update post. Extremely disappointed in the service received.\",\n",
              "  1),\n",
              " (\"I was really craving this place when I last visited Las Vegas! Specifically, I was craving the bacon wrapped dates and sangria. I was so disappointed when I heard about the health code issues at the Henderson location, so I was happy to see that this location was good to go. \\n\\nWe ordered a plethora of dishes, all of which were very delicious! However, they are so overpriced that it was hard to make sure the small party I was with got even a taste of each dish. Some of the small dishes had only 2 pieces! For $10-ish dollars, I think that's a bit ridiculous. I simply couldn't afford to eat here with more than one or two people, because that adds up quickly. \\n\\nI love the interior of this restaurant. It is a pleasant place to be! I especially love the patio, although it was closed the last time I was there. \\n\\nOverall, this would be a good restaurant for a date, but, in my and my wallets opinion, not so great for a party of multiple people because you would need multiple plates of the same item. The bacon covered dates and sangria are must haves.\",\n",
              "  3),\n",
              " ('My go to for good thai in SW vegas. I really enjoy the pad thai so much. I think when I first found this place I ordered it 3x a week for a month! They have some really hearty authentic thai dishes on the menu. I absolutely cannot come te an order though without adding on some thai egg rolls. The sauce that comes with them is addicting I could put that stuff on anything and eat it!',\n",
              "  5),\n",
              " ('Desperately needed a trim and thought I would check this place out since they had good reviews! Walked right in on a Saturday morning and got my hair cut on the spot by Heather. She was so sweet and did a great job! I was nervous/skeptical about getting a $14 hair cut, but it was exactly what I wanted and for a great price! I will be going back for sure, might even get color next time.',\n",
              "  5),\n",
              " ('I really enjoyed the Stockyards Restaurant. It\\'s a vintage steakhouse located in the area where the old Phoenix Stockyards used to be. The atmosphere is classic. Dark wood, heavily padded booths, a magnificent bar. I love the places that have the \"wedge\" salad, and the one at the Stockyards is very good. My steak was cooked perfectly, and was also very good. I had the whiskey mashed sweet potatoes as my side, and they were a treat. I went on a Monday night, and it was very busy. But the service was excellent.\\n\\nIt\\'s a bit pricey, but sometimes you\\'ve just got the urge for a good steak, and deserve to spoil yourself.',\n",
              "  4),\n",
              " ('I hate buying shoes, I really hate it. I buy one pair, wear them until they fall apart and then grudgingly go buy another pair. One of the reasons I dislike buying shoes is the difficulty in finding shoes to fit my flintstone like feet. Most shoe companies decided that they would rather make the public with broad feet either wear clown or elf shoes instead of making things that fit.\\n\\nWell, if you can stop a stone wheeled car with your bare feet, then otherwides is for you! I stopped in and caught their big sale. I walked out with three pairs of shoes, and my wife got a lovely pair of boots. They are of great quality. I am now a fan, and will be back when these fall apart!\\n\\nThank you.',\n",
              "  1),\n",
              " (\"Super impressed with this company! Called last minute for service 2 days before Christmas and they squoze me in AND did not skimp on the service! They went the extra mile to detail my escalade I had just repossessed back from a friend who couldn't make the payments.... it was GROSS!! They didn't complain at all though and got right to work with a smile to get it ready for my parents to drive when they got in town for Christmas.... I'm sure it took way longer than expected but they didnt cut any corners and worked into the dark evening! I'm sure my tip wasn't enough to compensate so I wanted to give them a shout out on here.... thanks Shineworks!!\",\n",
              "  5),\n",
              " ('Great manis and pedis. The business is relatively new, so get in before the crowds find out about this little gem!',\n",
              "  5),\n",
              " (\"The ribs were mediocre for the price but to be fair they were sold out of everything else which says a lot for what they didn't have. What they did have was the ribs which again, were OK... \\n\\nI will go back to try the brisket since it seems to be a hit with yelpers. \\n\\nI'll say that we also had their Mac n Cheese which was pretty awesome! I rarely order Mac n Cheese (my wife ordered it) but I was not disappointed in any way about it. \\n\\nI will update when I get back because it was worth trying again. If there's any brisket left by the time I get there...\\n\\nGood for a switch from the rib chains.\",\n",
              "  3),\n",
              " (\"You cannot beat this program.  From start to finish you are treated as a person...really more like family...not a number.  The results were amazing for me...I lost 49 pounds in 2 months and didn't have to starve myself or take any pills. I have not only increased my self esteem but sleep better, have more energy and that mental fog I used to have is gone.  If you want to change your life as I have look no further. I promise it will be the best decision you ever make.\",\n",
              "  5),\n",
              " (\"My girlfriend and I have been going to Baja for happy hour for well over a year now and we'll continue to go--we've never left disappointed!\\n\\nThe carnitas, chicken, and fish tacos are all great, but we're completely hooked on the potato tacos. I know it sounds weird, but their seasoned hash brown style potatoes make for awesome tacos. \\n\\nThey run daily specials often, we're so hooked on the cheap beer and dollar tacos that we rarely stray, but I've never seen anyone order anything that doesn't look delicious.\",\n",
              "  5),\n",
              " ('I went for a cheap meal since there was no dinner at home one night. Given the price I paid ($9.00) the servings were surprisingly large. In addition the food was cooked well, the chicken was soft and cooked through, the potatoes were also done well and not over or undercooked as you sometimes find fast food places do it, and finally the rice was also a similar fashion. \\nI am satisfied with the service given and would come here again if I am in need of a quick meal.',\n",
              "  4),\n",
              " (\"I've always had a really hard time finding a good place to get a hair cut. Maybe I'm picky but, in the past, there was pretty much only one person who was able to cut my hair the way I liked. Unfortunately the place became so busy that it was too difficult to get appointments and I ended up moving away as well.\\n\\nTherefore the search for a good, relatively reasonably priced hair stylist began, and Toronto (the city I'm from) generally came up short.\\n\\nI was in Cleveland for a bit on business and was in desperate need of a haircut. I decided to bite the bullet and get one before I got back to Toronto to see if I could get some luck in Cleveland. It turned out to be a great decision as it is one of the best cuts I have received so far.\\n\\nI was lucky to get a same day appointment with Melissa, presumably since she had  cancellation. I would greatly recommend her for men with thick hair or asian type hair as she really knows what she is doing. I was able to tell her the general idea of what I wanted and got good input on styling recommendations.\\n\\nOverall the haircut was above my expectations. Melissa did a great job and gave me exactly what I requested. For full disclosure, upon coming home I can see a couple of spots where it could have been improved but on an overall basis, I am really happy because it is clear that this cut will be able to keep its shape as it grows. Another plus: she even washed my hair after the cut saving me a shower when I got home.\\n\\nIf a $25-30 cut is within your budget I would strongly recommend going to Eddy's on Coventry and I would personally recommend Melissa\",\n",
              "  3),\n",
              " (\"Not great...not even good.  Ordered through the drive-thru; the first window was closed, so I drove to the second.  No menu, no idea what there is to order when the guy asks what I want.  I remember that there were fries with feta cheese and balsamic vinegar, interesting, so I order those and the guy suggests the Pep Pep.  \\n\\nNow I wait.  I understand that it's freshly prepared, or so says the sign next to me, but come on if you are going to do a drive-thru the service needs to be speedy.  The order takes so long, I'm asked to pull up so the guy can get the order from the 1 car behind me.  Really?!  If it takes so long to make the micro burger and fries with goo on it how are you ever going to make a profit? \\n\\nThe guy finally brings my food and I drive away.  I get home excited to try something new.  The slider is dripping grease (so much for gourmet) overly covered in some orangish sauce that tastes like Thousand Island minus the relish, the meat patty is half burned.  At least the sandwich was still warm.\\n\\nNow for the fries, feta and balsamic on fries sounded like an appetizer from a super fancy restaurant.  I'd love to say they were amazing and made up for the crummy $3 slider, but when I opened my fries they were covered in the same disgusting sauce as the slider, bland caramelized onions (how these had no flavor I'm not sure), plastic cheddar cheese that had congealed beyond edible (how the cheese could be hardened and the fries still relatively hot is beyond me) and bacon.  \\n\\nSo sorry Slidin' Thru, no home run for you, you struck out on the first try.\\n\\nNo way will I try this again when a crappy meal cost over $7.\",\n",
              "  2),\n",
              " ('This place has the most awesome food and best service. Manni is the best server ever and made our visit most memorable !!',\n",
              "  5),\n",
              " (\"The food here is great! And, the customer service is top-notch. I say this, even after we had a misunderstanding with the restaurant and the front counter of the Orleans. But.... it really wasn't the restaurant's fault. Allow me to explain, we were given a food comp from The Orleans for $50. This was part of the hotel package that we received. We had put down a cash deposit for our stay... we did not use a credit card for this trip. Well, when we tried to use our food credit at the restaurant, the restaurant initially tried to charge it to the room.  After we had already departed from the restaurant, the restaurant realized that because there was no credit card on file, they could not charge it to the room so they called the front desk. An employee at the front desk who really did not know her job too well, told them that they had to figure it out so the employee of the restaurant actually called the hotel room, at 2 a.m! So both employees at this point had made mistakes, but the mistakes were each based on the fact that there are not proper procedures in place for when a guest checks in with cash as a deposit, and is receiving a comp. Eventually, after my wife spoke to a more well-versed employee at the front counter the entire situation was figured out. The restaurant, apologized for the employee calling the room at such a late hour, the restaurant offered us a free dinner for the misunderstanding, and the server actually came to our table personally, and apologized profusely.  The manager on duty was very polite and very accommodating to us. And we were very thankful to him. The Orleans needs to figure out how to set the system in place to something like this does not continue to happen because from what we were told it happens all the time!\",\n",
              "  4),\n",
              " (\"Only a couple times have I eaten at a highly yelp scored review, and totally disagreed with the average rating. This would be one of those cases! Between this and the new Bell's bbq up the street, this is some of the worst bbq I have ever experienced. Are the LVite's so deprived & ignorant to what great barbecue it that they feel this is good? It seems to me that before people open a restaurant it would be something they are good/great at making, and comfortable maintaining the quality for large numbers of people. These places need better brining & curing processes for taste & moisture, smoke quality & control, and knowing when to stop cooking! This is not food that is cooked to order folks, the expertise, control and cooking is supposed to be done ahead of time and reheated gently for your dining pleasure, or not. Dry, overcooked and tasteless should not be part of the process, not when your taking our hard earned dollars.\",\n",
              "  1),\n",
              " ('We came here for something different. Wow. We even had to ask our server what is your favorite as the menu was a bit out of our norm. We got what Emily said and were not disappointed in the slightest.  Yummy shrimp appetizer with which we dipped cheese bread in the garlic sauce. Seafood stew was stupendous. The drinks are memorable- fresh and exciting. Passion fruit dessert was also memorable. We can not wait to come back and try what the table next to us ordered- none of which is the same as we got but all looks great. Casual, fun, and a place we will come back to in a second.',\n",
              "  5),\n",
              " (\"Craving Ramen and I stopped in for a quick bit. Great portion pretty good Ramen...it wasn't a ten but I have had much worse. \\n\\nThis was a nice break from the Vegas Noise and you can grab some Japanese snacks for you room from the store in front. \\n\\nI definitely will be back next time in Vegas\",\n",
              "  4),\n",
              " (\"The Greenbush Bar doesn't need a good review, or a bad one.  When you walk in, you immediately understand that this is a one of a kind space by Madison standards.  There's a sensibility to the entire place that makes you intuitively understand that you're in the right place at the right time.  Seeing the owner bussing tables and getting her hands dirty, seeing waitstaff doing their best to assist patrons and refill water glasses.  These are good signs.  The beer, wine and liquor menu covered a lot of ground, and had something for anyone.  Starters included a roasted garlic app, which had good flavor, and was a nice compliment to their in-house bread.  Another good choice was the tossed green salad, which included reggiano-parm cheese, olives and cucumber slices.  Finally, a reliable pizza topped with sausage and green peppers.  Incidentally, they give you a choice of crust thickness, and even have a gluten free crust option.  The only disappointment was a corn and leek soup, which was too brothy and had no spice profile (as in NONE).  In spite of that, I'll be back.\",\n",
              "  4),\n",
              " ('Muy buenos tenders los mejores q eh probado tiene mucha variedad y servicio muy bueno',\n",
              "  4),\n",
              " (\"This restaurant is totally underrated. Let me just clarify that this is a top notch fine seafood cuisine, so bare this in mind before expecting a cheap meal.\\n\\nThe decor is absolutely gorgeous, you first walk in and you're greeted by a front receptionist. Just beside the entrance they have a massive aquarium where they hold some of the largest lobsters, crabs and fishes you have ever seen.\\nThe bathroom is a single luxury suite equipped with mouth wash, q tips.. Etc.\\n\\nService is beyond superb, as waiters and waitresses are very friendly and attentive to your every need. They also help you separate your meal into plates and bowls for every guests. They are very efficient in cleaning our plates right when it gets full.\\n\\nWe had breakfast and dinner here the same day, so the prices differ extremely between the two.\\n\\nBreakfast is dim sum style, we had a table of 8, and ate roughly $300 with a bag of leftovers.\\n\\nThe dinner comes in sets of meal that matches up with suggested serving sizes from 2 up to 12 people. The prices start at around $300 and up to $1700.\\nWe had a set of lobster and crab meal, for 8 people, the set itself was around $800. We ordered other dishes and wine, the bill came up to be about $900. The meal was very filling and there were still lots of left overs, we ended up packing up 2 bags. \\n\\nTo be honest we could probably pull off a 6 people meal set as they give a lot. \\n\\nI didn't take pics of every dishes but in our set we had, \\nSashimi platter \\nClams \\nSea cucumber \\n12lb lobster \\n2 crabs\\nFish \\nRice\\nSoup \\nDesert drink \\nFruit platter\",\n",
              "  5),\n",
              " ('Good food, great mimosas and you must try the breakfast nachos! We have been here on a few occasions, every item we have orderd has been delicious! We visit during the week with co-workers and never have to wait for a table and service is great.',\n",
              "  5),\n",
              " (\"***Read previous reviews*** I've never written a bad review on Yelp before, but this place is an urgent care that bills like a hospital. I'm very disappointed in their billing. My insurance was in network and I'm being charged 400 dollars (700 before insurance) for basically a 2 minute bandage wrap for a burn. I had no idea it would be equivalent to an ER visit cost.  Just a FYI to others. I will never return.\",\n",
              "  1),\n",
              " ('You know it is a good restaurant if you see 2 full bird colonel ordering and waiting happily for their food. This is the best restaurant within 1 mile radius from nellis afb in my opinion. It is next to the questionable apartment but like the other girl said, \"if you can go passed through the exterior, you\\'ll like it.\" I think their food is reasonably priced.  Their lunch special has good portion to it for $5.99 and you\\'ll get free Thai iced tea if you \"checked in\". My friends and I have been here 3 times already. I had green curry, spicy basil and yellow curry and they are all very delicious and taste authentic. Definitely give this restaurant a try!',\n",
              "  5),\n",
              " ('Lunch\\n\\nAmbience/Food/Service/Value: 3.5 \\n\\nRepeat: No \\n\\nThis is likely a good neighbourhood resto for locals.',\n",
              "  3),\n",
              " (\"I have been here several times. From car wash to windshield repair. They have always been good to me and my van,  so today I decided to get my oil changed to. I was really impressed. They brought my filters out to show me they needed to be replaced. Didn't sell me anything I didn't need. I will defiantly be back\",\n",
              "  5),\n",
              " (\"Chako offers an AYCE KBBQ with a modern feel. It's clean and spacious, allowing some room for ventilation, though you will go back home, smelling like your dinner. Weekend dinner comes to about $18.99. \\n\\n- Meats: There are some average to decent cuts of meat. The most memorable was the Chako Ribs (which is only available for dinner). thicker and marinated. Delicious!\\n\\n- Vegetables: There's pineapples! And also zuchhini and red peppers. But pineapples! Who wouldn't be excited?\\n\\n- Sushi: There are 4 choices of sushi. Average, but at least you do have the option to order it at a KBBQ.\\n\\n- Seafood:  Calamari, tiliapia, shrimp and mussels.\\n\\n- Side dishes: As mentioned, the kim chi is surprisingly tasty. You're also offered tofu, bean sprouts, seaweed.\\n\\nOf course, order the rice. I don't know how anyone can go through all that sodium/fat without blending that taste.\\n\\nChako is a good choice for group outings, though it can get quite packed during Friday and Saturday nights. Service start to be much slower and inconsistent: multiple attempts to re-order dishes that never showed up, or to change the BBQ plate, or to clear some of the dishes away. So it can get quite frustrating.\",\n",
              "  4),\n",
              " ('lulu wings were delicious. i had the catfish dinner with shrimp etouffee. delicious !!! loved the live music . wonderful place to enjoy a great meal.',\n",
              "  5),\n",
              " (\"This is by far the best pool company I have ever used. They do great work, hard working, and honest. I highly recommend them for your pool service. You won't be disappointed!\",\n",
              "  5),\n",
              " ('I was told about this place by a friend, who had gotten her phone and laptop fixed here, so I looked at the reviews. Seeing the few bad experiences people have had, I was hesitant. But the price seemed great so I knew I had nothing to lose. I went in, the owner Mason was very friendly, and helped negotiate a great price for my cracked iPhone screen. The place was very clean and put together. They say that you get same day service, so I expected to not be able to pick my phone up for at least a day, but it was ready within an hour! My phone was as good as new! So amazed. Overall, great customer service and very quick service. I definitely would recommend this place! :)',\n",
              "  5),\n",
              " ('The hype is not real with this one.\\n\\nI don\\'t get this place. Given how they advertise themselves on IG, I came in here thinking this was more of a bakery with a few drinks here and there. But nope, it\\'s apparently the other way around. Cafe 86 is more of a boba/coffee shop with a few pastries. I don\\'t know about you guys, but I came here to try their pastries.. and 2 out of the 3 times I have gone there, they barely had anything left. If you\\'re going to heavily advertise your pastries everywhere on social media, maybe you should focus on having them readily available.\\n\\nFirst visit, they had no pastries available.. and we came around 3pm. Since we were already there, we decided to go ahead and try a drink. I asked the cashier what she recommended, and she said that the Ube Monster was popular - so thats what I ordered. I guess it\\'s supposed to be like a Ube and Cookies&Cream milkshake. I hated it. It had very little Ube flavor and just tasted like milk. The cookies weren\\'t even throughout the whole drink. All they did was put some cookies at the bottom of the cup, and on top. Pretty lame. Super disappointing and do not recommend. \\n\\n2nd visit, they had only ube truffles available.. and we came around 5pm. We also did the Yelp check-in for a free Hibiscus Cooler. The ube truffle had good ube flavor, but the texture wasn\\'t to my liking. My toddler ended up eating it all though. The Hibiscus Cooler was pretty terrible - it literally tasted like water. Another disappointing visit.\\n\\n3rd and final visit, we came in around 11am and was finally able to try the Ube Leche Flan Cupcakes. We also ordered the Mermaid Drink with Boba (Sea Salt Green Tea), an Ube Truffle, and got the free Hibiscus Cooler again (hoping it wouldn\\'t be watery like last time). Was super excited to try the cupcakes, since that was what this place is known for.. but was pretty let down. The cupcake was hard and dense! I felt like I was eating play-doh or something. I\\'m sorry, but that\\'s not how a cupcake should be. The only saving grace was the flan, but even that was just okay. We ended up just eating the flan and tossing the \"cupcakes\" away. Both drinks we got tasted watered down yet again, and the boba had no flavor. Yet another disappointing visit.\\n\\nAlso, what is up with the the theme of this place? It\\'s all over the place. It\\'s like they just took everything they like and threw it all together, even though it makes no sense at all. Star Wars, cars, Filipino sun, mermaid drink, _____ monster drinks, zebra drink? It doesn\\'t make sense.\\n\\nCafe 86 is just all hype. It\\'s sad, because I love me some good pastries. Such a shame!\\n\\nTL;DR - They seldom have the pastries available that they widely advertise. Pastries are not as great as everyone makes it seem, and the drinks are just bad. \\n\\nTip: If you want their pastries, go right when they open. If you want drinks, go to Brew Tea Bar.',\n",
              "  1),\n",
              " (\"We had dinner here. The food was mediocre at best. For an appetizer we had chef's focaccia. It was a pizza crust. Bland. The dipping sauce had vinegar mixed in like a salad dressing. It was not a good match. The rigatoni entrée was flavorful but upset my stomach. The waiter never asked how our meal was after we were served. I would not eat here again and I would not recommend it.\",\n",
              "  2),\n",
              " ('Good food; Bad Flies; So-So Service.\\n\\nTried this place with my family after the June 2012 write-up in Phoenix Magazine.  The restaurant was a little odd to find and the mandatory valet was interesting, but the interior is amazing.  The person(s) who did the building and interior design did a superb job-- the spot is very open, the revealed kitchen is fun (especially for an interested 4 year-old), and the artistic touches and lighting fit perfectly.  Not often I take notice of these kinds of things, but this is an exceptional concept place that way.\\n\\nWe tried the Chef\\'s Board, Burrata Alla Panna (asparagus), Mafaldine (rock shrimp and long noodles), Margherita pizza, and buttered noodles. All were very good, though not remarkable.  Bread is for-charge and the water has an \"interesting\" taste.\\n\\nThe most offending thing was the flies.  We\\'re talking lots of them.  And big ones.  And so persistent you might as well pull them up a chair and plate.  \\n\\nWhen your little kid asks why there are so many flies an why they have red stripes and such big eyes, something went awry.  A kid should not notice the exoskeletonal features of insects at a nice restaurant.  Odd to constantly brush the flies away, just look around to see every other table doing the same.  It proved to b a sad, asynchronous dance for would-be happy diners.  We skipped dessert just to get away from the bothersome diptera.  If only the service staff was as attentive!\\n\\nWaitress was middling at best.  Drinks were left unfilled for long periods.  Two plates came out too hot while the pizza was just warm-- our daughter\\'s dish came out so hot that she would have burnt her mouth had my wife not tested first (and singed her tongue).  I also had to ask if there were specials because it wasn\\'t volunteered... Maybe specials are a private and fabulous secret, here.  I didn\\'t order the special soup, so not sure if it was indeed nirvana.\\n\\nWould visit again if there was reason, but my wife and I agreed walking out that it wouldn\\'t be worth a trip on its own.',\n",
              "  5),\n",
              " (\"Lance and Debbie at Desert Storage were amazing. They were exceptionally professional and friendly on the phone and in person. Moving is never fun but they certainly made it a lot less stressful. They took the time to explain all our options and were patient, never pushy, while we decided on the right-size storage for our needs. They even provided a move-in van free of charge saving us time and money! Desert Storage is the cleanest, most accessible storage facility (air-conditioned park-in loading bay) we've seen. Since we were storing some boxes and furniture during the Summer months we wanted a unit that was air conditioned, and after shopping around we found their prices very reasonable. I have to say it was a huge plus to be able to drive right into the air-conditioned bay and not have to unload in the heat. Also, with all of the security measures they have in place we have peace of mind knowing our possessions are safe and secure. Great experience all around.  5 stars without hesitation!\",\n",
              "  5),\n",
              " (\"Great food! Great service! Our waiter was Christopher, and he was fantastic! He recommended excellent entrees, apps and wine that exceeded our expectations. We recently moved to Charlotte from NYC, and this is by far the best restaurant we've dined so far. The sea bass is almost as good as NOBU and the tuna... OMG!! Your mouth will love you, trust me. Enjoy .\",\n",
              "  5),\n",
              " (\"Seems like the lady runs and owns this place on her own. Service is great and she was very kind. I got a manicure which was only $15. I would say some nail salons I've been to have done a better job with cleaning and painting but for the price this place is pretty good! My friend got acrylic and she seems to be pleased with it as well, being college students this salon is more affordable than most.\",\n",
              "  4),\n",
              " (\"I had a wonderful experience here! I called the day before to make an appointment and was the first one of the day (which I always think is helpful in all cases). My consultant was Lindsay and she was great! I brought my mom and one of my bridesmaids and this was the 3rd time dress shopping. She looked through my pictures and listened to what I liked. On the 4th dress I knew! Tears and everything :)\\nLindsay was awesome and negotiated a discount with the manager, as well as for my bridesmaids' dresses that had already been chosen previously!\\n\\nI really had a great experience here and I highly recommend :)\",\n",
              "  5),\n",
              " (\"Terrible, just terrible!  What I found in this office was rampant irresponsibility, incompetence and lack of professionalism.  \\n\\nI've been doing my own taxes with TT for the last 5 years.  After learning that H&R offers a second look tax review from your taxes filed the previous year, I decided to put them to the test to review my 2015 tax filing. Based on my experience, I would entrust them with my new tax filing for year 2016 since now I don't have the time to work on that.  Boy, did they fail the test.\\n\\nIn October 2016 I dropped off two binders corresponding to my taxes filed in 2014 and 2015.  They were supposed to check 2015 only, but the tax consultant asked me to leave also 2014 in case she needed to reference to that year to clarify something.  After two months of not hearing anything from her, I sent her an email and she informed me that she had been transferred to another office and my binders had been assigned to another agent.  The new agent never contacted me, never did anything on my taxes and when I stopped by H&R she did not know where the binders were. After some looking around, she found them.  I reported that to my original agent and she contacted the office manager about my problem.\\n\\nI went online and, after reading the profiles of the agents in that office, I chose one with vast real estate experience since I own rental properties.  Subsequently, the office manager, without my consent or authorization, removed her name and re-assigned me to Claudia Melissa Argueta, now Claudia Melissa Bozic.  Being that it was a referral from the manager and she was aware of what I needed, I trusted her judgment and went along with her choice.  BAD CHOICE!\\n\\nClaudia Melissa Bozic received my binders on December 2 and by the end of February 2017 she had not done the review.\\n\\nOn January 11, 2017, I sent her a follow up email to see how things were going with the tax review. She did not respond to my email.   Afraid that she had left the office, like the first tax consultant did, I personally went to H&R. She was there, we spoke briefly and she said that she was working on the tax review.\\n\\nNot having heard anything from her, I was very disappointed about the tremendous amount of time she was taking to do a review.  I am not a tax person and I can do my taxes in a week.  On February 21, 2017, I wrote her an emailed  expressing my disappointment and requesting the return of my binders.  \\n\\nThe email was undeliverable.  Claudia Melissa Bozic had changed her email address and didn't have the courtesy of notifying me. She was the one who said when I met her that she preferred communication via email.\\n\\nI needed my binders urgently since I was in the process of refinancing one of my properties and the bank needed my tax documents.  I called H&R and Claudia Melissa Bozic was in California and no one could find my binders in the office.\\n\\nI requested to speak with the office manager and they finally found my binders after much inconvenience caused to me.\\n\\nIn summary, since October 2016 to February 2017, this office did NOTHING.  Just wasted my time and caused aggravation that I didn't need.  It's a free service, ok, but if they are not going to do the job, please do not offer the service and disrespect people's time.\\n\\nDue to my bad experience, I do not recommend H&R Block.\",\n",
              "  1),\n",
              " (\"Meatballs look and taste like Fancy Feast cat food....Seriously they are NOT home-made. Marinara sauce straight from the can with no additions, tasted like watery flavorless acidy tomatoes. Pizza was undercooked and had to request them to cook it for another 20 minutes. Who wants droopy pizza that cannot stand up by itself....really? The baked rigatoni was the star of the show earning 3 stars out of 5 for being the least messed up, and having some good flavors. Will not be returning here again, unless I hear things have changed for the better. You could tell that there were no owners or mangers present. It was a millennial duo cook-off - the only thing missing was the microwave and the frozen burritos. Sorry guys you are going to have to try WAY harder than this; as the only one's that you are fooling are the one's with $8 bucks left in their pockets for dinner.\",\n",
              "  1),\n",
              " ('Delicious Ontario beef. That about sums it up there. There breakfast burger is an interesting take and if they had more unique items like this one I would recomend you visit regularly but you simply dont get what you pay for.\\n\\nI still suggest that you go there at least once and more than that if you dont mind spending the money.',\n",
              "  4),\n",
              " ('Very Very disappointing! Poor service, there were only three occupied tables during our experience.  Waitress kept trying to take away my Sake sangria before I was finished.  But did not offer to fill my empty water glass, the miso salmon arrived before my watermelon and goat cheese plate.  Drinks were horrible !For two people lunch was over $70.00, and not satisfying. Will not do that again.  I liked Petras much better.',\n",
              "  1),\n",
              " ('This place is chill af. Great korean music vibe. Ambience on point. Server is super nice. Got 4 free macaroons for checking in. Food is great also.',\n",
              "  5),\n",
              " (\"I've tried a few different things on the menu. The spicy garlic is really good. Always grab an egg and the bamboo shoots on the side.  I also had the octopus balls. They're not as good as the ones in Asia but still orderable.\",\n",
              "  4),\n",
              " ('It has been several years since I dined at Carlsbad Tavern. However, I remember the food was fantastic. Charming atmosphere too. Friendly staff. When people I know are visiting the Phoenix area I recommend this restaurant.',\n",
              "  4),\n",
              " (\"I was excited to try Dj's bagels after reading all the positive reviews.  I arrived and it was quite busy, still looking good.  I ordered a bacon egg and cheese on garlic and a dozen bagels to go.   After I took my seat I started rifling through the bagels and they were all quite hard.  I tore open the egg and rye bagels and they seemed old.  I asked the staff if they may be day old bagels and they assured me that they were freshly made same day.  \\n\\nI know what fresh bread tastes like and what it feels like.  Can someone from the management please help me understand why the bagels were all stale?  Do you make them on site or are they baked very early in the morning?  I was completely underwhelmed by the bagels.  \\n\\nOn a positive note the Dj's Brewed coffee blend was good.\",\n",
              "  3),\n",
              " ('Came in for basic pink and white.  The girl did a very nice was.  Not much of a conversation but service and price was good.',\n",
              "  4),\n",
              " (\"I'm a big believer in delineating between life's wants and needs. \\nAnd that's why I regularly visit the Thumb. SImply put, it has all my needs.\\nFor example:\\n\\nI don't want gas for my truck, I need gas for my truck. \\n\\nEating bbq doesn't qualify as a want, but it is a need.\\n\\nMy truck runs just as efficiently dirty as it does clean. \\nBut I did hit a bird and squashed a couple of rabbits last month, so a wash and detail is kind of a need at the moment.\\n\\nA savage blowjob is also a need, I think. Or maybe it's a want, who knows. \\nI'm not sure. \\nAnyway, they don't feature blowjobs here, least-ways, I'm pretty certain of it.\\n\\nOk, fine. \\nMaybe The Thumb doesn't have ALL my needs, but it does have most stuff and, at fair prices.\\n\\nI recommend the brisket.\\nAlso, the full-service wash.\\nEnjoy the patio seating for lunch, especially this time of year so you can lust after all the cool RV's next door at the storage facility.\\nI'd like to steal a real nice one.\\nMaybe go running around Scottsdale showing off in my new ride with some hot little knob-gobbler who also needs to eat bbq.\",\n",
              "  4),\n",
              " ('So sad how hard it is to find decent ethnic restaurants in NE Ohio--another shining example of how Taco Bell with table service is presented as \"authentic\" Mexican food. It\\'s like saying \"authentic\" American--what exactly does that mean?',\n",
              "  3),\n",
              " ('I have now visited La Mestiza twice, and I can\\'t say enough good things about this place. We\\'ve struggled to find good Mexican food in Madison. La Mestiza will not satisfy your need for a giant burrito or tacos - it\\'s not the traditional Mexican restaurant you find in America with combination plates. La Mestiza serves a relatively small menu composed of dishes highlighting the traditional regional cuisines of Mexico. \\n\\nThe dishes are a little bit pricey, but you get everything you expect in a pricey meal. The presentation is gorgeous, and the food is fresh and delicious. I personally recommend the enchiladas pollo con mole - their traditonal Oaxacan mole sauce is phenomenal, with all the subtle nuttiness and rich chocolate flavors I pray for when I order mole. We\\'ve ordered specials as well as the carne asada, and they all elicited \"ooo\"s and \"aahhh\"s. They have an excellent house margarita and a couple of Mexican draft beers.\\n\\nThe restaurant is very small, but cozy and pleasant. This is a casual restaurant that attracts a wide variety of people. The decor is inviting and comfortable, with interesting artwork hanging on the walls and paper cut-outs strung from the ceiling in a playful, un-tacky sort of way. Do come here to eat at a table - the bar only has a couple of chairs and seems to be intended only for people who are waiting for their take-out orders.\\n\\nFinally, the service is excellent. I\\'ve had two different servers (who were both there both times I\\'ve visited), and they offer the knowledgeable, understated, and appropriately attentive service I would expect from a fine dining restaurant.',\n",
              "  5),\n",
              " ('One of the best places to get Auto Parts.  Fast, friendly and have everything that the other stores used to carry.   Prices are great and the counter staff is extremely knowledgeable.',\n",
              "  5),\n",
              " (\"This place deserves zero stars. My 3 yr only went there for 4 weeks. During that time she was bullied and came home with large bruises. I spoke to her teacher and the director about it and neither seemed to really care. When I mentioned that my daughter was being bullied, the teacher actually laughed. Very unprofessional. They are not good at dealing with food allergies either. The final straw was when my child came home with bruises on her neck and told me that the bully had choked her!! I spoke to the teacher and director again and nothing was ever done. They didn't even apologize! This place may look nice inside but it is total chaos with little teacher supervision or interaction. There's no learning or preschool activities either. I'm totally disgusted by this place.\",\n",
              "  1),\n",
              " (\"The Weary Traveler was my first introduction to Madison and set the tone for a great visit with a family member who had just moved nearby.  If I lived in the neighborhood I'd eat at the Weary regularly with friends.  It seems like a great place to meet new people, given the warm woodsy layout and the low-tech emphasis (board games). In addition to the neighborhood vibe, the food was homey too. My $15 pork loin special with celery root side was delicious.  My dining partner happily consumed the Bad Breath Burger.  I had one of the many tasty beers on the menu - in fact you could make a game of trying all the beers.  This seems like a cozy place to settle in on a cold Wisconsin night.  I look forward to many return trips.\",\n",
              "  4),\n",
              " (\"Just like Taylor, I just had the same experience when trying to make an appointment with this office.  I was asked about my insurance before my question of whether or not they are accepting new patients was even answered.  I was told November is the earliest new patient appointment and when I said I would like to move forward, the female I was speaking with, I think she said her name was Mary but she said it so quickly I can't be certain, placed me on hold.  After 5 and a half minutes,I hung up.  Poor potential patient experience!  I am calling for help, not to have my time wasted.  As an individual who works 60 hours a week, I don't have time to sit on hold, especially when you are only taking appointment calls between 8:30am and 4:30pm.  If she had come back on the line to provide an update, it may have evoked a better response but when you are forced to call for an appointment and cannot make an appointment online, the staff needs to be more on top of their game.\",\n",
              "  1),\n",
              " (\"Had a great time.  Went to see a friends husband play.  It was open mic.  All the people that were there were there to hear all playing and really seemed to be having a good time with all these musician's.  \\nHad the chicken wings, tater tots.  excellent.  Everybodys food was good.  \\nGreat place to go for fun. \\nWill be back\",\n",
              "  5),\n",
              " (\"Recently purchased a truck from this company, and really have nothing but good things to say. They weren't pushy, I haven't found any hidden issues with the vehicle, and I was able to get a two year warranty. They actually Called me after the purchase and lowered my interest rate, offering more than one option through several lenders. As it relates to the previous reviews in relation to being unable to be approved for credit, this isn't a company issue, rather an issue a consumer should be aware they may experience based off their debt to income ratio. One thing I will say after purchasing the truck  is that it had 3 different types of  tires on it, so I was required to purchase a matching set. I will take fault for this though due to my failure to inspect the vehicle thoroughly, and I did purchase the vehicle at night. Overall, I would recommend working with them If your interested in a truck.\",\n",
              "  5),\n",
              " ('Delicious sandwich!  Omg... it was SO good. I got the chicken philly with peppers and had to force myself to not eat the entire thing at once!  The jalapeño chili cheese fries are also very good... very heavy and a total belly buster but so so so good!',\n",
              "  5),\n",
              " ('Waited on by Dennis who takes initiative and accommodates his guests. Dennis is knowledgable of the preparation of the food. My second beer was delivered quickly upon finishing the first. The queso dip was really good. The flank steak chimi was super good. Will return.',\n",
              "  5),\n",
              " ('Venimos a probar sólo los crawfish, Pedimos el sabor Hot & juice realmente era muy bueno, picoso pero el sabor hace que quieres mas. (Recomiendo el crawfish congelado ya que por libra cuesta menos $8.99 la libra aproximadamente, ya que el fresco estaba como a $12.99 la libra ( aún así sólo había congelado )Nuestra mesera fue muy amable. El lugar estaba lleno,',\n",
              "  4),\n",
              " ('Daniel has been a local force in fighting and BJJ here in AZ and worldwide for the past ten years +\\n\\nHis instruction is top notch and has always provided so much of his time for his friends family and students. This is not your run of the mill gym claiming to teach you MMA these guys actually go step for step and get you ready to fight or ready to WIN in Jiu Jitsu tournaments. They offer many different classes and have a very reasonable pricing plan. Check it out, these guys are one of the best lifetimes martial arts gyms around and you wont have to worry about paying thousands of dollars a year to get top notch training. Also the main coach is a current fighter who continuously fights on Showtime and television. When he fought locally on Showtime for M-1 global he finished the guy in under a minute and he was widely considered the underdog in the fight against the man who was set up for a title shot with a solid win, too bad he lost!\\n\\n\\nstop by and check them out, the doors are open for newcomers and it is the perfect place to start making a healthier and cooler life for all.',\n",
              "  5),\n",
              " ('This place is hands down my fav pizza shop ever. The staff is great! Abbey, stacey, skyler are amazing. The food is made from scratch, and is sooooo damn good. I go there just about everyday for lunch, and come again after work to grab a drink. They make you feel like youre part of there little family. I highly recommend this place. Its a small family owned business!',\n",
              "  5),\n",
              " (\"I was originally going to order the half duck with citrus sauce, but we didn't have the time to wait the half hour it took to prepare. Instead, I ordered the preserved duck leg garnished with garlic potatoes and salad, and it was really excellent.  Service was not as attentive as I'd have hoped, but friendly nonetheless.\",\n",
              "  4),\n",
              " ('Tried to have breakfast at Over Easy but after a 40 minute wait and cold food we left. Much better at the Breakfast Joynt. Fast service and great food. My tummy is happy',\n",
              "  4),\n",
              " (\"Sooo good. Had a Deluxe Cheesteak and fries. Can't wait to go back again.\",\n",
              "  5),\n",
              " (\"We've ordered take out here several  times and it is by far the best Chinese food in the Huntersville/Cornelius area. Great food and never longer than 10 minutes once our order is called in.\",\n",
              "  5),\n",
              " ('Food is so good here!! Great staff. Me and my wife had an awesome birthday meal thanks again to the chefs and front of the house. We will come back soon.',\n",
              "  5),\n",
              " ('Had the pizza here today. The crust was soft and gooey. The pizza was quite oiled and the sauce had zero appeal it was a step above ketchup. Sorry but I can not recommend this place. It used to be so good years ago  what happen?',\n",
              "  2),\n",
              " (\"Brunch this morning with my hubby. The restaurant is gorgeous! The food excellent. The made to order omelets and crepes were hot, fresh and delicious. We didn't have any little ones with us but enjoyed watching The Balloon Man create magical balloon sculptures for the kids.\",\n",
              "  5),\n",
              " ('Best Dunkin location! Coffee always tastes great! Friendly employees, great service -especially from Amanda :). Very happy this location exists in East Mesa since there are not too many Dunkins around.',\n",
              "  5),\n",
              " ('Very swank and updated lobby. Rooms are nice and big. Staff was very gracious and accommodating.',\n",
              "  4),\n",
              " ('I wonder if I am just being negative tonight?  Oh, well, on with the review...\\n\\nWhen we were first seated, we were served water in tall skinny glasses & seasoned popcorn in tiny buckets, very cute & unique.\\n\\nWe ordered 6 items and shared: Singapore Greens & Nutty Popeye (salads), Hodgepodge (a tower of fried treats), Diablo Eggs, Elote (a corn on the cob dish that I didn\\'t try), and Smokey Poke.\\n\\nMenu Link:\\nhttp://www.noshandswig.com/nosh%20and%20swig%20menu.pdf\\n\\nThe salads were served in mason jars with the dressing on the side.  The jars are so you can shake the salad with dressing; clever.  Both were tasty though the Singapore Greens need a protein to round out the flavor profile, IMO. \\n\\nThe Hodgepodge consisted of pomme frites, tempura sweet potato,\\ntruffle tots, & onion rings.  I liked the truffle tots, but a little overboard on the truffle oil & salt.  The presentation is a twisted & tiered tower; I posted a picture\\n\\nThe Diablo Egss are deviled eggs (obviously), pretty regular, a little on the salty side; there is a recurring theme, appearing here.\\n\\nThe elote was grilled corn in garlic butter with cayenne & topped with cilantro pesto.  I didn\\'t try, sorry.\\n\\nFinally the Smokey Poke; little ahi tuna blocks in citrus ponzu, garnished with norichips & some type of fried squash or potato slices.  Great presentation & flavor, but SALTY...\\n\\nOk, I broke down our food, now for service.  It was feast or famine: repeat visits in a short period of time or no one for many tens of minutes.  They were trying hard, I could tell, but they didn\\'t appear to have any type of \"table visit rotation\" procedure. The waitstaff was friendly, regardless.\\n\\nFinally, ambiance.  There were cute touches, like the sign for the bathrooms was a street sign called \"Flushing Avenue\", clever.  Decorations were sparse and the feel, to me, was that of a hipster automat.  I didn\\'t mind it, but it also doesn\\'t stand out.\\n\\nI am hoping that all these issues are due to its relative age.  I will definitely try here again though it is FAR from my regular stomping grounds.  Great ideas & concepts, but spotty execution is my overall impression.  Oh, yeah, and salt.',\n",
              "  4),\n",
              " ('The pictures, the reviews... none of them do The Spa at Mandarin Oriental justice.  This is one of those \"you have to experience it for yourself\" type of places.  Five stars doesn\\'t even scratch the surface of what type of service and accommodations you will receive when you spend your day here.  My mom and I decided to spend a full day and sample as much as we could possibly fit in... with some downtime in between services.  Booking appointments with the concierge - wonderful, informative, and top notch.  Arrive and check-in - fabulous.  This is the only spa I have been to where they have you complete a full health intake form - VERY MUCH appreciated.  All while you enjoy delicious hot tea, a cool cloth, and the removal of your shoes to be replaced with spa sandals.  The spa attendants were WONDERFUL and incredibly attentive.  Fresh tea, cold water, explanations of the facility... very thorough.\\n\\nMom and I started with the day with a Hammam treatment.  What a delight for the senses.  Firm, soft, hot, cold, warm... One of the most incredible treatments I have ever experienced.  I couldn\\'t stop touching my legs for two days after - I was so silky, it was insane.  If you do ONE thing at The Spa - try the Hammam.  A total delight for the senses.\\n\\nThe Jade Enzyme facial was incredible and relaxing.  The Detox Foot Treatment was also incredible.  All of it.  Amazing.  I didn\\'t even get to excessively use the facilities as I had originally intended... next time.  I spent most of my time relaxing on the warmed tiled loungers overlooking LV Boulevard or nestled up in the cozy beds in the relaxation room with a cup of hot tea and a bottle of ice water.\\n\\nNext time I go back, I will be booking the Time Ritual... two hours and fifty minutes of treatments customized specifically for my body\\'s needs that day?  Oh heck yes!  Scrub me, rub me, make me melt!  I cannot wait to return!\\n\\nAs for the prices and the three lines of tips... get over it and show the people that make this place so wonderful a little respect... or don\\'t come here for service.  These folks are working at one of the, if not THE best spa in Vegas and certainly command the prices that you will pay.  They are working very hard to make sure that you get your money\\'s worth and I am a firm believer in gratuity that is commensurate with that effort.  So if you get a little sticker shock... head up strip to a different spa.  Tip rant off.\\n\\nAll in all and magical experience.  Worth every dollar and then some.  Looking forward to going back in a few months and trying a few different services.\\n\\nIf you don\\'t want to valet, park in the Aria self-park and walk over to the Mandarin.  It is a surprisingly short and easy walk... when you arrive at the hotel, you take the elevator to the 23rd floor and then take the guest elevators down to the 8th floor.  It is a bit of an adventure, but plan for a little extra time just in case.  The hotel itself is also gorgeous and I hear that their high tea in their tea lounge is not to be missed.  Adding that to my \\'next time\\' list!',\n",
              "  5),\n",
              " ('We\\'ve been going to Nuevo for the past 10 years and loved the place. I\\'m not sure what has happened these past 2 years we\\'ve noticed that the quality and service have been going down hill. The food taste was off and the waitress weren\\'t very nice. I\\'d get tired of waiting for a water refill and would go get it myself. As of yesterday they\\'ve reached a new low. Now, the place is just gross and disgusting. Never again will we go back. How they can prepare food that taste so bad and the waitress that has a \"you\\'re annoying me\" attitude.... we\\'re done.... it\\'s sad because now we have to find a new place... Taco Bell has a better flavor than their cardboard chemical tasting attempt at mexican food. I\\'m really not a picky eater but all of us were feeling ill after the dinner.',\n",
              "  1),\n",
              " ('Upon being told that they make their truffles themselves, I decided to try a few.  The flavors they had were not awfully creative, but their execution was generally successful.  The earl grey truffle actually tasted like earl grey, and the lemon truffle was well-balanced.  They also had a nice consistency when I bit into them, neither too hard nor too soft.\\n\\nThis review is based only on their truffles, I have not tried any of their cakes or ice creams.  They also explained that they have a smaller variety of truffles in the summer due to weaker demand.',\n",
              "  4),\n",
              " ('A pretty establishment on the second floor of Planet Hollywood. Its expensive for what it is but I appreciated the service. Our waiter took the time to answer our questions about the different dishes and was very helpful.\\n\\nThe cocktails were $15 bucks each and about what you would expect. I had the kobe beef rolls which was average. I am not sure what the hype is about kobe beef and sushi, it was about 26 bucks for 5 pieces which is simply not worth it. I also had a rock shrimp tempura which was around 15 bucks and was excellent. \\n\\nIf staying at Planet Hollywood, I would give it a try, but otherwise your high end strip hotel will offer something comparable.',\n",
              "  4),\n",
              " (\"I was invited to Monkey Pants for a friends going away party. There was several of us there and I was definitely looking forward to having a good time since i'm a big fan of dive bars. I arrived and most everyone was already there enjoying their drinks. I waited about 15 minutes before I asked someone if we even had a waitress.... My buddy told me there was only 1 waitress/bartender working. After another 5 min I decided to just go to her at the bar. As I was getting up she was heading our way. She explained that this was her first day back from not bartending for a few years and she was the only one scheduled for another hour and a half. This made me change my game plane and I started ordering 2 beers so I wouldn't have to wait for a refill quickly. I gotta say for it just being her she hustled the best she could and I give her props, however, management should have known Friday nights gets busy and they should have at least had a waitress scheduled. It wasn't really right for the employee or the customer to have to deal with this. \\n\\nI ordered a burger with green chile and continued my 2 beer orders and that went rather well... The burger took a long time, im guessing a little over 30 minutes. I was a little frustrated with that but the burger was actually really good. I asked for some condiments and never got them, im sure it was because the waitress/bartender was slammed so I wasn't too worried about it. \\n\\nAfter awhile a waitress and another bartender showed up to take over and everything started running a lot more smoothly. Beers were flowing, shots were going down smooth, and we got our ordered items quickly. Around 8pm Karaoke started and it was on!!! I chose a couple songs and handed them to the DJ... I was told my songs weren't available.... I gave him a couple more and nope.... So if your planning to Karaoke make sure your gonna stick to the same ol same ol songs... Thunder Rolls, Baby got back, Grease, or a balls song. The DJ offered me to pay for songs I wanted to sing. I was going to tip him anyway so I paid the 2 dollars for 1 of my songs. Sang the song and dipped... Overall its a pretty chill bar, manager screwed the one waitress hopefully that doesn't become a pattern on Friday nights. Id roll thru again if my friends wanted to go there again.\",\n",
              "  1),\n",
              " ('Great spot, always friendly and great service! They have a do it yourself section as well as a drive thru where they hand dry at the end \\n\\nTo top that they have a dog washing section!!\\n\\nNice people good spot',\n",
              "  5),\n",
              " (\"I really can't say enough great things about this place. We have been here three times now a,d just held our wedding reception here., The staff, management and our bartender Junior were truly amazing. We had a party of 21 and our food was awesome. Junior was so attentive and kept everything ready and waiting. Please don't hesitate to spend time at this venue. The food, drinks and live music are awesome!!!\\nWe can't wait to come back.\",\n",
              "  5),\n",
              " (\"Best groomer ever!  We moved 35 minutes away and still bring our dogs here because we couldn't find anybody so great!\",\n",
              "  5),\n",
              " (\"This place is CRAZY good! The menu is always evolving but so detailed and nuanced. Really enjoyed this last visit. Such  incredible flavours, presentation. It's exciting to be there! The food is very interactive and the staff totally get how to throw a party! The cocktail menu is off the charts. Brilliant taste and execution (and super hot bartender) . Well done R and D!\",\n",
              "  5),\n",
              " ('I had appointment for my son for a mole removal on his forehead and it is now healed and looks amazing. I also took him for a full body scan and they removed a few moles. I liked it so much that I made my appointment.',\n",
              "  5),\n",
              " ('I would rather go to the dentist then go back to this place.  You want to talk about POOR service, its no wonder the USPS is loosing to UPS Stores and other mail places.\\n\\nIf we could have done what we needed done at the UPS store, we would have instead of coming here.  Let me expand.\\n\\nWe came in and of course there was a line with only 2 people behind the counter and one guy walking around trying to look busy..  We were there to do a door to door mailer which he even came over as soon as we came in and confirmed with us.  After about 5 minutes of standing in line, this guy came over and started pulling people with only one piece of business over to another counter.  \\n\\nAs he took some from the back of the line and some from in front of us, we eventually moved to be second in line.  The lady who was first had 5 packages to send out and said she was passed over 3 times.  She finally got called to the counter and we moved to be first in line, our time now nearing 30 minutes.  \\n\\nAfter standing there for another 5 minuites, this guy trying to look busy finally came over and told us to come to his counter.  Our transaction with him took less then 3 minutes.  \\n\\nSo, IF ANYONE AT THE USPS READS THIS....If you have a floater, they should take the next person in line and help them if they can, not pick and choose who you want to help and when you run out of options then help the person you have been skipping over and over and over....You want to know why you are loosing business, because of employees like this....',\n",
              "  1),\n",
              " (\"I ask my husband for one of these for my birthday every year.  The cake part comes in like 8 different flavors, but good old chocolate is my favorite.  The cake is moist and flavorful and dense, but somehow doesn't seem heavy or processed.  And it's not too sweet.  How do they manage that?\\n\\nBut the real kicker is the cream cheese frosting.  yes, my friends, this is what it's all about.  That thick, tangy, sweet, frosting all over that yummy, moist cake.  I think I may have to pick one up on the way home.\",\n",
              "  4),\n",
              " (\"Both of my kids (3 and 5) love going to the dentist. It's a welcoming environment for my kiddos, and the staff and dentists are really great to work with, and my kids love them!!\",\n",
              "  5),\n",
              " ('One of the better steakhouses @ Vegas. I am a huge fan. Best restaurant in New York New York casino. Ribeye is probably the best. Great wine selection as well. Creme of spinach + potatoes are also very good.',\n",
              "  5),\n",
              " (\"It's nice to have something onsite. The staff is very nice. The food is good, but the prices are high. I've only eaten here a handful of times, because I don't have the average $10-15 a day to spend.\",\n",
              "  3),\n",
              " (\"First of all the woman at the counter was super friendly and helpful, major points for that! The cupcakes were good, not too sweet, frosting was a little dense and a touch sweet. Overall good, but not the best I've had. I'd definitely go back and try other flavors!  5 stars for customer service, 3 star cupcakes.\",\n",
              "  3),\n",
              " ('tried goi guon and phô today.\\napparently all the prices and foods is more valuable in chinatown. i would say go to pho bang ny',\n",
              "  4),\n",
              " ('This is an awful place to visit if you just want real food. They do not offer any of the typical Japanese food other than street food. Might be good if you just want to waste money of several pieces of karaage.',\n",
              "  2),\n",
              " ('I LOVE THIS PLACE! Food is amazing, happy hour is on point, and the service was phenomenal. Sit in the patio lounge during happy hour, especially in nice weather. Also, Jonathon is my favorite server!! Such a nice guy! He was SO on top of our orders! With a crazy big Italian family, that means a lot. Definitely ask for him!!! Yum, yum, yum!!!',\n",
              "  5),\n",
              " (\"I have never written a review to start off with. I literally downloaded Yelp just to write this.  I went to this Chick-Fil-A earlier and was pretty surprised went they told me my card got declined. I told them I would be right back and drove away leaving no explanation really. After leaving thru their drive thru  I realized that they had already given me our drinks.. I called back after 5 minutes and told them that I was sorry that I drove away not realizing I already got the drinks and that I was just calling the bank to see why my card got declined. They said not to worry and they understand and I told them That I was on my way back. When I got to the window they said that because I was honest and called about the drinks that they would take care of the order and I didn't have to pay for it. My heart seriously melted ..not because of the money but because of the act of kindness from these 2 specific girls (I should have gotten their name.) it was seriously the nicest thing that has happened to me in a long time. Just the thought of doing something so sweet and nice left such an impression on me. We have always been a fan of this restaurant but now I'm a greater fan. Thank you for having such amazing customer service ...most drive thru's can't wait to throw the food at you with no smile at all. You're employees have always left such a positive impression even before today. Thank you from the bottom of my heart.\",\n",
              "  1),\n",
              " (\"Yes, this is a KFC, so I won't bother reviewing the food. Besides, it's not the food here that's bad... it's the service! Staffed by hostile and indifferent teenagers, the missus and I stopped going to this KFC for a long time, as staff were surly and our orders were almost always incorrect. Nowadays we only tend to go there for the occasional single item (a small cole slaw or Snacker), as we don't think they'll get it right.\\n\\nI think the management of this location needs to impart on their staff that many folks come to KFC to get meals for their entire families. I wouldn't complain so much if Taco Bell messed up a 99¢ burrito... but if I'm paying KFC $20 for a family meal and they forget the biscuits or give us the wrong sides, or give us Extra Crispy when we ordered Original I'm going to be ANGRY!\\n\\nThey also need to understand that, at their prices, no one's going to put up with this. I can get far better chicken at Price's for nearly the same money... so why go to KFC?\",\n",
              "  3),\n",
              " (\"Disgusting! This was at the bottom of my shake, how did this get there ?!?! This was my first time at Cook Out and I WOULD NEVER return here. This is unacceptable because there is no reason for this to be here somebody either had to notice the cup broke and did not care or I don't even know this just ruined my day.\",\n",
              "  1),\n",
              " (\"I came here for some ideas for my Niece's birthday gifts. Such cool items in this store! The cookbooks and kitchen gadgets are so creative and fun!\\n\\nThere were two ladies working and very helpful, they assisted me with kitchen twine as an idea to tie my gifts together. They were very helpful as I can't see colours very well. They really went above and beyond, helping me match the colour of the twine to my gift wrap, they were patient with me\\n\\nI will definitely return!\",\n",
              "  5),\n",
              " ('Went here mid afternoon for a late lunch. The place wasn\\'t too terribly busy and I was seated immediately. The place has a nice selection of beers and a simple food menu. The staff was extremely friendly and the waiter was particularly helpful, providing his honest opinion of the menu items and sharing feedback he received from other patrons. I very much appreciated his sincerity rather than simply saying, \"Oh, everything here is really great!\" I ended up getting the chicken sandwich. This was not the best chicken sandwich I\\'ve ever had but it was still very good, as it was flavorful and well-sized. The coleslaw was not good at all but thankfully that was just a tiny part of the meal. The fries were just fries: nothing to write home about but nothing wrong with them either. In a nutshell, great staff and beer selection, good food and ambiance. A solid 4-Star experience.',\n",
              "  4),\n",
              " (\"We were visiting Freemont and doing the tourist thing when we needed a bite to eat.  Rather than one of the many expensive restaurants we've already visited, we chose Hennessey's to get away from that.  It was reasonably priced and good food.  \\n\\nWe shared the fish and chips (really good and beer battered) and the Reuben (not perfect, but good corned beef).\\n\\nDespite the crowd on the street, it was not really busy - which is a shame, because the places in the casinos are either much more expensive or not as good food.  It helped that our waitress was very nice and attentive.\\n\\nI definitely recommend it.\",\n",
              "  4),\n",
              " ('My partner and I were looking for a good brunch place and we saw some really good reviews for this place so we decided to check it out.\\nI honestly am really unsure why this place got the good reviews it did. It looks okay when you walk in, modern decor, clean setting. But both mine and my partners food were very, very unsatisfying. I ordered home fries, two eggs over-medium, whole wheat toast and coffee. The only thing cooked to order was the home fries- but the ketchup they gave us was over a year expired. Yuck? My eggs were heavily salt and peppered and over-hard, my toast wasn\\'t even toasted. It was just slightly warm bread. And our coffees were a sickly sweet hazelnut, which neither of us had asked for. We both left disappointed and unsatisfied and walked to the Starbucks down the street to get \"better\" coffee. \\nThe service was okay, though it was unclear if we pay at the register or the table, since our order was taken at the table but there was a sign saying you were supposed to order at the register. Confusing. I wouldn\\'t recommend.',\n",
              "  1),\n",
              " (\"I was taking stroll through Town Square recently when I came across this gem of a shop.  What initially drew me in was the window display of big beautiful geodes.  I've been looking for a store in Las Vegas that features these items for so long!  Not only do they have an amazing selection but their prices, service and expertise were beyond impressive. \\n\\nIn addition to their geodes, they also have a great selection of Native American jewelry, artifacts, incense, and pottery.  I highly recommend this store!\",\n",
              "  5),\n",
              " (\"this is pretty much a cheesecake factory but with a different name.  at first glance, this place seems tiny, but when  you actually walk inside, it's huge.  this is a great place to go when you don't want to pay the expensive prices of a 5 star restaurant or want something more than the everyday buffet.  i would have given this place 5 stars, but it was busy and packed.  our waiter concentrated on the group of bachelorettes.  i don't blame him but there are other people to focus on.  other than the service and the wait, i'd definitely come back here.\",\n",
              "  4),\n",
              " (\"If you're staying at the MGM Grand, I recommend trying Wolfgang Puck Bar & Grill. I ate there for lunch and dinner and shared a total of 6 dishes. I suggest the Corned Beef Reuben with Sauerkraut and Swiss on Rye with Potato Salad for $15 if you want a good deli style sandwich. The Fish of the Day (Halibut) with Wild Mushrooms and Pearl Onions, Creamy Corn Puree and Tomato Fondue for $31 was also very good. For salads, I thought the Chopped Vegetable Salad with Feta Cheese, Garlic Croutons and Creamy Greek Dressing was very good and can easily be shared with people as an appetizer.\\n\\nThe portions vary between the dishes. I thought the Ricotta Gnocchi with Sweet Fennel-Sausage Bolognese for $23 was a little on the small side compared to the Sweet Pea and Goat Cheese Filled Tortellini with Wild Mushrooms and Parmesan Reggiano for $25. You also can't go wrong with the Grilled Prime Burger with Vermont Cheddar and Smoked Onion Marmalade for $18. \\n\\nThe Crab cakes were delicious, $17 for 4 crab cakes. When comparing Wolfgang Puck's prices to other MGM restaurants, this place is very reasonable and the servers provided excellent service both times I dined. Nice atmosphere too. I would go eat here again.\",\n",
              "  4),\n",
              " ('I feel the need to tell all my fellow Yelpers about the HORRIBLE service I received at Winners yesterday morning. Let\\'s start at the beginning. \\n\\nI got there right at 9am, supposedly when they open, and I watched as the employees sat around on the counters and chatted in what seemed to be a staff meeting. It was freezing outside and considering it was 9am I was expecting the door to open any minute. \\n\\nI waited and I waited. I watched as one by one, the employees noticed me standing outside, and one by one, they peeked their heads around and just stared. You\\'d think someone would have come to my rescue, but nope. They just continued sitting around on the counters and occasionally looking back to see if I was still there. \\n\\nI finally got inside at 9:10am (which SUCKS because by this point, I\\'m late for work) and I told them I had to return an item. The assistant manager said \"Malcolm will help you on the other side\". So i walked around to the other side and I stood at the cash register waiting as Malcolm tried to figure out how to put his \\'Winners\\' apron on. Finally, Malcolm looks at my item and says \"You\\'re returning this? You cut off the tags\". I\\'m like \"Yeah, but I bought it 12 hours ago and it doesn\\'t say on the receipt anything about keeping the tags on\". He lost it on me. He angrily pointed to this sign that Winners has that states their policy. He\\'s all like \"You cut off the tags! You\\'re not supposed to cut off the tags. We don\\'t return items with the tags cut off.\" Finally he said \"Fine, this ONE time, I\\'ll do it, but never again\". He was BY FAR one of the rudest people I have ever dealt a minute after opening. \\n\\nFinally he finished punching away at the register, shoved the receipt and cash on the counter and completely ignored me. I grabbed it and left the store immediately. \\n\\nI will never, not EVER, step foot inside this Winners again. Their service is atrocious and I urge all my fellow Yelpers to pick any place to shop but this one.',\n",
              "  1),\n",
              " (\"I'm so happy they opened this new location. The one in old town is wonderful and this new one is just as good with even more amazing staff. We stopped in for a drink and decided to stay for 3! The atmosphere was open and fun. They have an upstairs bar and a downstairs bar. As well as patios on both levels. When we went to the upstairs bar, we were greeted right away despite no open bar stools available and the bar staff came out from behind the bar to take our order. As soon as bar stools opened up, they pointed them out for us. The downstairs bar staff (especially Stephen) was friendly and attentive. We made reservations to come back for dinner on Friday. I'm sure it won't disappoint.\",\n",
              "  5),\n",
              " (\"What happened to taste and flavours?! Practically all the dimsum dishes were so bland.  For the first time the sirracha bottle was being used by every member of my family, which was comical but what's a person to do when food tastes like nothing.\\nThe bill came to $136 including tips for 38 dishes of dimsum.  So that's  $27 per person.\\nI can get a good meal else where for what i paid.\",\n",
              "  1),\n",
              " ('I want to have every meal of the day here!\\n\\nThis was my first experience with Flemings and it won\\'t be my last! \\nThe padres and I came here for an early dinner on a Sunday. When we arrived, we had the restaurant to our selves and settled in on our second table (my mom didn\\'t like the first one) which was a comfy horseshoe shaped booth in the corner. I perused the wine list, which is on one of those fancy iPads, and choose a yummy Zinfandel that appeared before me in no time! \\n\\nI was trying to eat healthy and started with the Fleming\\'s salad (candied walnuts and  cranberries!) and then had the New Bedford Scallops that were perfectly cooked and accompanied with a delicious lemon-honey glaze (my mouth is salavating as I write this). My mom was super boring and I honestly dont remember what she ordered, but she enjoyed it. My Dad, however, loved his dish that they only serve one day a week. On Sunday\\'s they offer a prime rib special that includes a appetizer salad, two sides, and a dessert...you need to come on Sundays. This was one of the best prime ribs he as ever in the 35+ years he has been living in Arizona. For his/my sides he ordered the sautéed mushrooms and the BLUE CHEESE mashed potatoes! Everything was incredibly tasty and I still had my Dad\\'s dessert to devour! \\n\\nFor dessert, my Dad ordered the Carrot cake, BUT, my mom mentioned earlier that I was recently engaged and in addition to the carrot cake (which was amazing, the spice was so delicious and the cake itself was incredibly fresh and moist) we got to indulge in the super gooey Chocolate melted volcano cake (I couldn\\'t stop eating the creamy center filled with chocolate sauce and I am NOT a chocolate person), the refreshing Pistachio ice cream with a yummy tuile (that\\'s a fancy name for a buttery walffald/cookie/cone, thanks Andrea for helping me with my \"classy\" lessons), and, my favorite, the light, yet dense creme brulle...ugh, so good! Oh, and since they knew I was watching my figure, we also got to try their house made whipped cream that you could eat as a dessert on its own!\\n\\nThe food was fantastic and the serivce...more fantastical (even when the restaurant started to fell up)! From the friendly hostess who greeted us, to Adam, the server\\'s assistant, to the BEST WAITRESS EVER, Andrea, and even the manager, Jessica, all were extremely friendly and really seemed to care about how our dining experience turned out. \\n\\nFive stars all the way!',\n",
              "  5),\n",
              " ('Extremely underwhelming...Cool to sit in the same (casual room) room as the fire pit but too pricey for what they are serving. Very small portions. Better places in the city to spend $150 (2 people). Sorry...',\n",
              "  2),\n",
              " ('Had a great time last nite at the bar with Big Mike. Pours a strong drink and great conversation!  Music and atmosphere were great.',\n",
              "  5),\n",
              " ('We usually don\\'t \"celebrate\" Valentine\\'s Day but my husband surprised me with reservations on Valentines weekend, we had both been wanting to try this place since it opened.\\nThe restaurant is beautiful, so many different things to look at, watching the food being prepared, of course people watching. For the most part the staff was friendly and accommodating, maybe a bit too stuffy for such a fun restaurant.\\nWe both had a bourbon we had never tried while we perused the menu and made our choices. \\nWe\\'re both huge steak fans and the scent of charred steak permeated the air, so we agreed to share a Rib eye from Rosewood Texas, recommended by our server.  We shared the Classic Tartare to start, it was good but I\\'ve had better and I think I prefer it with toast as opposed to the soft rolls they served it with, it\\'s that texture thing that would\\'ve helped. We eventually got our steak, oh baby! Again it was good, but I\\'ve had better, actually at a few places, if you have meat in your name, you better serve the best meat I\\'ve ever had! \\nWe shared some sides of Catalan Spinach which I loved...the flavor combos were perfect! Then we couldn\\'t pass up the Robuchon potatoes that are described as butter, butter, more butter and some potatoes. So smooth and creamy, the first few bites are extraordinary you don\\'t want to stop eating them but then you feel that your mouth is just coated in butter and no matter what you eat, it can not be cleansed. Ick! I craved something like lemon sorbet but alas nothing even close to it on the menu, so we got Ten Little Pieces Dessert to share and take some home for later. They were tasty morsels, just nothing to rave about.\\nWe\\'re kind of bummed at the bank roll we dropped here, just to be...\"Meh\". At least we got this place out of our system, on to the next \"I have to try\" place.',\n",
              "  4),\n",
              " (\"We went here awhile ago for my graduation party, steak was dead cold when served and we waited almost an hour for it. I guess they kind of forgot about us and left it there all that time. It's too bad, because this restaurant used to be spectacular, but now it's turned into garbage.\",\n",
              "  1),\n",
              " (\"This place is one of the worst car dealerships I've ever encountered!   DO NOT GO HERE!!   They lie to you and try to cheat you!   They should be brought up on criminal charges!!!   They tried to lower the price of my car $4000 in one week!   I was absolutely offended and I will make sure that everyone knows to not deal with them!   \\n\\nJuan Angarita\\n855-240-9561 x1389\\nAutoNation\\n\\nDo not ever deal with this man and he will cheat you!!\",\n",
              "  1),\n",
              " ('If you want a chai latte that is 95% steamed milk and with a side of surly barista, this is the place to be. Not sure why I tried again',\n",
              "  4),\n",
              " (\"US Egg is by far my favorite breakfast place in the valley.   If you've never had a protein pancake Santa Fe half and half you're missing out in life.   The people who go to US Egg and are disappointed are the people who have clearly never had a protein pancake or waffle because it's basically heaven.  One try and you'll never want another pancake again!  If only I could figure out the batter I'd probably live on them.\",\n",
              "  5),\n",
              " ('Had a reservation, waited an hour and a half. Asked for compensation for the wait because no one offered anything while we were waiting. The owner offered to pay for all our drinks and then when the bill came, charged us for the drinks we ordered. The table sitting next to us called out the owner and expressed that they too, heard that the owner had said he could pay for our drinks given our long wait. \\n\\nI have never been spoken to the way in which this owner had spoke to me, especially with a reservation.\\n\\nWhile the food was good, I would never want anyone to support such a disrespectful man.',\n",
              "  1),\n",
              " (\"This is one of our favorites.  Saw the new place in Goodyear and ate dinner there on January 31st 2016.  They were packed as anticipated but there was room at the bar so we opted for that.  Quality of food and service was as expected.  Never a bad meal yet an any Oregano's we've been to.\",\n",
              "  5),\n",
              " (\"Don't know what happened! Usually love that location but today I went in and the restaurant had a VERY BAD smell.  Got my food to go and got home and took a bite and it tasted JUST like the smell in the restaurant.. Threw it away.. Will definitely try again but if the restaurant smells the same I'm turning my ass around and going elsewhere!\",\n",
              "  1),\n",
              " ('The all you can eat sushi was awesome. The spicy  just right. The bacon sushi was really good we ordered it twice. But all the sushi was great. The shrimp lover was really good. I think we found a new sushi place. They staff is really pleasant and efficient. Plate cleared fast and glasses refilled fast. We found a new sushi place.',\n",
              "  5),\n",
              " (\"Didn't get help right away but they have huge flooring selection! I don't like the Home Depot and floor decor cheap looking made in China tile so my contractor sent me to this store! Dave is awesome he has great taste! Ask for him!\\n\\nHello Dave! Of course! I will email you the pics when the project is all done! Looks great I love it\",\n",
              "  5),\n",
              " (\"An upscale yet casual and chill bar with a fun, retro atmosphere on King St. \\nOverall great food and huge selection of beers! Their beers, mussels, and Belgian frites are really popular. We loved the Spicy Beef Tacos and Belgian White Mussels. The Bistro Salad was good, nothing special. The Lamb Shortloin tasted okay and is overpriced, as there was much more of the chickpea salad than lamb pieces. \\nOur server was fantastic- unfortunately I didn't catch her name :/ She was super attentive and helpful taking our orders, recommending and offering us tasters of different draft beers.\",\n",
              "  4),\n",
              " (\"This place is ok. I actually didn't realize before i went in that all they have is ramen. with that tonkatsu pork thrown in. some chicken. I went in thinking it was a general japanase soups place. udon. soba. etc. ramen is my least favourite kind of noodle. reminds me of mr. noodle cups.\\n\\nwell, the food was alright, but the soups they serve would not have been my picks. not a big fan of fried things being thrown in soups. something about that just doesn't work. something fried should be crispy.\\n\\nanyway, that said, this is a neighbourhood place for me, so if i was really hungry and was sick of eating shawarma on that particular day, i might stumble in again.\",\n",
              "  3),\n",
              " (\"This is a great spot! I've been twice now, first time brunch on the back patio and last weekend dinner indoors. This is not your standard diner - lots of interesting menu options/flavours and good service. Also nice to have a more affordable option is a somewhat pricey neighbourhood. I'll definitely go back!\",\n",
              "  5),\n",
              " ('The movers showed up on time and were very courteous. They were careful about wrapping everything so my items all arrived in good condition with no breakage. My move was from LA to Las Vegas.',\n",
              "  5),\n",
              " ('First time trying Kinton after a long ramen withdrawal. The menu has several steps to build your own ramen. I decided to go with the original pork shoulder ramen in a light broth. The meat was a bit dry but the noodles were good and the broth was indeed light, a bit too light on the umami. Egg was cooked perfectly with that gooey runny yolk. Also ordered some appetizers. The spicy karage had a nice kick to it. Meat was juicy with a nice crispy exterior. The dumplings were decent. We were seated right in front of the open kitchen so we watched the whole ramen making process as we ate. Nice friendly atmosphere and the washrooms are really clean and elegant. Would come back and get the pork belly next time.',\n",
              "  4),\n",
              " ('Mostly a nice place, though there were a couple things that bugged me. They were: a) no coffee in the room, b) everything sold in the hotel stores was 2-3x normal prices, c) there was no trash can in the bathroom, and, d) sandpaper for toilet paper. The paper in the public restrooms was of much higher quality than in the room. The art in the hallway was sad as well. Though not a deciding factor on staying there, it annoyed me each morning and evening. The casino was OK, though many slot machines seemed to have broken and mislabeled buttons. There were very few of those annoying \"no smoking\" areas, which is nice.',\n",
              "  3),\n",
              " ('BEWARE, the staff is 5 star while the management (Franchisor of Regis Corp) is a BIG 0!  Management has stopped accepting Senior and Child coupons sent from the Franchisor.  Management considers the Child and Senior advertised rates as DISCOUNTED RATES and the Corporate Coupons disallow \"double coupons\".  Since this Franchisee also considers the advertised rates as \"discounted\" will not accept them.  I have contacted the Franchisor (Regis Corp) about this but so far have gotten nowhere.  Petty, I know, however Regis and the Franchisee could be facing Discrimination and Advertising litigation.\\n\\nBottom line, a greedy Franchisee...BE CAREFUL if you are a Senior or parent.',\n",
              "  1),\n",
              " (\"The BLTAE is one of the best breakfast sandwiches in town! It's like your standard BLT fused with avocado toast, plus the pop of pesto and two eggs, served open-faced on thick-cut grilled brioche. It's even more fantastic than it sounds (and looks!), and I'd come back to their inconvenient downtown location with annoying garage parking just to have it again.\\n\\nMy guy raved just as much about the lemon poppy seed pancakes, though I would have appreciated more of the blueberry-ginger compote. I'm not much of a sugar for breakfast person, but we'll be coming back for the carrot and coconut version soon. \\n\\nNOTE: Full menu available even at opening, which means you can channel your inner five year old and order mac and cheese for breakfast! Unfortunately, I found the Ritz-cracker crust unnecessarily thick and salty, and the noodles overcooked. It may be best to stick to bfast options after all.\",\n",
              "  4),\n",
              " ('This place is actually a great place to study while enjoying something to eat. The food was pretty good for the price. The menu had a variety of choices which made it difficult to choose from, but the choices all seemed fairly delicious. If none of the items on the men seem appealing to you, they do have build-your-own waffles and wafflewiches. I do recommend checking out Groupon as well for other deals that are offered here. Spend more, eat more, be happy! 10/10 highly recommend.',\n",
              "  4),\n",
              " (\"First of all guys, if you wanna see a menu of Tequila do check this place. White, Gold, Aged - all types are there and yeah - you can get your fresh margarita made out of them if not interested in having it neat.\\nBest salsa - it's fresh, spicy, tangy and tempting. I am from India and let me say Yeah its TANGY !!\\n\\nTacos as per ur wish, soft, crisp , etc etc. awesome service and a must at the South Park area.\",\n",
              "  5),\n",
              " (\"Great place for lunch, sit outside and enjoy the view even if you're not golfing. The staff is extremely nice and accommodating. The food is extremely good, our favorite is the BLTA Bacon Lettuce Tomato Avocado.\",\n",
              "  5),\n",
              " ('A lot of good restaurants in Uptown, but this one is the best. The food is gastropub at its finest, everything is a subtle and unique twist on the classics. Best hamburger in town.  Great atmosphere.',\n",
              "  5),\n",
              " ('Invitation to breakfast. At an I-Hop. OK, so they have ok breakfasts. Traditional. Eggs, bacon, hash browns, hotcakes, toast, coffee and OJ. I was hungry. Eggs were cooked just as I requested. Two slices of crisp bacon. Two medium hotcakes. Butter and syrup.  All good. Not spectacular, but a good solid breakfast. I am full and happy. Now back to work.',\n",
              "  4),\n",
              " ('Cake was so moist and very delicious and the cake looked beautiful very happy with the results',\n",
              "  5),\n",
              " ('I have to start by saying, it takes a lot for me to do a poor review, however, I had a bad experience during my last stay.  I usually stay on the strip, but the hotels where all committed and I decided to give the Silverton Hotel a try.  Well, it was an OK place to stay but the staff was RUDE, very very very RUDE.  Like they were angry or inconvenienced by having to help people .  Especially the front desk !!  Too many options in Las Vegas and not staying there again, regardless of it being inexpensive.  I rather pay a little more and have a pleasant experience.',\n",
              "  1),\n",
              " ('Calamari was dry as sand...all else mediocre. To be honest the Reuben was good. Service was great though.',\n",
              "  3),\n",
              " ('love this place , they have great variety of Mexican food . it feels like your moms cooking . love the margarita & there salsa is off the hook . we will see you guys this weekend',\n",
              "  5),\n",
              " ('Usually one to avoid the chain restaurant or any place that screams concept, I was pleasantly surprised by the wonderful experience I had this evening at Nothing But Noodles on Elizabeth Avenue near CPCC. \\n\\nAfter a very long week of work which ended in a very long Friday, my husband and I wanted a quick and painless dinner so after seeing a coupon in one of the weekly mailers (the mailers that usually sit on the counter until the coupons are expired) we decided to run out for a \"buy one get one free\" bowl of noodles.\\n\\nWe both ordered the rice noodles with peanut sauce and split some pot stickers.  The service was fantastic.  The cashier was very nice without being saccharine even offering to explain the menu and ordering process.  The restaurant was impeccably clean with a sanitation score of 101.5 and not a spot of dirt anywhere.  Even the back of house (although there is really no back of the house as the kitchen is fully visible) was shiny and orderly.  Someone on staff was cleaning the entire time we were there. \\n\\nAfter we grabbed our drinks and sat down a server/bus person brought out our pot stickers.  We ate a couple and then started on the noodles.   The noodle portion was enormous with a flavorful homemade sauce and fresh vegetables.  A must have is the Key Lime pie.  It has a great crust and although the flavor is obviously key lime the creamy pie does not leave you with a perpetual pucker.\\n\\nWe noticed that they also offer homemade cotton candy for the kids which along with the other very kid friendly menu options, non-smoking atmosphere, unobtrusive music and pleasant lack of TVs\\' makes this a very family friendly restaurant.\\n\\nAll of that aside it was the customer service and attention to detail that made our experience truly remarkable.  The owner of the establishment was present and working at closing on a Friday night.  He takes pride in his restaurant and has obviously passed that on to his employees.  It is really refreshing to know that a business owner cares. \\n\\nThank you Todd and the rest of the staff at Nothing but Noodles for an unexpected pleasure.  You really turned what was supposed to be a quick bit to eat into a great evening out.',\n",
              "  4),\n",
              " ('Always passed by when going to Boulder City, finally stopped by.  Loved the Mexican decor.  Ordered Chicken enchillada, sauce was little salty otherwise was cheesy and delicious.  Beef and cheese burrito with sauce on side, husband loved it.  Nice atmosphere.  Waitresses very nice.',\n",
              "  4),\n",
              " ('Ask for Angela ... Great job with highlights and cut !', 5),\n",
              " (\"Friendly staff. I'd never been here before and they help you out when you order so you know what you are doing.  Healthy options.  There were several options listed on a board when you just walk in highlighting their healthy options.  I ordered the falafel and was very tasty.\\n\\nOverall this was just what I was looking for and had a good experience.  Good food, service.\",\n",
              "  4),\n",
              " (\"Blah! Not impressed. I had their Santa Maria Sirloin, cooked it myself, not great cut of meat, ok salad bar, not great beer options. Wouldn't go back.\",\n",
              "  2),\n",
              " ('Service is bad. Sat for 10 minutes . When a wait staff came close , she informed me another server would be over. Yes he did to the table next to me who just sat down. I know the airport is busy. But common on. They know you are on a tight time frame. I had 1 1/2 hours between flights. Now less than an hour.  I got up and sat at bar. At least service was better. Cosmo ok. Should have stuck with a beer. Still no food. May have to get it to go.',\n",
              "  1),\n",
              " ('Jennie our server did an amazing job! She was very attentive and made the visit personal. We will definitely be back!',\n",
              "  5),\n",
              " ('This place is amazing. Everything it good. I would suggest the goat to have it salad. I have come here millions of times and never had a bad experience. Even though this place is tiny get your taste buds ready for a ride to goodness. I would suggest this place.',\n",
              "  5),\n",
              " (\"Dr. Nathan Matthew is a great practitioner. He really listens and tries to understand where you're coming from. He has good medical knowledge, and can give multiple treatment options with risks/benefits, and ultimately leaves the medial decision in your hands, when appropriate. I will continue to trust Dr. Matthew with my health care decisions!\",\n",
              "  5),\n",
              " (\"This place is soooo cute and has that homey feel to it. Food tastes authentic and the place looks authentic too!\\nIt does get pretty busy at night because -- who doesn't want tacos on a night out?? It's worth it though if you want real Mexican food in this area!\",\n",
              "  5),\n",
              " (\"I've been here twice and haven't been disappointed yet :) $2.50 for two fresh cookies and a big scoop of ice cream, you can't beat that! The cookies have always been soft and amazing and the ice cream is Thrifty's. I like to mix my cookie flavors and get the circus (sugar with m&ms and a snickerdoodle) and then mint chocolate chip ice cream. These are seriously big enough that you can eat the ice cream and cookies separately, but be prepared for a major sugar high.\",\n",
              "  5),\n",
              " ('This is my second time coming back and the food still hit the spot! I had the bruschetta fries this time and it filled me up for the rest of the day. Last time I had the garlic parm which was amazing but the bruschetta really hit the spot. Definitely one of my favorite AZ food places!',\n",
              "  5),\n",
              " (\"Sir Edmond BLAND's is what it should be called.... food was all bland, Sauerkraut was bland, potatoes were bland, Corned Beef was bland. It was all around bland.\",\n",
              "  1),\n",
              " ('Great porchetta, fantastic desert and amazing staff! Definitely check this place out!',\n",
              "  5),\n",
              " (\"I've been to the Grand Concourse for lunch a few times, and the food has always been delicious, the wait staff great, and the setting is breathtaking- an old train station with stained glass windows and elegant tables and fixtures. You have to go there at least once as a Pittsburgher.\\n\\nHowever, the real reason I love the Grand Concourse is their Sunday brunch buffet. It's ridiculous- rooms and rooms of delicious foods, literally a feast to end all feasts. Omelet bar, pancakes, waffles, and French toast made in front of you, a carving station, every kind of breakfast food you could dream of, pastries on pastries, and so much more. Everything tastes amazing, and you will not go hungry or want of food- you might even get some exercise walking from room to room to find all of the different choices. They even have a kids are with lower tables with kid friendly food like peanut butter and jelly sandwiches.\\n\\nIf you live in Pittsburgh and like a big breakfast, you can't miss the brunch at Grand Concourse!\",\n",
              "  4),\n",
              " ('Spicy food lovers, try the spicy chicken kabab (obvious choice from the menu, I guess!) Good for taking out, rather than dining in, and the people are really nice!',\n",
              "  4),\n",
              " (\"This is actually one of my favourite places for brunch in Toronto, I think. My SO does not seem to fancy it as much, but I don't know, she seems pretty satisfied every time we visit. \\n\\nYou've read enough about their waffles....they're the best, blah blah blah.... mm so good, blah blah.... BUT IT'S TRUE!!!!! They are so light, perfect amount of sweetness and their SYRUP is SO AWESOME. Wow, I think I conveyed my craving and excitement enough - sorry caps lock police. They also offer a cornish hen for brunch - which is a treat. Any place you can have something a little fancier/different with your standard eggs brunch is superb in my books.\\n\\nBut, do you know what the best part of LPD is?! The fact that I can order a savoury and sweet brunch in one plate. E.g. eggs benny with waffles! I honestly could not ask for more from a breakfast establishment.\\n\\n(I think I'll go here this weekend...)\\n\\nIt's true, the lines are ridiculous. I've swung by at prime brunch hour and the line was long enough to make me turn around and go to an alternative, but the line at 2pm - 2:30pm is bearable (just watch out, they close around 3). With that said, however, the wait time could change rapidly, obviously depending on the patrons inside. It's a gamble (odds being most likely long), but worth it.\\n\\nAtmosphere - 4/5\\nService - 4/5\\nFood - 5/5\\nPrice - 3/5\",\n",
              "  5),\n",
              " (\"Tucked away in a small plaza near Atkinson road is a fabulous middle eastern mom and pop restaurant.\\n\\nBeen here a few times and its great place for a lil shawarma snack and battered fries. Shawarmas are packed to the max and you'll definitely make a mess trying to eat them. The cheese perogies are frozen here, don't recommend it.\\n\\nNice servers. Will be back when in the area.\",\n",
              "  4),\n",
              " ('Even for an outlet location, this place was a disaster- tons of employees running around but store in disarray, they frequently bumped into us, squeezed past us, and generally made shoppers feel like they were in the way. Management did not appear to be present.\\n\\nSelection is decent, pricing was okay- most items 30 to 50% off \"lowest ticketed price\" which for most was the original price. Lots of outdated styles and clashing color combinations on the stocked merch, but if you need a sh-load of polo tees, this place has got you covered.',\n",
              "  2),\n",
              " ('Joint is clean and fresh. Not overrated other places you have to wait for 30-75 mins just to eat breakfast. It took us less than hour, good service fills up your coffee every 10 mins friendly atmosphere . Veggie omelette was awesome , bacon were super crisp and were made fresh unlike other places were they sit under the warmers. Will definitely come back',\n",
              "  5),\n",
              " (\"LOOKING FOR AN HONEST AFFORDABLE LICENSED SERVICE? YOU JUST FOUND IT.\\n\\nI confess this wasn't my first choice. My heat stopped working on our first night of temperatures in the 30s. In the morning I started calling all of YELP's top rated companies. I left voicemail after voicemail then called J & K - not yet rated. Julio (owner) picked up the phone and promised to come the same day. I crossed my fingers and hoped all would work out. \\n\\nHe found the pilot light had gone out. Didn't charge me, but I asked him to come back and do routine maintenance - including replacing my filters and also insulting the outside water pipe to my home (he does plumbing too.) His charge? $60 for everything including all materials.\\n\\nBut what really set J & K apart from the several companies that have serviced my heating, cooling and plumbing needs before is instead of using his knowledge and expertise to get me to spend more money - he told me I didn't have to spend as much as before.\\n\\nSo I made another appointment for him to repair some plumbing problems I have in my master bath - the same problems I had repaired in my 2nd bath. I paid close to $700 for those repairs - Julio quoted $120, including materials and labor.\\n\\nI will report if my future experience differs from these, but I'm thinking this is a homeowner's dream - competent, no attitude, priced honestly, licensed professional. Now if he just did all the other kinds of house repairs I need done....\",\n",
              "  5),\n",
              " ('Good breakfast, inexpensive and fast', 4),\n",
              " ('Close by so its very convenient for a good meal.  Its also a great place to relax and watch the planes come in.  The meal are nice in size and the price is right!!  Give it a try!!',\n",
              "  4),\n",
              " ('Pet friendly. Awesome price, especially if posting to Yelp. Cheerful atmosphere. Poor movie choice for children in the waiting room.',\n",
              "  4),\n",
              " ('We had Alex Suroiu help us get our car rental. He was super helpful and friendly! Definitely the best service we had Thank you Alex!',\n",
              "  5),\n",
              " (\"Thanks to winning these coveted Yelp tickets I was able to attend this great event Sunday night. It took a little bit of asking around to find the VIP ticket booth, but all I had to do was find the right person to ask. \\n\\nWhen my date and I first got there we walked around and noticed all of the very cool bars. Our favorite themes were the one that looked like candy land, and American Gladiators. We loved that each bar would make us their signature drink. \\n\\nThe VIP area was very nice and a great place to rest your feet from all of the dancing. It did however, take people too long to get dancing. C'mon people, get on the dance floor! All of the people working the event were great, I could not have asked for better service. However, some of the people who attended were not gentlemen, but it's something you have to anticipate with all of the great drinks to be had. \\n\\nAll in all a great night! Thanks Nikki, Kelly and I had a blast!\",\n",
              "  4),\n",
              " (\"So I was a fan of the place that used to occupy this location.  It was with a bit of anxiety that I chose to go to the new restaurant.  However that anxiety was soon changed to happiness as I hungrily explored their expansive menu.  \\n\\nSushi Hero did a lot of modernizing to this place and although the other place was awesome, this place has a huge menu, amazing staff, fresh fish, and a great ambiance.  \\n\\nEverything I ate exploded in my mouth with a variety of delicious flavors.  I will definitely be back, there are so many items I have yet to try.\\n\\nIt's definitely among my favorite all you can eat sushi places, not just on the East side  but in all the city.  If you're nearby, you owe it to your taste buds to give Sushi Hero a try.  Ask not what your taste buds can do for you, but what you can do for your taste buds.\",\n",
              "  5),\n",
              " (\"Outstanding food. We've been here twice, once for lunch and once for dinner. The gyros salad with pomegranate balsamic is wonderful, and huge. It comes with 2 pitas. Easily makes 2 meals. The gyros sandwiches and chicken kebabs are also excellent. They do prepare the food to order, so be prepared to wait a bit.\",\n",
              "  5),\n",
              " ('Amazing, amazing, amazing! Thank you for making my best friends birthday, so special! You will be my number one florist in Las Vegas',\n",
              "  5),\n",
              " (\"Had the worst experience with Safeway this week.  Although I used to love their delivery service, I scheduled a delivery for Thursday between 6:00 and 10:00 p.m. and at 9:45 I received a call that they couldn't make it that day, but I could schedule a 2-hour window for Friday once customer service opened in the morning.  Called Friday morning and scheduled a delivery between 1:00 and 3:00 p.m., then worked from home to accommodate this delivery since I need my groceries for a dinner party Saturday that I'll have to start prepping Saturday morning.  At noon I was called and told that no one would deliver my groceries today.  After speaking with a customer services manager, AK, I was told someone would call me to make their best effort to arrange the delivery today.  An hour later, I get a call assuring me my groceries would NOT be delivered today but that I'd be called by customer service about delivery first thing Saturday morning.  It's now 3:30 and I've heard nothing from anyone.  Looks like I'll be waiting for my refund and getting my groceries at Fry's Food Stores tomorrow morning.\",\n",
              "  1),\n",
              " ('Visited Baja Bar & Grill last night with my fiance after we both got out of class. I was really, really impressed! For two meals, a drink, and a side of chips and guacamole it was only about $20. Plus, there was a taco eating contest so I guess we paid for entertainment, too! Our server (the owner) checked up on us frequently and asked if we needed anything else. I got the fish and chips, and they were amazing! We also got a side of chips and guac - they do not skimp you on the guac! Overall it was delicious and I will definitely be returning.',\n",
              "  5),\n",
              " ('Lovely bakery with fresh coffee and yummy muffin. Nice decor and you will feel easy and comfortable here',\n",
              "  4),\n",
              " (\"This was my first time at this club and me and my friends had an amazing time . The DJ played great music from old hip hop to new hip hop even played a song my friends requested with a shout out which was super cool since most vegas DJ won't do that unless you slip a bill under the table for them . We reserved a Bottle service and it was a great deal for a vegas VIP but obviously way too pricey but that was expected and it was money well spent our waitress for the night wasn't so great so my friend mention something and minutes later another waitress came along she was blah as well but my 5 star review is for the guy helping the waitress buss around his name is AJ I believe hopefully I get his name right since it was way to loud in there and hard to hear , anyways he was amazing top of the line costumer service was on top of everything refilling the ice, juice getting us cups and so on..he blew my expectations off the roof and he didn't have to dress half naked to get out attention all 6 of us in our group were blown by how attentive he was with not just our seating area but with everyone else . Way to go AJ 5 starts to you and because of that we will be back . Thank you for the amazing service\",\n",
              "  4),\n",
              " (\"Wonderful food and that place is busy but never crowded like other locations. Nan has a shape of a sandal and is huge and very tasty.  I've tried most kebobs and my favorite is Sultani Kabob - a combination of chunks of filet Mignon and lean ground beef. Rice is perfect, too. It's always freshly prepared. \\nDecor is very nice - perhaps similar to other locations. It features a famous (and my favorite) picture of an Afghan girl taken by Steve McCurry (google Sharbat Gula).\\nThis location is fairly new in The Great Punjab Business Centre. One can go Indian grocery or fabric shopping while in that area. The Centre is large but not very frequented by locals - Bamiyan Kabob seems to be the busiest of all in the area.\",\n",
              "  5),\n",
              " (\"This is so exciting. A new bakery moved into the space next door to my office. Not only do they bake fresh breads and buns on site, but they also serve Cha Time Bubble Tea in the same location. And to top it off, they also have fresh baguettes. And what's more, it's a Taiwanese chain and full of fancy buns that are not easily found not just in the hood but in the entire GTA! So I think this place has a LOT of potential for greatness. The space is awesome, the vibe is inviting and definitely feels like the kind of place I want in my hood. The only room for improvement is some of the bread are kind of dry. I would definitely suggest they work on that. For example matcha red bean was super dry. But some of the other bread such as the sweet taro bun was moist and lightly sweetened. I also loved the bacon twist bread. It went perfectly with my dinner and I can forsee me buying lots and lots of it in the future. \\n\\nGrand opening is on 9/17 but the place was packed when I went on the soft opening earlier in the week. It's currently cash only but hopefully they will setup the machines soon. Lots of samples to introduce you to all the flavours of breads, buns, cakes... Great selection, around 20 or so? Prices are reasonable for fancy bread with a range from $2-5 from what I saw. I still have a lot more to try but so far, LOVE!\",\n",
              "  5),\n",
              " (\"I came here very early morning at around 10am so I didn't run into any busy traffic with waiters, waiting for food or anything like that. Our waiter was very nice and helped me order since it was my first time being here. I ordered a pancake with bananas it was sweet n tasty, what I like about the pancakes here is that the ingredients (bananas, chocolate chips,etc) are actually baked in the pancakes they are not just tossed on top. Another great thing about the pancakes they are actually baked it makes a great difference they are sooo fluffy in the inside and on the outer side of the pancake crispy, yummy! I only ate half of the pancake. I also ordered there breakfast platter; 2 sunny side eggs were warm and tasty I ate only one , 2 sizzling sausages ate half of 1, and evenly cooked hash browns only ate a spoonful. Lastly I ordered a side of biscuits and gravy and omg they are the best I have ever tasted I highly recommend trying them out! They come with 2 biscuits I only ate one I so wanted to save the other one for later. I tried a little bit of everything I didn't finish everything and not because the food wasn't to die for but, because I did order a lot of food couldn't fit everything in my stomach. I guess I got carried away lol I so wanted to try everything on the menu.\",\n",
              "  4),\n",
              " (\"We have a love/hate relationship with Chili's, we come here a couple of times, then we have a terrible experience and we stop coming here for a while... until it is long enough and the cycle starts all over again.\\n\\nThis time we had a good experience. Our server made all the difference, he was a kind of serious and extremely polite young man. He took really good care of us, I am not sure about his name, I think it may be Ted.\\n\\nHubby had the fajitas and there were very good and tasty. He added cheese, and our server explained there was an extra charge for it. That is something that I always appreciate.\\n\\nI told him I was very thirsty and my glass was never empty. He was also very accommodating to my low ice/no ice requests.\",\n",
              "  4),\n",
              " (\"Ok.. over all review is a 3.. this visit is a 1 for the fact that it is colder in here than the 36 degrees outside!  Ask if the heat was on and they said it was on.  OK, it's not though. It's like eating In a refridgerator.  Oh please let my food stay warm enough to eat while they carry it to the table.\",\n",
              "  2),\n",
              " (\"Futo Buta is to ramen what Charlotte is to authentic NY bagels or pastrami. When your best is just not good enough. Stopped in yesterday and ordered the smoked pork belly buns and Tonkotsu ramen. First, the pork belly rolls didn't have a spongy light texture, they were closer to a biscuit texture than a roll. The pork itself was nothing to write home about - most of the fat was rendered off causing it to be quite dry. The ramen is only as good as the broth that comprises its base. Futo's didn't have that silky unctuous flavor of a protein meat base, more like bone soup. The ramen noodles and mushrooms were the bright spots. David Chang - Charlotte needs you !\",\n",
              "  2),\n",
              " ('I really wanted Pho but this was not good. The meat was tough and I paid $2 extra for one meatball. ONE meatball! I also ordered the pork plate which was just ok. The egg rolls were the best thing I had and they were just ok too! Very sad the pay over $30 and get this food',\n",
              "  2),\n",
              " (\"Back from our trip to Vegas and made a second trip to Count's Kustoms.  Roli was in the office and was very accommodating and pleasant, taking pictures with guests.  Nicest staff in Vegas!  Thank you again for giving us a great experience.\",\n",
              "  5),\n",
              " ('Loved the show & happen to be walking through TI on a saturday where they were having an open practice with a Q&A. It was very interesting & so glad we stumbled upon this quaint opportunity. Check it out...pretty cool.',\n",
              "  5),\n",
              " ('I never write bad reviews, but I just couldn\\'t help myself with this one.  They have a bunch of chain and some boutiquey type stores.   The only part I do love are the gorgeous palm trees and the sitting areas in the middle of the malls.   Other than that this place if for a bunch of snots, and show-and-gos.  I went to several stores and restaurants after it opened thinking it would get better. The last time I went, another customer dropped a heavy object on my foot in store and laughed with no concern and went back amongst her group of friends/family to further laugh, and the store employee asked if I was ok and did nothing.  I limped away, got an novacaine injection in my foot later because of the pain.  I will NEVER return to this douchey overpriced, snob shop place. This goes to show the type who hangs out here and loves to blow and spend spend spend their hard earned casholla to be oh so-hip and to be \"seen.\"  No thanks for me.',\n",
              "  3),\n",
              " ('after visiting sincity vapor II i basically said screw it and was gonna keep smoking but this review isnt about them.\\n\\ni checked yelp looking for other vape shops and this place popped up seems like they just opened. i was real apprehensive about vape shops in general so decided to call before i headed out. the owner answered the phone and i had a very good conversation with him that ended up with me coming down a few hrs later.\\n\\nHe was very knowledgeable, answered all my dumb questions without making me feel like an idiot and bottom line i walked out of there with a little less money and alot happier. i have now been back multiple times for juice, advise and just to hang out and bs and every time its the same. greeted as soon as i enter the door no matter how busy he is and they make you feel like you are old friends. \\n\\nthis is a new store but they are adding new products regularly (mods, batteries, clearomizers etc) and new juice flavors all the time. they have complimentary wifi, tv, and coffee I have no reason to go to another store keep up the good work. \\n\\noh and their prices are amazing',\n",
              "  5),\n",
              " (\"Star nursery is a great garden store with helpful employees. They have a pretty big selection of various plants from small in hose things to larger outdoor items. \\n\\nI visited this location on their anniversary and received free tomato plant with a purchase. I was looking for two low maintenance house plants that helped purify the air. The staff was pretty helpful, the pointed me in the right direction and that was it. \\n\\nI loved the cute little red wagons each customer gets to pull all through the store. You can get a plastic floor cover as you exit the door to avoid any spills on your ride home. \\n\\nAlso if you're ever curious about what low maintenance house plants to get, I recommend aloe Vera plants, snake plants, a spider plants and golden Pothos.\",\n",
              "  4),\n",
              " (\"What can you say about a liquor store?  You go in... pick your bottles...  the guy puts them in nice snug paper bags for you and you leave.  You don't really sit around and chat about the credit crunch, fashion or sarah plain's daughter.  This place just gets the job done.\\n\\nTheir hours kind of suck as they close I think at 9 on Friday and Saturday nights and they only take cash for hard liquor which seems kind of shady to me.  Other than that it's pretty good.\",\n",
              "  4),\n",
              " ('Literally WORST CUSTOMER SERVICE that I have experienced at an Auto Zone. I would go out of my way over 10 miles to avoid coming to this location. Walked around the store looking for an item and was not approached by a single associate. Will not be shopping from this location ever again.',\n",
              "  1),\n",
              " ('Never will I come here again!  Poor service and disorganized!   Waited 4 hours for a simple oil change.',\n",
              "  1),\n",
              " (\"Gyu-Kaku is an classy Japanese BBQ restaurant with great service, a fantastic happy hour, and mid range prices.  For those of you who have not been to a Japanese BBQ, think of those AYCE Korean BBQ places, but with better cuts of meats that are individually laid out on a tray rather than plopped in a bowl.  \\n\\nI arrived earlier than my group, so I sat at the bar for a beer.  The happy hour was $2.50 draft beers and I took full advantage of it!  Our group sat at a booth - they've designed the restaurant to maximize booth space, cause you know, no one likes to sit close to a stranger.  They also air vents built right into the grill, so all the smoke gets sucked out before it even floats upwards.  Now, while you won't go home reeking of smoke, you also won't get the delightful smells of BBQ here as well.  \\n\\nWe ordered two of their group sets, which I love.  It takes the work of picking the individual meats and sides out of my hands.  Food just magically appears!\\n\\nOverall, I highly recommend Gyu-Kaku if you're looking for a nice place to have a BBQ dinner.\",\n",
              "  4),\n",
              " (\"Let me be very clear its is a money pit an they  took the money an push me right out the door I would not  Refer this place to anyone they talk big but  Produce little of nothing so what the charge is not work them or time yes I'll give them 5 star for all the good game they talk l.......\",\n",
              "  1),\n",
              " ('Hot & new corner restaurant in front of their cafe. Great food & service! Excellent homemade bread & butter. The fish was perfectly flakely. The Cavatelli pasta noodles & peas are an excellent pairing. The photo of the locally grown strawberry dessert says it all. The small plates are perfect for sharing. Bon appetit!',\n",
              "  5),\n",
              " (\"I was here the other night and I've been reading about this place they have pretty good food in here I like that pork belly mac and cheese the closest pretty good to have that tri-tip plate pretty tasty I would recommend this place to anybody\",\n",
              "  4),\n",
              " (\"Technically located inside an Asian market (but with their own store front--similar to Subways inside Wal-marts) this place serves up decent, Filipino munchies.\\n\\nFILIPINO MUNCHIES\\nAlthough it doesn't taste like you've slipped into a Filipino family's kitchen and dined in secret on their creations, our desserts were still satisfying especially with the hot sun melting us outside. There was a slight chemical aftertaste in our selections--a small reminder this restaurant was in the business of making mass-produced, similar goodies in other locations. My Taho and our hot items didn't look very appealing in its disposable container--it looked like a rushed job of grabbing to-go containers from a birthday party.\\n\\nGLANCING AROUND\\nOur cashier was very friendly, but with so many bodies dancing behind the counter, it was no surprise to witness some confusion in the interactions between the employees and the customers before and after my order. The dining area is very simple and plain--reminiscent of the old, old fast food places before they decided to upgrade.\\n\\nI believe this place will stay busy from the mere belief most of its patrons are visiting Filipinos who want something somewhat reminiscent of home.\",\n",
              "  3),\n",
              " ('As everyone knows, this is the infamous sign! It\\'s located on South side of Las Vegas! Hint, trip advisor has the wrong address on it (someone put north Las Vegas).  You can find ease parking right in the middle of the street.  Technically, it\\'s an inner parking lot.  You can park for free and take pictures.  Btw there a \"professional\" taking pics here but he\\'s more self-proclaim.  We just did it ourselves! No need to pay someone when our phones and selfie sticks or other visitors can take our pics for free! Come see the sign!',\n",
              "  5),\n",
              " (\"Ridiculously under reviewed on Yelp. Everybody go to Debu's STAT!\\n\\nI am pretty stingy with doling out stars, but this place is worth every star. Why can't it be downtown, closer home so I can go every week?\\n\\nThe place is not very spacious, so I made reservations and we were promptly seated by a pleasant hostess. The menu is well picked, the flavors are huuuge,and the food presentation is great! The hostess doubles up as a server so at times the service can be a tad slow but totally worth the wait.\\n\\nWe started off with fritters, and boy was I surprised! The fritters came in casings made of pappadoms and were garnished with a smattering of sauces and salts. The complimentary mango salsa is a take home worthy product! So good!\\n\\nMy dining partner ordered the vegetarian sampler which had a grilled cauliflower, a cheese dumpling aka kofta and delicious lentils! I ordered the non vegetarian platter which had jumbo shrimp cooked three different ways: grilled, in coconut sauce and in mustard. Each prep was so different from the other and so, so good. The combination of traditional spices in non traditional ways resulted in uniformly great flavors.\\n\\nWe weren't sure about ordering dessert cuz we were stuffed at this point, but the server gave us a complementary dessert platter which had cheese cake made out of cottage cheese(very decadent and I've never had this before); blueberries, and gelato ( I think). The ensuing food coma was one of the best I've ever had.\\n\\nDinner for two came to $80 with tip and tax (but sans alcohol and with complimentary dessert). Worth every penny.\",\n",
              "  5),\n",
              " (\"Editing review: my waiter comped my meal so I'm revising to 2 stars. \\n\\nI've eaten here before and am very disappointed with my breakfast experience. \\n\\nI ordered the Ultimate breakfast because I wanted pancakes badly and all the other breakfast staples. \\n\\nI sent the eggs back twice. I ordered over medium and both times they were less cooked than over easy. \\n\\nThe breakfast potatoes were soggy when they should've been crisp. Definitely taken out of a warming tray. \\n\\nThe pancakes which was the whole reason we came here were tough! I couldn't cut thru them with a fork and i had to stop eating after 1 bite because chewing the hard shell was too much for me. \\n\\nCoffee was only refilled once. For a breakfast that costs $30, I expect it to be fresh. And I got something less than that. \\n\\nI finally settled on eating the soggy potatoes after he took my eggs away. I gave the pancakes away to my fiancé. His omelet was bland at best.\",\n",
              "  2),\n",
              " (\"Man, I was disappointed considering this place had an average of 4 stars! I frequently visit Yi-Mei and Noodle Pot so maybe I have already found the gem's of Chinatown/Taiwanese food. The beef noodle soup is ok, but there was only one noodle choice. We also got the pork rice plate. Another Yelper also wrote this and we had the same problem...isn't that pork supposed to be fried on a rice plate? It wasn't a deal breaker but just a little strange. The food was just so-so and our table was dirty when we sat down. This place needs to be seen by the health dept and needs more sanitizer in their sanitizer bucket.\",\n",
              "  2),\n",
              " (\"Just finished a productive and delicious working lunch at Cantina Laredo at Tivoli Village. The salmon chimichurri lunch special and service were  fantastic. \\n\\nI took note of the Thursday night lady's night with half price Margaritas. They have some unique and creative twists on traditional margaritas. Yum! \\n\\nFree Wi-Fi makes it a great place for business. Big thanks to the day manager that really went above and beyond in gracious service.\",\n",
              "  5),\n",
              " (\"I purchased a groupon awhile back when they first opened and I'm finally getting around to using it. This place is located in a very small strip mall behind the gas station. The Christmas lights strung in the window is what caught my eye and led me here. \\n\\nWe were warmly greeted by a husband and wife team. We were the only diners at the time, he gave us a very thorough run down of the menu items and had suggested the CC Sizzle, we picked Nacho Style. This was delicious. It was a blend of meat with onions, cabbage and cheese over their homemade tortilla chips. Our second item was the Green Chile Enchiladas, made with Hatch green chili's and chicken with creamy chili's sauce. I couldn't decide which one I liked more. \\n\\nWe ended the meal with Sopaipillas. Probably one of the best I've ever tasted. I like mine with honey, and they had a few different types to choose from. \\n\\nThis place is really casual. Even if you're dining in, your food is served in styrofoam to go container. The soda fountain wasn't working when we were there, bummer, I like a nice cold Coke when I'm eating Mexican food (only time I like soda). The owners were really nice, he was telling us all about where they're from in NM. I'm definitely planning to return and try some of their other dishes.\",\n",
              "  5),\n",
              " ('Quality work for a fair price, this is my go to shop for all my equipment maintenance  needs. Thanks for all the great service!!',\n",
              "  5),\n",
              " (\"Based on Previous yelp reviews,checked out while in town on business. Had Great service,better sandwiches,and an amazingly creative menu,That was equally delicious.they have homemade soups that change from day to day,I tried both a ham Brie and apple pressed sandwich,and a chicken salad that was probably the best I've ever had.(hope my mom doesn't see this) great atmosphere right on Main Street.\",\n",
              "  5),\n",
              " ('We decided on this place for dinner because it was in our hotel and there were reservation times available. Everything was okay, nothing blew my mind other than the two sauces that came with the steaks - red wine and peppercorn. We had the seafood appetizer, chili cheese fries, 14 oz sirloin with the ultimate Mac&Cheese, filet and lobster, and chicken. Our sirloin was cooked well but had a lot of chewy fat and gristle. The chili cheese fries and the mac&cheese both came out a little differently than expected but were good. The prices were typical Vegas prices, higher than the quality of the food in this case. But overall it was a good experience with good service.',\n",
              "  3),\n",
              " ('Voicemail full at times when called to scheduled. Left several messages on a voicemail to schedule. Never heard back. Not good business. Told Amazon local about my problems with this business and it was nice to get my money back in an unused voucher.',\n",
              "  1),\n",
              " ('We ate here last Friday for lunch and I would say it is yummy Filipino buffet. Would definitely recommend this place.',\n",
              "  5),\n",
              " (\"Love this place. It's been a while since a unique restaurant bringing complex flavors and sexy textures has come to Charlotte. Tired of having PHo all the time now I get my ramen fix weekly lol.\",\n",
              "  5),\n",
              " ('Best car wash service in chandler area . Nice staff n service provided. Best thing is that they have option of car pickup after 6 pm also so we can just deliever the car n pick it up later..',\n",
              "  5),\n",
              " (\"I'll start by saying I love a deep tissue massage and often times just need one to feel better in my body... I had a gift card to Sol Escape and was excited for my appointment.  I went in the evening and at that time of day, I'm typically exhausted from my 2 small children... I had an appointment with Al, he was so nice and asked me questions about what I needed out of a massage.  He suggested Ashiatsu, which I had never heard of actually... I also missed the memo that he'd actually use his feet at times... all I know is- it was the best massage I have ever had!  The hot stones were amazing, and all I could think about was coming back in the winter for another one!  Don't be weirded out about feet- like I said, I had no idea until it was over.  You will miss out on the best massage ever if you overthink this!  My only suggestion would be to have the client choose between 2 scents with the oils.  The oil he used was fine during the massage, but when I left, I wasn't as much of fan.  Thanks so much to Al- you're amazing!\",\n",
              "  5),\n",
              " ('I very much appreciate this business. I went in earlier today to replace my mini box remote with a bigger one. The woman who helped me, Dolores, was super nice and professional. I will definitely be back',\n",
              "  5),\n",
              " ('Honestly, this place doesnt even amount to one star. I hated my first experience at Miss Korea but still decided to give it a second chance. I was so wrong to do that. First of all why are all the waitresses wearing street clothes? At least have an apron around ur waist?? The wait for the food was way too long and during the wait they didnt even bring us water, I had to ask for it. Also, that button on the table? Ya it doesnt work. Why is it even there if its not going to be functioning properly?? The food was honestly too expensive, around 20 dollars for a few pieces of ribs. This was also the first korean restaurant that didnt have appetizers and the funnier thing was that when we asked about the appetizer the waitress seemed to be in awe that we expect side dishes from a korean restaurant... A few days later I come back wanting to give them another chance. I asked for a pork bone soup, they were out of that, I asked for their bbq ribs they were out of that too and mind you it was 8pm when I went there and they close at 2:45am. I then asked the waitress what she recommends and she says the beef tofu soup. The soup literally had 3 small pieces of beef and a few pieces of tofu!!! And my friend ordered bibimbap, this was also my first time seeing bibimbap in a regular bowl rather than a stone pot. Do yourself a favour and dont waste your time and money at this place.',\n",
              "  1),\n",
              " ('Great selection with extremely helpful staff. They have a nice mix of new and old fragrances for both men and women. I would highly recommend this store to any of my peers! Why pay retail when you can get them for a lot less. I will say all the fragrances I have ever bought from this location are all authentic, I haven\\'t had any problems with them being \"watered\" down which some people claim such companies do.',\n",
              "  5),\n",
              " (\"The service was great but my patty melt was so greasy I couldn't eat it. I literally could squeeze the grease out of it. I'll never go back! Management said I ate too much to get my money back! I took 1 bite!!\",\n",
              "  2),\n",
              " ('I have given 4 stars as the food and setting is great . Had dinner here and the young man explained the menu and was very attentive, decided to try brunch today ... food was good service sucked ... no spoon for the coffee , waitress checked in once waited a long time to place order....impression I received was that serving was beneath her and she was doing us a favor ....she definitely does not belong in the service industry.',\n",
              "  2),\n",
              " ('This a chain. You know what they have, you know the price point, no big surprises there. There are so many chain pharmacies in Charlotte and they seem to do very little to differentiate themselves from one another.\\n \\nThankfully, I only have one prescription I have to deal with and just have to go by once a month. But, on that monthly trip I\\'m immediately irritated if I go inside. Generally I\\'m the only person at the Rx counter and there are 2-4 employees working. No one acknowledges you for at least 1-2 minutes; it\\'s like they have a timer and can\\'t speak before it goes off. Then, all they say is \"Be right with you\".  When someone does finally ask your name they dig through, find your Rx, make you sign the insurance book and cash you out with no more words. It\\'s really amazing how little communication goes on. \\n\\nThe drive-thru pickup, if it doesn\\'t have a long-line is slightly better for some reason. Not personable at all but at least a bit quicker. \\nI\\'m really just rather meh about the place and wish there was a local pharmacy that took my insurance.',\n",
              "  3),\n",
              " ('https://www.consumeraffairs.com/news/mypillow-gets-a-rude-awakening-as-the-better-business-bureau-gives-it-an-f-010517.html',\n",
              "  1),\n",
              " (\"This is a tourist spot for sure.\\nFood is good. Price is strip like.\\nOlder spot that's known for movie scenes.\",\n",
              "  4),\n",
              " (\"Disappointed and heart broken to say the least......................I brought in my healthy 5 year old Shar-Pei for a routine teeth cleaning and simple entropian surgery and left with a dead Shar-Pei. I do understand there can be complications with anesthesia but when you are giving 2 different stories about what happened then it becomes concerning. My dog had prior anesthesia numerous times without incident (NOT at this vet's office). The prices are very reasonable but I do think you get what you pay for and unfortunately my dog paid the ultimate price. I would never recommend this vet or bring so much as a goldfish to this office.\",\n",
              "  1),\n",
              " (\"WORST Vegas hotel EVER! Room had an iPod-capable system, but did not have enough connectors for every room, so no personal music. Radio was broken and they did not replace it, so no music at all. Did not even have an alarm clock radio in room. TV reception was broken where half of the tv would freeze on a commercial during the show. Air conditioning blew up, leaving our entire room (beds and bags) covered in dust chunks. Maid service NEVER showed up, even after two complaints!\\n\\nManagers are awful. Talked to one manager who said all he could do was give us room service in our dust-filled room that had still yet to be cleaned, even the next day! The second manager was just as useless. I called front desk to talk to him again and they put me on hold for 20 minutes, then sad he would call me back. Never got the call. \\n\\nYou know the hotel is absolutely horrible when the people that work there laugh about how many complaints they get and say that the hotel (that employs them) sucks.\\n\\nWe would have been better off staying in a shit box that knows it's a shit box, rather than pretending to be decent.\",\n",
              "  1),\n",
              " (\"Piccolo forno is, hands down, the best value for food in the city that I have come across. I've been half a dozen or more times since I moved to Pitt and Piccolo Forno has never disappointed me. If you've never been before, at least one person at your party should order the marscapone y speck pizza to share with the group. It is simply delightful.\\n\\nPortions are extremely reasonable- I'm a normal sized, younger man and I'll eat 6/8 slices at dinner and not leave hungry. Prices feel extremely low (13-15) for a pizza of such insanely high quality. BYOB makes this place the highest value restaurant I can think of. \\n\\nThe only downside of the restaurant is that they do not take reservations. They will, however, call you so what I've always done- either in a group of 2, 3, 4, or 6, is to place the reservation and head across the street to round corner cantina to enjoy a drink while we wait. I recommend you do the same as the wait will often be 30-50 minutes if you arrive during prime time.\",\n",
              "  5),\n",
              " ('Great selection of Quad Copters and helicopters, but most important, the hard to find parts you can\\'t get at stores like Hobby Town, etc. Very knowledgeable staff and like their sign says, \"Friendly\". Glad I found them!',\n",
              "  4),\n",
              " ('Al was great! He was honest, friendly, and professional. He made sure I knew he had coupons online specifically for the maintenance flushes I wanted to do on my car. He was good about explaining any concerns he had on my car and when I wanted to get a certain filter changed, he looked into it and told me I actually didn\\'t need to change it. I also liked how he wrote out price quotes for things he felt like needed to be changed so you can see exactly how much things will cost and no \"dooms day\" picture if you don\\'t get it changed right away to scare you into doing something. Funny enough, another customer had brought her car in for inspection to renew her tags and he told her they weren\\'t actually due until March 2014, not March 2013 as she thought and he was happy to send her on her way if she wanted to wait on it. Really happy with his service and will definitely come back!',\n",
              "  5),\n",
              " (\"Trevi did a wonderful job hosting our wedding reception. The food was delicious and service was awesome. I definitely recommend this venue for anyone looking for a great restaurant in Vegas. Amanda coordinated all the fine details for us, we couldn't of asked for better service.\",\n",
              "  5),\n",
              " (\"We were staying at a hotel nearby and found the reviews for this spot. Boy are we glad that we did! We are constantly on the hunt for great tacos in any city, this was definitely one for our list. \\nWe ate here for dinner both nights we were in town. The majority of the meals ordered were the 3 taco plates. One carne asada, marinated pork, and carnitas, served with yummy rice and beans- the tortillas were very good too. This is definitely the plate to get here. I think that the carne asada ones were the best. \\nNormally we order all of our food medium spiced, but beware of the red hot sauce that they put on the tacos. My daughter somehow got an extra dose on her tacos and was having a hard time getting through the burn. This somehow justified the obscene amount of Fresca's ordered. :) If you are remotely sensitive to heat, order your sauce on the side.\",\n",
              "  4),\n",
              " (\"My favorite Shoppers location among the four I pass between my work and home.\\n\\nPros:\\n- bigger & better organized than most\\n- has the most helpful (and generous with samples!) beauty consultants\\n- postal office staff are great too (something you know is a rare occurrence if you go to the other locations nearby)\\n- rarely run out of sale items, a frequent occurrence at the smaller locations\\n- a large food section makes it a good spot to stock up on staples (milk is cheaper here than at the supermarket)\\n- they sell TTC tokens\\n\\nCons:\\n-  I'm not a fan of the pharmacy because a) the pharmacist isn't very knowledgeable about things like supplements and non-prescription items and b) it's overpriced (but that's not a location specific complaint - all Shoppers are).\",\n",
              "  5),\n",
              " (\"I gave them a chance twice but the pizza just didn't make me sing.\\n\\nThen again, like sex, when pizza is bad, its still pretty freekin good!\",\n",
              "  3),\n",
              " ('...the Saturday Market is awesome - except for the baked goods from Vincent\\'s.  A $2.50 Almond Croissant that was 1/2 the size of my palm, lacking in flavor, and ice cold?  No.  Sorry.  No.  As a matter of fact, it was the worst almond croissant I have ever eaten.\\n\\nThe bread pudding was slightly better and the duck and pork tamales are actually quite good.  The overall \"Saturday Market\" is a nice place, but the products from Vincent\\'s Market Bistro only make me wish I\\'d have just gone to Tammie Coe, La Grande Orange, or so many others instead.',\n",
              "  2),\n",
              " (\"Clive understands that even grumpy vegan ladies want greasy nosh and partytimes with their homies. They also understand that said grumpy vegan ladies do not, in fact; enjoy a grey bean-y discus that has been microwaved, until hateful and rubbery. \\n\\nFor all these things, Clive has won a place in my heart. Pile all the toppings you want on a vegan burger ~*that actually tastes mouthwatering*~, or a cow burger (I won't judge you, I promise... O_o) at no extra charge! The only extras they charge you for are a fried egg and bacon. Take your Celiac friend to a burger joint, without fear of the cops showing up at your door later that evening to arrest you for attempted murder! Personable, friendly (and attractive!) staff, that nudge you toward the vegan - not veggie burger (the veggie burger uses eggs as a binder) because they genuinely want you to have the best experience at their establishment possible. \\n\\nThe only thing I didn't fall in love with were Clive's fries. The ones at the top of the bag I received, were delicious! But after breaking that first layer; the rest were too salty, gummy and greasy. Sorry, Clive. Maybe if I had spread them out, like the ladybee next to me, they wouldn't have gotten so chewy? I'll give them another try next time, because I hella love potatoes. I do love that they are generous with them, so on my next visit I'll take a cue from other reviewers and split an order with a homie. \\n\\nLove the atmosphere, the adorable drawings of food everywhere - even on the staff tees; the commitment to having a simple and locally sourced menu, and being environmentally friendly. Thanks for existing, Clive!\",\n",
              "  5),\n",
              " (\"I just got back from my first trip to the Stratosphere. I had a Select room and I totally loved the place!\\n\\nJust the right amount of crowded, outstanding service by everyone I encountered, and I didn't feel like I was constantly being ripped off like most other strip places. Played volleyball at the pool, ate at Roxy's (2x) and McCall's Heartland Grill...both had gluten free options for the wife too. Saw the Frankie Moreno show for free, which was one of the best show's I've seen. Lots of bars, restaurants, and stuff to do. Also the area outside the hotel was fine during the day, and will probably continue to get better when SLS and Walgreens opens.\\n\\nStrat has won a spot in my hotel rotation.\",\n",
              "  5),\n",
              " (\"Getting here really sucks when you are staying on the strip and don't have a car. Walk down Tropicana on the side of the street Excalibur is on and eventually you will get there.\\n\\nThat being said, this is great stuff. It's pretty incredible how many people are in here at any given time. I got the double double animal style and it was very flavorful. Not your typical fast food burger when it comes to freshness and taste. Fries were really not bad at all, not sure why people complain so much about them. \\n\\nWish they would come to the east coast but ain't gonna happen.\",\n",
              "  4),\n",
              " (\"I travel for work so I'm always looking for good food thats not fast food. I've been in Arizona almost four months now and this place does not disappoint. Every employee is very nice (just one not so nice one), the food is always great and cooked properly, the salad bar is always fresh (no green lettice) and there is a nice selection. \\n\\nThe one thing I would say is that it would be nice to have the chilled plates for the salad, but it's a little thing. Definately won't stop me from coming to this location.\",\n",
              "  5),\n",
              " ('I have been taking my car to the Bethany Home Rd. and 7th Street location for many years. I always worked with George the Manager who is now no longer there unfortunately. George was always great, helpful, friendly and seemed to be very honest in what repairs needed to be done.\\n\\nI took my car there last week for an oil and filter change. I dropped off my car with Mike who was not friendly at all, seemed pre-occupied with whatever other work he was doing and I felt like he truly wasn\\'t listening to me when I talked to him about what I needed done.\\n\\nWhen I picked up my car, I spoke to Scott who was at least a bit nicer and he went through and explained what their suggestions were for future car repairs and the pricing but I still didn\\'t get a great feeling from him that I would be taken care. I had my breaks done there sometime back so it will be time to get them replaced soon and since they are on a lifetime warranty, all I would need to pay for is the labor which he said would be $60. Since he quoted me a price last week, I naturally thought that information would be saved in the computer system for when I was ready to get it worked on. \\n\\nToday, I called to confirm the price and make an appointment to take my car in. Mike answered and at first quoted me $139.99. I then said that Scott had quoted me a different amount. Mike then quoted me $70.00. I again said that that was not the amount Scott had quoted me. At that time, he asked what Scott had quoted me and I told him $60.00. He said if Scott quoted me that then they\\'d honor it. What I don\\'t understand is, why wasn\\'t Scott\\'s original quote already in the system in my file? Why am I being given another 2 higher quotes? If I\\'m a \"valued customer\" why am I not given the correct and lower quote right away? And furthermore, how am I supposed to trust what they are telling me is correct on what needs to be done? I hate playing this game and shouldn\\'t have to for a place that I\\'ve been going to for years. It\\'s quite frustrating.',\n",
              "  1),\n",
              " ('My new favorite in Las Vegas.  Not perfect with prices a little high but the Micheladas are the best in town and the shrimp caldo as you sit down is a nostalgic touch.  Food is solid and the grilled chicken out at the truck for takeout is the best in town.',\n",
              "  5),\n",
              " ('We go here before Strat shows. 50s style diner. Friendly staff. They even sing to you. Uniforms, music, etc is set to 50s. Really great food. Desserts are to die for. Highly recommend this restaurant.',\n",
              "  5),\n",
              " (\"This is literally the best salon I have found in Arizona. By now I have probably tried a dozen different places and some were okay and some were horrible. I tried out Salon VIP last Saturday and let me tell you....this is by far the only place that knows what they are doing when it comes to hair. I have not been this satisfied since I got my hair done professionally in Europe. Try them out you won't be disappointed. Not to mention the price is right!\",\n",
              "  5),\n",
              " (\"What a fantastic and informative food tour. Not only did we get a good variety of food to try, but we got an excellent history lesson about Montreal from our tour guide, Kim.\\n\\nWe rolled into the Mile End food tour as a group of 10 and were joined by 2 other couples, rounding out our tour group number at 14 people. I won't go too in-depth at all of our stops, but i would highly recommend this tour, based on how our guide took us from stop to stop and passionately described the food we were eating and the history behind it. We made stops at the following locations:\\n\\nLa Panthere Verte - for falafel\\nChocolats Genevieve Grandbois - for chocolate tasting\\nSt-Viateur Bagel - for Montreal bagel tasting\\nRialto Theatre - to tour the former movie palace\\nDrogheria Fine - for Gnocchi\\nBoucherie Lawrence - for meat-tasting\\nKem Comba - for ice cream\\n\\nTo summarize, all of the food and snacks were fantastic. Not a single disappointment in what we were served at each stop or the information we were given. If I had to do it again, I wouldn't change a thing as not only did we get a full meal and more with Kim, but as I stated earlier, she was excellent in explaining to us the history of the city.\",\n",
              "  5),\n",
              " ('Best muffler recently put an exhaust system on my 2001 jetta. They did an amazing job. I went back yesterday (the day before thanksgiving ) and even though they only had one tech that day they made time for me and did another outstanding job. They also called my attention to a transmission mount that had gone bad so I could replace it before it failed. They are the only shop in town I will go to and I recommend them highly! If they are busy they are worth the wait. I want to thank everyone there for helping me out and doing an amazing job on my car.',\n",
              "  5),\n",
              " ('Stopped in at 9:45 PM on a Sat night memorial weekend with a party of 6 looking for chips and salsa and a drink. We were told kitchen and was closed for the night. They should be have recommended to sit in bar area. My party of 6 moved on. Sorry servers...Mgmt had a bad call maybe they can make up your tip. Disappointed!',\n",
              "  1),\n",
              " ('Wow- is the word.  The food here was amazing.  We had a tasting menu - from the start was great.  My favorites were the risoto with lobster, the chestnut soup (which was served so elegantly) and the desserts of banana foster cake with cream cheese ice cream and butterscotch pudding.  When we were there we were treated wonderfully- service was impecable.  Truly a memorable experience!!!',\n",
              "  5),\n",
              " (\"I've always liked to bring my friends and family from out of town here but it's just not worth it anymore. There is always a wait. The food is good and but service is slow. Being there's always a wait I understand. But add the price along with having to wait around. Not worth it. Suggestions if you wait. Go next door to the lions tavern and get a beer while you wait.\",\n",
              "  2),\n",
              " (\"We loved this place and can't wait to go back and try other stuff on the menu....so creative.\\nthe pretzel was amazing!!\",\n",
              "  5),\n",
              " (\"This was my second time visiting for breakfast and I couldn't have been more pleased.  I had the adovada benedict with jalapeno hollandaise.  It was tremendous!  A touch of spice but not overpowering at all.  And the adovada; EXCEPTIONAL.  Served with perfectly done hash browns and pinto beans, I had to take half of it home with me for a second round.                                                  \\n\\nMy girlfriend came for the French toast.  It's all she ever wants here and is worth the drive from Surprise.  Add some awesome local sausage to the plate and it's near nirvana!                                                       \\n\\nSeating is super limited so get there early and be thankful there are no signs or you'd never get in.\",\n",
              "  5),\n",
              " (\"yummm!! There's soo many snow cream flavors to chose from: thai ice tea, horchata, banana, taro, and etc... Love how they have the asian-influenced flavors. The consistency of the snow cream is good - creamy, but not too icy. I had the banana snow cream which wasnt too sweet along with strawberry, lychee, and coconut topping. Next time, i would pass on the coconut shaving because it's too overpowering in flavor. i would defintely return!\",\n",
              "  4),\n",
              " (\"This place is amazing. Fresh bagels right out the oven. Some are so hot that you'd have to wait for it to cool down before you take a bite. I couldn't believe such a place existed in North America. The boys working there were super friendly and nice. The 5 stars are not capable of describibg how amazing this store, the staff and its neighbourhood were. Loved it.\",\n",
              "  5),\n",
              " ('Very excited to hear about the new lobster food truck in town, we were disappointed to miss their debut at Millvale food truck park and promptly signed up with their instagram account so we could cyber stalk their next location. \\n\\nWe looked forward to meeting for lunch at their location  in the strip district all week long and got there with eager anticipation. Luckily for us, they did not disappoint! We had studied their menu online beforehand so we could game plan what we would order and share. \\n\\nWe ordered one cold served Maine style lobster roll, one warm served Connecticut style lobster roll and their lobster tater tots. On the way down, we stopped at a Get Go for some Iron City Light beers to accompany lunch because you need some \"bee-ah\" for your \"lobstah\" rolls. I wish they had forks for their lobster tater tots because it was pretty impossible to eat without one with all that was going on, but I managed. \\n\\nThe lobster truck delivered epic Maine lobster goodness. Can\\'t wait for my next trip.',\n",
              "  4),\n",
              " (\"We are major fans of Mama Ricotta's and were delighted to hear of this concept opening.  Our current favorites (Kebab J in Matthews and Jasmine in South Park) weren't enough, Mediterranean is my 2nd favorite and requested meal.\\n\\nThe parking hasn't been a problem on the two weekend days we've gone and every single thing we've ordered has been delicious and fresh (except, the potatoes-just meh and not worth the purchase, didn't even finish them.)  All brussels sides have been incredible (double points for the dates!), hummus is wonderful, yogurt mac and cheese heavenly and between our trips we enjoyed rotisserie chicken, wraps and salads all to our delight.\\n\\nHere it is 2pm on a Tuesday and I'm counting the minutes until I can go back for dinner.\",\n",
              "  5),\n",
              " (\"I LOVE my peanut butter cup smoothie and I've never had to wait in line. Every time I go there they are bumping my music however, as a business, I think they should have better music. The few times that I've been to this one I notice that they are way under staffed and people are in this long line out the door! People are starting to leave because it is taking so long. As mentioned above, I've never waiting, but as a business you should definitely have more than ONE employees working. I only go to this one because it is closer to home.\",\n",
              "  3),\n",
              " (\"I am an interior decorator in Las Vegas with 17 years experience. I brought in a high end client to bigs to purchase 2 bedroom sets. They were delivered, but one bed had half the screws missing, the bed feet were unfinished wood with plastic wrap, and the headboard was cracked. For 3 weeks I called, emailed and have not been called back even once. If I could leave Less than 1 star.... I would. I have received 2 emails back that said we had to wait for a managers call back and had a nasty tone. I have called 4 times, left messages, but the employees said that the managers never call back and that they wait people out so they don't have to fix anything. I also was told that there was no managers on duty each time I called. DO NOT BUY FROM THESE SHIESTERS.\",\n",
              "  1),\n",
              " (\"I returned at Reggie's last night, and was sober this time with clarity of mind and tastebuds.  So memory did serve me right.  The poutine here is pretty good, both buzzed and sober!\\n\\nA friend & I split the Regular Poutine w/ Chicken Gravy ($5) and the Pulled Pork Poutine w/ Goat Cheese & BBQ Sauce ($6.50).  The regular is the better of the two in my book.  I would definitely stick with that.  My friends liked the pulled pork one better.  I admit the pulled pork was good and not characteristically dry like how most pulled pork is.  However, the pulled pork poutine pales in comparison to the original regular poutine.  Goat cheese & BBQ sauce can't replace the fatty A magic of cheese curds & gravy.  Reggie's uses chicken gravy, which is very good.  This might possibly be my favorite poutine place.\\n\\nI hear their Monte Cristo is good.  If I'm willing to wean myself off of poutine, maybe I'll try it one day.\",\n",
              "  4),\n",
              " ('Ever since my bf recently discovered frozen yogurt (yeah, he\\'s a little slow to jump on the bandwagon), we\\'ve been trying different yogurt places around town. I usually get dragged to a yogurt dessert after eating ridiculously large meals, so thank goodness it\\'s lower in fat! I\\'m 5\\'6\" and trying to keep up with a 6\\'2\" man\\'s metabolism here. \\n\\nYogurtland has been our favorite. They have an excellent selection with a wide variety of flavors and toppings. We tried a bunch of flavors and both ended up doing a strawberry/cheesecake mix with strawberries, blueberries, and walnuts on top. We also added a few of their little cheese cake bites. Their yogurt\\'s taste and texture is perfect.  \\n\\nWhen the cashier rang us up, we thought she had only totalled one of our yogurts by accident.... could it be only $6 for two pretty fully loaded cups of yogurt?? Normally, ONE yogurt runs us $5-6. Not only is it good, it\\'s cheap too?! That gets my stamp of approval.',\n",
              "  4),\n",
              " (\"What amazing customer service!  I visit Vegas about once a year.  I always stop here, always buy something, and always receive AMAZING service!  This time my sister and I had the good fortune to work with Christina F.  Turns out she is dating Joe who helped us last year (and was amazing) although he has moved on to the real estate industry.  Christina actually remembered us from last year and was so much fun.  We bought several things and then my sister mentioned a DY bracelet she had (purchased at Saks) where stone had fallen out a couple of days prior.  Christina was all over it and told my sis to bring in the next day and they would send off for replacement.  Wow!  I love this place.  I'm not gonna buy Yurman any place but here.  Oh, and did I mention that on Saturday they had a DJ?  And they have beverages and snacks?  We didn't indulge in bubbly until after we made our purchases, just to be sure we did it with sound mind.  :)\",\n",
              "  5),\n",
              " ('Very nice restaurant! Excellent service, cleanliness and great food!! Tiki Masala  and vindalo were exceptional.. glad we found this place.',\n",
              "  5),\n",
              " (\"Ordered a business lunch to a customers office ahead of time. Ahdela handled everything perfectly well and made sure the food was delivered on time and hot. My clients loved it and said how this was the best lunch they've ever had brought in. So good. Sadly, as a good host I had to leave the leftovers behind!\",\n",
              "  5),\n",
              " (\"I've been here on several occasions for lunch and some late night meals when I've been downtown.  They have a rather small restaurant, and during the lunch hours it can get fairly packed.  The restaurant is tactfully decorated to match it's ethnic background.  \\n\\nThe menu here is fairly simple with some basic but creative dishes.  My favorite by far has been the spicy basil fried rice with chicken.  It is spot on with some vegetables and rice as well as having a good amount of kick to it.  If you aren't a huge fan of heat, you can choose to have a lower heat level for any dish.  Last time I was here, my wife ordered pineapple rice with chicken.  She thoroughly enjoyed it which had some sizable chunks of pineapple and other vegetables.  The only complaint I would have is I've noticed a less than ideal amounts of chicken in the dishes.  Other than that, the portion typically is more than a single meal.\\n\\nThis is a cool place to have some good Thai food.  If you are nervous about trying Thai, but enjoy rice dishes, this will be a great place to start! I've also had their pad Thai here and it was extremely excellent.  Not a bad price for a downtown meal and their service, food, and staff has been very consistent.\",\n",
              "  4),\n",
              " ('Went there with some friends from out of town and had a good time. Since my friend worked for the company and I knew the GM this review will be a little biased. We had the lobster tacos, calamari, rock shrimp and some tuna for appetizers. I had a excellent sirloin that came with two types of sauces on the side a au poive pepper sauce and a red wine sauce that were both delicious. others in the party ordered the Salmon and Sea Bass that looked great. For side dishes we had the creamy spinach, lobster mashed potatoes  and sauteed mushrooms they seemed a little salty by themselves but with the steak it evened out nicely. For dessert we had the fried donuts that came with a banana and chocolate sauce. Not the cheapest meal to be had but certainly one of the best. I liked the atmosphere in the place it had a nice modern feel to it and the wavy wood panel ceiling was cool. Plus I was told they like hiring hostesses that are tall :)',\n",
              "  4),\n",
              " ('Worst food ever. Had Shrimp Scampi which was $22 and it tasted really bad. Horrible service. It took the waiter 20 minutes to get a drink. Will never go back here ever. Very expensive food. For a party of 4, they added gratuity of 20%.',\n",
              "  1),\n",
              " (\"I usually enjoy Subway, but there are off days. Why are the off days at this location?\\n\\nCleanliness: It's clean, moving on.\\n\\nService:\\n\\nThe servers are hard to understand. Period. They need to do something because the communication isn't great.\\n\\nFood:\\n\\nThe ingredients don't look fresh, and I don't know why. But it looks that way, and consequently it TASTED that way.\\n\\nStep it up, guys.\",\n",
              "  2),\n",
              " ('Hidden gem in chinatown!!! the restaurant might look a bit old, but the food is definitely promising. Price is cheaper than other restaurants on spadina, serving is huge and the servers are very friendly. Will def go again',\n",
              "  5),\n",
              " (\"This place looks nice but the ppl and foods is bad! I'd had Korean BBQ, it was salty over seasoning! Three dollars for tea refills! I can tell you more but just try it out your self!\",\n",
              "  2),\n",
              " (\"Attention property owners/managers (especially those that aren't locals):\\n\\nLet me say that it is extremely difficult to find trustworthy landscaping company in Las Vegas, NV.  Managing a property from hundreds of miles away, I've had other companies flake or take payments and not perform services.\\n\\nDavid and Tammy at Sun Scape Services are awesome!  I've been working in property management for over 20 years with some of my properties being outside of my home state (this being one of them).  I cannot begin to tell you how difficult it is to find a reputable landscaping/lawn service company in the Las Vegas area.  They really are a dime a dozen and some of them are fly by night.  (I was burned by two of them.)  Sun Scape has made me feel completely comfortable and confident being so far away.  My tenants are also very pleased.\",\n",
              "  5),\n",
              " ('Had a delicious breakfast burrito. Proud to say I say I finished it all by myself! But you could definitely share it or take some home. Four stars because if your palate is sensitive, the burrito could be a bit too salty for you. I really enjoyed the root vegetable hash as well!! Great service and a great mixed crowd. Prices are reasonable and portion sizes are pretty generous. Will definitely be back!',\n",
              "  4),\n",
              " ('Primera vez comiendo en el local de gastonia, y definitiva mente no vuelvo! El Peor servicio que he recibido por una tal julianna. Los mariscos Esteban delisiosos, Eso si no lo puedo negar. Pero Que Pena que meseras como esta esten representando este negocio y le arruinen la experiencia a uno. Para Los futuros clientes por favor si les toca esta mesera cuando le esten pagando la cuenta y no desean que Ella se quede con su cambio haganla saber porque Ella no me regreso mi cambio y me toco decirle que porfavor me lo regresara que su propina se la deje en la mesa.',\n",
              "  4),\n",
              " ('I really enjoy this place, the food is yummy and the staff is nice.  Their Thai Tea is pretty amazing as well.',\n",
              "  5),\n",
              " (\"My screen has been cracked since the iPhone 6 came out and I am so happy to finally get it fixed. I'm from LA and everywhere I've been getting my screen fixed was way over a bill. Service was fast. The guy that helped me was very helpful, I think his name is RJ. I'd come back here.\\n\\n-------------\\nMy phone screen sometimes doesn't work now /: I keep needing to restart my phone.\\n-------------\\nSo even though I don't live in Las Vegas, the owner RJ was able to help me get a way to fix my phone. Really good customer service.\",\n",
              "  5),\n",
              " (\"Interesting place to say the least. The owner will ask if you know what you are looking for. If you don't you'll have to leave $3 on the counter. You'll be asked to leave if you don't and she'll only give the money back if you buy something.\\n\\nNow the bookstore: She has a decent collection of French and English books, but nothing rare, exotic or particularly cheap (quite the opposite in fact). Unfortunately the only book that caught my attention was also in terrible condition.\",\n",
              "  2),\n",
              " (\"When we arrived the hostess prompted us to sit at the first table in the bar area (near the front door/ host podium) As its 40 degrees outside tonight I was a little annoyed that the two hostesses working propped the front doors open to bring in all of the outside cushions from the chairs and let the guests inside or near the door freeze. This was not pressing enough to get done at 8:30pm when the restaurant doesn't close until 10pm.\",\n",
              "  3),\n",
              " (\"I wasn't sure what to expect from this place seeing that it is located adjacent to a hotel and open 6AM till 2AM. I recieved a half off certificate and decided to try it. It is very nice inside, upscale and the food was good. It was very rich and filling, The portions are small but the heavy sauces fill you up. I had the lobster she had the salmon. Both were good. The drinks were strong and our waitress was on top of her game. I dont know if this place will make it, since it never looks crowded but i hope it does..\",\n",
              "  4),\n",
              " (\"Went there last night for dinner.  \\n\\nWhat I liked was the fish, not too greasy and tasted good.  \\n\\nWhat I didn't like was\\n* services was impersonal - didn't offer water, didn't check in if I wanted a refill on my pop or if the food was ok.\\n* fries were bland, maybe not that fresh.  Could have been frozen\\n* garlic cheese bread was almost like a hot dog bun opened up with cheese and garlic (over priced)\\n* washrooms was super small (two small for more then one person - should be a private washroom) and smelled like bleach.  At least wait till the restaurant is closed before throwing bleach down everywhere.\\n\\nNot running back there anytime soon. Maybe next time I'll do take out.  Too bad as they have a liquor licence and I like to drink.\",\n",
              "  2),\n",
              " (\"I love Gordon Ramsay and was really excited to try this restaurant and would have sooner if reservations were 2 months out for a decent time on weekends (That's always a good sign). Our reservation was Sunday 4/15 at 8:15 pm for my husband's birthday dinner.\\n\\nOur waiter Ott (Ongart) was awesome! He made great recommendations and had extensive knowledge of the menu. You could really tell he actually enjoys his job and where he works. I highly recommend requesting him as your waiter when making reservations.\\n\\nWe ordered shrimp cocktail which had a seasoning on it, smoked golden beets that had a dramatic presentation, braised short rib were tender, brick chicken was moist, roasted cauliflower which was different, wild mushrooms that was flavorful and the signature sticky toffee pudding that is always good.\\n\\n Everything was amazing. Perfectly cooked and seasoned. Portion were fantastic and exceeded our expectations. Definitely worth the wait.\",\n",
              "  5),\n",
              " (\"I'm from Chicago and. immediately felt like a regular. The service was polite, warm, courteous and lively. The cheeseburgers were a must have. I'll be back whenever I'm in town.\",\n",
              "  5),\n",
              " (\"I came here for a Winterlicious lunch with a large group of friends, and was pretty underwhelmed with my experience here. While the restaurant does look pretty nice (high windowed ceilings, lots of natural light, etc.), the food and service are both just kind of mediocre.\\n\\nAppetizer: Goat Cheese Flat Bread (sundried tomato pesto, arugula, fresh basil, fire roasted red peppers). I ordered this because I love goat cheese and arugula, and it tasted just fine. The flat bread was a bit harder than I expected though, like I kind of forgot it was flat bread and felt like I was eating a cracker at times.\\n\\nMain: Beef Bourguignon. This sounds really fancy, but really it's just like beef stew. I don't know if in reality it is actually supposed to be fancy, but the one at Trios was kind of a let down. I mean, you would expect there to be some variation in flavour, but ultimately the stew just tasted... salty. Like super salty. Apparently there were pearl onions, crimini mushrooms and double smoked bacon in the stew, but really, I have no recollection of any of that stuff. Really it was all just beef, salt, and mashed potatoes in my memories.\\n\\nDessert: Triple Cream Brie with fig preserve, spiced pecans and crostini. I actually really enjoyed this. The brie was not too strong in flavour and really was very creamy. It was delicious on its own as well as with the sweet fig preserve. This was definitely my favourite part of the meal.\\n\\nService: It seemed like the servers were trying... and they were all really nice, but I was confused. Considering the restaurant really was NOT busy, they were surprisingly absent for a lot of the time. Besides coming out to take our orders and bring us our food, for the most part they were nowhere to be seen. I remember this especially being a problem after we had all had our beef stews, and one of my friends specifically had to request to have our waters refilled because they were all low and we were all dying of thirst. Sooo can't say I was terribly impressed with this either.\\n\\nOverall: Definitely a little disappointed - maybe a little bit less so if the lunch had been in the cheapest category ($18) but I don't think it was worth the $23 price tag we paid.\",\n",
              "  3),\n",
              " ('Best fresh food in town! Love this place  \\nHealthy vegan and oraganic options.. \\nalong with a tons of flavor... try one of their infused waters!! Super yummy especially on a hot day',\n",
              "  5),\n",
              " (\"Whaaaat... There's a lounge corner and free Wi-Fi!\\xa0 Hey can I just use YOUR Wi-Fi Mr. B King? I sat at their tall cafe tables. Very nice! You can watch the mounted flat screen TV perfectly. They play cool music. There's an indoor kids playground. \\n\\nThe employees are cool. They all seem to get along and laugh together. Quick customer service indoor and drive thru.\\n\\nGreat value menu. I'll have one of each item :P for my slight fast food binge. Would you care for some brain freeze? There's frosted Coca Cola flavors! Yet another bonus, their soda fountain is a fun touch screen that dispenses a large fruit variety of Sprite! I tried peach! Yaaaaheheeyyyyy!\\n\\nAnd the best part of your BK experience shall be...Chocolate candy themed pies! GET. IT.\",\n",
              "  4),\n",
              " (\"Just okay.  \\n\\nI liked my meal.  I had the gumbo soup, a great baked potato with lots of fixings, a sort of chocolate cheesecake dessert that was great.  My husband didn't like his meal.  My husband ordered a $50 steak that was fatty and gristley.  I could tell he was bummed when he poked around at his steak with furrowed eyebrows, cutting off piece after piece of inedible meat.\\n\\n  I was really hoping to please him since it was his birthday.  I let them know when I made the reservations well in advance that it was his birthday and we didn't get a birthday dessert or anything free like you do at most other restaurants.  They remembered it was his birthday, the hostess (who was pleasant and very friendly) gave him a cheery happy birthday as we were going to be seated.  I really expect a little something special if we are spending our special day at their establishment.\\n\\n  The waitstaff was prompt and friendly.  They seemed to linger around and dive right in when you need a refill on your drink, or in my case another great martini.  I almost forgot to mention that I loved their martinis.  \\n\\nWill we return?  Definitely no.  There are way more better restaurants in Vegas.  The atmosphere is a big blah (with the exception of the impressive suits that the friendly waitors wear), the food was just okay/slightly better than average, and the prices higher than they should be for the quality.\",\n",
              "  3),\n",
              " ('Fresh:\\n-pico\\n-ceviche \\n-enchilada sauce\\n-jalapeños \\n...and service.\\n\\nHope this place is here to stay for the neighborhood.',\n",
              "  4),\n",
              " ('You cannot beat this restaurant. We have eaten there many, many times since we live only 1.5 hours from Montreal. You cannot beat the value, and the service cannot be beaten. You will want to make a reservation this summer due to the high tourism season . The veal parm is my favorite dish !!! Outdoor sitting during the summer months.',\n",
              "  5),\n",
              " (\"This review is solely for my friend's wedding reception, which was great. 5 stars for the bartender, who if he judged me for alternating between manhattans and dirty martinis all night didn't let on, he just kept my glass full. They had lots of passed hors d'oeuvres at the start of the reception, and while I appreciated the variety, some were really great and others were just so-so. The lamb chops and the lobster wontons were stand-outs. Dinner was steak, and I think it was alright, but thanks to the martinis and manhattans, I don't remember many details about the dinner. There was karaoke at the reception, which was kind of awesome, only complaint is that the DJ was really cheesy, even compared to other wedding DJs.\",\n",
              "  4),\n",
              " (\"I don't know what the craze is. The whole sandwich is just really underwhelming. It's exactly what you think it would be - a small, greasy mystery meat sandwich for $4.50. They do, however, have cherry cola and the overall place is really cool.\",\n",
              "  2),\n",
              " ('It\\'s been one year since my first visit and review.  What a wonderful turn around.....The Power Road location has now become one of our regular \"go to\" and \"take out\" places.  The quality, ambiance and staff have made this place very inviting.  The quantity of food for the money is always great.  You never leave hungry and many times leave with a container of left overs.  Highly recommended - you won\\'t be disappointed.',\n",
              "  5),\n",
              " (\"L'hôtel est situé à l'angle de Ste Catherine et de St Laurent, 2 artères incontournables à Montréal pour qui veut magasiner ou veut sortir.\\nA 2 pas de la place des Arts, c'est donc l'emplacement idéal pour qui veut profiter des festivals. Revers évident, vous en profiterez de toutes façons ! Par confort, j'ai opté pour des bouchons d'oreilles et cela a suffi à rendre mes nuits plus silencieuses ( à 4$ les 5 paires, l'investissement n'était pas ruineux).\\nL'accès est très facile : le bus de l'aéroport et le métro arrivent à un bloc de distance (mais pas le même :-) ). \\n\\nEn arrivant à pied à l'hôtel, vous aurez peut-être remarqué quelques théâtres pour adultes. Il y a effectivement quelques mètres de trottoirs consacrées aux plus de 18 ans, et le voisinage de l'hôtel ne fait pas exception. Cependant, il n'y a rien de malsain dans cet entourage : après tout, on est au cœur de la ville.\\n\\nLa réception est située au premier étage, escalier obligatoire. Nous avons été très bien accueillis avec un enregistrement rapide assorti de nombreux conseils et de la documentation indispensable pour commencer notre séjour.\\nNous avions opté pour une chambre économique avec salle de douche commune. La surface modeste de la chambre était compensée par un haut plafond et un grand placard, nous n'étions donc pas encombrés par nos bagages. \\n\\nIl y avait 3 salles de douche pour l'étage. Elles étaient nettoyées plusieurs fois dans la journée et je ne me suis jamais retrouvée à attendre. Ce n'est qu'à de rares occasions que j'ai trouvé des traces indiquant le passage d'autres hôtes, alors même que l'hôtel était plein.\\nLe wifi ne passe pas très bien dans les étages. Comme la chambre était juste au-dessus de la réception, nous avons pu en profiter. Autrement, les fauteuils de la réception vous accueilleront pour votre surf.\\nPour le petit déjeuner, je crois que l'hôtel a un accord avec un restaurant tout proche. De notre côté, nous avons préféré profiter des nombreux cafés de Montréal.\\n\\nEn conclusion, si vous recherchez le silence et le design, vous serez certainement frustrés. Par contre, si vous recherchez une position centrale, un hôtel propre et simple avec un accueil sympa et chaleureux, je ne peux que vous conseiller l'Abri du voyageur qui porte très bien son nom.\",\n",
              "  4),\n",
              " ('Worst felafel ever...totally dry.  I know felafel, I have one nearly every week for all sorts of places.  This one was extremely dry and tasteless.  All I tasted was parsley.  Where was the tahina sauce? It was presented in a \"wrap\" form not in the typical folded over pita bread style. After two bites it went into the trashcan. For a place that specializes in Middle-Eastern foods I am highly disappointed.',\n",
              "  1),\n",
              " (\"Crispy deviled eggs appetizer = fantastic.\\nCrispy lamb tacos = phenomenal. \\nFish and chips = amazing. \\nMac and cheese = I've run out of words. \\n\\nGordon Ramsey should come here and see how it's done.\",\n",
              "  5),\n",
              " (\"After a horrible experience at another restaurant, this place made my day! Staff was so nice and food was delicious! Stay away from the restaurants on the strip and come here! You won't be disappointed!\",\n",
              "  5),\n",
              " (\"My favorite place to get a real, authentic Chicago dog. The fries are excellent too and don't forget to add cheese! No way is any of this good for you but it's soooooo awesome! Family owned business and they are all fantastic and quick with your orders. Love looking at all the Chicago memorabilia every time I go.\",\n",
              "  5),\n",
              " ('This company deserves a zero.  I work at the front desk of a school and have had a lady here for FIVE HOURS waiting for her tow, while this incompetent company has strung her along.  She has called them repeatedly.  Half of the time they have hung up on her.  Twice they canceled her tow.  Once they said they went to a MacDonalds looking for her - miles and miles away from where she told them she was.  I have never witnessed such incompetence in a towing company.  My next review will be for State Farm who surely knows that they are contracted with BAFOONS and have had numerous customer complaints and yet they CONTINUE to contract with them!! STAY AWAY FROM THIS TOWING COMPANY!!! #state farm',\n",
              "  1),\n",
              " (\"After a long hard day at the office,  some BBQ wings sounded great. I found Alt Wings and the reviews looked great so here we are.  \\n\\nThe staff was very friendly and helped us with a recommendation which was 12 wings and french fry's and how cool we got a free soda.  \\n\\nI loved the crushed ice they use instead of big cubes you find everywhere else.\\n\\nThe wings were deep fried and crispy.  The flavor was amazing and there was lots of BBQ sauce on the wings.  Very tasty and filling. 5 stars on the wings.\\n\\nThe frys were very tasty and not the typical frys you get at a fast food restaurant .  The only reason I gave 4 stars is there was way too much salt on the frys.  MAKE SURE TO TELL THEM LIGHT SALT and you will give them 5 stars for sure.\\n\\nI will be back for sure.\",\n",
              "  4),\n",
              " ('Il y a un mois et demi quand nous sommes venus entre Yelpeurs, j\\'étais prête à donner trois étoiles mais après mon expérience de ce soir, j\\'augmente à quatre étoiles. Je m\\'explique.\\n\\nThème: Marocain \\n\\nLe premier service, le gâteau de foie gras. Beau moyen d\\'impressionner la galerie. Les deux fois, ont été une expérience incroyable. Le mélange de saveurs sucrées, acides et salées, c\\'est la décadence dans toute sa splendeur. Ensuite sont servis en même temps la tajine de boulettes de saumons avec petits pois et avocats, les calmars bouillis et farcis avec du porc un peu épicé et une leur version de porchetta avec une petite salade et des oreilles de christ soufflées. Bon, mais sans plus. Ensuite vient l\\'omelette. À ma première visite celle-ci était servie dans un vol-au-vent vent à l\\'encre de sèche avec des aubergines et une béchamel blanche et une béchamel à l\\'encre de sèche. J\\'ai personnellement vraiment pas aimé. Cette fois ci, ce plat avait été remplacé par une omelette bien soufflée avec un gros tas de bon bacon caramélisé à l\\'érable. Grosse grosse amélioration. Tout le monde a adoré. Ensuite sont venu les tanjia. Une sucrée et une salée. La sucrée, c\\'était une réussite les deux fois. La salée était 100 fois meilleure cette fois-ci comme ils ont ajouté du citron. Pour accompagner la viande, avant, ils donnaient un genre de cake de carottes avec les fèves blanches à l\\'intérieur et personne à aimé. On voulait même pas en rapporter dans nos doggy bags. Ils ont remplacé ce plat par une genre de bouillie bien épicée de fèves blanches avec des carottes caramélisées dans le sirop d\\'érable. Mega upgrade, jai adoré. Tout ça servi avec une bonne miche de pain maison.\\n\\nLes desserts, quantité industrielle de desserts, soit la tire délicieuses dans un banc de granité à la menthe. Pour moi, c\\'est ce dessert qui l\\'emporte. Aussi, des crêpes aux mandarines flambées au Cointreau, une crème glacée sur un genre de gâteau au dates (je crois), de l\\'écorce avec crème et chocolat blanc et deux différentes pâtes d\\'amandes, une frite et l\\'autre au sucre à la crème. \\n\\n\"\\xa0Props\\xa0\" à eux qui ont fait un petit dessert sans lactose pour mon amie intolérante.\\n\\nDonc, en gros, j\\'ai bien apprécié mon expérience, j\\'aime beaucoup le fait qu\\'ils se soient améliorés dans les plats et contente d\\'avoir rencontré Martin Picard ;)',\n",
              "  4),\n",
              " (\"Good food.  \\n\\nI guess one reason I like this place is they don't hide how bad the food is for you. There is a little Kiosk with all the calories right by the door.  All in all I get the flat bread pizzas and really enjoy them\\n\\nThe steaks are also good and the price is reasonable.\\n\\nService is always friendly and the establishment is kept really clean and neat\",\n",
              "  4),\n",
              " ('Authentic Jamaican food. Mainly take out. \\nI have had the jerk chicken, curry goat, curry chicken, oxtail and the red pea soup. All were amazing! I was also surprised by the low prices and big portions when you order a large. \\nIf I had to describe the place in 2 words it would be \"comfort food\". \\nI will definitely be a regular.',\n",
              "  4),\n",
              " ('We rented a bounce house, regular sized tables and chairs, and kids tables and chairs. We were very impressed with everything, and we will definitely be using AZ Bounce 4 Kids again!',\n",
              "  5),\n",
              " (\"My boyfriend and I had a great time on Valentine's day here. The food was amazing and it was worth spending the money on the food here. We sat in the grill area and our cheif was funny and not too crazy. We ordered lobster and chicken and it was amazing. What I really liked about Ryu is that you get alot of food compare to other places like these. Our entree included two pieces of shimp, veggies, and rice. We had such a good time last night, we are totally coming back! \\n\\nps. The staff is really nice and sweet.\",\n",
              "  5),\n",
              " ('Really good for crepes! Strawberry and Nutella is always the best combination. A little pricy for what you get tho.',\n",
              "  4),\n",
              " (\"As new Scottsdale residents we have been trying a number of places near our house and while my parents were visiting we decided to give Village Tavern a try after a neighbor talked about it.\\n\\nWell, I wish we hadn't.  The food was tasteless and bland.  I should have known right away we were in trouble when I saw how large the menu was.  It is all over the board with fried fish and flat bread pizza to street tacos.  \\n\\nMy wife had the spaghetti squash & zucchini.  She said it was terrible.  I had the cowboy burger and was not impressed at all.  The onion ribbons were cold and the bun was not very fresh.  Overall, just not very good at all.  \\n\\nThere are much better places to eat right in the same retail center.\",\n",
              "  1),\n",
              " ('I went to Bunna last week to hang out at their Tuesday open mic, do some comedy, and meet new people. The patrons were very cool. It is a BYOB coffee shop, and people were drinking beer and wine. If you are looking for a chill place to sip on something, this seems like a spot to hit. The owners and staff were extremely friendly.\\n\\n\\nI had a spinach and berry smoothie...it was good and cost about the same as a smoothie anywhere else costs. They have a funky decor with work from local artists on the walls. I will definitely go back and try their coffee and food.',\n",
              "  5),\n",
              " ('A pawn shop is not an establishment I ever thought I\\'d be writing a review for but, as they say, \"life happens.\" It\\'s not that I thought less of pawn shops, but I admit I had a preconceived notion of what a pawn shop experience might be. And let me tell you, I walked into a SuperPawn Cash America last night JUST to get a quote on a loan, and my preconceived notions were definitely confirmed-- I was low-balled-- they offered 10% of what I got from Max Pawn. Take my words with a grain of salt, but you definitely have a bunch of different apples around town and Max Pawn is the good one in the barrel. \\n\\nI\\'ve been to this location twice now, once to sell electronic accessories I didn\\'t need and just wanted cash for (and was too lazy to try eBay for), and once, now, to get a loan to help me through a difficult time. I am the worst possible person when it comes to remembering names, but two really kind and professional gentlemen helped me out when it came to checking my gear out, then processing the loan. \\n\\nTimes are tough, and Max Pawn offered me two friendly experiences with non-judgmental people. For pawn shop newbies, the interest rate for a month is still applicable if you pay them back in a day. I plan to be repaying the loan in two weeks, and am confident my items will be well-stored and safe until I return. \\n\\nThough kind of cheesy, I really want to thank the people here for allowing me to maintain some financial independence as I sort things out. Thank you so much! I will be sending you all as much business as I can. Your staff is awesome and your establishment is cleaner than a department store.\\n\\nCheck them out if you\\'re on this side of town, and make an adventure out of it if you\\'re not.',\n",
              "  5),\n",
              " (\"I have been going here for over 20 years. Everyone is so friendly and very helpful. I highly recommend this offce'\",\n",
              "  5),\n",
              " ('It\\'s been awhile since I\\'ve eaten at a Cracker Barrel.  I won\\'t go back.  First off, you can\\'t navigate through the \"store\" because there is so much crap and then people don\\'t want to be considerate of others trying to get by.  Our server was wonderful, truly.  All the staff seemed great, but the food is so awful.  The menu boasts \"thick sliced bacon\".  The bacon is not thick sliced, I\\'ve had better from Wendy\\'s on a cheeseburger.  The apple cinnamon oatmeal had two small slices of apple and I couldn\\'t taste cinnamon at all.  The oatmeal was gummy.  Also, check your water filters because I kept having to add sugar and lemon to my hot tea to get the disgusting taste of metal or whatever to take a backseat to the actual flavor of tea.  No one else in my party said anything about their food, but they didn\\'t seem too impressed.  I paid $50 for this meal (before tip).  Seriously?  I\\'ll take my breakfast business to one of the local owned establishments and pay that price for food that is actually fresh and doesn\\'t look like it came from a McDonald\\'s.',\n",
              "  1),\n",
              " (\"Camp Randall might be the most fun stadium I've ever been to. And I've been to quite a few, including the Big House, the Superdome, the Horsehoe, and Death Valley in Baton Rouge. \\nI came as a visitor and wasn't sure what to expect outside of jumping around after the 3rd quarter. \\nDespite having lost and it being cold and wet, I had a blast. The atmosphere is amazing. The people are incredibly friendly and love talking football (especially trashing other schools in the B1G). \\nI would go back to Madison in a heartbeat.\",\n",
              "  5),\n",
              " (\"I discovered this place when I was working for an extended period in Las Vegas. When I come back to Las Vegas, I usually stay elsewhere, but I come to the spa here. Other places are more luxurious and have more amenities, but I don't think you can beat Spa Orleans on value. The place is clean, very easy to schedule an appointment, only 3/4 of a mile from the strip. As my schedule is often in flux, I often don't call to schedule an appointment until the day before and I'm able to get in easily, even on weekends. I've had massages from two people here, one time with Joe and a couple of times with Debbie. Joe likes to talk. He'll tell you all about the famous people he's worked on over the years when he was at Caesar's. His Old Vegas stories are interesting, but I prefer less conversation. The other thing about Joe is he really works you over. I prefer gentle and more relaxing. After Joe, I felt like I needed a massage to recover from his massage!  I think Joe is in demand and has a loyal clientele, it was just a little too intense for me. I've had Debbie a couple of times and I now request her. Minimal conversation, gentle, relaxing. I go a half hour early, sit in the steam room for 15-20 minutes, shower, have my massage, hit the jacuzzi for a few minutes, clean up and leave. Most of the time the place isn't busy and I have it all to myself.\",\n",
              "  4),\n",
              " (\"I had an amazing experience my first time in sugarcane! \\nThe host Victoria who graciously welcomed me with a big smile and positive attitude suggested I try the kinilaw Kampachi, goat cheese croquettes, and ribs. Well let me just say I'll be back again because those dishes were absolutely DELICIOUS and my server Aldana was well versed on the menu having a detailed answer for every question I threw her way. \\n\\n** I will add when you read the menu you should go in with an open mind and pick one thing you might not normally go for because it'll pleasantly surprise you! \\n\\nGreat service all around thank you for a great lunch!\",\n",
              "  5),\n",
              " (\"I am wholly convinced that there is not another realtor in town who can do a better job than Laura. She has been unbelievably flexible, hard working, and kind. Those traits you don't often see wrapped together in a single person, but she exudes many more traits than just those I listed. She gives honest and reliable feedback, which is invaluable for a layman, like myself. Being a first time home buyer comes with a steep learning curve, and Laura has helped every step of the way with her pervasive knowledge and experience to ensure my husband and I are able to make informed decisions during this arduous process. Lastly, her positive attitude makes the whole process so much less daunting, and she has been an absolute pleasure to work with. She has truly made this home buying process an experience that my husband and I will look back on fondly from inside our beautiful home. \\n\\nThank you, Laura!\",\n",
              "  5),\n",
              " (\"Cupcakes you could eat with a fork.\\n\\nPerhaps the most dense, moist, and filling cupcakes I've ever had.  the buckeye has some sort of delicious peanut butter blend that gives you a lovely peanut butter compliment to the moist chocolate cake, but doesn't have your tongue sticking to the roof of your mouth.\",\n",
              "  4),\n",
              " (\"This place is on the higher end of my usual price range, but since it was close to my house and new, I wanted to give it a shot. I'm glad I did. The dinner menu was surprisingly deep. They certainly have something for everyone. The portions and the presentation made the higher price point easily justified. Combine that with the friendly staff and live entertainment, it was a wonderful experience. This is one of those places where the waitstaff makes you feel like you're a part of the family. I honestly will go back as much for the staff as I will for the food. Definitely worth a visit. \\n\\nNOTE- If you don't like cilantro, the meatloaf will not be for you. It's an interesting recipe that is fairly heavy on cilantro both inside the loaf and as a garnish.\",\n",
              "  4),\n",
              " (\"I love BDS!  The staff and regulars are really what makes this place but they definitely have a little bit of everything.\\n\\nVideo poker, of course, as well as pool tables, darts, Golden Tee & shuffleboard, as well as TVs for sports - it draws a pretty good crowd for football games without being overtly packed.\\n\\nOn the plus side, they just opened a kitchen and the food is delicious!  Nothing too fancy, but so yum.  I'm sure it's about to get a lot busier at BDS in the near future...\",\n",
              "  4),\n",
              " ('wow I love this place so much and it has the nicest staff ever. I came across a different cashier every time I came they are very helpful and kind and are so knowledgeable on the menu. The girls working today( 3/17/18) are so sweet and helped me a lot!! Definitely coming back again!!!!',\n",
              "  5),\n",
              " (\"Why is there only 5 stars in this freaking app?!?!\\nLet me tell you guys, I have always had 4 different insurance agents for my properties, vehicles, businesses, toys and all. It was such a headache and impossible to follow!\\nUntil I met Cassidy and her awesome team!!! WOW, these guys are in top of it, always pricing out better options for me, on top of my payments and making sure I'm always current.\\nI would say the best thing is the personal care you get, it's as if they actually care about saving you every dime (even when you don't care for it) while maintaining a booklet proof insurance coverage for you and your loved ones.\\n\\nI highly recommend Cassidy and her crew to anyone who owns anything ;)\",\n",
              "  5),\n",
              " (\"I've seen this place a lot multiple times in passing but just went earlier this week and I was pleasantly surprised!\\nWe had a pretty big group (10 people) so we made a reservation ahead of time. The place was actually really empty, which wasn't too surprising since it was a Tuesday evening.\\nThe host was very accommodating with people from our group arriving late and ordering at different times. Can't remember his name but he was so helpful and patient the entire time.\\nThe menu selection is pretty big! There's lots of Greek choices like pita, falafel, and souvlaki, as well as a variety of more Americanized options like pizza, pasta, calzones, sandwiches, and burgers. I had the Big Fat Greek Burger and it was a huuuuge portion. Like multiple toppings such as tomatoes and feta, with a burger patty AND plenty of gyro meat, plus it came with fries! Sooo much food.\\nThe portions of other food looked pretty big too; other members of my group got lamb chops, Florentine pizza, calzone (which is also really big!), pasta, Greek nachos, and they all really enjoyed the food!\\nPlus it was happy hour so they had specials like $3 drinks, $4-5 appetizers, $19 pitchers of sangria, and I think they had half off bottles of wine that day.\\nBasically, if you're craving Greek food (or pizza/pasta) in Tempe, My Big Fat Grewk Restaurant is definitely worth a try!\",\n",
              "  4),\n",
              " (\"This place has been here for years. Very homey and it's like your in your grandma's kitchen! The owner is usually our server and very pleasent and attentive. There is usually not a lot of people here so you get extra attention which is nice. The food is very good, has good flavor and doesn't take to long. The only problem I have is that he seems to be a bit understaffed so I felt bad asking for bread that would usually come out before the meal. Husand had chicken marsala and it was excellent, I enjoyed my eggpalant. Not a five star place but it's definitely better then Olive Garden or Carrabas!\",\n",
              "  4),\n",
              " ('It costs me 270 bucks to dye my hair to brown color... A little expensive but I like it',\n",
              "  4),\n",
              " (\"I went to their service for my oil change. I had a coupon but they forgot to put in my final bill (they said they are going to discount it on my next visit) and They DON'T WASH YOUR CAR for a pricey oil change.\\n\\nmy verdict is I will not going back again. I only tried it twice not going back there again. Honda East Sahara has a better price and free car wash\",\n",
              "  1),\n",
              " ('from the service to the food to the experience!! Went with a few co-workers for an after work dinner and had a good conversation time!\\n\\nOur server was very helpful and personable but not pushy or too comfortable. He gave us suggestions and opinions to help us make our plate selections. \\n\\nWe decided to do it family style to try a few plates..get the 30 hour pork belly!! We all shared and left feeling full and didn\\'t break the bank!! \\n\\nBest of all..the experience. The ambiance was very comfortable and relaxing. There was a couple sitting next to us and it felt very perfect for them..a \"date night\" restaurant. The lights were dim and subtle and the music in the back round was of all genres but of a soothing and loving tune. \\n\\nI so suggest giving Moko a try!!',\n",
              "  5),\n",
              " ('These are beautiful, modern apartments.  The staff is friendly and goes above and beyond to help you feel you are home.  I have lived in apartments in multiple states and find this to be far and above better then anyplace we have ever lived.  The couple of times we have had a minor issue arise, they have acted quickly to resolve them. We are close to shopping, restaurants, and downtown.',\n",
              "  5),\n",
              " ('I\\'ve been to the Liberty a total of three times:\\n\\nThe first was during restaurant week- the highlight of my meal was a dessert that was a gooey chocolatey cake with a chocolate stout shooter...but its not on their regular menu and that makes me sad. \\n\\nThe second I went for the Mac N Cheese - which was meh to say the least. I ended up exchanging it because I didn\\'t care for it, dry, over-herbed which was strange because it almost was bland. \\n\\nToday I went with some coworkers and had the lunch special. For about $8.50 you get the chicken burger with bacon, lettuce, tomato, pickle herbed aioli- more mayo textured, pimento cheese served on a delicious bun. This is served with fries, \"dessert\", and soda/Iced Tea. Great deal! \\n\\n The  burger itself was pretty good although I\\'m not sure I would be back based on that alone. The fries were really good (fresh cut and herby) but when I asked for a side of ranch (don\\'t judge) it was watery blue cheese- ick, and since I\\'m not a ketchup girl I wished there was a thinner aioli or something just for those...then they would be perfection! \\n\\nThe dessert was a mean joke- basically they were like a Little Debbie-esque snack pecan pie with wrapping left on. I was really disappointed and wish they just made a fresh cookie or just left it out all together. \\n\\nThis would have earned 3 stars but our service was terrible.\\n\\n Aloof describes our waiter perfectly well. Drinks were left unfilled, he couldn\\'t bother to crack a smile, and he put our checks in the middle of the table (hey we all got the same thing you could have just passed it around to us politely). We had one to-go order which was the special and a salad - this took longer than all of the other meals, even though that was ordered at the same time- she was leaving early so that was definitely a problem...he also failed to mention that he added 20% gratuity- which at $1.70 a piece wasn\\'t a big deal but it\\'s always a bit sketch when they don\\'t say it outright. It seemed like he knew he was getting gratuity added so he didn\\'t bother to be friendly....so -1 star based on service alone.',\n",
              "  2),\n",
              " (\"Ma compagne et moi étions partis pour faire un tour dehors lorsque l'on a vu ce bar dans le quartier latin qui nous a interpellé.\\nQue du bonheur ! des gens conviviaux, ouverts et des jeux par milliers - de quoi réjouir le(s) mauvais(es) perdant(s) pour se ratrapper :) \\nA faire entre amis où en couple car ça vaut le détour. \\nUne étoile en moins car nous avons patienté 40 min pour rentrer, mais nous avons rencontré un couple formidable ce qui nous a permis de patienter en s'amusant. \\nÀ noter que nous n'avons pas payé le droit d'entrée de 5$ (c'était un dimanche soir). Pourquoi je ne sais pas, peut-être que certains jours sont payants et d'autres non. \\nConcernant la carte, elle est correcte, les apéritifs sont de bons goûts et bonne composition, ainsi que les plats qui satisferont les petits creux.\",\n",
              "  4),\n",
              " ('The Native on Power Rd has a atmosphere and Dave is a great bartender.  But the best part of the bar is the clientele,  I was entertained all night by the patrons at the end of the bar. What a fun night!',\n",
              "  4),\n",
              " ('Service is excellent. You can never go wrong with their meat its tender. This is our second time and we will come back again. My second favorite korean restaurant.',\n",
              "  5),\n",
              " ('Blessed to have found this company just two days ago to help move my son. I am un another state but Steve and his company were there to help. Will refer to all ASU parents and anyone else I know. Thank you steve',\n",
              "  5),\n",
              " (\"I had a wonderful time at cowfish today, I had the all American burger and the crunchy shrimp tempura roll and a glass of champagne. Everything was delicious and the customer service was impeccable I hate that I've never dined in here before but after today I will be eating here again!\",\n",
              "  5),\n",
              " (\"Love this place for pre-work coffee meetings! Echo has good coffee without hipster- or Scottsdale-brand pretensions. Also, decent parking if other businesses nearby aren't open yet.\",\n",
              "  5),\n",
              " ('Excellent Cookies!  As the Man says!  \"Made Every day\"!  This was my first time and I enjoyed Four Cookies!  They do have Cupcakes and other Treats too! \\n\\nChocolate Chip!  Tastes as good as Mom\\'s!  \\n\\nToffee!  Fantastic!  Lots of Soft Toffee!\\n\\nPeanut Butter Very Nice!\\n\\nSugar Very Good!\\n\\nThey have some Tables inside so you could stay to eat if you wanted!',\n",
              "  5),\n",
              " (\"Went today for a late lunch with my daughter. She said it was good food. The food was fresh and hot. Presented nicely. I liked that they served chicken fried rice instead of pork fried rice. They were flexible with substitutions. The swapped out the pork egg roll for a spring roll. The portions were large and we ended up taking food home even though we got the combination platter. Typical of Chinese food, I felt like I couldn't walk after eating. I had reflux, which was unusual for me. Then 4 hours later, abdominal pains and frequent visits to the bathroom. Took some pepto bismol and am waiting for that to kick in. All in all, I wish we would have gone somewhere else. I have never gotten sick from eating Chinese food. This is a first. And a last.\",\n",
              "  3),\n",
              " (\"I've been back to the place a few times since my review and am happy to say that the place has improved tremendously. \\n\\nThe changes made to the decoration had a huge impact. There's a new counter facing the street where you can grab a seat and watch the world go by. Changes were also made to the plates and coffee cups (which are now small and nice mugs). \\n\\nOverall, the place looks nicer and cleaner. While the sandwiches have remained mostly the same, there were some nice additions to the menu in the form of empanadas, soups to go, cupcakes... \\n\\nKeep up the changes and improvements coming.\",\n",
              "  4),\n",
              " (\"The pizza definitely isn't the greatest, but still some of the better pizza you'll come across in the area.  \\n\\nHowever, its the Jamaican patties that are worth going for.  Sure, you can do it at home the same way without much trouble, but its just the fun of heading to MacKay and wanting it from there.  Its worth trying out, and very cheap to do so.\",\n",
              "  4),\n",
              " (\"Good cocktails. Average food. Strange decor if you're in to that. Overall just meh. Looked like one of the better options near Freemont. Perhaps we should have paid for the crawfish boil that was happening.\",\n",
              "  2),\n",
              " (\"Ok. So we visited this place after meeting up with friends. \\n\\nWe started with the antipasto.  The portions were small especially since there was 5 of us.  Better for two people. The glaring issue was the lack of bread or something to eat with the food. \\n\\nNext I had the pizza and the daughter had the chicken parmigiana.  The pizza was tasty but the crust didn't taste like it preprocessed.  Think McCain pizza.  The toppings and cheese was tasty \\n\\nThe chicken parm was Hoo hum.  What drove my daughter batty was the service.  Quick to follow up about the food - hot and tasty but refills or drinks or water felt like she was no where near by.  We had to ask for a pitcher to serve ourselves.  When my daughter and others were offered ground pepper or grated parmigian cheese the server would reach across my daughter.  Even when she cleared the appetisers plates.  Once was ok but 3-4 times became annoying. \\n\\nWas disappointed.  Too bad as the desserts looked worth giving it a try but we decided to leave instead.\",\n",
              "  3),\n",
              " (\"What made me happy: price 37$ for all including 2 diet cokes. The taste of the mint chutney was delish. Nann was beautiful \\n\\nWhat made me sad: no salad dressing, mint chutney served in shitty little plastic takeout containers though we ate in. No red wine. \\n\\nOn a Friday albeit early the place was empty. Seriously just the two of us in a 75 seater. Salad iceberg with basics no dressing. \\n\\nPaneer something or other was spicy with 6 paneer\\n\\nBeef Khury 2 chunks but really super tender. But 2 chunks. \\n\\nRice old oily and cumin seeds fell to the bottom. Paneer and Khury don't come with rice\\n\\nKababs middles were tender ends dry AF. Looked like dog shit. \\n\\n*had to drown everything in mint sauce to survive the meal. But I liked it that way.\",\n",
              "  2),\n",
              " ('My wife and I took our mother here for an early lunch. The waitress sat us right away. There was not many people there so that was expected. The atmosphere was nice. The place was very clean and the temp was nice and cool. The waiter came over about 10 min after we sat down to ask us what we wanted to drink. 5 minutes to long. We ordered 2 waters and a black tea. 15 minutes later the drinks came. Wow. I was in ahh on how long it took to get our drinks out. They also brought out chips and 2 sides of salsa. Those were ok at best. I ordered the number #23. Thats a 3 item combo. I chose 2 cheese enchiladas and 1 beef burrito. My food was excellent i enjoyed it. However it took 37 minutes to get to me. My wife also ordered a #23. She had 1beef buritto and 2 chicken tacos. The buritto she said was ok and the tacos were just plain and terrible. She stated she woud rather have \"Robertos\" next time. My mother ordered a shrimp dish and she stated it was good but she requested no avacados. When her meal arrived it had avacados everywhere. There was NO apology for the mistake. The waiter just walked off. We had to damn near beg to get a refill on our waters. The check came out in 2 minutes. They got that done fast. It wad $50.00 i feel as if i was robbed. The only thing they wanted was my money. Crappy service. I will go somewhere else next time. Thumbs down!',\n",
              "  2),\n",
              " (\"I was a little dissapoint in MIX.  It has an amazing view, but other than that I don't think there is much there.  The way the bar area flows doesn't seem to work great and it is really dark and really loud.  The view does make up for a lot and I was pretty impressed witht he wait staff.  They were able to bring us drinks impressively quickly for as difficult as it seemed to be to maneuver around.\",\n",
              "  3),\n",
              " (\"We are new fans of Zaytoon! The right hand entrance is to the restaurant while the left is to the market. We browsed the spices and delicacies while waiting for our food to be ready.\\n\\nThe meat is flavorful and the portions are equivalent to what you pay for. My SO loves the koobideh while I prefer chicken. With the rice, I like to mix in the butter and onions, then sprinkle the sumac.\\n\\nUpon entering, you'll immediately notice and appreciate the authenticity. We will be coming back!\",\n",
              "  5),\n",
              " (\"Disappointed in this location. Had found the gem on Bermuda and silverado the other night and we LOVED it   However today, skimpy ion the toppings and forgot the things we asked for on the side, which we did not discover until we got home.   And the veggie burger dry.\\n\\nAlso part of the draw for this restaurant is the ability to mix and match and change toppings but when asked for a list of toppings I was told they did not have one.  Seriously?  How hard is it to create a topping list, laminate it and have it available for your customers??  And your menu is an electronic board. It cannot be added?\\n\\nI won't be back to this location.\",\n",
              "  1),\n",
              " (\"Oh yeah! Been here a handful of times and it keeps making it back on the list of breakfast/brunch destinations. Just can't beat good ol tasty diner breakfast. Not your typical diner though, they do it right! Perfect for the Vegas morning recovery meal. \\n\\nI normally opt for the corned beef hash. They make it crispy which just takes the hash to the next level. \\n\\nAnother favorite is the chicken fried steak. Juicy and crispy all at the same time. Wonderful!\\n\\nThis time I tried something new. The chicken fried chicken. Basically just like the chicken fried steak but with chicken. Wow! Same juicy result, different meat. Loved it. Of course anything greasy probably tastes good after a night of drinking, games, and whatever, but this place is now permanently etched in as the default for breakfast. Do it!\",\n",
              "  5),\n",
              " ('Don\\'t believe the hype like I did. I\\'ve since removed all of my positive feedback regarding this company because of how they treated me as a customer and how they treat their employees. \\nI used them over 7 months on a 3 wk rotation. So this review is not based on 1 or 2 services. This is an observation over time. \\nSometimes they didn\\'t show up on time (no big deal), no call no showed me twice and rarely sent 2 people (a very big deal). One housekeeper doing the work of 2, while you are paying for two is no good. In my opinion, the housekeeper is being overworked as Im sure the housekeeper is getting the same pay whether they have another set of hands or not. I did NOT like that. The work should be divided properly between 2 people. Like other companies. \\n \\nI hired another company (see my review) who ALWAYS send 2, they are cheaper, they clean the windows and blinds without charging \"extra\" and  have never \"no call no showed\" me. Both ladies are in and out in 1.5 hours TOPS with more completed.\\nEverytime Superb Maids no called no showed or couldn\\'t send 2 people, I always got a bunch of excuses (Mostly using my square footage as an excuse to not consistently send 2) \\nAs a client it\\'s no fun waiting 3- 4 hours at home on your day off to:\\nA) Have one maid show up to do the work of two which takes twice as long. (Basic things would get missed, like cleaning the floor around the toilet, top of the range and fridge, bathroom mirrors, etc.) I don\\'t want to pay for a service, lose 4 hours of my day, so I can go over and clean missed things after she left. \\nB) Wait at home for NO ONE to show up. (Also very frustrating).\\nThe impression I got is, if you have a small house/condo, they arent really interested in your business and will skip you on your scheduled rotation for a bigger, more expensive, client.\\n\\nEdit: You have a bot auto posting  for you? Elena, I wouldn\\'t call a 1 star review anything to be excited about.',\n",
              "  1),\n",
              " ('Always a great place to find what you desire!  Friendly staff who are willing to answer any questions.',\n",
              "  5),\n",
              " (\"I love eating here because everything is soooo delicious and the best part is that it's healthy!! No guilt here!!\",\n",
              "  5),\n",
              " ('We visit your restaurant at least once a week.  The staff are wonderful, well trained and provide exceptional service.  We would love it if you could expand your beverage offering to say bringing in ginger beer to make a basic mule (We have requested this at the restaurant several times, yet to no avail).  Look forward to continuing our patronage!',\n",
              "  5),\n",
              " ('My son introduced me to this yesterday and I have been telling everyone! This place is soo cute and the shaved ice (favorite-frog in a blender) is soo good! They have so many options to choose from. Had to go back today to take my daughter and nieces, who also loved!',\n",
              "  5),\n",
              " (\"Worst hospital I've ever went to!! I had sprained my ankle really bad and decided to go in and have it checked out. I sat in the waiting room for about an hour, waited on a bed for another hr just to find out that I didn't break any thing. At that time I was put on a cash account because I didn't have insurance. The agreed upon price I was told I had 14 days to pay was a little over $400. So at that point I had to wait until I got my check at the end of the week. 5 days latter I got a bill for almost $3,000! I was never given the full 14 days to pay and when I tryed to talk to them about this issue all I got was runaround. Found a little to late that this is one of the worst rated hospitals in the vally.  Please don't make the same mistake I did, try a Banner hospital they are 100 times betture.\",\n",
              "  1),\n",
              " ('2/16/18 Overall disappointing, especially since first visit was outstanding. Think I ordered a gourmet mac and cheese that time. Service was ridiculously slow! Love bourbon menu. Must have 75 options. Many varieties of scotch, too. Caesar salad average at best. No anchovies. Impossible Burger (Plant proteins, fat from coconut oil, and heme which is an ingredient found in all living things, that gives meet its flavor. We get our plant-based heme from fermentation. The impossible burger contains no animal products). Amazing that it is plant based and tastes so much like a moist burger. Order with rye bread, which adds a lot of flavor to the sandwich. Good, not great, compared to actual burgers. Featured on Fox 8 news. Sweet potato tater tots good, not great. Margarita flatbread not bad, but a bit boring. Live music every Friday. Good blues band that plays quietly enough to talk.',\n",
              "  2),\n",
              " (\"Every step I took I was told I was doing something wrong.  \\nFirst was my beverage. While I mildly understand the policy, it's poorly marked.\\nUpon looking for my desired books and not findIng any i walked into the music and DVD section.  I was then confronted and told I was not allowed to be there without giving my library card.  I then go to give my ID to those at the checkout and was informed I needed to give it to a different desk.  \\nAt that point I handed back the books I did grab and left.\\n\\nWhile some who love this place may think I'm simply an idiot let me add this.  I have no problem with their policies. It's not my place to criticize them.  I do have a problem with how everyone treated me.  It's as if the act of having to speak made then bitter or angry.  \\nWhile i will go back as it's simply too close for me to go anywhere else, I felt somewhat obligated to write this review.\\n\\nMark your policies more clearly and don't treat your patrons like a nuisance - or was it because I was dressed like a construction worker albeit a very clean one.\",\n",
              "  1),\n",
              " ('My teenage daughter and I were here on a Saturday afternoon for lunch after a morning of browsing at Vaughan Mills.\\n\\nI haven\\'t been to the AMC Centrium since AMC folded their Canadian operations.  As such there were only us and three other groups in the restaurant for lunch on a Saturday.  This was common for all of the restaurants there.  The interior decor is great, with a lot of solid woodwork that makes you realize that a lot of work went into making this place.\\n\\nWe were seated promptly, and our waitress explained the daily specials to us.  I chose to have the guiness beef stew.  I almost always order beef stew at most Irish restaurants, but my Irish friends never serve beef stew at home.  I wonder why?\\n\\nThis stew actually had a little bit of a spicy pepper kick to it.  Nothing to set your taste buds on fire, but enough to make you take notice.\\n\\nMy vegetarian daughter managed to get one of the \"special\" pasta dishes without any of the meat as her meal, and the restaurant was kind enough to deduct a couple of dollars from the meal since they didn\\'t have to give her meat.',\n",
              "  4),\n",
              " ('I was expecting a bit more or an upscale place to be honest im not sure why :/\\n\\nI came on  sunday for an early dinner \\nIt was more of a breakfast brunch in hicktown kinda vibe \\nThe food was good , not bad  at all \\nNot amazing but not bad \\nI got the caprese salad (a huge plate of cherry tomatoes , & like 3 small pieces of cheese) \\nThe mushroom app, which was actually 3 small deep fried mushrooms and then the rest was zucchini or something .. that was dry and tasteless. & i was expecting mushrooms mainly \\n\\nMy carbonara was pretty good ! :)  calamari was good as well\\n\\n& the service was good my server was very attentive,  i appreciate it !',\n",
              "  3),\n",
              " (\"Go here! It's an amazing breakfast place with great food and coffee. The service is awesome and quick. There is parking and plenty of seats. Wished we lived closer!\",\n",
              "  5),\n",
              " ('Went to see Arie Spears earlier in the year and was impressed with the improv @ Harrah\\'s.  Club was swank with a nice calm \"old school\" vibe.  The openers were funny along with Arie rounding out a nice evening inside the club.  Overall, I was comfortable inside the club and the wateriness was prompt with the drinks.',\n",
              "  4),\n",
              " ('Haven\\'t written a review in over a month due to an overwhelming schedule, but I had to take time to note about Bac. The food was great, the service was even better.\\n\\nI\\'m in Cleveland for work, been traveling non-stop lately and feeling especially miserable. Was looking for some Asian food when I stumbled across Bac, Asian Fusion, didn\\'t expect much. I got there during happy hour ($5 starters so I got 3...), there was only 1 waitress so took a bit of time, but she was exceedingly nice. When you are alone in a strange city, a friendly smile really goes a long way, and nice service at a restaurant after a miserable long day makes such a difference.\\n\\nThe food was delicious, more fusion than Asian, but awesome nontheless. I got the coconut crepe, gyoza, and lemon grass crab cakes. Coconut crepe was my favorite, I ate it so fast I didn\\'t even stop to snap a photo! Crispy on the the outside, tender and moist on the inside, stuffed with crunchy bean sprouts, shrimp and ground pork, good balance of savory with sweetness of the coconut flavor, the texture reminds of a Chinese breakfast dish called \"\". The lemon grass crab cake was lightly seasoned, just a hint of lemon grass, and comes with an amazing chili aioli sauce, I think I will take all my crab cakes with chili from now on. The gyoza was my lease favorite, nothing wrong with them, just that gyoza never tastes as good as my homemade ones, I don\\'t know why I bother to order gyoza at restaurants.',\n",
              "  4),\n",
              " ('Great breakfast menu!\\n\\nAwesome soups!\\n\\nA gem in Pickering indeed!\\n\\nHighly recommended.',\n",
              "  5),\n",
              " (\"Best Indian food! We truly enjoyed our visit here this evening. Went here on a google search for Indian food in our area. We order the same things at all Indian restaurants because we know what we like but these entrees surpassed our expectations. We ordered the Saag Paneer, Chicken Korma, Lamb Tiki Masala, Mango Lassi, Garlic Nann, and Rice Pudding. The flavors were so rich, everything came out perfect temp, and the customer service made our experience. I don't have one bad thing to say, we loved it and will be back one day!\",\n",
              "  5),\n",
              " ('Love the presentation of the bowl unlike soho sushi.  Needs to have more choices and have better tasting rice.  Not a fan of their spicy tuna because of the cut of it.',\n",
              "  4),\n",
              " (\"Very funky place. \\nI'd been wanting to check it out for some time and took the opportunity last week.\\nWas surprised to find it fairly empty on a Sunday Funday afternoon. There were maybe 8 guests...it was a bit odd.\\nMy girl and I took some time to explore, and finally made our way to the trailer to order some food.\\nStaff was very friendly. We had a tuna melt and a Chicago dog. Though the tuna was good, it was not what I expected in that it was in a hoagie roll and so was not a melt in the traditional sense. The bread was dry and crunchy. It'd have been nice to have this information beforehand. So, good but disappointing. The dog was good. We also had corn which was good.\\n\\nAdditionally we grabbed Bloody Mary's at a bar stand. Very full of stuff but the mix was especially bitter, or vinegary. I am not a fan. Another quirky disappointment that might best to be explained to newbies, which I proclaimed.\\n\\nAlso, valet parking for an empty parking lot? No thanks. \\n\\nI enjoyed some of the quirks, but would've preferred a more traditional tuna melt and bloody mary or would at least have liked to be told otherwise.\\n\\nMeh.\",\n",
              "  4),\n",
              " (\"I had been here only once with my mom, the service was really bad and the drinks were bad we didn't get to order food because our server came around once every few hours. Although she was nice she was very inattentive and we ended up getting the check after one drink.\",\n",
              "  2),\n",
              " ('Rachel Rios was super helpful polite and professional. She handled my paperwork like a pro. Thank you rachel for being a super star',\n",
              "  5),\n",
              " ('This property management company is beyond unprofessional. They gave us less than a 45 minute window to get back to them to sign papers when we were approved for the lease on a home that we loved. They sent an email at 3:15PM stating \"if we do not hear back from you by 4 PM we are moving on to next applicant.\"  Wow! My husband and I do Not have desk jobs; therefore, we do not check our email minute by minute.  \\nI would run if you see that this is the property manager of your house.',\n",
              "  1),\n",
              " (\"I tried this place out after hearing about it from the tip jar stories. It ordered egg roll, shrimp tempura and tofu with brown rice and veggies. The apps were OK but nothing great. The tofu was acceptable. The rice was a little dry. The veggies were almost entirely cabbage. The pictures show large pieces of broccoli and other items. What I got was just soggy cabbage with some carrot shavings in it so I had tofu with dry rice and it wasn't very good. It probably would have been good if there was a decent variety of veggies in it.\",\n",
              "  3),\n",
              " ('My pup had an ear infection. Felt like I was treated fairly and very happy with newly available medication for ear infection offered. Sticker shock w treatment price but vet worked within my budget and allowed me to pay in installments. So thankful my baby is feeling better!',\n",
              "  5),\n",
              " (\"I visit Madison often and came across this amazing new concept. I couldn't believe how fast the pizza cooked and how amazing it tastes. The staff is super friendly as well. Highly recommend this if you are in Madison.\",\n",
              "  5),\n",
              " (\"Brian is great! I already had experience with him once before with my wife's car tint and he did a fantastic job. Price was very reasonable and the service was quick and professional. This was about 10 months ago. \\n\\nFast forward to last week, my wife and I decided to put a clear tint on my master bedroom French door windows that leads to our balcony. We wanted to do the Llumar Air 80 which we have on our front auto windshield. It is almost completely clear which should not affect our HOA as it is not reflective or dark in any way. Our main reason for wanting to do this  is for heat and UV rejection as those windows are facing west and a massive amount of heat comes into the room and whole house every afternoon til the evening hours. I remembered Brian did a standout job on our auto so I gave him a call. Surprisingly, he still remembered us and got us a quote very quickly with just the glass measurements. Made an appointment to get the job done and he was at my house bright and early the following Monday when I was available. \\n\\nYou can tell Brian loves what he does by watching the way he works. He started by trimming off all the excess glue around the window panes (glue has been there since day one when the house was built and the builders just left it like that). After that he covers the floors with plastic and sprayed soap and water on the glass and cleaned it all immaculately and carefully. If the tint was to come out perfectly he had to prep it well which he did spend a good amount of time doing. Finally the tint was put on, trimmed and bubbles squeegeed out. All in all it took a good couple of hours to do just two large windows but the results are fantastic! Room temperature was cooler almost immediately and we can really feel the difference! I'm sure this will help with our air conditioning and cooling costs but most importantly is our comfort level and with the curtains back and the blinds up, it just looks so great! \\n\\nThanks Brian for another wonderful job! I will definitely come back to you in the future for all our tinting needs!\",\n",
              "  5),\n",
              " (\"I contacted Porter Roofing because they did repairs on my garage roof twice (8 months between repairs).  Randy, the person who did both repairs came out as scheduled and acknowledge the leakages.  He gave me a good impression that he would correct the problem.  I had another appointment and I advised Randy to contact my wife who was in the home when he was done.  Up on returning home my wife stated Randy did not contact her and he left our home about 10 minutes after I did?  Ironically, it rained the following day and the leakage had not been repaired!  That was on this past Friday and today, Monday, I contacted their office and their voice mail box was full and not accepting any messages.  I can't believe there has not been any communication. I should have read their reviews as you are doing now!  This company has communication problems and poor workmanship!  I would not recommend this company based upon my experience and it's amazing how other customers have been treated very similar!  Don't do it!\",\n",
              "  1),\n",
              " ('This is the best ice cream shop in all of Vegas.  It is a little expensive but you get what you pay for.  The sundaes are awesome.  My favorite sundae is the hot fudge, made w/ dark chocolate.  This place also just has a nice atmosphere to it and is a must for anyone visiting Vegas.',\n",
              "  5),\n",
              " ('I would not go back to this location. I\\'ve gone to three other locations for many years and had plenty of good experiences, but this time it turned out all wrong. My hair looks like it does when I spend a quick 30 minutes blow drying out my curls myself. There was a miscommunication about what I wanted, I guess - I was asking for a \"classic blowout\" - and though the girl doing my hair was nice and tried to fix it, it was too late (my hair had dried in spots and the subsequent attempt to blow it out left it kinky, poofy, and frizzy). I wish she\\'d used their hair menu as I was just looking for the \"red carpet.\" I didn\\'t realize the full extent of how bad it looks in the back until I took a closer look after leaving the location, or I would have complained on the spot. I am totally bummed I wasted $60 on this.',\n",
              "  1),\n",
              " ('Another amazing brunch with Chelsea! \\nThank you for such great service!\\n  service again!',\n",
              "  5),\n",
              " ('Indian Spices is my go-to place for Indian Food in Pittsburgh. Each of the 5 or 6 times I have gone there in the last three years, the food was delicious. You can set the spice level for what you order on a scale of 15, and it is not an Americanized scale. Higher numbers are quite spicy.\\n\\nThe prices are reasonable and the atmosphere is casual. The servers are fairly attentive and polite.\\n\\nExcellent and authentic overall.',\n",
              "  5),\n",
              " ('Another Yelp find this weekend...HUGE menu, pretty much everything you could want a bar to serve, they have. We tried grilled wings (YUM) and potato skins (just ok). \\n\\nService with a smile, free popcorn, and cheap prices - perfect \"dive\" bar ingredients! Beer selection seemed lean, but hey, it\\'s a dive bar.\\n\\nWe didn\\'t check out the patio, but definitely will the next time (when the weather\\'s not sweltering)!',\n",
              "  4),\n",
              " ('Went back to hachi and it was amazing As usual . The service is A++++ the servers are always very happy and on point . I think this is my top top Japanese tapas place in town . \\n Seared garlic tuna- is very good melt in your mouth . \\nWagyu yakitori - buttery and great flavor \\nGrilled oyster - really good flavor\\nAssorted tempura - lots of different tempuras really good \\nEverything we had was very flavorful and done the right way .',\n",
              "  5),\n",
              " (\"I like the seating area, but the food....... nah, don't really interest me at all. I wouldn't mind to go have a drink there and hang out late at night.\",\n",
              "  3),\n",
              " (\"I've dined at other Mario Batali restaurants and B&B did not disappoint. During the break during his conference, my husband kept me company here for lunch (he already ate). \\n\\nI ordered the orecchiette with spicy sausage and rapini and it was simple yet delicious. The pasta was cooked al dente, the spicy sausage gave it a perfect kick, and the portion was a good size for lunch -- I wasn't overly stuffed but I felt full by the end of our meal. Even though the restaurant was busy, my dish came out quickly.\\n\\nThe service was friendly and quick. We were able to sit on the patio area so we could people watch. I'd definitely come back again the next time I'm in Vegas to try other dishes here.\",\n",
              "  5),\n",
              " (\"Bloody Mary's are really really good. I had the corned beef hash. I would probably get the chorizo one. That one was better because of the chorizo flavoring! Bacon waffle is awesome.\",\n",
              "  4),\n",
              " ('I order take out for business lunches here at least once a week through Restaurants On The Run (best service ever by the way), and this restaurant is consistently amazing quality for a fabulous price. Their catering menu is fantastic food at a super low per-person price. Beef is amazing. Hummus is my fave! Love this place!',\n",
              "  5),\n",
              " ('Lunch waiters are slow and lazy I watched two other tables come in and get seated and ordered before we got greeted. \\nThe were not busy and acted like they did not care. The hostess was not informative. At dinner it was the not like that at all.',\n",
              "  2),\n",
              " ('I got a flyer for this place while grocery shopping last week.  I worked late last night and drove by and figured I would stop by for dinner.  \\n\\nI did not have a lot of time to look at the menu.  I asked for the basics and the young lady ran me through it.  I got brown rice with veggies.  I sampled the chicken and beef.  I chose the beef.  I did not see any sides on the menu when I glanced over it.  I got my bowl and the lady explained the sauces.  I chose their basic one and it was good.  The only thing is that I must have put to much on.  I made it a little to salty.  It was good though.  Next time I will cut back on the sauce.  \\n\\nOverall the food is excellent and it is close to my house.  I will be back and recommend this place to anyone.',\n",
              "  4),\n",
              " (\"Great place to take out-of-towners for the bull riding! I seriously miss the old Buffalo Chip building with it's dark wooden walls and back bar. The new building is beautiful and they are paying for it with increased food and drink prices! But if you are looking for a cool place to take the kids or your mother in law, this is it. On Wednesday's they have the qualifying for the rodeo. Friday night is the big show. The purse (winnings) must be some serious money because bull riders come from all over and up from Mexico. They have built more grandstand seating so you can sit all the way around the ring.\\n\\nSatellite bars are conveniently placed so you can get another beverage without having to go inside every time.\\n\\nIt's one of the coolest places to people watch as well. You have your Creekers - the artists, Cowboys, and Indians (and their dogs), you have the folks from Scottsdale, Desert Mountain and those who make the trek up from Phoenix, all smooshed together and having a great time.\\n\\nFood is ok. Smoked meat, grilled sausages, burgers. All a lot more expensive than it used to be. But a friendly staff.\",\n",
              "  4),\n",
              " ('They had a sign up, the computer was down.  I paid and watched the girl pocket my money.  Not sure about this place.  I will use the other one from now on.',\n",
              "  1),\n",
              " (\"Solid food in a very casual atmosphere, food is tasty and nice sized portions, I didn't like the fact they serve you in styrofoam cups from the hot tea to the Thai iced tea. I had the fried chicken on rice, fresh crispy and enough salt and sauce to appreciate the taste. My wife had the On Choy (Thai style), came sizzling on a hot plate, real fresh and cheap $6.95, in fact the food here is really affordable, not a date restaurant, great for families or casual meal. Would come again.\",\n",
              "  4),\n",
              " (\"I ordered a make your own bowl with tofu and added crab meat on half brown rice and half salad. The serving is very big so make sure you bring your appetite! I ate it in 3 separate sittings because it was a LOT.\\n\\nThe service is friendly- they are happy to explain menu items and provide samples. Personally the tofu is a little too sweet for my liking. If you are going to get tofu then I would recommend offsetting the sweetness with a spicy sauce. \\n\\nTheir menu has quite a variety but does not have chicken or zucchini noodles as I have seen som other Poke restaurants have. The prices are comparable to other Poke bowls in Toronto at about $12-15. \\n\\nThe restaurant is quite small with a intimate dine in area. I'm guessing it's more popular for take out. \\n\\nI tried the ponzu sauce and truffle mayo for my bowl and it was very tasty\",\n",
              "  4),\n",
              " ('Unfortunately this car dealership did not sway from the norm, promise everything and deliver nothing.  $900 for 2 tires that were quoted at  $704.  That number didn\\'t include \"fees\" and a new car loaner program that charges the customer for gas but only gives you 1/4 tank and tells you they don\\'t want you to put gas in!!! If you don\\'t return my car for 2 days am I supposed to stay home,, needless to say my warrantied vehicle cost me $900 for tires that were checked 6 months ago and now needs a total alignment!  Scam, don\\'t go here.  If I could give them NO STARS I WOULD!',\n",
              "  1),\n",
              " ('Once in a while a store comes along that excels at appealing to double X chromosomes. It reaches and grabs women as they pass, enticing them to come in and check out the giftware. I have never failed at finding a nice gift for a lady if I shop at Land and Sea. \\n\\nThey have jewelry, books and journals, decorations and houseware stuff, purses, bath stuff and little gifts that are just adorable. They also have some limited kid\\'s stuff and travel accessories, and a pretty nice selection of cards. It\\'s like a one stop girl-gift shop.\\n\\nI love the books which are all pretty eclectic and funny. There are bad-girls guides, and sex manuals, and \"porn for women\" (hunks with their shirts off doing housework) as well as books on yoga and traveling. The white walls and bright lighting help you pin-point on just the right item. Some of my favourite purchases have included: a voodoo toothpick holder, some funny books and a really nice tea pot. Even when I don\\'t have gifts I love to pop in for a browse.',\n",
              "  4),\n",
              " ('This is just the meal we needed after a long day at the Foxtail pool. We shared three dishes. One dish was a made to order fried rice (Hakka Fried Rice Pot) made tableside. Not as much flavor as I expected but still it hit the spot. Our favorite dish with something called ants climbing a tree which had minced chicken with a clear vermicelli a noodles. Very flavorful. I would definitely go back. Great for lunch or late night snack. Casual and not too expensive.',\n",
              "  4),\n",
              " ('With all these Chinese noodle places popping up, I have to say this is one of the best I have tried so far. The beef was tender, flavourful, but not salty. Noodles are perfect and chewy. The portion was decent, I was getting so full but it was so good I had to finish it. Also ordered the bubble tea slush. Cool spin on the traditional bubble tea. It is a bit expensive but you get what you pay for!',\n",
              "  4),\n",
              " (\"So annoyed AGAIN with this location. We ordered carry out tonight (despite their poor track record with carry out). 15 minutes AFTER our scheduled pickup time we're told they don't have part of the order. We asked to check the temp of the rest of the order that was sitting out...the manager opens the to-go box and feels my husband's burger herself, bare hand, after handling the money. We're done with this location.\",\n",
              "  1),\n",
              " ('Went in to have my 2012 Pilot inspected/emissions.  I have taken all my Hondas to Baierl for service.  I have always had a great experience.  They call you and keep you updated and let you know what is coming down the road as far as service that will be needed.  I did not buy my Honda cars there but I do go there for service because of the people who work in the service department.',\n",
              "  5),\n",
              " (\"Let's start with the positive; the service was friendly and efficient(hence 2 stars), but they had to wear hideous faux aloha matching shirts and shorts. The decor is so bad it's bad; a nightmare of plastic plants covering every available surface lit by dim but still remarkably gaudy neon. Imagine if Big lots sold a furniture line they called Gothic rainbow. Now imagine you're looking at it through purple shades and that's what the place looks like in daylight. They also have Tiffany style lamps with flamingos on them - someone should go to jail for that. Did I mention the ceiling is covered in black mirror tiles? \\nThe large portions are no compensation for the underwhelming quality of the ingredients. Sour 1980s Gas station coffee, flavourless vegetables, and the cheese in my omelet resembled a generic version of a Kraft cheese slice.\",\n",
              "  2),\n",
              " ('Spent 2 nights at the Trump hotel Las Vegas, one of our favorite hotels if not the favorite. Love that there is no smoking and no casino. The hotel is located right across from the Fashion Show mall another plus. Everything is so clean and smells wonderful. The rooms have coffee makers something most Vegas hotels do not have and is important to hubby first thing in the morning. Having a microwave, fridge, and cooktop is nice to. The bathrooms are very luxurious with a TV in the mirror, love watching the news while getting ready to greet the world. The shower is beautiful and huge and there is a separate jacuzzi tub also huge. The staff is genuinely caring. Oh and the fitness center is kept very clean, has what you need and the pool area is nice to, we enjoyed using those facilities too. There is mandatory valet parking, so make sure you get everything you need from the car!',\n",
              "  5),\n",
              " (\"Fantastic burritos here.  Nice spicy flavor like I'm looking for in this category.  Small place. Not great ambiance, but solid performance on my food!\",\n",
              "  4),\n",
              " (\"I don't know, this place didn't really do it for me. In general, I don't like the super fancy vibe in Montreal restaurants, because you can get really amazing and unique food at a chiller places. So, in Montreal, fancy does not equal better food. So then why would I pay extra $$ just for some dimmer lights and a more extensive wine menu? \\n\\nOn its own, it's a good place, but considering what MtL has to offer in just a hop, skip and jump away from this place - no thanks. Oh, and small portions! Bye!\",\n",
              "  3),\n",
              " (\"For the last seven years I have gone to one of the most popular nail salons in Summerlin but I have been really been unimpressed with them lately so I tried Charming Nails and I LOVE them. I see MJ and he does beautiful work and they have so many color selections in gel that match their regular polish colors as well. Everyone in the salon is nice and friendly and it's very clean! I have been telling everyone I know in Summerlin to try them out...it's a hidden gem.\",\n",
              "  5),\n",
              " ('Eric, from JPG Home Security (AZ Alarm Company), came late in the day, after I waited all day to get the keys to my new home. There was no up-selling. He really wanted to make sure we got exactly what we needed/wanted. After the consult, a technician was here installing soon after.  We have a new security system installed and it is almost over $20 dollars less a month for monitoring than what I had with ADT!',\n",
              "  5),\n",
              " ('I had Las Vegas mobile bike repair tune up my gravity mountain bike and Trek Dominion road bike. They were on time for the appointment. Very courteous and made the repairs in a timely manner at a fair price.',\n",
              "  5),\n",
              " (\"Needed a quick lunch and found this place on Yelp. Don't be afraid of the lack of fancy decor. When I first walked in it looked a little less than inviting but I was p proven wrong as soon at I placed my order.  The gentleman who took my order was very accommodating. I live my life on the low carb diet and I ordered the Bim Bim Bop with no rice and they didn't bat an eye at my request. I usually get some strange looks when I ask for it to be prepared this way. They even offered me an extra Egg!! The woman cooking up the goods in the kitchen was fast on the grill and came out twice to make sure I liked it and that it was prepared correctly. It was delicious, fresh and perfectI will be back!! PS, bathrooms very clean. I don't know about you but that's important to me!!\",\n",
              "  5),\n",
              " (\"Horrible customer service. Excuses and lies is all you get from these guys. I don't have time for their BS. Go to Northern and the 303 store.\",\n",
              "  1),\n",
              " ('If you know what chilaquiles are do not order them here. The chilaquiles dish here are essentially nachos. Hard tortilla chips and toppings.\\n\\nI also ordered the pancakes which were delicious and the maple syrup was good as well. They are very filling and are a good shareable size. \\n\\nRestaurant was clean, service was okay.',\n",
              "  3),\n",
              " ('I guess I must be missing something, because my review does not reflect those of others on here. I absolutely love China Palace. I think there General Tso\\'s is one of the best in the city and I could snack on their \"chips\" and duck sauce all day (and I almost have). \\n\\nThey have a bar inside as well, which is a less common, but welcomed addition to a chinese restaurant. My recommendation? General Tso\\'s or Sesame Chicken every time.',\n",
              "  4),\n",
              " ('I LOVE Faith Christian Center. Come as you are enviroment. Leave undertanding what the Pastor was talking about. I am not perfect and when I go i dont feel judged. Muticultral church, people of all ages attend. Thier mission is \"Empowering you to be your Best.\" Its doesnt get any better than that.',\n",
              "  5),\n",
              " (\"The Management is fantastic, the waitresses are rockin'. \\nThis place has filled a void for this area that needed to be filled. \\nI love the patios and the fire pits. \\n\\nFood is solid and the drinks are strong.\\n\\nWhat a great place to watch a Charger Game as well.\",\n",
              "  5),\n",
              " (\"Let me first off say that the place was very clean and the staff super friendly. Now onto the food we ordered the chicken pita, cup of fruit, chicken with rice, two sauces and potato salad. We sat around maybe 15 minutes and our food came. The chicken pita was so big that you couldn't close it they left a maybe half an inch thick tomato on it and the chicken wasn't shredded it was so big that the only way you could eat this is with a fork. The pita was kind of Dough-ie If that makes sense. They had a white sauce on there that was really good, I just wish I could have picked it up and ate it like a pita. As far as the chicken and rice, the rice has no flavor kind of tasted like that stuff you cook in the microwave in a pouch. The chicken was good a little bit chewy. The potato salad was OK. They have this green sauce (I wish I knew the names of the sauces I'm sorry) but that was really good mixed in with the chicken and the rice it made the meal better. I know this place is more like fast food but I was just thinking the flavors and the freshness was going to be better. If you're looking for something quick and filling this is it. If you're looking for a mediterranean flavor maybe try somewhere else.\",\n",
              "  2),\n",
              " (\"I like to eat  at Oakmont Deli once in a while to get a good sandwich.  The deli has a homey, old-fashioned feel to it. There are five tables inside the restaurant where you can eat or you can carry out. My favorite sandwich is corned beef and swiss on marble rye. Today I decided to get the combo:1/2 a sandwich plus a cup of clam chowder. You can make up your own sandwich or get one of the specialty sandwiches; and all sandwiches come with a crunchy pickle. For $2.25 you can can get double meat, but the sandwiches have plenty of meat on them. If you're looking for dessert, Oakmont Deli also sells gelato.\",\n",
              "  4),\n",
              " ('Worst Chinese food I have ever had! Took one bite of the wonton soup and spit it in garbage! Barely got thru the sweet and sour chicken and hated the egg roll too! Will never order from here again!!!',\n",
              "  1),\n",
              " ('Came here with a Groupon and left happy! Great customer service and amazing selection. Plus free hot chocolate! Cant go wrong!',\n",
              "  5),\n",
              " (\"Not worth it !! Pricy and food is so so.  \\n\\nService is ok and environment is great.   Won't come back.\\n\\nPork Japanese curry $17.5 lunch is the worst!!  Very Small portion with lots of sauce and rice. \\n\\nTempura is ok.\",\n",
              "  1),\n",
              " (\"I came  here to look at getting a used Honda Accord. It was a very pleasant experience. I do not have perfect credit so I was a little bit worried about walking into a car dealership. David Wetzel came very highly recommended from a  good friend of mine. He did not disappoint. It by far was the easiest car buying experience I've ever had. He got me approved before I walked in the door. I knew what the interest rate would be and the payment. When I got there he showed me the Kelly Blue Book on the car so I knew I wasn't overpaying. I had a minor issue with the car a few days later and Dave handled it Immediately. Thank you Dave.\",\n",
              "  5),\n",
              " ('while this is not large...it is really good!!! the price is great and everyone is soooo nice!  great for the kids and great for we adults! Sometimes I hate to tell others about neat little places, because they become busy and not so fun....but, I will say this little place is great fun...we juiced some stuff today...and WOWWWWWEEEEEEEE',\n",
              "  4),\n",
              " (\"Great food, affordable prices.\\n\\nJust don't ask for the won ton chips if you're getting your food to go.  Unless you really want someone to tell you off.  Or if I'm there to watch.  It's pretty funny.\",\n",
              "  4),\n",
              " ('I think I have a new favorite in the quick service Mexican food game, and that is one of my favorite contests ever.\\n\\nI was all prepared to get a salad but then, then I saw the magical tortilla spinner. I couldn\\'t resist. \\n\\nI created the business listing while I was in line, waiting for it to be my turn. Was I in line for a ride at Disneyland or to get tacos? Its decor sort of reminded me of Frontierland at D-land, but the food was definitely better quality and price than that place. \\n\\nThe service was quick and to the point. The food was especially delicious, considering I fancy myself a connoisseur of quick service Mexican food. I don\\'t think they do their meats/dairy as responsibly as Chipotle, but I could be wrong. I had never been to a Cafe Rio until yesterday, so it\\'s all new and shiny to me.\\n\\nI did like how they put \"Tips to Not Get Fat Off Our Food\" in the bottom corner of the menu. (My words, not theirs, but that\\'s definitely what they\\'re meaning to say.) In case you don\\'t know, you can save food for later and not eat it in one setting. OMG GUYS, did you know that??? Did you know that you don\\'t have to eat all the food at once? Cafe Rio definitely makes it easier, as they put lids out to make everything a to-go box if you want.\\n\\nI will definitely be back to try out the different things on the menu, but a single taco with rice and beans was enough (and yes, I did take some of it home).',\n",
              "  5),\n",
              " (\"I'm always up for trying anew brunch place, I really wanted to like this place, but...I just didn't. I came by here for Saturday brunch after a run with my honey. First, we felt out of place because this place is fancier than the name suggests: hostesses in very nice dresses, dj, bartender, etc. Then, we were shocked by the prices. Maybe there should be another way to rate prices for breakfast places, but paying $12-$15 a plate for breakfast is more than we expected for eggs benedict or a hash dish. Although the food was fairly good, it just wasn't as mind-blowingly good as I had heard it would be or as I would hope it would be for the price. Overall, I have to say that the service was great. The servers and hostesses were attentive and helpful. Everyone around me seemed to be enjoying their meals. This place just wasn't for me.\",\n",
              "  3),\n",
              " (\"We had to make a Costco run and the options were either..........\\n\\nA. Deer Valley- Great, probably my favorite Costco in/near Phoenix, but a little bit far from Surprise.\\nB. Arrowhead- Closest one to us, but ALWAYS a clusterfuck!\\nC. Avondale- Close, but had never been, so it would be the first time at this one.\\n\\nWe went with Avondale and I was glad we did!\\n\\nWe got there pretty early after opening which was nice.  We got a parking spot right next to the entrance, and had free roam throughout the store before the crowds started to pile up.  If you have been to any Costco, you know the type of stuff they carry.  We picked up our usual supplies, and were in and out within about 30 minutes.  Greeter at the door was incredibly friendly, as well as the boxer/cashier.  I can't remember a time where I had a less stress free experience at Costco.  It could have been due to how early it was, but whatever, it was a great trip!  I think I will be using this one in the future when the family has to make a run. (Will still use the Deer Valley one if I need an item or two..its 2 minutes from work).\\n\\nI love Costco and had a great time here today at the Avondale location!  I'll be back, for sure!\",\n",
              "  4),\n",
              " (\"We'd been looking for a good sushi bar for a long time--real sushi (not just rolls), fresh and tasty sashimi, served by a chef that knows what he's doing and interacts with the customers.  You get all of that at Hokaido.\\n\\nJJ and Eric provide fantastic service and are a ton of fun to eat with.  The presentation of every dish is top notch and the prices are good.  This has become our regular spot.\",\n",
              "  5),\n",
              " (\"Disappointed with our (1st) experience tonight. Came in to have a few drinks and maybe dinner. Wanted to sit at the bar, got the last two seats. The young man behind the bar was busy talking to a young woman, when finished he didn't welcome us, threw two menus down and walked away. He seemed very uninterested in waiting on us. I noticed everyone around us had nice full glasses of wine, ours were tiny. We got the hint, we left and don't plan on returning. I guess we didn't look like the regulars but were ready to spend a nice night and plenty of money.\",\n",
              "  1),\n",
              " (\"Zinburger might be one of my favorite places.  If only my wallet loved it as much as I do.  The hamburgers and chicken sandwiches are huge and delicious.  The truffle fries are magical, especially with the dipping sauce.  I have only had milkshake, but it was creamy, thick, and chocolately.  I like the idea of being able to have wine or beer or a milkshake or all three with a burger.  I love the bar, which is massive and has both indoor and outdoor seating.  I also enjoy the giant pasture painted on the wall with the signature cows.  My gripe with Zinburger is, of course, it is pricey.  To get a milkshake, burger, and fries, you are looking at spending $25 and that's without tip.  Yikes.  Now if you come with a friend or date, you can split shakes and fries to make the price less sticker shock.  Zinburger is definitely one of the few restaurants that makes me wish I had a sugar daddy.\",\n",
              "  5),\n",
              " (\"Small market that doesn't have that many options.  It's, however, more convenient to get a few things from there because of distance.  They have the basic essentials you might need for cooking such as spices, oils, and of course, Kimchee.  To make some standard Korean meals, you can get your ingredients here though to make more complex ones, it's best to go somewhere else.\",\n",
              "  3),\n",
              " ('Ordered from here for the first time & I was VERY disappointed. The sweet & sour pork was undone and the egg roll and rice were very bland and had no flavor.    They also need to do some work in this place because when you walk in it looks like the owners could care less of first impressions & or about the upkeep of their business.',\n",
              "  1),\n",
              " ('In the past I have stopped by this store on my way home and have always been frustrated with the employees at the deli counter.  Today when I stopped i was waited on by a person name Britt.  The guy was friendly and put my order together quickly unlike my other visits.  It is the way it should be, get in get what you need and get out in just a few min.  Picked up roast beef, baby Swiss, rye bread and some beer and it was fantastic that I made it home to enjoy the sunset with my dinner.',\n",
              "  5),\n",
              " (\"If you're a female craps player, skip this place. I LOVE craps. I love a casino with a five dollar table (which on a Thursday night, this place had. Just letting you know, in case you wanna give it a second chance.) We had an AMAZING shooter. I def made money, but I saw the dealer do TWO shady things. \\n\\n1. When I gave him a dollar for a hard way bet, he kept it. It never went on the double 5's I asked for. Maybe he's sexist and didn't believe I knew how to play the game? (You know, cuz I'm a woman. So obvi I don't know how to play craps.) \\n\\n2. I had a come bet, which got moved to the six. When the six did get rolled (BEFORE the shooter rolled 7,) he paid out the DUDE BESIDE ME. YES, I know I should have said something in the moment, but that often gets you no where while gambling. So I just quietly took the money I DID win and left. The second that shooter rolled a seven, I left. And I will surely gamble somewhere less sexist next time. (It wasn't Grant! He was nice. I feel bad I didn't get the misogynist's name, but I need to warn other female craps players in the future.)\",\n",
              "  1),\n",
              " (\"Nothing spectacular, but no complaints. Actually one complaint. I couldn't get on the wifi. Nice heated pool and hot tub. Great complimentary breakfast - yes, they do have waffle irons, if that's what you were wondering.\",\n",
              "  3),\n",
              " (\"Chyna heads Pump Salon...one of the BEST places I've been to in LV to get my hair done. \\nShe is really great...listens to exactly what you want done with your hair and nails it EVERY SINGLE TIME. When I am in LV, I will only go to Pump Salon. Chyna will make sure that she takes the time to address all your needs and when you walk out of the salon, you will always feel like you're ready to step into a fashion shoot. Love her to bits, love her amazing talent and will recommend her to anyone looking for a FABULOUS DO!!!\",\n",
              "  5),\n",
              " ('I went to  get my Mom flowers today for her birthday and was in a rush and this girl Jennifer at the floral department in Safeway was the ultimate best ever she was so nice help me make a brand new floral arrangements for my mom and it came out beautiful... If you need a beautiful flower arrangement made must see Jennifer at Safeway on Grand',\n",
              "  5),\n",
              " (\"The lighting is way too bright and our waitress wasn't amazing.  The Cowboy Maki roll is delicious, i suggest pairing it with ponzu sauce.  The steak roll is not good at all.  I love that they have mochi too.\",\n",
              "  3),\n",
              " (\"My brother and I took my mom and grandmother here for Mother's Day. We made reservations for 8. I found out later that they closed at 9 but it's a good thing that we eat quick. The food made it easy for us to do it though. Our waiter spoke Cantonese so it was great because my mom and grandmother barely speak English. It was a fusion restaurant so a bit of the familiar mixed with unfamiliar made for a great experience.\\n\\nIt's quite a small restaurant with not a lot of seating. Some may feel it's cramped but it wasn't a big deal.\\n\\nWe pretty much ordered half the menu. I order all 3 steamed mantou sandwiches, pork jowl skewers, confit duck wings, tea smoked duck breast, torched mackerel, fried chicken and lamb ribs.\\n\\nOut of the 3 sandwiches, I'd have to say that the brisket and pork belly were on par with one another and the chicken one was just alright. The former two were very flavorful. Each basket comes with two sandwiches.\\n\\nI think I enjoyed the pork jowl skewers the most. Just the right amount of fat for the tenderness plus it was both sweet and spicy on top of that.\\n\\nI thought the duck wings were okay. I'm used to trying the duck wings from the local grocery store and they didn't taste that much different. Not sure if I'd order it again or if I got good value.\\n\\nWhen it came to the duck breast, it didn't seem that different from the smoked duck breast that you get from the store. It just might seem like a thing regarding duck at this point. This was the most expensive thing on the menu so I expected a bit more.\\n\\nThe torched mackerel was worth it. It was tangy as most mackerel are and we spent a lot of time eating it. They said it was boneless but I found a bone here and there so be careful.\\n\\nI don't really remember how the lamb ribs were so... I'm just going to say forgettable. Might have to order it again to see if they actually were.\\n\\nThe fried chicken here was awesome. They gave us a lot and it was extremely crunchy. It was good by itself but even better with the hot sauce. The kimchi was a bit random but I like kimchi.\\n\\nMy brother and grandma enjoyed it but my mom loved it. She was so busy eating, she didn't even have time to talk. I think the bill came up to $150 for the 4 of us. So, it was a bit on the pricey side but I'd still come back after saving a little or maybe I just won't order too many expensive items.\",\n",
              "  4),\n",
              " ('This used to be a pretty good place in Henderson to grab a bite to eat the last couple times we were in here the service has been trash the food has not been good',\n",
              "  2),\n",
              " ('Worst experience EVER.  My mom and myself brought my sister in because she was still feeling awful from what her primary had diagnosed as strep throat.  The antibiotics weren\\'t helping and we thought it may be walking pneumonia.  As soon as we got in, the concierge who seemed to lack any type of enthusiasm at all got her in the system and my sister and I were directed to the next counter to get a bracelet.  Only about 10 minutes go by before she is taken back and poked and prodded.  The doctor didn\\'t say hello to my mom or myself at all, although the nurses were friendly.  We tried to explain that she may have pneumonia but he quickly dismissed us.  My sister can be rather flustered in this type of situation so we tried to help explain, but since she is 18, they wanted nothing to do with what we had to say.  They did not to an X-ray which startled the nurse who came back with her results later, but more on that down the line.  \\n\\nAfter her insurance was recorded into the system, we were hurried back out into the waiting room where a few more people had populated.  My family and I were making conversation when we noticed a couple other patients complaining about the wait, which they had been told would be a few minutes, that turned into an hour or more.  One woman white, one black *It\\'s important to know this, trust me*.  The black woman, who we learned was named Jasmine, found she was being charged for a room that she was never in.  She asked the nurse politely to speak to someone, as well as what was taking so long.  This prompted the white woman to also ask about what had taken so long seeing as her son was ill enough and like anyone in an ER setting, they wanted to get the hell out of there.  The nurse was very rude to both of them and was getting smart, so the black woman (Jasmine) asked for her name and the nurse covered her badge, but Jasmine thinking quickly, already saw it, and immediately asked for a social worker.  The social worker came out and spoke with the white woman but not to Jasmine, completely ignoring her, and worst of all, as soon as Jasmine spoke up for her right to speak to someone, with zero attitude, they called security to stand nearby just in case.\\n\\nWhile Jasmine waited, the security guard whom I had a bad feeling about, was talking major smack about Jasmine to another patient.  Completely unprofessional right off the bat.  The nurse who refused to give her name was offering blankets to people in the waiting room, all except Jasmine.  PURE RACISM!!!!!\\n\\nEventually, my sister was taken back and given her results which were mild to say the least.  The doctor had recommended that she stop her antibiotics, which is stupid.  I come from a medical background and never once has anyone thought it was a good idea to stop your AB\\'s before they are finished.  As we turned to leave we saw Jasmine crying in a corner with what I assumed was another doctor.  Jasmine ran up to my mom and said that the staff had called the cops on her and planned to have her trespassed.  My mom stayed behind because Jasmine was scared.  My sister and I went to get food and of course, by now I\\'m infuriated.  Under my breath, and directed toward my sister, I said \"piece of shit security guards\", which caught the ear of one of them.  He shouted at me as I rounded the corner out of the door.  As I exited, he came up to me, now mind you we are outside of his jurisdiction at this point as I was obviously leaving and not looking for a fight.  He came 2 inches from my face, cursing at me and telling me that he will have me trespassed.  I continued to say \"yes sir\" just to get him out of my face.  He went on about how there were sick people in this building, one of them being my sister who he was scaring the shit out of at the moment.  I walked away and returned with food for my family.  My sister was so anxiety ridden she couldn\\'t function until she got to see my mom.  She had the idea in her head that the security guard would hurt her after his little display with me.  As soon as I told my mom what had happened, she lost her shit and asked for his name.  Needless to say, they claimed not to know his name and refused to give it up but said that my mom could pick up the red security phone and ask the security department for his name.  When she did so, the phone was silent on the other end and they refused to give his name up also. \\n\\n We left and will not be back.  A police report was filed by me and my sister due to the incident with the security guard.',\n",
              "  1),\n",
              " ('Very simple take out,recommended by my cousin who been eating there for years.Dont expect exotic dishes,very simple westernize orders here people.I was told they been there for almost 40 years!!..they must be doing something right.Love the wings and rice and the chow mein is pretty good for a take out..',\n",
              "  4),\n",
              " ('My first experience at another salon in Madison was bad news for my short haircut. I had choppy and chunky layers instead of feathering or texturing, meaning when the cut finally grew out, it looked heavy and helmet like. I went to Thorps after reading other yelp reviews and booked an appointment with Bria. \\n\\nI was super excited when I met her to see that she also had an adorable short cut and knew exactly what to do with my hair. The place had a wonderful vibe, super welcoming and comfortable. Bria was amazing. She shaped and texturized my cut into something really stylish and cute that framed my face perfectly. (And recommended some great restaurants for a new 30ish person in Madison!) \\n\\nI am definitely going back and cannot recommend it enough!',\n",
              "  5),\n",
              " ('Disappointing experience. I was served the wrong food and the staff seemed unprepared for the high volume of customers. \\n\\nThe chicken shawarma plate was small in portion size, with no included salad or garlic sauce. And the chicken seemed to be minced, like it was leftover.\\n\\nThe falafel sandwich was dry, with little added sauce and tough and difficult to chew. I would strongly not recommend dining here.',\n",
              "  1),\n",
              " ('Like the one in Tempe, cant say the Scottsdale one is the same quality after I went here few times. The last time I ordered steak sanwiched they were extra salty, barely edible. Pretty disppointed. The place seemed clean though when I went there so at least that part of quality didnt drop. Service is just average.',\n",
              "  2),\n",
              " ('Urban Farmer is delicious for breakfast! Make reservations because it fills up fast. My husband loves the blood Mary bar. I love the English muffins with breakfast! They are homemade and wonderful!',\n",
              "  5),\n",
              " (\"I've been to Flo's numerous times over the years, but there seems to be a downward trend.  It looks like I'll be finding a new Asian Fusion spot...\\n\\nThe Man and I had a couple hours to kill and hungry bellies to feed, so we popped into Flo's for their (seemingly) amazing happy hour.  I ordered a froo-froo drink, which I'm pretty sure was half-price because it contained half the alcohol it normally does.  Tasty, but strong? Um, no.  We moved on to a bunch of appetizers: crab puffs, chicken satay, spring rolls, BBQ pork, and pot stickers.  The BBQ pork was yummy, but that is where our satisfaction ended.  All of the other items seemed no better than from-the-freezer snacks I can get at the grocery store.  Are they making any of these on site?  Maybe, but it sure didn't taste like it.  The crab puffs were the most disappointing.  So little crab, so much cream cheese.  They should definitely take a look at that ratio and either rename the dish or up the crab quantity.  Just a thought...\\n\\nNow I'm off on a journey for a new go-to Asian spot!\",\n",
              "  3),\n",
              " ('Really great food and service, overall exceptional experience! Just tried breakfast for the first time (dinner previous two visits) and very delicious! Blueberry pancakes and bacon and eggs and sausage, hard to beat for under $15 with drinks included. Will be back again and again',\n",
              "  5),\n",
              " ('I\\'ve already left my thoughts on this location. And I will reiterate, just start calling this location, \"Walmart\"...because it is very clear that the employees and management team cannot hold up to what Target\\'s standards are supposed to be. \\n\\nI avoid this Target at all costs if need be, you can smell the bathrooms that are located in the front of the store all the way in the back of the store. It\\'s dirty, it\\'s unorganized. I\\'ve said enough.\\n\\nI\\'m re-writing this review because of the experience I had yesterday evening with an associate, Carlo. \\n\\nYesterday evening I brought my son (who is 18 months old) in for a quick errand. We stopped by the bargain section and I let him pick out a sippy cup.\\n\\nAt checkout, I was speaking to the cashier (Carlo) about a price check - which he already had an attitude with me. \\n\\nBefore I continue let me just point out that I am pretty well mannered, I have my child under control and I\\'m a normal person, not doing anything to deserve this attitude. \\n\\nWhile speaking with Carlo, my son, WHO IS 18 MONTHS. Is trying to hand him the sippy cup to scan it, he\\'s not screaming or crying or tempering, just reaching the cup towards him that doesn\\'t even reach up half way to his chest. \\n\\nMid-conversation, Carlo grabs my son\\'s wrist and yanks the sippy cup out of his hand like he was holding a firework and did something wrong.\\n\\nAdmittedly, I have never had something like this happen with my son. Ever. So I didn\\'t even react, I was just in shock. He didn\\'t say anything, scoffed at me, didn\\'t thank me at the end, say have a nice night, nothing.\\n\\nI left the store embarrassed and in shock thinking I did something wrong as a parent. I considered calling management but thought I was overreacting. Took some time to really think of it and thought, in no way was it moral of this employee to put his hand on my son like that. Even if he was being a brat (which let me remind you, he wasn\\'t). That\\'s not your kid, that\\'s not your job. YOU DON\\'T PUT YOUR HAND ON A CUSTOMER\\'S CHILD FORCEFULLY. \\n\\n\\nI contacted the store after thinking and was unable to get a hold of a manager. Shocker. \\n\\nThat was it for me, never coming to this Walmart again. And I hope I never see Carlo out of his place of employment. \\n\\n\\n:(',\n",
              "  1),\n",
              " ('I have been going to this dentist for many years. The front desk staff are great. Dr. Atwal & Dr. Pirbhai have been fantastic to me. The hygienists are also wonderful. I have never had a bad experience there.',\n",
              "  5),\n",
              " (\"This place always has friendly staff. It's a very clean and beautiful setup inside. I love their desserts. You can't go wrong with anything on the menu!\",\n",
              "  5),\n",
              " ('Everything was excellent! I had the Bleu cheese topped sirloin with Yukon mashed potatoes and a house salad. My husband had the filet and a caesar salad. Steaks were cooked perfectly! Service was on the ball... We will be back!!',\n",
              "  5),\n",
              " (\"A bit pricy for frozen banana mash? \\n\\nI would have expected a bigger portion and was a bit disappointed as the product didn't wow me. I was expecting a decent amount of frozen banana similar to what they advertise on the website/ Facebook posts. I honestly think I could have made this with my blender and a few frozen ripe bananas. Not sure if it is demanding a premium to the price because it is vegan, but In the end I felt a bit ripped off.\",\n",
              "  3),\n",
              " ('Come down to Arizona three times a year for a week each time. Always go to Breakfast at Nicks. Love there food',\n",
              "  5),\n",
              " ('Visited this restaurant for the first time. I thoroughly enjoyed their food, very tasty. I will definitely be returning.',\n",
              "  5),\n",
              " (\"Dr. Reuss is such an unconventional doctor. I've been seeing him for two years, and he's absolutely fabulous. For starters, he shakes your hand on the way in and the way out. You go into his office before and after your pap. I'm 30, and he's the first gyno who's ever TALKED to me before asking me to get on the table. I can't even begin to tell you how refreshing that is. I went in last year for a biopsy, and he explained everything he was going to do, and even drew pictures of how cells grow, and really put me at ease. After the procedure, we went back to his office where he explained next steps based on different outcomes. \\n\\nI have referred several friends here and will continue to do so. It's odd to be passionate about your gyno, but well, he's awesome.\",\n",
              "  5),\n",
              " (\"Went into the Rainbow Blvd location and was very pleased with the service.  J.C. was very helpful; explained all the options available and there was no pressure to sign up.  I'm waiting for the service to be set up, but I've spoken with a friend who's had it for a while and she loves it.  She also was tired of the ever increasing prices from Cox.  Would definitely recommend the store at Rainbow if you're thinking about getting Century Link.\",\n",
              "  5),\n",
              " (\"Smelled REALLY good, looked REALLY good but wasn't able to get any!  :(\\n\\nWent today, Saturday, at 2:00 and waited in line for 15 mins without moving.  People were coming in behind me and leaving because it was taking WAY too long. Other people who had ordered and were waiting for their food were also upset because they were having to wait too long. Couldn't even take a menu because they were out. \\n\\nWill give it a second chance, maybe during the week or see if they accept carry out calls.\",\n",
              "  2),\n",
              " ('OK location..not the best...food was OK...waitress was nice..restroom smelled a little bit & toilet was real low to the ground...',\n",
              "  2),\n",
              " ('My friend and I decided to sit at the bar and boy did we quickly regret it. After 10 minutes of staring like a deer in headlights I had to ask for a menu. Someone was kind enough to pour us water, but we had to get up and find some straws, coasters, and silverware. The bartender was working like the entire US Congress was eating at Burntwood. The restaurant wasn\\'t even busy....there were 7 customers at the bar. We watched as he poured his drinks and what a waste of booze. I don\\'t think bartenders make drinks that fast on New Years....slow down cowboy. It was so comforting to watch him never wash his hands. He also placed the clean rack of dished right in front of us. Very rude and inconsiderate \"bar tender\". \\n\\nOur food came quick and it was good. No one ever came to ask us how the food was which was disappointing because I needed more ketchup. The bar had 4 people working and not one of them showed any interest in receiving a good tip. The restaurant manager was behind the bar at one point and didn\\'t bother to ask how our meal was. I didn\\'t even know who our server was because there were so many servers behind the bar. Cheers to the happy hours specials, but I\\'ll never go back. You can get the same mediocre food at Applebees.',\n",
              "  1),\n",
              " ('Cute little joint wedged inside a strip mall.\\n\\nWas visiting here from NYC for a conference with a bunch of coworkers, had heard about this place and wanted to check it out. Being from NYC we all had ridiculously high standards when it comes to pizza. We were not disappointed. \\n\\nWe tried the biancoverde and sausage pizzas. Great smoky woodsy crust and very simple and delicious toppings. Highly recommend.',\n",
              "  5),\n",
              " (\"I don't know what it is about Northern Chinese dim sum places... either I'm just really easily impressed because I have this sort of food so infrequently (maybe I'm just over the whole Cantonese-style dim sum thing?), or it's just that good. I have been here a number of times and I have always enjoyed the food here. This time, we got xiao long bao/soup dumplings, an egg/onion pancake thing, rice roll thing, spicy tofu, regular dumplings, and a bun that you dip into condensed milk. For the most part I liked everything except I could have done without the spicy tofu. The bun with condensed milk was really good, but so simple, it's like something you can just make at home yourself. Whatever they put into their dumplings was seriously addictive like crack though, like I couldn't stop eating them and just thinking about them now is making me salivate. The restaurant is also pretty nicely decorated as well, high ceilings, fairly roomy, etc. Great place to go to if you're getting tired of the typical Cantonese/HK dim sum fare and want to try something new and delicious!\",\n",
              "  4),\n",
              " (\"Great joint.  Very unassuming place and some of best wings in town!  They had me at 'wings'--the garlic parm wings!  Tuesday nights are their wings nights--go for the garlic wings.  Savory, crunchy, garlicky, buttery goodness! I am salivating as I write this! They also have great pizza! But their must try dish--greens and beans!  So good!\",\n",
              "  5),\n",
              " (\"I've ordered late night delivery for pizza, pasta ans wings as an experiment. Everything sucked. I will never order from them again.\",\n",
              "  1),\n",
              " (\"The owner isn't very nice , she's not rude or anything , she just isn't very welcoming . I've herb 3 time , tried something different every time , not thrilled . I'm Trinidadian, & I get its a Jamaican restaurant , but I know Caribbean food when I taste it. The food is decent but nothing to really brag about\",\n",
              "  2),\n",
              " ('Burger was so-so at best.  Very over priced for basicly McDonalds like burger.  Stopped because it is on a very convenient location but wish I would have just crossed the street to the food court and saved 20 extra dollars on a quick burger.',\n",
              "  1),\n",
              " (\"Dr. Lasee is an amazing doctor. She's very knowledgeable and thorough. Her staff is excellent and very friendly. I took my dad to see her earlier this year. He can be a bit difficult, but he loved Dr. Lasee and her staff. She's hands down the best optometrist I have had the pleasure of seeing. Since then I have referred her to a few of my friends, and they all love her and her practice. \\n\\nI will keep sending my family and friends to her because I know they will be in good hands. \\n\\nAlso, her practice is beautifully designed,  and the equipment is state of the art. The frames are great quality, and they have a style for everyone. \\n\\nAwesome place and doctor. Go visit, and you won't be disappointed.\",\n",
              "  5),\n",
              " ('Delicious food from start to finish from chips and salsa to our main entrees definitely will be coming back',\n",
              "  5),\n",
              " ('I\\'ve been trying to find the best sushi here in Pittsburgh and have been underwhelmed with what I\\'ve found so far until now. \\n\\nWhen it comes to seafood, I am quite picky of the geographical location of where the consumption of seafood takes place. Especially, if I am not surrounded by some sort of body of water. I grew up by the beach. So naturally my mentality is, if it ain\\'t fresh, I ain\\'t eatin\\' it!\\n\\nPittsburgh is not near an ocean but it does have rivers (lots of them!). Anyhow, I didn\\'t ask them where they got their fish from. However, by the look, smell, and taste of the sushi, I cant tell it is fresh. The quality of fish is SUPERB! \\n\\nAlso I overheard the sushi chef tell the story of his life. He\\'s from Japan, lived in New York and had a sushi restaurant, moved to Pittsburgh, owned a Japanese grocery store in Shadyside, then opened up Kiku. While watching him make sushi, I noticed him using gloves AND washing his hands!!! I mean I\\'ve never seen that before but my inner-nurse was jumping for joy! \\n\\nI love that this place is authentic and quaint! There\\'s none of that \"goop\" slathered on rolls, there\\'s nothing wrong with that. But if you are looking for something more traditional. Kiku is definitely a hidden treasure.\\n\\nWhat I loved: \\n1. Miso soup - one word can describe it. UMAMI!!\\n2. Kagoshima - because I love yellowtail\\n3. Temaki Spicy tuna \\n4. Nigiri Toro\\n5. TOMAGO!!! - slightly sweet and well made. One of the Best!\\n\\nArigato gozaimasu!',\n",
              "  3),\n",
              " (\"hostess (J)  did a super job , I made a reservation but she couldn't find it , she was very professional and took care of me . Allie the server was 1st rate ,  attentive but not intrusive , she helped me pick some wine , it was an upsell but it was well worth it . Food fab , ribs spot on . A shout out to Dave the salad man and a chill to Nic . Big fan . JZ still king of the line .\",\n",
              "  5),\n",
              " ('Delicious, reasonably-priced Mexican food. Customer service was outstanding. We arrived about 15 mins. before closing, but they treated us like we were the first customers of the day. Once we ordered at the counter, the food was delivered to our table within about five or six minutes. Really appreciated their hospitality and tasty food.',\n",
              "  5),\n",
              " (\"This is a family friendly casino in that there is a bowling alley and a movie theater for the kids, which most casinos do not have.  We just went to Circus Circus and it was packed with families with little kids... the kids loved it but it was just too old and dingy... that's why South Point was more enjoyable.\\nPlus there is Bingo with electronic devices that assist you play for just $10 with a players card.  I was able to play for an hour and only lose that much... close but no cigar.  My daughter won $200 last night... \\nDon't forget Steak n Shake for an inexpensive meal too.\\nNot bad after spending $200 at the Wicked Spoon buffet at the Cosmopolitan (well worth it by the way)... \\nanyways... two people won over $500 and another won $700 tonight... lot's of fun.\\nI'm going back tomorrow to try my luck... wish me luck.\",\n",
              "  4),\n",
              " ('We have lived in Vegas for about three months and we have gone to Oh Jah twice! Both experiences were great! The hibachi chefs are hilarious and know how to put on a great show.  They were also aware that we had our 7 month with us and made a small flame for him before making a bigger one, so the fire didnt scare him. I tried a roll each time and was not disappointed. I definitely recommend this place if looking for a fun moderately priced meal.',\n",
              "  5),\n",
              " ('This is the BEST hair salon!  My hair stylist was Reiko and she was incredible!  She listened to what I wanted and gave me great recommendations.  I love her and I love my hair!  She is so friendly and personable.  I highly recommend this salon.  All of the employees in the salon seemed very professional and the salon was very clean.  All of the customers that left the salon seemed extremely happy.  I am so happy with my hair and I have been receiving so many compliments.  Thank you Reiko!!!',\n",
              "  5),\n",
              " ('I have a new favorite coffee place. I decided to come way out of my way to try this place because I kept seeing their vegan pastries on FB. They did not disappoint! The vegan breakfast pocket is hearty and filling. The cheese tastes \"real\". I\\'m a black coffee drinker, got the Sumatra and it\\'s excellent. I love the decor and atmosphere too, local art on the walls and decent music playing. Anytime I\\'m on this side of town I\\'ll be here!',\n",
              "  5),\n",
              " ('Love this place. The food is always good but tonight I stopped in for drinks and dessert.  So I had the chocholate bread pudding. . Omg so freaking good and the bar tender Chad was great.',\n",
              "  5),\n",
              " ('DO NOT USE THIS COMPANY!  Be aware they prey on your frustrations and definitely do not set the real expectation up front.\\n\\nRobert, the technician, who also goes by the name Bobby will tell you everything is going to be great when installing a new water heater.  Then when he finally arrives, he will tell you that the home warranty company does not cover modifications.  These modifications cost $40 tops, AM/PM plumbing wants $224 for the modifications.  Robert will record your conversations without letting you know, because, well these surprise expenses tend to get people excited including Robert. Robert refused to give me an invoice and threatened to take the water heater out, put a lien on the house, take us to small claims court and call the cops because he felt threatened.',\n",
              "  1),\n",
              " (\"Uhhhh, not a mile long... not even close. However even though it's not a mile long, it's really easy to get LOST in the funky shaped U thing they have going on... it took a map, 3 gals and 15 minutes to find H&M in this place.\\n\\nRegular ole mall...kinda like any which one you'd have at home. But it worked to kill some time walking around on a slow evening after dinner. Of course I managed to find something to buy, I always do!!\",\n",
              "  4),\n",
              " (\"I got a shampoo and conditioned head massage, a foot reflex massage, the ionic detox Ph balance soak with a 15 minute upper back massage. It was all amazing, the girl was strong and had a firm stroke. She got all the kinks out without a problem. She was also very pleasant in general. I don't have any complaints about the affordable prices either. This place is great!\",\n",
              "  5),\n",
              " ('This place is absolute garbage.  Slower than a sloth covered in molasses.  Waited 20 minutes for 2 burgers and a small fry and someone who order three orders after me got their 2 chicken  sandwiches and fries before me.  Sounds about right for this spot. -2 stars',\n",
              "  1),\n",
              " (\"A small hole in the wall place,prompt service, pretty good udon noodles.Decent menu, love the poke, it's my favorite.  I really like the lunch specials. Parking lot has lots of room to find a spot to park.. Price is reasonable.\",\n",
              "  4),\n",
              " (\"Pretty cool spot. Cool to place to come get drinks. Had the oxtail and veggies. Was a little lacking in flavor. Maybe a pinch of seasoning for the veggies. Sea salt even. Tomato rice was not bad. The beef shanken salad was pretty solid. Liked it. Would get it again. Good soy vinaigrette and good sauce on the beef. I'll try it again. Hopefully gets better.\",\n",
              "  4),\n",
              " ('Debated a long time yesterday how many stars to give Blackstone, but after today\\'s discussion with my family where we again complained about the faults of yesterday\\'s dinner, I decided that two stars was the right rating. This was due to two reasons: the poor cuts of beef and the bad managerial decision.\\n\\nSteak:\\nWe ordered one of each steak cut: the tenderloin, sirloin, and the rib eye. The 8oz tenderloin was well executed and the highlight of the night. The cut was tender and juicy. However, it went downhill from there. The sirloin and the rib eye were far too tough and chewy. There were literal pieces of tendon dispersed throughout the cut, which made chewing very difficult. It wasn\\'t particularly flavourful either. The steaks were impressive merely due to the lava stones upon which they were served; they were otherwise a disappointment. \\nMy dad also ordered the lamb shank, a pitiful piece of mush that came drowning in an overly sickening sweet BBQ sauce. There was absolutely no flavour whatsoever; it was an overdone, overbraised lamb. That said, I suppose we were at fault for ordering something other than steak at a steakhouse.\\n\\nService:\\nWe came to celebrate my sister\\'s birthday; I had called in advance to let then know and asked whether there would be any dessert or celebration. The manager had mentioned that they could bring a cake with a birthday song and decorate it nicely - just to let him know upon arrival. I did just that, but decided to confirm whether the celebration would be on the house. He said that it wouldn\\'t be, which is totally fine, so I told him that I\\'d reconsider and let him know later. Halfway during the meal, he walks by with a pat on my shoulder, assuring me that he \"will take care of it\". From that, I assumed that he decided to provide the cake on the house, and was delighted. You can imagine my shock when I see the $8 charge on the bill at the end! While the celebration was a nice gesture, I never explicitly asked for it. That was because I didn\\'t feel that a measly small piece of cake was worth $8, no matter how good. For him to make a decision on my behalf - the customer\\'s behalf - is simply unacceptable.\\nThe servers, though friendly, had difficulties understanding our order. The sides for the steak were switched, so we had to go through the trouble of righting their mistakes. Moreover, they just kept checking in on us, which almost felt as if they were breathing down our necks a bit. It was slightly pushy and overwhelming. \\nFinally, the table space was very tight. There was simply insufficient room for all the plates and stones. However, despite our raising of this point, they simply dismissed it. The cramped table simple made dining there uncomfortable.\\n\\nConclusion:\\nIf you\\'re craving a good steak, I would not choose this place. If you\\'re interested in the experience of the lava stone, then sure, come and try. I won\\'t come again only because I feel that we were ripped off with the sudden charge and delivery of the birthday cake.',\n",
              "  3),\n",
              " ('Give this place a try, the food is good! We ordered a gyro plate, hummus w/pita, and a gyro (Aphrodite) and a side of potatoes. Everything was well above average, fresh, and perfectly seasoned. I highly recommend the Little Greek :)',\n",
              "  5),\n",
              " (\"Convenient place to go nearby for cheap beers and food at times and they have a sweet wine ($14,000+) machine upstairs to drink from. Trivia on Friday's at 7pm upstairs.\\n\\nWorkers are helpful. Sometimes their food can be more expensive than surrounding grocery stores.\",\n",
              "  3),\n",
              " ('Always one of my \"go to\" spots when I come to Vegas! Hooray for the frozen hot chocolate.. Especially the white one. Yummmmmm!!!',\n",
              "  5),\n",
              " ('I have eaten here many times.\\nFood is fine, service typical of Vegas, now could you turn down the music?\\nThere is no sense in the waitress not hearing me, and me not hearing her,\\nand me having to raise my voice to speak to somebody at my table.\\n\\nNow I do NOT  notice this every time I am there, so I assume somebody turned this\\nblather nobody listens to up by accident.',\n",
              "  2),\n",
              " ('Probably the best donut shop in the area! Taste super fresh unlike some of the other shops! Will definitely be back!',\n",
              "  5),\n",
              " ('My wife and I have a great time talking with the staff. Very friendly and open for convo. The coffee is great too. The owners are super cool too',\n",
              "  5),\n",
              " (\"My friend took me to Chompie's on my first visit to Arizona. We split the Jewish slider challenge with two of her children and brought the leftovers home for the rest of her family! We also had Lovey's smoked salmon tapas as an appetizer. OMG.  This was definitely my favorite meal of my trip!\",\n",
              "  5),\n",
              " ('I recently stayed here, not even a week ago, and it was less than okay, and I\\'ll explain why...\\n\\n1) This hotel is not located on the strip, initially I knew that, but my boyfriend was dying to stay here so I compromised, knowing that there\\'d be a shuttle plus he said we\\'d just take cabs seeing as though it was only a mile from the strip. Come to find out the shuttle ran every half hour which is horrible, & only sat 12 ppl so if you were the 13th you would have to wait until the next one came which was a whole half an hour later AND it stopped running at 8 so if you wanted to leave your hotel after 8 or come back from the strip to your hotel after 8 that\\'s a 12 dollar cab with cash, 15 with a card (for a mile long ride!). You can see how hanging out after 8 outside of your hotel can add up in cab fees if there\\'s only 2 of you like it was for me.\\n\\n2) When checking in there were only two receptionists and they moved pretty damn slow. We checked in, I want to say around 11pm, which is probably why there were only two staff but it\\'s a hotel, it\\'s Vegas, people are checking in all the time, so the wait for that was a little ridiculous.\\n\\n3) The wifi was Blahhh, it was very slow and I had to enter my name and room number constantly to keep connecting back to it... Annoying!\\n\\n4) The food wasn\\'t cheap at all, it was 45 bucks for my boyfriend and I to eat at the buffet which I thought would have been fitting for two ppl that didn\\'t stay in the hotel opposed to two ppl that did BUT I will say that they served endless champagne which diffused the situation for me, they did good with that (finally!)\\n\\n5) There was a $20 fee a night so when I was checking out that was $80 for me but they attempted to charge us for a Gatorade and some other item that we never used which hiked up the price. After we told them we hadn\\'t used anything in the mini bar they did take those items off of the bill. Twenty dollars a night is still kind of ridiculous after paying hundreds of dollars for the hotel room already, don\\'t you think?\\n\\n6) At this point I\\'m done talking about this place! There are already too many deterring points I\\'ve made about this hotel that I just do not feel like continuing. On the ups the room was nice and newly renovated and we had two beds when we only needed one, the bathroom was really nice and the tv had cable so good job on that I guess. We were able to do one party at the \"Moon something\" for free after putting ourselves on the guest list. The party itself was a little corny but the rooftop view was pretty cool.\\n\\n7) All in all if you MUST stay here it won\\'t be your worst experience, especially if you\\'re richer than me, lol, but I would recommend staying somewhere on the strip, it\\'s much more convenient, some of the hotels are less expensive, and you won\\'t have to worry about carfare after 8pm! I, however, would NEVER stay here again!',\n",
              "  1),\n",
              " (\"Great atmosphere, but not the hugest fan of the Mac N' Cheese Bowl. The Mac N' Cheese tasted quite average, as in there was nothing special about it. It's great that the dish is served in a container so that a lid can easily be put on it to bring home. On top of that, the dish was served in a large portion and is extremely filling. \\n\\nStaff was super friendly and constantly refilled our water and checked up on us. Also, getting to the washroom was a bit confusing, but one of the staff kindly guided me. I heard amazing reviews about this place and will most likely give it another try!\",\n",
              "  4),\n",
              " (\"This place is nothing more than a dream come true for fans of well cooked meats and foie gras!  Despite the small walk-through space and single bathroom, you can't go wrong with the tinted lighting, wood and brick walls, and open kitchen concept, making for a very welcoming dining atmosphere.\\n\\nThe food is slightly on the pricey side, with an average dish ranging from $25-37 depending on what you order. But the portions are well worth every dollar. One dish is enough to satisfy a big eater; two dishes will induce food coma. And when you're dealing with meats slow cooked to perfection, marinated with simple yet delicious flavours, and well complimenting sides, it can get very easy to get carried away with wanting to try everything.\\n\\nI sat down with five other friends, all of us guys and in Montreal for a bachelor party (attention bachelor party planners, this is the perfect place for dinner). They sat us near the open window, which for a warm evening was great. It gave us room to breathe and a good view of the restaurant or of the street depending on where we looked.\\n\\nAfter a round of beers, we shared a Boudin Tart and a Duck Carpaccio. The tart crust was light and crispy topped with caramel onion, potato, and blood sausage cooked to perfection. The foie gras drizzle on top made for a light but wonderfully complex marriage of flavours and the dish was shared evenly among us. The Duck Carpaccio went as quickly as it appeared. The thinly sliced pieces of raw duck signified meat of the highest quality and flavour, and it was balanced out with an egg yolk, olive oil, mushrooms, capers, and mushrooms.\\n\\nThe main dishes were equally spectacular. The PDC cut was a roast so big, it had to share it. It was cooked very well. A crispy flavourful exterior with a well done first layer down to a juicy medium rare interior. The veal rib was a massive, single rib with melt off the bone, tender, and astoundingly seasoned meat. My duck magret in mushroom sauce was absolutely spectacular. The sauce was a light white wine flavouring, thinly sliced mushrooms covering thin slices of duck cooked medium rare. With each slice, the flavour of the duck became more noticeable.\\n\\nDessert was light, since by this point we were all stuffed. I ordered a maple toffee milkshake. It wasn't big; served in the same glass as our beer. It was a frothy shake, not thick, but it also had a light, non-invasive sweetness. The toffee flavour came from a thick piece of toffee that sat in the shake and could be eaten at any time. It was a satisfying end to a satisfying meal.\\n\\nThe star lost was mainly due to the poor service we got from the main waitress. The bus boy was fantastic. He promptly refilled our water and got us more bread than we could stomach. The runner was equally pleasant. But the main waitress had a bit of attitude from her greeting, was not helpful in any way, and never came back to check on us. If it weren't for her assisted helpers, we would have had no interaction with any staff. Also, we were warned that the PDC cut would take 50 minutes to prepare, but after an hour of waiting, no one came with an update. I can see how this would have turned off tourists from recommending the place, or from wrecking the dining experience.\\n\\nHowever, Au Pied de Cochon has quickly become a go to place whenever I'm in Montreal. The food is fantastic, the atmosphere is great, and when you talk about value, I wouldn't have been angry if the prices were even higher than they are considering the quality. I highly recommend this place!\",\n",
              "  4),\n",
              " ('Does anybody know why they closed all locations in the Phoenix area!?! \\n\\nI am moving to the Peoria area from San Diego and was looking forward to shopping here. Something familiar to home. \\n\\nNow I see they are all closed. Why?',\n",
              "  1),\n",
              " (\"What happened to Wendy's? Flys everywhere and tons of dead flys on the window. Gross! Couldn't even enjoy my burger.\",\n",
              "  1),\n",
              " ('I had heard a lot of great things about this place and unfortunately, it failed to impress. \\n\\nThe Ribs were tough and fatty and the corn was ice cold. \\n\\nThe atmosphere is rustic and fun though. \\n\\nMaybe it was just an off day.',\n",
              "  2),\n",
              " ('Thank you for 25 wonderful years of providing one of the widest selections of videos in the Phoenix area. You will be missed! I browsed again today (The penultimate day before closing their doors for good), looking through their impressive variety of new, popular, older/classic, and obscure films (The obscure videos are the best!). Browsing by aisle is definitely an experience that many people these days will unfortunately miss out on. Sometimes there is more fun in the act of browsing than watching the movie you pick out. :)\\n\\nCurrently they have deeply discounted Blu-Ray, DVDs, and games. Prices are as low as $1.99 for case-less DVDs and box sets are $9.99.',\n",
              "  5),\n",
              " (\"I was a bit disappointed, as I had been excited to try this place out for a while. We were seated in a corner booth and the walls around us were visibly dirty. The server, though friendly and attentive, was pretty clueless.  I told her that our daughter had a peanut allergy and if I could see the food allergy menu.  She had no idea what I was talking about.  When we asked if there were any items that have peanuts in them or were cooked with peanut sauce or peanut oil, she said the hummus.  While it sounded strange, we didn't say anything at the moment.  Later when she brought our food, I asked if the hummus was really made with peanuts or maybe she meant chickpeas?   She said she had to ask the kitchen and get back to us.  Overall, our food was okay, but nothing great.  As food allergies are becoming more common and some are potentially life threatening, such as a severe peanut allergy, I think it's important that the staff is more knowledgeable and better prepared to handle questions about their menu.\",\n",
              "  2),\n",
              " ('If I could give this place less than one star I would - horrible service and they kept people waiting for over 1/2 hour with about 10 tables open. We finally left in frustration an went to the Mexican restaurant down the street - should have started there and skipped this place all together.',\n",
              "  1),\n",
              " ('Yes this gym is old  but thankfully that keeps away the \"do you even lift bro \\' fellas outta here.  More than enough cardio machines and free weights to keep people from having to wait. Classes in three different rooms. They even have new suspension training equipment that has become hype.  Best of all this location follows old 24 hr fitness hours! So kinda 24 hr ish open from Monday morning through Friday night 11pm then I think closes at 9 sat sun',\n",
              "  4),\n",
              " (\"I called to make an appointment for a haircut and little did I know I was making an appointment for a total pampering! It all started with a neck and shoulder rub with an oil of my choice. Then the stylist discussed options for my straight, boring hair (my words not his). With the hair washing comes a true scalp massage and then the magic happens. He warned me that I may see a lot of hair being cut because we decided on framing my face and layers but he would keep it long. He did an amazing job bringing my straight, boring hair back to life! They treated me like a queen and did my make up too! I'm feeling totally refreshed and am thankful I ran across their review on yelp. Make your appointment today, you won't regret it.\",\n",
              "  5),\n",
              " ('My experience with  Dental Nation was wonderful. Friendly, professional staff... Dr. Black was very nice who gave me affordable options for my dental needs. I would recommend this office to anyone.',\n",
              "  5),\n",
              " (\"If you haven't tried Rosati's you are missing out! When I came here I had a meatball sub and it was the best I've had thus far. The meatballs were so tender and the bread was perfect, not too crisp or too soft to leave you with a soggy mess!\\n\\nI finally brought my boyfriend here and he loved it! Call in your order ahead of time so it will be ready by the time you come or you'll have to wait 10-15 minutes. There are only counters inside and if you can bear the heat by now there are tables outside. It's not a sit down and eat place. If you're looking for authentic Italian give Rosati's a try!\",\n",
              "  5),\n",
              " (\"This is by far one of my most favorite, if not favorite, hotel I have had the pleasure to stay at. I stayed at the Vdara in October of 2012, and it took me by surprise. They have great deals and offers and got a really good deal with one night for free which extended my vacation. Upon arriving at the Vdara, the experience was remarkable. As soon as you walk into the lobby, you automatically get this great feel of classiness and cleanliness all over. A very slick and sexy hotel no doubt, great for everyone. Even though the Vdara has no casino, its actually a great benefit. Nice and quiet, great for relaxing and if you're ready to gamble, the Cosmopolitan and the Aria are literally feet away. Another benefit of the Vdara is that you have the tram station at your hotel which leads you to the Aria and Monte Carlo, very very convenient and nice ride too, you get a great view of the City Center that you cant get without getting on the tram. The rooms are amazing, very modern and classy as well. I also had a great view of the Bellagio fountains and the Cosmo, nothing better than waking up watching the show. The curtains as well are automatic, which is very cool as well. The bathroom is unbelievable and overall this place surpassed my expectations. I 100% recommend staying here, don't pass it up!\",\n",
              "  5),\n",
              " (\"Our family loves these guys. They are so sweet to our dog and seem very organized. Vet appointments can get pricey anywhere but I love that they always give you a write up of the costs for each visit before performing any vaccines or procedures so there aren't any surprises at check out. They always send us reminders for appointments and even follow up with a friendly call after every visit. These guys are awesome!\",\n",
              "  5),\n",
              " ('This place is a lot of fun to go to! it is not the nightclub feel at all. There is no cover charge and wednesday nights are ladies nights and its unlimited free drinks for women & fridays are unlimited beer for $5. There are free line dance lessons wed-saturday at 730. these would be very helpful if you don\\'t know the dancing! There is a lot of country music and almost all of it is to line dancing, and two step. They play some pop to line dancing & also have bouts of \"freestyle\" and play hiphop/rap/pop. it is a very fun enviornment and there\\'s tables to sit at, friendly cocktail waitreses & bartenders, there\\'s beer pong, pool tables, a mechanical bull, an outside patio....its a fun time! \\n\\ntheres breakfast, lunch, dinner served & i\\'ve never been, but then around 8pm ish they start changing the setting to the night bar atmosphere. \\n\\nAfter 7pm it\\'s 18+ & then if they are enforcing it (don\\'t always) 18-20 year olds have to leave by 930-1030.',\n",
              "  4),\n",
              " ('When in Vegas this is a must, either when we just drive in, if early enough or right before we are heading home.  Check in for your free banana muffin you will not be disappointed.  Reasonably priced, good service and amazing food.  Everything I have tried (chile relleno omelet, enchilada omelet, pancakes, steak and eggs) have all been delicious.',\n",
              "  5),\n",
              " ('I love this place. It is a small mom-and-pop place that is delicious. I get the spicy and sweet pork tacos. Delicious. Their hot sauce is also very good. I judge Mexican places based on their hot sauces, and this is a very good one. They are a bit tight with it though! I would like more chips and salsa but I understand keeping their portions controlled. Highly recommended.',\n",
              "  5),\n",
              " (\"If you are coming here for food,  it's definitely not where you want to be.  However the service and scenery is great,  other then that, don't even bother. \\n\\nPrices are on bar with downtown restaraunt but not even half as good.  Had the burger which was basically an imitation of a McDonald's Big Mac with Cole slaw in it....  The black cod was okay but the small size of it and the price tag was definitely dissapointing.  Goto ja bistro instead,  half the price bigger portion and tastier.  \\n\\nThe pizza was okay,  was sort of like a McCain's microwaveable but with better cheese. \\n\\nI wonder how long this will stay open for,  food is so bad and the renovations must of cost a Sigificant amount....\",\n",
              "  3),\n",
              " (\"Decent gas station. Needed to get gas so I pulled right in. Prices are competitive to the other gas stations near by. It was easy to get in and out of and I was there for just a few mins. I didn't go inside so I wouldn't know how clean it is.\",\n",
              "  3),\n",
              " ('Awesome spot! Same as the ones in Chicago! Love love love their beefs and cheese fries! Always fresh with fast service! So happy to have a piece of my hometown in az!',\n",
              "  5),\n",
              " ('Andre Guzman found the best apartment for me FIRST TRY! He was such a great person to work with!! He is relateable and was willing to help me when I am a first time renter and am pickier than most AND stayed in my price range! I would recommend him to anyone. He can help you too, credit challenges, low income, first time renter and all!! Go see Andre at Valley King Properties!',\n",
              "  5),\n",
              " ('I will start by saying the guy was nice. However, he did not even get closer than 5 feet from our water heater before telling us it needed to be replaced. He gave a quote without showing us options for buying one either. Thanks, but no thanks.  We are going with a company who will actually LOOK at our problem and discuss options with us instead.',\n",
              "  1),\n",
              " ('I keep reading \"fast/quick service\" on these reviews and am wondering if I\\'m in the same discount tire location. Been sitting here for almost two hours and my vehicle hasn\\'t been touched. This is ridiculous. Get more stalls or deal with appointments only. Maybe Uber people home so they don\\'t have to sit in your boring waiting area.',\n",
              "  1),\n",
              " ('This is my favorite breakfast spots.  I love the chicken fried steak.  You need to make a stop here if you visit Carefree.',\n",
              "  5),\n",
              " (\"I absolutely love Heinen's. This is probably my favorite grocery store near where I live. They have the best bakery goods, everything is fresh and delicious. I really like the variety of meats available at the meat section such as bison and elk. I don't eat beef or pork so it is nice that I can get things like bison steaks and duck bacon. The sushi and prepared food items are really fresh and made with care, large salad bar and made-to-order stir-fry station are great additions to a great store. The product selection is vast for a medium-size grocery store and the people in the deli, fish and meat departments are super friendly and helpful. I've always had a good experience with Heinen's and I would recommend anyone in the area to stop in a check out their bakery and meat department. There is a large selection of organic produce, artisan cheeses and a whole section of vegan foods. The prices are pretty good considering the high quality of store-brand products and the there are sales on both store-brand and name-brand items.\",\n",
              "  5),\n",
              " ('You got to get their carnitas grilled cheese with each bite, you know it was made out of love! The carnitas is so good, the melted cheeses delicious, and the bread scrumptious, oh and the avocado cream sauce is a must, so, dip your grilled cheesus, and just know the calories are so worth it! YUM!',\n",
              "  5),\n",
              " (\"As you might guess from the name Chez Ma Grosse Truie Cherie is not the best place to bring a vegetarian for supper.  For those of you unfamiliar with the word, truie means sow in French so the name refers to a fat female pig.  The menu is true to its name so there are plenty of pork-inspired dishes here.\\n\\nThe restaurant looks very simple and unassuming from the outside.  Once inside though it feels elegant and intimate.  It is also quite large inside so there is plenty of seating to be had.  They also have a terrasse that looks like it would be a nice place to sit in warmer months.\\n\\nWhile there are some non-pork based dishes like beef tartare and duck I thought it best to see if the restaurant does a good job with pork products.  That meant that I ordered the tomahawk, which was a pork chop garnished with apple sauce and served with a sweet potato puree.  I enjoyed the flavours of the dish but I felt that the meat was a little overdone as it was on the tough and chewy side.  The portion was pretty big so I'm glad I skipped the appetizer since that would have been overkill.  I also tried a mouthful of my friend's ribs which were really tender.\\n\\nDessert was a brownie served with caramel bacon ice cream.  The ice cream was really good and I liked how the salty and sweet balanced each other out.  The tiny chunks of bacon also added a nice touch.  The brownie on the other hand was rock hard and impossible to eat with the spoon they gave me.  It was really dense and chocolatey so that was what seemed to give it that hard texture but I would have traded some of that for something that was softer and easier to eat.\\n\\nThe service was great.  Our server seemed to know the menu inside and out and he did a great job with recommendations.  Everything arrived in a timely fashion and he did check on us regularly to see how we were doing.\\n\\nPrices were okay but I felt that since my dishes weren't the greatest they could have been better.  I think the restaurant definitely has potential but it does need to work on its execution a bit.  The experience as a whole was just okay.  Nothing awful but nothing excellent either.\",\n",
              "  3),\n",
              " (\"Found this place on Yelp and it was amazingly delicious. I had the unagi special burrito with seaweed paper. The staff was very friendly and helpful, allowing me to try a couple sauces before deciding which ones to use on my burrito. My only complaint was that there were large inedible bones in the unagi. I'm used to soft, edible bones when I order unagi, but these ones could really hurt someone's throat.\",\n",
              "  4),\n",
              " ('I had an early lunch here today and I have to say, service was prompt, pleasant, and the food was very good. I will definitely be back.',\n",
              "  5),\n",
              " (\"I was not impressed.\\n\\nI can appreciate that the food was fresh, but for an hour lunch break, I feel like I waited 30 minutes for my food.\\n\\nthey're very busy, so make sure you go really early if you're going to risk it.\\n\\nI had the veggie pad thai - there was nothing in it, no flavour or veggies for that much. \\n\\nwould I return: definitely not.\",\n",
              "  2),\n",
              " ('When did you guys stop serving alcohol and why does your staff continually refuse to call me \"Glazy Boy\" they all know what time it is when I walk through those doors and yell \"WHO\\'S READY TO GET GLAZED BABY\"\\n\\nBagels are always really fresh!',\n",
              "  1),\n",
              " (\"The menu was great, had tons of variety, it was actually hard to make decisions!\\n\\nThe food was tasty, my only suggestion is every dish came out warm, not hot, even the plates themselves were cold to the touch.\\n\\nWhat made this experience amazing was the service, Steven is probably one of the best servers I've experienced in a really long time. He has very knowledgeable about the beverage and food menu, offering great advice. He was attentive yet discreet and very friendly. Sadly, this type is service is not the norm anymore. \\n\\nFabulous overall!\",\n",
              "  5),\n",
              " (\"LOVE! I've had shellac done before and it was awful, but I tried this place on a whim and I will be returning regularly on a monthly basis now. The lady I had (Lily?) was so focused and made my nails look perfect before applying the shellac. The whole manicure took close to an hour as she was such a perfectionist and my shellac lasted 3 WHOLE WEEKS. I never thought that would even be possible, but it didn't chip, nothing. My mom also got her nails done at the same time and they lasted even longer than mine. We took the shellac off at home to save money and both of our nails were so long and healthy. \\n\\nSo impressed. And this place is probably one of the cheapest in halton, at $30 for a shellac manicure it'll be hard to beat. Can't wait to go back.\",\n",
              "  5),\n",
              " ('Hubby and I enjoyed our daytime at Paris. We upgraded to a room with a view of the strip, opened the window, and there was the Eiffel Tower. Pow! The pool is lovely, although a bit chilly this time of year. The street walk (inside) really does remind me of Paris, although the prices are too high. I was looking for quality croissants or French rolls, and didn\\'t find them, sadly. \\n\\nWith the upgrade we got continental breakfast and drinks and \"appetizers\" at night. We felt that was a great bargain because the night food became our dinner. And two drinks apiece per night was plenty. The breakfast was plenty, too, with yogurt, fruit and cheese, bagels and lox, and so on. Much more than \"continental\" suggests.\\n\\nThe worst thing about the Paris is the Frankie Valli music in the elevators--yuck! After listening to that ad nauseum, I would never see \"Jersey Boys.\"\\n\\nThe second worst is the loud, pounding music that hit our room until 4:30 am (!), and we were on the 21st floor (!!!). My husband called to complain, and he was told the hotel\\'s president made the decision to allow the loud booming until 4:30. For that reason, we could not stay here again. While I sleep like a rock, my husband couldn\\'t sleep.',\n",
              "  4),\n",
              " ('The staff in this location is busy but good. They are very fast. I will be coming back for sure. \\nThis place is very clean. Not to',\n",
              "  4),\n",
              " (\"Great food & superb service. My only complaint is that they are not kid friendly, so my husband & I don't get to visit as much as we would like. I can understand & respect that during dinner service, but it would be nice to be able to bring the whole family for a weekend brunch.\",\n",
              "  4),\n",
              " (\"I am going to have to give social house 3.5 stars and here's why. When we arrived we waited outside at the valet service for 5 minutes and no one showed up to take our car. We didn't want to wait any longer so luckily we found another spot on the street. The interior of this place is breath taking and I really did appreciate the level of detail that went into building this place. The food was excellent nonetheless; however, portions are very small. I can't attest to all of their dishes being this way, but what my mother and I ordered was small. I left the restaurant still hungry. The flavor of my dish was incredible though and I could have ate more of it no doubt! My dish was the short rib yaki noodles ($16)! My mom ordered the scallop pad thai ($19) which she also really enjoyed but also agreed more noodles would have been nice. I would like to come back for a late dinner and drinks. Maybe try out their sushi options or even the ramen.\",\n",
              "  3),\n",
              " (\"Great ownership, very hospitable and the food is delicious! I order to go a lot and the wait time isn't long.. now you can order through #yelp\",\n",
              "  5),\n",
              " (\"You can go on the strip and pay $50+ for your average dinner and $100 for a gourmet dinner; without booze. You can go to Buca or Olive Garden for generic Italian food.-YUCK (the people who think Buca or Olive Garden are true Italian restaurants are the type of people who think Italian is pronounced with a Long i. lol Or you can stop at Battista's which is old world kitschy-old school; dark and woodsy with huge collections of salt and pepper shakers ...the menu is on the wall...prices range from $20-35. Each meal includes soup or salad, garlic bread, carafes of Chablis or Cabernet and your entree and then capp after your meal. I ordered the boring spaghetti and meatballs....loved loved loved the dish.  I rarely finish a meal as pasta seems to fill you up so fast but I hated to leave the pasta bowl. It was a wonderful sauce seasoned just right with huge meatballs-home made. Service was just fine and the accordian was a nice touch.\",\n",
              "  3),\n",
              " (\"I loved this restaurant. I am a sucker for hipster decor especially the light and airy vintage type this one is. The atmosphere is very chill and relaxing. It would be a perfect place to meet with friends for some drinks or for a business meeting. You can either sit inside in one of the different rooms they have or you can sit outside with a view of the pool. \\n\\nAll the employees I interacted with were very pleasant and respectful. I had the turkey club and my boyfriend had the Madame Croque. Both were absolutely amazing. I added a friend egg to my sandwich which made it even better in my opinion. \\n\\nEven the fries were really good. The turkey was fresh and the dijonaisse really added a good flavor. Everything is seasoned generously but I like seasoning but I can see how someone can think it's too much. \\n\\nThe madame croque was out of this world. It's brioche bread with ham and gruyere cheese, a Parmesan crust on the brioche and an over easy egg on top. So simple but so good. It comes with a small side of brown mustard I believe and a couple mini pickles. I highly recommend this dish. \\n\\nAll in all great atmosphere, great service, great food. I will definitely be back when I am in Vegas again.\",\n",
              "  5),\n",
              " (\"I was really excited to go here because the area is really nice and their website lists the places they accept clothing from and it listed all the stores where I shop. I ended up being super disappointed in their selection and they have not updated their site in awhile apparently. Style Encore was honestly more beat up than Plato's Closet. They accepted a ton of faded and cheap fashion from places like Forever 21 and other no name brands and their assortment was awful as a result. This store is geared toward teens who dress casual and wear leggings and athletic tops. I never saw so many pairs of faded overpriced leggings and dirty boots. I was expecting high end dresses, blouses, and pants from WHBM, Arden B, Express, Ann Taylor, Calvin Klein, Ralph Lauren, etc. But it was all junk and I feel bad for the owner because it looks like Goodwill in there. I do not see them staying in business much longer and hope they update their website so others do not waste their time like I did. The employees were nice is the only positive thing I have to say.\",\n",
              "  2),\n",
              " (\"Thought this establishment wouldn't abuse animals but now they are bringing dolphins to small pools with no shade in the heat of the desert! More family and friends are boycotting this company and any shows, other affiliates, and the company mis-informing the public about the safety of these animals: Dolphinaris. These people make money scamming the public while neglecting marine life too intellegent to be torn from social structured families. A baby has been already taken from her mother from a different facility. Sick people. So desperate to make money. Really sad.\",\n",
              "  1),\n",
              " (\"Read the reviews: VERY Disappointed!!\\n\\nI think I've had better beef (if thats what they call it) out of the vending machine at work.  \\n\\n- Fries way overcooked\\n- Everything very greasy\\n- Wasn't a good eat-in atmosphere\\n- Sandwich preparer was cleaning with his rag and stopped to put some onions from the countertop back in the bowl for next customer requests.\\n\\nQuality of food to me.....made Wendy's look like a top notch place. I try to fully support local mom & pop shops but steer clear folks..... \\n\\nI will say the staff was friendly!\",\n",
              "  1),\n",
              " (\"Disappointing. She had no energy and her dancing was offbeat with her back up dancers. It felt like she didn't want to be there, at all. I would have liked to actually hear her sing at some point also. I know it's challenging when you are dancing......but she wasn't really dancing that hard. I was shocked at how bad it was, I expected a lot more out of her.\",\n",
              "  2),\n",
              " ('Cheap way to get your car done, clean, not perfect but worth the time and money.  D.I.Y. vacuuming is always a plus!',\n",
              "  4),\n",
              " (\"Love this place!! Great place to come for breakfast & lunch. Food is out of this world, portions are plenty so come hungry. Service is great and prices are mid ranged but worth it. Open daily 7am-3pm...you'd think I work here...sheesh :)\",\n",
              "  5),\n",
              " (\"No waiting which was nice but it took forever to get a server to come to our table and when they brought our our no napkins no utensils. We ordered Tea no sweetener  it's those little things so we did end up waiting in the long run.\",\n",
              "  2),\n",
              " ('Ryan took care of us, staying in town nearby for the week, he got us another car without a nail in the tire, and set us up with an SUV upgrade for the 9 hour trip home',\n",
              "  5),\n",
              " ('Denetha was AWESOME! went above and beyond for our reservation. Looking forward to our next visit already!',\n",
              "  5),\n",
              " (\"It's a little place in a small freestanding casino.  Not crowded. The menu is small.  We ordered the burger, short rib grilled cheese, potstickers, French fries.  We got great service and the food was okay.  My daughter doesn't eat red meat or salad, so she just had fries.\",\n",
              "  3),\n",
              " (\"I had lunch at the Scottsdale location this week.  I was carrying a Contigo water bottle.  The hostess who seated me asked what was in the water bottle.  DUH - water!  Odd- never had that happen before.   I was seated right away but it took 10-15 minutes for the person to take the order.  Food came out very quickly.  Chicken breast was lukewarm, tough and not very tasty.  KFC has better chicken for less money.  Waffle was ok but the maple syrup had no maple flavor.  Paid with a credit card and had to show a driver's license.  Odd again -- can't recall that happening in a long time.   There are many places to eat where the food is better and your water bottle is not treated with suspicion.  Skip this place\",\n",
              "  2),\n",
              " ('Great place for a night out.\\nIf your visiting Toronto This place is a must.\\nI give the food a 6.5/10 but the belly show a 10.\\nWell worth the money.\\nIts a great treat.',\n",
              "  5),\n",
              " (\"This was first experience using a tanning salon, so my review is completely based on my only experience which is at this location.\\n\\nMy four star review goes to:\\n-Customer service, 9/10 times there are very friendly employees and many of them recognize my husband and I when we walk in--always a nice thing. Austin is great :)\\n-My husband and I pay as much as our gym membership, which is a plus! Good prices and there are often specials or upgrades that come free or at a low price.\\n-Tanning beds are clean and the front lobby is appealing, HOWEVER, I generally use one room when I go in and the same dust bunny/hair...something...has been there since we started about 6 weeks ago. The bed itself is clean, but I actually bring in my own towel to stand on so I don't put by feet or clothing on the floor.\\n\\nOther than that, a great initial experience and a continued customer.\",\n",
              "  3),\n",
              " (\"This sandwich and rugulach habit is getting ridiculous. The BF and I have come back several times in such a short span. \\n\\nThe first few times we got breakfast and I highly recommend for eggs benedict fans to get it here. I love hollandaise and they are not skimpy with it, ham actually has flavor, perfect poach eggs. I tried the crab cake version too, and surprised I liked the original better. The corned beef hash was another we tried and I thought it was tasty. I love their potatoes the brekkies come with and the bagels of their name sake actually are quite nice. \\n\\nThen I decided to try their corned beef sandwich and was prepared to be only mildly satisfied. I have a little Jewish corner of my heart that beats for childhood Saturdays at Langer's. The corned beef was flavorful, juicy and the marbled bread I chose was great. I always eat mine with  coleslaw and Russian dressing (aka thousand island). I'm normally into pickles, but theirs is closer to cucumber than pickle so I'm not the most fond of it. The sandwich was so good, I was a bit sad to  share with the BF and take the other half of the benedict even though I love the bennie. \\n\\nSo we came back several more times to get our own. I have to say that the way to go is the soup and half sandwich deal ($10.95- $11.95). It actually comes out cheaper with more food since the sandwich was just as big as a 1/4th lb, you get soup and can even get a side if you wish for $1. The matzo ball soup here is decent, and the sweet and sour stuffed cabbage was nice though I dropped my phone in it trying to Yelp it. We also tried the lobster salad sandwich and that was solid, but I'm gonna stay with the meat sandwiches..... I should mention I lean towards mostly eating vegetarian and this place is testing it. \\n\\nService is pretty decent on checking up. We also don't go during busy times as this is the type of place that gets swamped during regular breakfast/lunch hours on weekends. Beat the busy by heading in a bit later in the afternoon. \\n\\nWhile the sandwich and benedict have been stellar, the dessert counter has been extreme highs and lows so much so that I can't justify a 5star. \\n\\nThe best: The rugulach are awesomely good. I normally don't like chocolate ones but I love them here, the almond ones are great, all the fruit ones are great. There is not a bad one so even though it is priced per pound, I feel this is worth it. \\nThe subpar: I'm not fond of the black and white cookie being more like cake. I know a lot of delis do this and I'm just more of a shadortbred person.  The rainbow cookies were okay, but not quite up to my standard with it being too wet though the sponge flavor was right on (those are one of my favorite deli sweets). The homemade twinkie was a bit dry.\\n The bad: we got a slice of buttercream cake which was painfully sweet with the frosting tasting like boxed. It was thick, sticky and you can feel sugar granules in it with the cake itself also rather sweet. It was a throwaway so I will not be getting anything else but rugulachs. The desserts aren't cheap for what they are...Spent $27 with only the rugulachs being the only thing we are gonna eat the entirety of. \\n\\nThis is great place and I do highly recommend this as a go-to if you're in the area, just know how to navigate the deli and massive menu through recommendations.\",\n",
              "  5),\n",
              " (\"First, let me\\xa0\\xa0say I wish you could leave 0 stars. Its crime and misleading to even give Time Warner 1 star! I don't even see how Time Warner is even in business!\\n\\nThe worst part is that TWC is the only ISP in my area!! FML! I will sing praises to the gods when Google Fiber runs TWC out of town! This is officially the crappiest ISP I've EVER had in my entire life! The sad part is that its not even the technicians fault. They can't fix a poorly deployed infrastructure!\\n\\nThe speeds are so inconsistent and the signal is ridiculously unreliable. Please.. If you have a choice please Do Not Select TWC. \\n\\nLet me tell you how desperate I am.\\xa0\\xa0I pay $50 a month for 20mb down and 2 up(are you kidding me! 2 up??). I'm willing to pay my cellar provider nearly $150 a month for a freaking wireless Hotspot! \\n\\n#thisisacrime #Googlehelpme #Iwanttopunchsomething\",\n",
              "  1),\n",
              " (\"Update: they came today and fixed all of the issues I mentioned and some I had not noticed. Thanks for following up and making it right. Looks a lot better now!\\n\\n\\n\\nMy project was not done by Marcel. But by a third party. First, I had to tell the Forman several times that there were holes that were not patched. They patched MOST of them, but left a big one right in the front of the house near the roof. They also were in such a big hurry to finish that they left three screens FROM THE SECOND FLOOR leaning against the house. Just this morning I was looking at the house and noticed spots that had not been painted at all.  I called Marcel twice and they said they would send the foreman out (the same one in charge of this project), but it has been a week and I have not heard anything. I'm thinking about calling a lawyer to see what my options are.\",\n",
              "  5),\n",
              " ('After finding Crossfit North Valley on another website, I decided to give it a shot (June of 2014). I was able to schedule my first workout according to my schedule and had one-on-one training on my first visit. On my first day, there was several members who immediately adopted me into their \"gym family\" and encouraged me with my lifts and running. I have now been a part of this gym for 10 months and it is the one thing that I have been able to stick to the longest and it is not because of the sport- it\\'s because of the people. \\n\\nI have seen amazing progress in both body and mind since starting this gym. I have gained friends, confidence, and a much healthier life style. I push myself and my coaches encourage me each time I walk in the doors- they\\'ve even checked on me when I missed more than 3 classes in a row (out of my normal routine).\\n\\nI recommend this gym highly because they take care of you! You are more than a number- you\\'re family! The gym is smaller in size which helps keep the atmosphere friendly and well kept.',\n",
              "  5),\n",
              " ('This was my second time visiting the Pop Shack and it was even better than I remember! They have the largest collection of all things Funko I have ever seen. The girls working were nice and extremely knowledgeable about any questions I had about their inventory or upcoming Pops to be released. My girlfriend and I were on a small Pop hunt and the girls working hooked us up with a Sugar Bear ad icon and Delores from West World  we will be back in December!!',\n",
              "  5),\n",
              " (\"First of all I hope that nobody needs to see an emergency vet.  We had a brand new puppy, he wasn't feeling well and we took him in.  They were straight forward with us, explained what the treatment options were and the costs and risks associated with all of them.  We decided to hospitalize him and go for the full treatment as we had just lost a family dog and couldn't risk any additional heartbreak.  1st pet was fantastic, they updated us regularly, patiently answered our many questions and took care of our pup as if he were theirs.\\n\\nTrust them to help you in a very scary time, it worked for us!\",\n",
              "  5),\n",
              " ('Even though I have sworn off the Venetian after they lost our baggage and left me with a bathing suit and cover up only... long story... I do keep coming back here. Mostly, because I keep getting discounted certificates and it makes it an excellent deal. The facilities might be starting to get ready for an uplift but they are great overall. Mostly, I use the steam room and then get ready for my massage. The wait area has complimentary tea, coffee, water, and fruit. And the Ugg (i checked!!!) blankets are one of the most comfy and warm things to drape yourself with.  All my massages have been top notch.  I have never had the same person but I have never had a bad experience. The sea salt grotto with its warm seats, salt air, and mood lighting is the best way to end the treatment. \\n\\nYou also have access to the fitness center and I just found out that you can take one of the fitness classes for free as well (when booked for a service) including cardio, dance, and yoga. I wish i knew that one sooner!',\n",
              "  5),\n",
              " (\"This is my favorite pool in Vegas. I've been to quite a few and the lazy river is fun to relax in. It helps that we reserved a covered pod, because it was 100 degree weather. We relaxed, ate and drank and when we felt like cooling down we floated on our tubes in the lazy river. Best way to spend the day.  The service was great as well and worth the reserved cabana pod price.\",\n",
              "  5),\n",
              " (\"Plane is 5 hours late!  Really?  I little bitty airport...weight limit for luggage is 40 lbs, seat assignments I paid more to get are not valid because they changed planes at the last minute and now it is 5 hours late!  Don't think I will choose this airlines again!\",\n",
              "  1),\n",
              " (\"Came here after an early morning flight to Vegas. We arrived, checked into our hotel, took a nap and then went out to eat... yeah I know... we're old!\\n\\nI saw the pics and reviews of this place and book marked it before I even arrived in Vegas =)\\n\\nAt about 9:30 am we had about a 20 min wait. Once seated our server seemed a bit frazzled and overly busy so everything, including our food and drinks seemed to arrive a bit late. \\n\\nWe ended up ordering a veggie hash with scrambled eggs and fruit on the side. It was pretty darn good and the eggs were cooked perfectly. \\n\\nNext time I think I'll opt for a giant pancake or sandwich. Keep in mind that the portions are huge so if you aren't super hungry its a good idea to share a meal. \\n\\nI'll come back again for breakfast/brunch the next time I'm in Vegas.\",\n",
              "  3),\n",
              " (\"For breakfast in Las Vegas, there is no better place to go. Ya it is off the strip, it is a local place, versus a big casino type environment. However the food is great and the people are real and can see they appreciate you eating there.\\n\\nI don't know if the guy at the door is the owner or not, I am assuming so as he seems to be the heart and soul of the operation. He was friendly, talkative and made you feel like part of the family and he appreciated you being there. \\n\\nYou could see the food being made and the whole kitchen staff. The kitchen staff reminded me of gents fresh out of the pen, however they worked hard, looked like they appreciated having a job, looked like they just belonged. I was thankful to them and thought they kicked butt. \\n\\nI come to Vegas 3-5 times a year from S. California. If I am alone then no doubt I go to Mr. Mamas at least 1 time for breakfast while I am there. If I can I work to talk friends into coming with me to Mr. Mamas. \\n\\nMy favorite is the Chili Omelet. The Chili is amazing. I love it. I am sure that the chili is homemade and fresh because it is so good. If they ever tell me that it is canned then my heart will be broken. LOL\",\n",
              "  5),\n",
              " ('I had 3 bags worth of clothes and they checked all of it in 4 minutes? What the heck? Not coming here again',\n",
              "  1),\n",
              " ('Made a fresh slice for my friend and I right away. Great for lunch. Owner was really cool. Definitely coming back. Get a chicken bacon pizza  they used whole crispy bacon and it was awesome. Even the cannoli was perfection.',\n",
              "  5),\n",
              " (\"Be conscious when doing business with this van rental company because the local staff will blame the call center reps for anything not right with your reservation. The local representative stating that they cannot guarantee a vehicle type that you've rented to even though your email confirmation states otherwise or has a nice new picture.\\n\\nAlso, the vans are in very poor repair torn seats, smelly , dings and dents all over including the roofs and sidewalls not quite sure if the vehicles even mechanically sound.\\n\\nLocal staff made all kinds of excuses and then referred me to whom I think is a supervisor by the name of Maria who tried to convince me or coerced me into a different van just because it was newer\",\n",
              "  1),\n",
              " (\"I really like this venue better than the other music factory offerings. The size is ideal and every area has a good view. Great sound, nice workers that complete security quickly and thoroughly to feel secure about the building. There was burger and hot dogs available if you get hungry but I'm sure the pizza and bar food offered across the way are better options. The drink offerings were the only issue, $6 PBR $7 Miller Lite and $8 craft cans is just not cool. I would have purchased a couple rounds of drinks had they been reasonable.\",\n",
              "  4),\n",
              " ('Awesome place great bartenders and management.\\n\\nSunday Bloody Mary bar and Sunday Ticket opening up at 10 am',\n",
              "  5),\n",
              " ('Good food. Good service. I tried one of their local brews that I\\'d highly recommend \"Legal Remedy, Blonde mocha stout\" yes a blonde dark tasting beer that was oh so good! Very different, but really good! \\n\\nI had the Cajun shrimp appetizer it wasn\\'t super spicy, it was good but I\\'d definitely try something else next time just because I think their menu won\\'t have anything bad. The brisket sandwich was delicious, it\\'s only offered on Thursday\\'s if they have leftover brisket so I figured I had to try it while in town. I had it with cole slaw and the amazing  fried corn on the Cobb, and the black Betty for dessert- a great concept but not well executed. \\n\\nI liked the smaller menu you could tell everything was fresh and it all was really very good. Only thing I\\'d say anything bad about was the dessert, it just wasn\\'t what I expected and wasn\\'t very \"fresh\" like everything else was.',\n",
              "  4),\n",
              " (\"I have a love/hate with Fresco. For the location (rooftop) and view (all of State Street and the Capitol), Fresco gets a five-- it's perhaps the best in those two categories in the city.\\nHowever, with what they DO with that amazing space, they get them a 2 or 3. With the fantastic rooftop location and outdoor patio space, they should have more outdoor furniture, a cocktail bar, and a lounge-esque DJ/music set-up EVERY night in the summer (at least on weekend nights). It's really such a shame.\\nStill, the food is excellent (if not a tad pretentious) and the cocktail menu is nice. They have a fantastic happy hour deal in the summer (Fresco Fives) and they also have a late night-ish cheaper dinner menu sometimes.\\nWhile there's really a lot of room for improvement, the location on the top of the art museum and the high quality food and drink still earns them a solid 4.\",\n",
              "  4),\n",
              " ('You know, the food hits the spot, the drinks dont make my wallet cry and the servers are trying their best and still have a smile to greet me. \\nThey recently just switched over the music and every time I come in I can see more and more improvements. \\nI can say this for living and constantly being in downtown, Rice paper is for sure a place to at least try out. \\nThank you Servers and management if you see this, you guys are awesome.',\n",
              "  5),\n",
              " ('I am so sad to be writing this review, but what happened makimono???? The food used to be so good, I would drive 50 minutes just to come to this sushi restraunt and iv been eating at makimono loyaly for 8 years.\\n\\n   Since then they switched locations and I am very disappointed. The food was overly salty, my favourite items tasted totally different and flavorless and the quality has gone down hill. Everything was just all off. I hope this issue was because they had just opened the new location.\\n\\n   I may try it one more time in the future only because I have a VIP card but i think its time to find a new favourite sushi place :(.',\n",
              "  1),\n",
              " ('With as many times as I have been coming to Panda Express I finally remembered to check in! Today I went with my usual one entree meal which included half in half fried rice/ chow mein and a side of orange and teriyaki chicken. I do like the quick convenience of getting the meal in a supply chain line! The food was as fresh and delicious as always! I also do think they have the best tasting passion fruit iced tea!',\n",
              "  4),\n",
              " ('Honestly - I come from an area which has First Watch (which is just like this place).  So I was hoping to like it.  The decor looks like someones grandmothers home - who was blind - and had bad taste in wallpaper.  Ordered - and waited 45 minutes for food - finally found the waitress who said there was a problem with the ticket.  Imagine my shock when I was informed my order had not been entered...but it would be right up.  15 minutes later (an hour) we ate...food was good but nothing special.  They were very nice and gave us a couple coupons and apologized.  Wont be back.',\n",
              "  3),\n",
              " (\"I was looking forward to trying the food here. But nothing stood out.  Chicken wings: over battered and salty. 5 spice chicken: nothing amazing. Oxtail fried rice: different, tasty but not spectacular. Close to $70 for food and 15% tip for lunch. Somewhat outrageous. I'll go for sushi or a good buffet instead.\",\n",
              "  2),\n",
              " (\"Double Geo Thermal system that they installed in my home. All the duct work is crooked and three years later I can't find a grate to fit the holes in my walls and ceiling. Nothing but problems with their system and I was informed by Reliance they do not service the Geo Thermal that they sold to me. Buyer Beware. They have their brand name behind them but don't live up to their guarantees and warranties.\",\n",
              "  1),\n",
              " ('Amazing burgers and fries!  I had a classic bacon cheddar beef burger with carmalized onion sooooo freaking good!  The fries cooked in lard with rosemary added OMG the best and the best chocolate espresso shake ever!  I wish we were going to be in Cleveland longer, I would definitely come back!',\n",
              "  5),\n",
              " (\"Not impressed. Just because it is mall food court does not mean it has to suck. \\n\\nHotdog was very average. Buns were dry and the dog was not particularly juicy. It can't be what they are famous for, can it?\\n\\nFried fish has thick hard batter. I do like the thick cut fries but many of the pieces were over fried. \\n\\nGrossly overpriced for the quality.\",\n",
              "  2),\n",
              " (\"Charlotte airport may have some of the best customer service with regards to ticket agents and bathroom attendants, but the TSA agents make it close to the worst. \\n\\nI travel out of the airport at least 4 times a month and the security lines can be over an hour wait. On average, 30 minutes. And while you're waiting, TSA agents stand around chatting. I count 12-13 agents at each checkpoint usually and only two lanes open. 4-5 of them looking at the same screen. This is not uncommon! \\n\\nI've asked questions, written letters, and have verbally shared my concerns. Not once, have I had a reasonable answer to the hold up. Does our government only hire idiots? \\n\\nIf you travel thru Charlotte, take some deep breaths before entering.\",\n",
              "  1),\n",
              " (\"When we got there the place was empty which concerned me a bit but I was hopeful. The food is good,  the prices are decent. Hubby ordered a platter which came with abit of everything.   The fried yucca was good,  the pork didn't seem fresh,  the tamale was ok, I'd say the best were the pupusas. My kids loved them!\",\n",
              "  3),\n",
              " (\"I've been here twice already In a row. I loved it the first time. I was searching for a new place to get ice cream but it is better than ice cream. Fast service and reasonably priced ! It will not disappoint you, the minute you walk in it already looks amazing.\",\n",
              "  5),\n",
              " (\"Essence is the hotel restaurant that serves up a great breakfast. Depending on your hotel frequency, you may be able to get breakfast as part of your stay as otherwise it's fairly expensive for what you're getting. For breakfast, there's eggs, bacon, an omelette station, a machine that automatically squeezes oranges into juice, and a variety of cool goods. \\n\\nThe server is especially nice and will be very attentive with making sure your coffee cups are full. Great place to eat if youre staying at the Westin.\",\n",
              "  3),\n",
              " ('It took 50 min for the hibachi chef to show up at our table.. No apologies, no explanation, poor service.',\n",
              "  1),\n",
              " (\"This is beyond the most incredible resort I have ever stayed at. Can't wait to come back! I went here for a quick staycation over the weekend for my anniversary and I couldn't ask for anything more special. The beauty of the resort and the service I received from every single staff member was Incredible! \\n\\nCheck in is normally at 4pm but I called that morning and the staff was very kind over the phone and found an available room so we were able to check-in at 12pm. All parking is valet so you pull up, and the bell hops will help unload your car and direct you to check in desk. The staff was so nice checking us in and then even greeted us with a fresh glass of champagne. Our bell hop walked us to our room and even explained a little history about the resort. Like it used to be a home in 1922. \\n\\nThe rooms are large and beautiful. We had a huge soaker tub and a large double shower head walk in shower. We also had a free Keurig in the room and a private patio. My favorite part was the bed! It was so fluffy and felt like a cloud! Best sleep of my life! They do a turn down service at night so they come in and turn down bed sheets, give chocolates, and close the curtains so your ready for bed. We received a gift of chocolate covered strawberries and champagne for our anniversary when we got back to the room. Such a romantic evening. \\n\\nThis is a very beautiful historic Spanish style resort so very little kids which is nice for a special romantic occasion. There is multiple courtyards that all look different so it's gorgeous to just walk all the pathways and explore. Beautiful lit up at night. There is benches, tables, games, waterfalls, and fruit trees all over the property. Great large pool and jacuzzi which is open 24-7 so you can go anytime at night when it's less busy. They do have a great poolside bar and it's pretty packed during the day. \\n\\nCheck-out was at 12pm but they are very accommodating so just a quick call down to front office they let us know we can check out at 1pm which allowed us more time to relax in the morning. We ordered breakfast in bed of pancakes and a fried egg sandwich which were both amazing! \\n\\nOverall everything from start to finish was amazing. Such a beautiful resort to stay at for a romantic evening and the staff made our stay so special. I'm very excited to come back, if not sooner, at least for our anniversary next year. Next time I want to try the famous T Cooks restaurant on property that I herd great things from. \\n\\nThank you Hyatt and royal palms for making our anniversary so special!\",\n",
              "  5),\n",
              " ('By far my absolute favorite bar in Pittsburgh! It\\'s such a hip, young bar where everyone is having a blast. Its totally my scene. The \"frat boys\" you were referencing below are people in collared shirts. Last time I checked, Its okay to go out and look nice, guys. Girls like it when you arent dressed in cargo shorts and a crappy t-shirt. Hellooooo!Haha lots of good looking guys and girls singing and drinking is what I saw. Loved the music and the vibe.\\n\\nThe drink prices are AMAZING especially coming from LA, I recognize a fun,Pittsburgh bar when I see it.  I love the architecture of the building too. My perfect night out involves Carson City in the South Side. Can\\'t wait to come back.',\n",
              "  5),\n",
              " (\"Tonite I decided to stop in and try this new restaurant and I am so glad I did. I walk in and I'm looking at these tv menus and the by the way the food I rciev d actually looked like the food I was served, The staff was very friendly and offered samples to help me decide which side dishes to order. I ordered a kebab and potato lula combo plate and it was awesome! This place has so many choices and everything was delicious and even healthy. I could only eat half my meal( decent portions) so I have leftovers for tomorrow! I will be back!\",\n",
              "  5),\n",
              " (\"I Came on a Thursday evening and the shop was pretty empty. Less than a handful of customers in the shop but 8 staffs over the counter. It was a bit intimidating at first since they were all just waiting for me to place an order. But I could imagine there being a nice assembly system once the shop gets busy in peak hours.  I got a bit indecisive after checking out their menu. They offer prefixed items (some with ice creams, some without) and customized option in which you can build your own by adding toppings for a cost. It took me a bit of time to decide which option to go for but I ended up building my own with a cappuccino waffle base with a scoop of sesame seed ice cream drizzled with chocolate Syrup and sprinkled with icing sugar. Price came to about $8. I originally wanted to try their milk tea waffle but it was unavailable at the time. I was surprised to find their cappuccino waffle to actually taste like coffee. The base was crispy and aromatic with strong coffee flavour in every bite. The sesame ice cream is decent, not really packed with intense sesame flavour but the flavour was there. I'd actually prefer the ice cream to be more flavorful but in my case since the cappuccino waffle was so strong already, the ice cream created a good balance.\\n\\nOverall, I think I had a great experience and I'd come back to try other flavors when I'm in the area.\",\n",
              "  3),\n",
              " ('THE BEST BUN BO HUE EVER! This place is by far the best Vietnamese restaurant I have been to! The owner, Myles is extremely personable, friendly, and very informative! The care and attention to detail he puts into every aspect of the food drastically breaks through with such intense and immensely delicious flavors! I wish I could give this review more than five stars! I will definitely be frequenting this restaurant many times!',\n",
              "  5),\n",
              " (\"Have visited this place  20 times over the last 25 years. Still good cornbread .The mesquite chicken is good, however it was GREAT 20 years ago. The potatoes are good and they were GREAT 20 years ago-with the right combo of parsley, cabbage, and onion. Somehow the flavor has changed maybe due to recipe changes. It's been 3 years and I will be returning in another month to see what's changed and will update my review accordingly. Service has never been a problem however perhaps the economy has taken it's toll on the ingredients. Can't speak for the drinks - have not ordered any there.\",\n",
              "  4),\n",
              " ('First of all let me say this. We love this restraurant. The food is good quality for the price . The fish is always light and flavorful ! The salad  bar has over 55 ingredients  that u can pick and chose. The ribs are good .\\n\\nThe service is awesome . All the people are super nice and helpful. The gm PJ is the bomb . Always asking if everything is good !\\n\\nThe location has some challenges beginning close to light rail.however we always feel safe !!!',\n",
              "  5),\n",
              " (\"I don't know how to delete posts so I just edit it and deleted my previous comment which was for a different establishment. Sorry guys.\",\n",
              "  1),\n",
              " ('Great company to work with! Very friendly people from scheduling to the service itself. Was given a call about 30 minutes before arrival, and I was shocked when he showed up on the early end of my estimated time frame, that literally never happens with companies anymore! He worked quick but effectively, all while cleaning up any mess left behind. Our carpets look brand new again, not a single stain left behind. The price was also extremely fair, and a serious bargain considering the quality service we received! Will definitely be using them anytime we need cleaning in the future.',\n",
              "  5),\n",
              " ('Love this place, especially their lunch specials! Large portions and really great Thai food. Better for takeout, really small inside',\n",
              "  4),\n",
              " ('The food was so good. If you are looking for something spicy and tasty. Here is your best choice.',\n",
              "  5),\n",
              " ('Worst experience ever!!! They want to make as much money as possible in their cover charge. They did not let our group in since we had a few gay men in our group. When we tried calling the facility to make a complaint they gave us the round around. This is the worst place ever. Do not come in here!!!',\n",
              "  1),\n",
              " (\"Pleasantly surprised. Although not on the menu, I managed to order a spicy margarita. This is one of the best margaritas I've every had. For this spice loving girl, it came across powerfully spicy while still maintaining a margarita taste.  The pork barbacoa was a hearty well seasoned portion that properly pulled apart with ease. The salsa was a perfect slightly spicy thin consistency. Only the gauc and lack of tinga style chicken knocked this review down.\",\n",
              "  4),\n",
              " ('There were 4 of us, and the wait was supposed to be 45min to an hour.  We waited next door at camp social (which had very bad customer service)... and 2 hours later there were still 2 people ahead of us.  They were supposed to call when a table was ready.. we left after 2 1/2 hours..  but we still have never received a phone call to say our table was ready(even though we left). Not impressed.  Maybe if we decide to give it another go, it will be better.',\n",
              "  1),\n",
              " (\"This place isn't trying to be hippie or hipster.  The place is clean.  Almost too clean, but despite that I like the place.  Their coffee is way better than anything Starbucks could aspire to but my preference is their selection of teas.  Strong, hot, loose and full of energy and flavor.\\n\\nI can't say anything spectacular about their sandwiches. I've only had a breakfast sandwich there once and I was not impressed.  The muffins are good but my favorite would be the Eclairs.  Though they used to replace them every day and I'm not sure that's still the case.\\n\\nIt's not the best coffee I've ever had.  It's not a particularly unique coffee experience, but it's still a decent cuppa at a somewhat reasonable price and best of all it's not Starbucks.\",\n",
              "  4),\n",
              " ('Had the ribs and brisket French dip and both were delicious!  The wait staff was friendly and serve us fast! Will definitely come back next time we are traveling through the area!',\n",
              "  5),\n",
              " (\"I have had problems with Rosati's in the past: Really slow, forgetting the dessert part of the order, waiting 39 minutes past when they said it would be ready, and then it was the wrong pizza. So after avoiding them for probably a year and a half I thought I would try again. Once again I waited an hour and a half for them to get my order wrong!  I will NEVER order from Rosati's again. My question is: Does somebody actually run this place? Who's the manager? I have never spoke to someone in charge. The staff always attempts to be helpful, but there has never been a decision maker on site to help out any time I have had a problem. How ever owns this joint needs to take a serious look at who is minding there store because they could certainly do a lot better.\",\n",
              "  1),\n",
              " (\"Probably my all time favorite sushi spot in Vegas! The ayce options and price are the best in town. Service is always great too! Tiffany is always such a doll and remembers me when I go in. The staff is super sweet and makes you feel so welcome! They're extremely helpful too if you have any questions. \\n\\nDefinitely recommend!! Must get the baked green mussels, pepper seared tuna, and the flaming hot Cheeto roll. \\nTake your friends from out of town here & they will end up jealous of your sushi spot!\",\n",
              "  5),\n",
              " ('Good service and prices and GREAT FOOD I always stop in when I am in Ormstown',\n",
              "  5),\n",
              " ('So we headed to Cibo after a night downtown going to a special event, followed by a movie- then dinner! The good: it was Sat. night and the wait wasn\\'t too long. The pizza and pear salad we ordered was awesome. \\nThe downside, my fiance ordered the \"calzone pizza\" you can see that this is listed for yourself under the pizza section here: http://www.cibophoenix.com/cena.pdf. Across from it you see the \"Crostone\" which is described as being a calzone. You can see where this is going. They served up a calzone. We asked a gentleman working there about it- he was clueless as to what might even be on the menu- and then made us feel crazy. Then the waitress came over and we asked her and she said that both of those menu items are calzones. Which is strange since one is described as a calzone- they other as an actual pizza. \\nShe said this happens \"all the time.\" \\nThat\\'s fine but either change your menu, or let someone know when they are ordering it that they are NOT ordering a pizza. I will also say that the pecorino cheese on the pear salad is cut so thick that in the candle light it looked like jicama. The service continues to be bad, we waited time and time again for water, they never asked if we wanted to order more wine, and the check came quickly, but it was with our credit-card on the table for about 20 mins. SERIOUSLY! Also, they seem to have some kind of ant problem in the courtyard- we were bit up before we even ordered. \\nALL of this being said and the food was great! Not so great that I couldn\\'t make it at home if I had all the ingredients- but still VERY GOOD.',\n",
              "  4),\n",
              " (\"Third time in Holsteins, not so busy got a table on a Saturday for 9 in less than 15 minutes. Their customer service is always on point! Huge yummy burgers come with a side of fries, they give you pop corn as an appetizer. You get a free Bamboozled shake for your birthday when you subscribe on their website. They also have dry ice balls/candy, can't remember what they're called and I don't know if its in their secret menu, got them last time I came with some girlfriends on a late night. Overall cute and yummy place at the Cosmo!\",\n",
              "  4),\n",
              " (\"Excellent company and great service!  The garbage bins are super clean and they eliminate all the odors and bins have a great clean scent. \\n\\nThey text you in advance to remind you of their 6 week visit for cleaning and with automated billing - it's a wonderful service I highly recommend!\",\n",
              "  5),\n",
              " ('Fun place. Good bar food. My server was great. There was live music. Will go back for sure.',\n",
              "  4),\n",
              " (\"Went on Easter dinner after church mass. It wasn't crowed and had dinner with in-laws. The food was excellent and filling. Service was actually great compared to what others say. I ate at 3 different Hash House A Go Go and all 3 have great food. This particular place at the time we went had great service. But like all places, there are times when service is not all that, but I guess we caught it a great time and my in-laws enjoyed there first experience @ Hash House A Go Go a great one!\",\n",
              "  4),\n",
              " (\"In fact, I rather like the staff here. I say hello to them every time, and they smile and say hello back. I'm a person who asks for a lot of lettuce or whatever, and I've never had a problem getting that here. \\n\\nApparently, it's a union shop here, which is nice. (Go unions!) Apparently, it means they can give you more cheese than the average Subway?\\n\\nReal good for a Subway. Unfortunately, I eat here more than I'd like to.\",\n",
              "  3),\n",
              " ('Had an appointment at a salon called hair expressions on Craig road and the woman that was to do my hair never showed. After waiting for almost an hour I asked if someone else could help me. NOPE, the girl told me I should try calling HER? \\n Got in my car drove 2 minutes, saw the sign for Autumn. \\nWent in got my hair done by a great lady Annette. \\n Going back soon.\\nWho could say no to the deal they have. Shampoo, cut, style, mani, pedi, AND a facial for what .... 100.00?',\n",
              "  1),\n",
              " ('Good pizza great service the cashier girl is very nice and polite she has a great smile',\n",
              "  5),\n",
              " (\"What a great addition to our downtown Phoenix neighborhood and I love that it's an ethnic cuisine (Polish) that doesn't already exist in our neighborhood!  My father-in-law was Lithuanian, so we have eaten many of these recipes for many years...so it is so nice to have this comfort food close by when you want and crave it.  We tried 5 or 6 different dishes to share and loved every one of them.  We'll definitely be back for the food, but also for the great cocktails I hear they mix up.\",\n",
              "  5),\n",
              " (\"I feel like it's a tad pricy. However my kids love it and the pizza is to die for! The owner is super nice and the staff are also so friendly!!\",\n",
              "  5),\n",
              " ('Presidential Limo is the only Limo service I use on my Vegas adventures! This time it was for my 53rd Birthday. Once again they were punctual, efficient and friendly! This time our Driver was Edward. Edward met us at Baggage Claim and even helped me climb into our SUV Limo. He then opened our Champagne, took our picture and had us on our way to our hotel.  With the hassle and expense of Taxicabs in Vegas, the airport special is a great deal and definitely worth the splurge!',\n",
              "  5),\n",
              " ('Very slow service. Sat for 20 minutes without anyone taking our order. No one here was named Denny.',\n",
              "  1),\n",
              " ('Read the good reviews on yelp and decided to try it out on a Sunday afternoon. The service was very lacking but it looked like they were short staffed. The food though was pretty uneventful. I had the Chicken Limone and my boyfriend had the Creamy Garlic Chicken. There was nothing going on with the food. No seasoning, no anything. Everything was very bland. Looked like it had been sitting in the back a while before the servers got it out to us. The appetizer we had (firecracker rolls) were lukewarm. Was so excited to try and sorely disappointed.',\n",
              "  2),\n",
              " ('I had the bacon cheeseburger here with sweet potato fries. Awesome burger, they actually cooked it medium rare, which is hard to find. They could use a better selection of beers, their only weakness, but definitely worth the drive for the food.',\n",
              "  4),\n",
              " (\"I am here to write exclusively about the Breakfast burritos. As far as price goes, I got a bacon bfast burrito for around 7 dollars (add potatoes, tax included). I don't consider this a good deal. When I grade breakfast burritos I look at three things: meat to egg/potato ratio, flavor, and size. Unfortunately I don't  think this burrito grades well anywhere. There isn't enough meat, you can't taste the bacon, the middle of the burrito tasted like mush, and the burrito overall was small. I would recommend skipping the bfast burrito. It is convenient they have a drive thru and are open 24/7. I can't say much else positively.\",\n",
              "  2),\n",
              " (\"Very clean!  Most important for me that a new foot scrubber is provided per customer.  No one wants to share a foot scrubber.  At least I don't!  Salon is very neat and friendly customer service.  Any technician is very good for a walk-in.\",\n",
              "  5),\n",
              " (\"Mengrai Thai must be one of the most (if not THE most) famous Thai restaurant in Toronto. I use the word 'famous' because they are heavily embellished with awards even from the Thai Royal government and had serviced big screen celebrities like Jackie Chan, Jessica Alba and the list goes on. Head chef Sasi was an iron chef winner and is celebrity status herself.\\n\\nWith such an adorned list of accomplishments, we arrived ready to culinarily enlighten. Once you walk up the stairs into the restaurant, the place has an old antique feeling to it like a mashup of a Thai temple and a traditional diner. A little worn but lots of traditional flair.\\n\\nTheir menu had a lot going on as it was so wordy that it was a little hard to navigate through. We decided to place our full trust in our servers recommendations and ordered the most popular items:\\n\\n- Tom yum soup: this was the most sour Tom yum I have ever had. The sourness was so overpowering that it was hard for me to enjoy any other flavour that accompanied it.\\n- Divine crispy morning glory: battered thai spinach, it was fried similar to tempura style with a nice sweet and sour glaze. I thoroughly enjoyed this and would recommend.\\n- Sasi's red curry chicken with lychee: served in a pineapple and had lychee in the curry, interesting concept but can't say I was a fan. The taste was a little bland and it didn't have a strong flavour profile. The chicken meat was also slightly overcooked. \\n- Sasi's pad Thai: the noodles were nice and chewy and it was a solid pad thai but again there wasn't a distinctiveness that would make me want to get it again.\\n\\nOverall, it was still a satisfying meal and I wouldn't go as far to say this is a tourist trap because I'm sure Sasi is a super talented and great chef. However, our actual experience with the food here dulled in comparison to the glowing expectations of celebrity chef resto.\",\n",
              "  5),\n",
              " ('I enjoyed my time seeing the Backstreet Boys here on 9/5/13 AND meeting them!!!! woo!!!',\n",
              "  5),\n",
              " (\"Drove by a few times and finally decided to place an order.  Walked in and noticed  the place is a little small with 32 chairs and 6 tables.  The person taking the order is fluent in many languages, so no language barrier here.\\n\\nBun dac biet (Combo Vermicelli) - plenty of meat, 2 egg rolls and the ngoc mum was great.\\n\\nBanh Mi Dac Biet - big enough to share, tasted ok as the bread felt and tasted a little stale.\\n\\n2 Special chicken pho - soup tasted clean, but the chicken was over cooked.\\n\\nCom dac biet 5 Mon (5 items, grilled pork, chicken, egg roll, shrimp, and Chinese sausage) - kids loved it.\\n\\nBot chien - first time and probably our last. It's just fried eggs with crispy.noodle cake.\\n\\nOf course I checked in and was super happy I got my free egg rolls as well.\\n\\nYes, I will be back.  Huge menu selection and so little time. Yumz\",\n",
              "  3),\n",
              " (\"This bar is awesome. I love there 4 to 7 p.m. happy hour will you get two for one drinks the drinks are very reasonable and very good. Me and my girlfriend usually go on a Friday to have drinks after work which is very good and relaxing for us help to get rid of all those weekday problems that you've had all week.\\n\\nI usually get something simple like a whiskey and coke which for 2 for 1 is 2 for $3.50 which you can't find anywhere besides maybe Fremont Street for even one for $3.50. They have great beer specials as well when I do drink beer I use he can get one of those as well and their two for one that's also. My girlfriend likes to get the margaritas which come in a highball glass and they are $4.50. One thing I will say is that the bartenders are awesome they like to talk I like to be interactive and they like to make you feel like you are family which is a great thing for a bar because then you feel like you want to come back and you want to interact with them as well.\\n\\nI did notice that they have gotten a new cuz I don't know if the cook overnight is the same or if they have change that I do have one problem the last time I went late at night the bartender had to end up helping the cook get our food out quick cuz it took so long and when it did come it wasn't good and it looks like the bartender had actually gone back and cook the food himself because the cook that was back I didn't know what he was doing that was a very late night for us around 4 a.m. so I have not been back that late to see if the Cook has changed but as far as the one that's there during the happy hour he is pretty good and haven't had any problems since I do only go during the four to seven happy hour.\",\n",
              "  5),\n",
              " ('I had dinner Saturday night with a party of 8 service was great and everybody enjoy the different atmosphere changing every 20 min. I had ordered the lobster salad and the short ribs which I needed NO knife. I have lived in Las Vegas for 30 plus years and rank this as one of top spots to try.',\n",
              "  5),\n",
              " ('Plenty of potential: situated in a historic 3-story Victorian house with a large porch/patio in the heart of Mirvish village. The food is not high quality. Standard pub fare with little flare and poor nacho layering! Each layer must have cheese, please. \\n\\nThe beer selection is great but the service is just OK. The bathrooms are not up to my cleanliness standard (i.e. i try not to touch anything) and the interior smells of sweaty gym/frat house. \\n\\nIts really too bad because the space and location are ideal and the crowd can be interesting at times but at the end of the day, its just a regular pub. Meh. \\n\\nWhy you should come here: patio, beer, and convenience. 2.5 stars. Halfway there!',\n",
              "  3),\n",
              " ('My sister just called me crying because of the experience she had here tonight. She was treated with the utmost disrespect and humiliated by the so called \"sales associates\" here; she was with our other sister and niece. They planned this all week and we\\'re just heartbroken by how rude and crude these people were. No one should ever step foot in this establishment. If I were the owner and found out about this, I would be furious. Buying your wedding dress should be the beginning of a beautiful experience, this establishment destroyed that for my sister.',\n",
              "  1),\n",
              " (\"This place was so fun and very trendy, I did a lot of travelling this summer and I would have to say this was one of my favorite stops! This place is hidden so if you don't have a local bring you, then you're out of luck. You have to climb a couple sets of stairs to get into the club but once you're in there are tons of places to sit! The vibe is eclectic and hipster and all the people are just there to have fun! The pitchers of mojitos is where it's at, and you should definitely go with a group, you'll have so much fun!!!\",\n",
              "  5),\n",
              " (\"Amazing food and service! My girlfriend and I come here almost every week to have dinner. We always get lamb samosas, garlic naan (yum), lamb tiki masala and side order of basmati rice. This place serves the best lamb, it's so juicy and flavorful. Definitely recommend this place to anyone who has a serious craving for Indian food\",\n",
              "  5),\n",
              " ('Visiting from Vegas. I had the BLTE and that was great! The new morning meditation was good as well. My gf had the AM Superfood Bowl and that was just phenomenal! We really need this place in Vegas!!',\n",
              "  5),\n",
              " ('Great casual atmosphere. Brisket and wings where perfect  good place to watch a game. Nice big bar.',\n",
              "  4),\n",
              " (\"I recently visited Acorn with my boyfriend for my belated birthday dinner and we got both the Roasted Duck and Rainbow Trout entree. Every component on the dishes were simply delicious and cooked to perfection. We would definitely come back. I've also been for brunch and that was also wonderful.\",\n",
              "  5),\n",
              " (\"John Khayat at PMI Greater Phoenix is a guy you can really trust. His hard work and dedication to the properties he manages is easy to see. He's a great landlord and an even better representative of those whose property he manages. It's no coincidence he's well-reviewed and has gained such a great reputation within the industry.\",\n",
              "  5),\n",
              " ('Not a bad spot, but the manager was not the nicest dude in the world. Came right after a run and since I\\'m from CA I\\'ve never had Dunkin\\' Donuts. My girlfriend and I came in I ordered a coffee and a chocolate donut. My girlfriend asked a question about the smaller donut holes if they had something in them to which the man behind the counter (who appeared to be the manager) kind of dickishly said \"uhh no.\" That rubbed me the wrong way she was just asking a question and he could have been nicer. Regardless the spot is clean and the doughnut was good. The coffee was quite good too! I finally see why people like it so much it isn\\'t too sweet, but not too strong either. Overall, not a bad place for coffee and a bite, but the service just wasn\\'t the most welcoming. My whole time there I did not return to this site.',\n",
              "  2),\n",
              " ('We got late (for LA) into Scottsdale.  Here things just started to pick up...\\nOur waiter was very helpful.  Really tried to male us happy and even said that.. Explained the menu and also told us he can make any thing we want (my wife likes to have her options...).\\nWe ended up with fantastic house bread, very tasty salad, great veil Milanese!, spaghetti meat balls from great Kobe beef.\\nDessert was a bit disappointing but is was part of a special week deal. \\nThe price was also much cheaper that we have paid at home.',\n",
              "  4),\n",
              " ('My boys approved. Husband was happy with food selection. Clean place and excellent service.',\n",
              "  5),\n",
              " (\"I grew up in the South, so I've had some great ribs. When I saw the rum and coke sauce ribs on the menu here I thought it sounded interesting and I gave them a try. They were phenomenal! Seriously like the best ribs I've ever tasted.\\n\\nThe key lime pie was also tasty and my husband and I enjoyed great cocktails, as always. All in all, a wonderful meal!\",\n",
              "  5),\n",
              " (\"we live right around the corner so it's awesome. \\nit's clean, it's bright.. and decorated really fun.\\n\\nthey have all the usual flavors like vanilla, chocolate, mango tart... and offer a plethora of toppings;  fresh fruit, granola, all kinds of cereal, candy.. you name it.\\n\\nwhat really won me over:  a comment card!  i filled out a comment card and suggested they add coconut yogurt... and a month later i came back and there it was!  with my comment card posted on the wall!  \\n\\nit was nice.. it really made me feel like they take their customers thoughts into consideration.  we will definitely frequent this joint!\",\n",
              "  5),\n",
              " (\"The best. Always the a great spot to grab a snack ( bao ) or a nice lunch ( banh mi ). All the options I've tried are great, you can never go wrong. Personally, I like the 5 spiced pork belly banh mi/ bao or the fried chicken bao. I usually get the kimchi fries and split it with a friend.\",\n",
              "  5),\n",
              " ('In and out with a new iPhone 6 screen and a tempered glass screen protector in less than 15 minutes, with a grand total of $120! Very nice shop and knowledgable guys, highly recommended.',\n",
              "  5),\n",
              " (\"It's a shame I really wanted to like this place. \\n\\nThe good: Showed up  Friday night without a reservation, the host seated us rather quickly Server was great explained the menu in great detail.\\n\\nThe bad: While waiting for our appetizers German Osio (the owner) came by to introduce himself. He was slurring his words and seemed drunk. During our meal we noticed German get into an altercation with a guest that was sitting close by.  German followed the guy outside. My girl was curious to see what happened so she stepped outside. She saw German choke the guy and then saw the guy punch German in the face knocking him out cold! The police and ambulance showed up it was a huge scene. For this guy to own two other restaurants in the valley he is highly unprofessional. I've never witnessed such animalistic behavior before, especially in Scottsdale. All in all food was mediocre but it might just have been the owners behavior that ruined our experience. This place won't be open long if German keeps up this behavior, I will NOT be back.\",\n",
              "  1),\n",
              " ('I\\'m going to slow the hype train on Trader Joe\\'s for a bit. The produce, seafood, and the meats are pretty gross compared to what you find at Metcalfe\\'s or Whole Foods. (Not to be a wet blanket, but frozen \"organic\" chicken breasts preserved in some \"special\" preservative doesn\\'t inspire confidence.)\\nTrader Joe\\'s is best for stuff like nuts and raisins. People I know have also recommend fruit juices, which I don\\'t drink because I\\'m trying to limit sugar, and also liquor, but I don\\'t drink so I can\\'t speak to that.\\nLayout of the store is great with plentiful underground parking!',\n",
              "  3),\n",
              " (\"This is the best bbq I can say I've ever eaten in the valley.  It could go up against some of the best BBQ joints in the US. I'm talking places all throughout Texas, Memphis, etc.  I had the 2 meat platter w/Beef Brisket & Pulled Chicken.  The meats are so tender, perfectly seasoned & cooked that you don't even need BBQ sauce; but the BBQsauce is also amazing and adds a lil pop & dimension to the flavor profile of the perfectly flavored meats.\\n\\nThe sides were also not your typical quick, thrown together sides like most places which use prepackaged, bagged & bottled ingredients.  I had the Mac & Cheese - no question that this is homemade (awesomely creamy & perfectly cheesy, not overwhelming-just perfect) & for my 2nd side I had coleslaw. I was totally & absolutely pleasantly surprised. The Coleslaw was also homemade, not bagged cabbage (it was freshly, hand chopped) & mixed w/a homemade, fresh & excitingly flavorful dressing of delightful perfection (not too thick & creamy, yet not too watered down, either - finally after all these yrs ... I've found a coleslaw that has a perfect balance in the dressing consistency, a perfect flavor profile & is made w/fresh, hand chopped cabbage & I can finally say that it's the best slaw I've ever eaten).\\n\\nMy spouse had a full rack of baby back ribs which he couldn't stop raving about.  Ate the entire rack in 1 setting. The meat literally just fell right off the bones.\\n\\nIf you're on the North side of Phx- - -trust me when I say this is a Restaurant you MUST visit.  It will NOT disappoint.\",\n",
              "  5),\n",
              " (\"Do NOT bring your high end shoes here!!!!  They did such a TERRIBLE job on my YSL tributes, Nordstroms decided to replace them!!! I dropped off 4 pairs of shoes at Nordstroms  (YSL & louboutins) to have new heel taps replaced and cleaned up and the owners son talked me into putting soles on them for added protection from wear... DO NOT do it! I wish I took pictures of the workmanship.. They basically filed down the sides of the shoe and left it without paint...they are 1000$ shoes.. RUINED!!! Not to mention leaving INK marks on them which couldn't be removed because they were patent. Horrible blend job on the underside where the new sole was placed.. Again, even Nordstroms was applaud by their work. I wish I could give zero stars! \\n\\nCustomer service at Nordstroms deserves 10 stars, they are always helpful with great customer service!!\",\n",
              "  1),\n",
              " ('So Ford and this dealership has a real scam going.  The have figured out that if they call their \"loaner\" cars \"rentals\" and set up a fake rental car desk next to their service then they can get you to pay half the \"rental fee\" even when it\\'s a total warranty issue.  What a total scam.  I will never go back!!!!!!',\n",
              "  1),\n",
              " (\"Great selection of seafood and sushi, as the name implies, but that's not all. There was a wide selection of other food as well, so your whole group can find something they like. The price is quite reasonable for what you are getting and the service was attentive and quiet. I Know we'll be back because we couldn't try everything, even though we stuffed ourselves.\",\n",
              "  3),\n",
              " (\"I loved this place! You can see just how diverse Toronto is just in these few blocks. There are so many cool, unique shops and restaurants. Some of the shops are vintage clothing shops with a bit of a thrift store feel. Others are quirky knick knack shops, or specialty shops. There are even some produce stands that make it a little like a farmers market. \\n\\nEven if you don't want to shop or eat. There is plenty of really cool street art all over the place here.\",\n",
              "  5),\n",
              " ('1st experience:\\nI was introduced to this place by my aunt during our holiday trip to Vegas. It\\'s always sooooooooooo much fun going with the fam. My friend joined me that year and agreed that Hot N Juicy was just that. Since we had a group of 10+ we ordered almost everything on the menu except for the crawfish and lobster. I probably ate my weight in shrimp and crab. The side dishes were a mere afterthought. I did enjoy the corn and rice. Come on, I had to have some rice with the proteins!\\n2nd experience:\\n\"Dude, I think the guy at the front is hitting on you.\" Our waiter proceeds to act awfully friendly to my co-worker. We picked on him for the rest of the evening. It was cute!\\nI was in town for a convention for work. My boss treated us to dinner here. I was so excited since I already knew what to expect. We all ordered our own crab and shared shrimp and sides. The Hot N Juicy special sauce all the way! I learned the ways of H&J.\\nLast notes:  If you\\'re in it to win it, go for the H&J special sauce mild. Medium to me seems too spicy, but that\\'s just me.  I\\'m the type that can\\'t handle Hot Cheetos....This place gets super crowded so it\\'s best to try to get there before the dinner rush if you can.',\n",
              "  4),\n",
              " (\"Cute small airport for an international one, the McCarren has everything you would need if you are stuck in an airport and needed something. Need? What can you possibly need?\\n\\nSlot machines. And slot machines in rooms where you can smoke.\\n\\nYes, Sin City has slot machines for you while you either wait for you flight or wait for your baggage claim. Why? Why are you feeding to my gambling addiction? (Okay, I don't really have a gambling addiction, but still...)\\n\\nThe only other thing I would like to point out is that half the restaurants and stores shutdown down once it's past 10pm. So much for the city that doesn't sleep.\",\n",
              "  4),\n",
              " ('Terrible experience and mediocre food. The line up was long but I trusted that it would go quickly from reading other reviews. I put in my order in advance while waiting, paid my money and then waited...and waited... And waited. It was literally ONE HOUR from the time stamp on my bill to when I got my order of fried calamari. Meanwhile waiting in the humid, cramped, seating area whilst the staff shouted out orders and reminded the crowd of people to move down... I lost my appetite by the time the food finally arrived. We ate through the box of tasteless (but tender) calamari to be greeted with a huge POOL of oil at the bottom. So gross. But hey, the marinara sauce was good.\\n\\nSomeone needs to open a seafood restaurant in SLM so we have another option other than this place.',\n",
              "  1),\n",
              " (\"My husband bought a pearl white 2006 Subaru STI from here back in 2008. The brakes were completely gone within a couple days of him buying it and he had to shell out extra money to get them replaced as they are brembo brakes (not cheap!).  While the brakes were being replaced (at Subaru), it was brought to our attention that the sway bar had broken because it was upside down! Carmax refused to cover the broken sway bar under the warranty because they said the sway bar would flip if taken over a jump and that was not warrantied. What a joke. Don't get me wrong, I love to do jumps in a car with no brakes, makes me feel alive - but this car was not jumped nor driven in such a way that the sway bar could've flipped. It was probably upside down because the previous owner that killed the brakes had some aftermarket junk on the car that he took off before trading the car in and since Carmax apparently doesn't look at sway bars and brakes while inspecting their vehicles, it just flew under the radar. This dealership was the last straw as far as used cars for us. Now we save and buy new.\",\n",
              "  1),\n",
              " ('Great facility. Great location. Great parking. Great staff. \\nThey rotate the lifeguards every :15 so they stay alert. \\n\\nNot sure who or why they authorized a dog swim on Sept. 11. That really grosses me out, no matter how much chlorine they dump into the pool.\\nWhy, why, why would you ever do that?\\n_____\\n\\nI wish they had longer hours to swim laps without the \"family\" atmosphere. \"Family Swim\" equates to lots of kids doing cannonballs all over the place, gettin\\' in the way while you\\'re trying to do laps, making off with the equipment you may have hanging out at the end of your lane. Huge bummer. But if you can grab some time without the annoyance of the little ones, the place rocks. $3 entry per swim (not per day). \\n\\nIMHO, 5 stars if:\\n* $3 per day (not per swim).\\n*Fire the dude who authorized the dog swim.\\n*Clean the locker rooms once in the middle of the day (pretty scary by evening).\\n*Family (kid) swim limited to an hour a day, twice a week. Outside. Maybe in another county.',\n",
              "  4),\n",
              " (\"I had higher expectations for this place since the reviews were so good. We went for dinner around 5 pm and felt like were being rushed, the waitress kept harassing us to order our food even though we had probably sat for 5 minutes. None of the staff were friendly. After we did order our food we received it within 7 minutes, which made me think it wasn't very fresh and it didn't taste fresh either. I ordered the Garganelli Geppetto, it wasn't bad but it wasn't good either. I had a lava cake type of dessert which was actually really good and I enjoyed it. That was the only good part. Would not be going back here.\",\n",
              "  3),\n",
              " ('We walked from our little neighbourhood to the next one to try another microbrew place, because, you know, you can never try enough microbrews!\\nIt was a not-so-sunny-it-might-rain-not-sure-oh-here\\'s-the-sun-oh-wait-it\\'s-gone kinda weekday but as we arrived around 6.30 the place was nevertheless packed (inside and out). Ok, fine, it must be good then! \\nAs I\\'m freezing (no, literally) under 25degrees, we headed in and triumphatly we managed to elbow-wrestle our way to an empty table squeezed in between other tables \"Oops sorry didn\\'t mean to leave my derriere in your food but I like didn\\'t have a choice if I wanted to get to my seat! Looks good though!\"\\nBeer menu is very interesting with their own brews and food menu although short is mouth-watering with good food and vegan option which as always doesn\\'t come cheap.\\nWe shouted our order to the waitress (see reason below) and got a blonde and a white beer, the Tempeh sandwich and the cheese board. We found nothing exciting with any of it and for the price, were still hungry.\\nThe staff is courteous but no more. The atmosphere is really loud from the over-loud volume of the music and everyone trying to shout over it to be heard by their table companions. Plus, seriously, did you have to dim the light to \"darkness level\" at 7pm!? If you want me to pay I will need to find my hand first and eventually, I know you love me, but I will have to find the door to go home!',\n",
              "  4),\n",
              " ('I was pleased with the store overall, however I had an issue with a store associate. The \"wine expert\" was helping us locate a particular wine that they did not have in stock. After returning from checking their inventory, we were told that the wine is not stocked and also their competitor (total wine and more) also didn\\'t have it in stock according to their website. I checked the website, and it was in stock. I won\\'t do business with a company who lies to their customers in an effort to try and make another sale. Shame on you Bevmo.',\n",
              "  2),\n",
              " ('We have eaten at this restaurant many times. We have never been disapointed. Their food is awesome!!  I had the Happy Tummy sandwich this last time. I was amazing. Breakfast and lunch foods are All great',\n",
              "  5),\n",
              " (\"This place is a gem! While in Charlotte for business, my coworkers and I decided to stop into this local ice cream shop. Needless to say, we were all very pleased! The shop itself has a perfect layout to accommodate customers moving in and out. The flavors are spectacular and apparently change all of the time. My personal favorites were Salted Oreo and Dunkaroos (shoutout to my favorite snack in the 90's!). Job well done with this place. I wish we had one in Nashville!\",\n",
              "  5),\n",
              " ('I was referred to this place by a friend who lives in Vegas. I will say after you are in the glitz and glamour of the strip the outside of the Palace Station will have you second guessing your decision to come there. I actually decided to go during a dog show which made it even more interesting. I was told that there would be a wait but it was worth it. After standing in line for almost an hour and a half I will say that the gumbo i had was one of the best gumbos i have ever tasted. I have friends from New Orleans and this topped theirs. The oysters i had were steamed just right. Horseradish sauce had just the right twang to it. If you have a car in Vegas definately go here. It is even worht the bus and cab ride from the strip.',\n",
              "  5),\n",
              " (\"Really unimpressive. Food was burt, table was gross,  and staff was pretty slow. I hate writing bad reviews, but i really can't recommend coming here when there are so many great unique places in town.\",\n",
              "  2),\n",
              " (\"Fantastic place to take friends and visitors to Toronto. The meats are always delish and the salad bar is extensive and always fresh. I love the filet mignon with bacon and chimichurri steak. Of course, cannot go without the pineapple and corn bread. Can't wait to go back\",\n",
              "  5),\n",
              " (\"I went here for the first time with some friends a few days ago and was not disappointed!! My server, Andrew, was very attentive and was super nice. I ordered oysters and a few others that were all pretty good. My daughter ordered the crab mac n cheese and fries and although the mac n cheese looks like a small portion, don't be fooled! She was full halfway through the plate. Some orders my friends did not like, but everyone has different taste buds. The bill came and was a whopping $300. Get ready to splurge if you eat here.\",\n",
              "  4),\n",
              " (\"This was my first time doing the tea time and so glad I popped my cherry at this place. Totally swanky tea lounge on the 23rd floor of the Mandarin Oriental hotel. Very quiet, relaxing and peaceful environment (keep in mind I went on a Monday afternoon though. I am sure it's busier on the weekends!)\\n\\nWe got the English Tea set and I ordered the Green tea w/ lychee flavors. The tea was quite good but it got lukewarm after a few minutes which is my pet peeve - I love my teas pipin' hot! The finger foods were very high quality but most of the items contained items I am not a huge fan of (e.g. smoked salmon, curry chicken, etc). I actually was hoping for more simple cucumber/ham sandwiches since they go so well with the tea and are easy to eat!\\n\\nThe dessert was a total miss for me. Way too sugary and sweet for my palate and I barely touched them. I would prefer more finger sandwiches in place of the sweets! Overall, service was great too and the server was very attentive.\",\n",
              "  4),\n",
              " (\"Nice service staff, half assed effort on the food. Chicken Parm didn't taste so good...ala Peyton Manning. Grilled cheese sliced cheese not melted and bacon was a joke, wings didn't get done on a few and daughters salad was returned inedible. Got money back for that one, thank you very much!\\nNot sure if the restaurant is failing and can't put together a decent effort or if that's the way it always has been. One and done for us.\\nBetter stuff out there to spend 60+ bucks for family of 4.\",\n",
              "  2),\n",
              " (\"Great food, friendly people working, the chicken shawarma was full of flavor, juicy and the humus went well with the dressing.  I'd order it again.\",\n",
              "  5),\n",
              " (\"GO HERE! I found GearHead on Yelp and decided to give them a call. Joe answered and was so pleasant. He took my car in right away and recommended what needed to be fixed. There was never any pressure and he explained everything in depth to me. I loved when I went to pick up my car he explained what he did and showed me the parts. I will be going here from now on and recommending this shop to everyone. I'm so happy I found this place!!!\",\n",
              "  5),\n",
              " (\"We came here a couple weeks back on a Thursday night during TIFF.  The atmosphere was friendly when we came in.  The decor is beautiful and rustic.\\nHowever, the moment we ordered we were ignored and forgotten about all night even though we were sitting beside the hostess.  We ordered a lot of food and none of it was spectacular.  \\nThe Portuguese Mac and Cheese was bland and unremarkable.  There was not a lot of seasoning and nothing special about it.  \\nThe Shrimp Po' Boy Sandwich was waaay over seasoned.  The sauce had a weird taste and was just salt city.  Half of the shrimp was well cooked the other half was overcooked. The only good part of the sandwich was the bread.  \\nThe slider platter was supposed to have three distinct flavours, but everyone agreed that it all tasted the same.  The burgers themselves had a funny spongy quality about them which made it off putting. \\nThe Goa Chicken was an entree which was twice the cost of an appetizer, but was the same size as an appetizer.  We were almost done dinner and had asked twice about the dish before it finally arrived.  The sauce was not spicy or flavorful,  and the texture of the chicken mimicked the rice.  There was nothing special about this entree and we all agreed it wasn't worth the money.  \\nThe pierogies were super sweet for a savoury dish and the dough had a strange texture to it.   It was too much dough and not enough cheese and potato.\\nWe all agreed that we wouldn't ever step foot in this place again.\",\n",
              "  2),\n",
              " (\"Just wanted to leave another review for this place.  I am never disappointed !    Such good food!!!!!! Tonight we had the bangers and mash, and fish and chips.   I am beyond happy!  So delicious !  Best happy hour and food in Vegas by far and I've lived here nearly 3 years.\",\n",
              "  5),\n",
              " ('This is my kinda place. A creepy staircase leading up to a hidden shop with\\ninteresting finds galore. The staff has great taste in music, and the shop specializes in underground and avant garde. You\\'ll also find a good selection of metal, jazz, and an odd assortment of used records and CDs. Prices on new stuff seemed to be $1 or $2 cheaper than anywhere else. I picked up a couple of Severed Heads re-issues, Tame Impala live versions,  another copy of the Top Secret soundtrack for a gift, a handful of 80s 12\" singles and an amazing 2LP Pye Corner Audio which I overheard in the store. \\nWill definitely be back.',\n",
              "  4),\n",
              " ('Very clean,friendly service,very comfortable atmosphere. Good size portions for reasonable prices. We were here for breakfast and I would not hesitate to come back or recommend to my friends. Mitch',\n",
              "  5),\n",
              " ('apples & toffee are soooo good!! Sweet garlic sauce is the best!', 5),\n",
              " (\"**I'm posting this again, because I guess I posted the first one to the wrong light rail?**\\n\\nI have taken a ride on the light rail a few times now and I have some stories!! The first time I rode the light rail I took it from Mill Ave to Phoenix to see the D-Backs and Cubs play. My friends had caught a tram in Mesa so I sat there and watched a few trams come and go before I got onto the one with my friends on it. That was easy enough...there was enough room for me and the ride was smooth and fun (though I can't say it was relaxing)...Any ways. After the game was quite an experience! The tram ride home was a little more crowed now that the game had let out. There were two die hard fans in our car from the two teams who started talking trash to each other...well one of them had a little too much to drink and one thing lead to another and they were soon yelling threats at each other. Right before the drunker one took a swing (in a very crowded car) an older man stood up and shut them both up before someone got hurt...the tension in the air was thick the whole way back to Tempe where the Cub fan got off and punched the window. The friends of the other guy had to hold him back...I mean come on!! \\n\\nOkay, then I had the pleasure of using the light rail to go to the Circus. Again I was headed to Phoenix but this time I got on at the Washington stop. It was again a fun ride, but I couldn't say that it was a relaxing ride...there was this bum who was asking people for money and I think it would be better with some music playing in the background...any ways the ride home wasn't as eventful as the baseball game crowd, but again, there was another bum asking for money...can people just ride in peace?\\n\\nI like the light rail - I really do...it's always an interesting experience, but I just don't feel safe on it. I used to take the metro bus from Gilbert to Mesa every day for a while and I felt safer on that then I do on the light rail and the bums who ride the bus don't ask me for money either.\",\n",
              "  4),\n",
              " ('STAY HOME AND SAVE YOUR MONEY!   or go elsewhere if you want good food.  Ordered a corned beef sandwich a Reuben  2 onion soup and mozzarella sticks for take out was $43.00 asked for xtra pickles on side DIDNT get any asked for mustard on side DIDNT GET ANY asked for xtra 1000 island dressing DIDNT GET IT.  Corned beef was dry and bland bread was stale sour kraut was like eating dental floss! Thankfully they put very very little on it. And cheese was non existent. As far as I could tell neither of us wanted to finish or save what was left of our very small sandwiches. The only good thing about them was that they were small. Cuz if they were really big and had to throw away more than half the sandwich I would be pretty peeved Mozzarella sticks were ok but hardly worth the $$  they charged and somewhat undercooked  soup was only good thing we got. Webb sight says to inform hostess you are there to pick up an on line order I did so and was rudely told take out orders were to be picked up at the bar. Bar maid was very nice.  Food was ready and that was the only nice thing about my visit here.',\n",
              "  1),\n",
              " (\"When I say you HAVE NOT LIVED UNTIL YOUVE TRIED THE JERK CHICKEN NACHOS!! It's freakin huge. Kinda spicy tho, not sure if you're into that. Anyway other favs are the lamb quesadilla and surprisingly the burger is pretty good too. If you're into trying new stuff I'd recommend the shark sandwich. It's fresh and tasty, don't let the pineapple salsa scare you away!\",\n",
              "  4),\n",
              " (\"Well here's our local chain's latest expansion. I love Primanti's and always have. I'm never a fan of the suburban restaurant version. I'm a Strip District girl through and through. With that said...I approve of this location. The layout isn't much different than when it was Prairie or Verde.\\nBartenders and servers are super friendly and talkative.\\nSandwich was good. Cheese combo with extra cheese and slaw on the side. The bread was fresh which is a huge deal because usually stale at locations like Market Square, Robinson and South Side.\\nKudos to this one indeed.\",\n",
              "  4),\n",
              " (\"We were suppose to have dinner he pre-theater menu but they said we should have been there from 6:30p even though when we called for reservations we were told just show up with our tickets. We ask to speak to the manager which I think is actually  the maitre d, who said there's nothing he could do. So we ordered from the main menu. \\n\\nWell what I thought would be a bad experience turned turned out good based on the service the waiter gave us. We had ordered a bottle of wine and when it was finished he asked if we wanted to order another, we said no but her showed up with a bottle of red wine and said it was on him. He then made sure we each got desert when we only ordered two and apologize for us not getting to order from the pre-theater menu. \\n\\nLobster pot pie = 5/5\\nkabocha squash soup = 3/5\\ntriple desert dish = 4/5 (root beer float is the best)\\n\\nGreg thanks for making our dinner a great one!!!\",\n",
              "  2),\n",
              " (\"Dr. Swanic and his staff were great! I was in and out in a total of 40 min. The office was very clean and comfortable. I even noticed a staff member cleaning the eye cover after I used it. I'm hoping all offices do the same but it was nice to actually see it done right in front of me. Highly recommend!\",\n",
              "  5),\n",
              " (\"great kind service and atmosphere. awesome chicken sliders and an even better strawberry milkshake. yummy meal for only $7-$8. i'm so glad its so close!\",\n",
              "  5),\n",
              " ('We loved the ambiance, location and food. It was an awesome experience. The food was rightly spiced as indicated, the variety was good and portions were large enough.\\n\\n\\nUpdate: The portion size has decreased considerably compared to last time',\n",
              "  4),\n",
              " ('Seated promptly and had a very attentive and pleasant server, Deena.  Food was good as always!  We always enjoy CPK.',\n",
              "  4),\n",
              " (\"Stop.....do not walk through their doors.  They will insist you need some sort of major work, have an infection or pending problem and the dentist may or may not even look into your mouth to make this diagnosis.  I don't know if there office was ever very good.  But I do know that my kids do not have many cavities and they are not very excited to see them.  The adults on the other hand, need deep cleaning, anitbiotics to kill infections, extra x-rays, crowns, you name it.  \\n\\nI thought maybe my first experience was a fluke, so I went back.  Dentist never looked in my mouth and it had been a year and a half, but insisted I still needed the same 4 crowns they had recommended prior.  Meanwhile, I still have those teeth.  Upsell, upsell, upsell.\\n\\nThe staff stands around and talks about the patients and the Dr. rounds the corner to ask the office girls how many they got today.  Referring to major procedures that called back to schedule. And wheres the respect for patients privacy?\\n\\nDo not let them touch your teeth or your childrens teeth.  Save your money and find a better office.  \\n\\nMelanie certainly could brush up on her customer service skills.  When we called back after they had problems and couldn't finish my husband's appt. (claiming they would call him back), she was short, rude and unhelpful.\",\n",
              "  1),\n",
              " (\"Pretty good Greek food with above average Garlic Sauce and Greek Fries. The rest was pretty much middle of the road in quality. That garlic sauce is out of this world and truly the best Greek Fries ever.\\n\\nWould get another star if it wasn't $13.99 for such a small plate of food.\",\n",
              "  4),\n",
              " ('This place is wonderful!  Every time I get my nails done I am always received with big smiles and excellent service.  I would highly recommend this place to anyone who wants great service and nails that last a long time.  I would highly recommend either Ivy or Debbie to do your nails.  I always call ahead and make an appointment but walk-ins are welcomed.',\n",
              "  5),\n",
              " (\"We are very happy that we found Lash. The service is very high quality and we appreciated the attention to detail. The rooms are clean and the staff was very friendly. Megan and Ashley were so helpful in explaining the value and benefits of the Lash membership. \\n\\nWe had a slight hiccup on our first visit, as a business  owner myself, sometimes employees need a bit more training and that is just part of running a business. Sometimes issues arise, I don't judge a business, if there is an issue, I judge a business on how they handle an issue. They resolved the issue in a fair and reasonable way. They are working hard to make this place great, which I respect. Because of that, I believe that they have earned five stars.\",\n",
              "  5),\n",
              " (\"This is my favorite restaurant in the valley. Everything on the menu taste heavenly. Try it, you'll like it!\",\n",
              "  5),\n",
              " (\"Since the change of new owners, this place is GREAT again! The atmosphere is better...and it looks cleaner. The food is amazing...especially the spinach artichoke dip. I have to get it each time I go! Try the Friendly Fries with your meal. They're yummy too!\",\n",
              "  5),\n",
              " ('I\\'m kind of an idiot and went here for the dessert and then I didn\\'t have any. Soooo yeah. \\n\\nWe showed up to wait for a table (mind you there are about 45 tables open outside and we were okay with eating outside). The hostess said it would be a 15 minute wait anyway (why? I don\\'t know). So we\\'re sitting outside by the door and near a fan. We\\'ve been waiting for a while and I get up to go check to see if they called our name. Apparently the hostess did (inside? she knew we were outside) and since we weren\\'t there crossed us off the list and moved us to the bottom. She was also very rude to us about it. \\n\\nWhatever, no big deal. I\\'ll take your attitude, just seat me, I\\'m starving. \\n\\nFinally after waiting for a few minutes (this time I stood near their hostess station so they knew I was in existence) and my party was seated. Naturally it was uncomfortably hot but we were seated in probably the worst area. It was so hot, I was disgustingly (and embarrassingly) taking ice out of my drink and letting it melt on my legs. :hangs head in shame:\\n\\nOur waiter was very nice and made up for the hostess. I wanted lunch and asked for something \"small.\" Apparently their tuna salad was the smallest salad but this thing was massive!!! It was very good, but I\\'m still cautious about getting fish in the middle of the desert. \\n\\nAnyway, no dessert. I think if I was back in Vegas and wasty face, I\\'d make a stop to try the dessert. Otherwise, I probably could get bitched at by a hostess at a snootier restaurant and feel less bad about it.',\n",
              "  2),\n",
              " ('Here for a private party in the back area. \\nSmall diet Coke & Barcardi, $8! \\nThe guac was very good.\\nThe flautas/rolled & fried tortillas were also good.\\nBut the rice and black beans, lackluster.\\nTwo types of wings served: dont know flavors but one with a rub tasted like it had cinnamon (not on my wings!),  the other was good.',\n",
              "  3),\n",
              " (\"Awful experience. Came here for my sister's birthday. Good thing women were free, but damn it would suck to be a guy. My husband ended up paying $125 at the door. First dj was awful & played music that were slow and un-danceable at the beginning. A coke & rum cost a freaking $16 and it wasn't even a tall glass!! Dance floor was too packed and it took me 15 minutes just to leave it. I think several fire codes were violated that night. Main dj (Hardwell) didn't come on until 1:30 pm, at which time it's impossible to even move in the dance floor. Ridiculous prices. Totally not worth it. Hakkasan was a total dud & disappointment. Would not recommend unless you're planning to purchase one of their even more expensive table service.\",\n",
              "  1),\n",
              " (\"Called the salon to advise the owner that my polish had come off of two of my nails WITHIN 24 hours and she never apologized, blamed it on the polish and hung up on me. DO NOT BUY THE GROUPON - it's not worth it. Spend the extra $10 dollars for a place without the techs' children running around, missing supplies and unprofessionalism.\",\n",
              "  1),\n",
              " (\"Wife said she Walked in mid-afternoon on a recent Friday for first time.  She walked in and asked if there was a wait for mani-pedi. Gentleman who greeted her said no wait and took her right to pedicure chair. Water temp was tepid at best and quickly got cold water (yuck). \\n\\nShe waited...and waited. 15 minutes, 30 minutes. She finally asked the man as he walked by how much longer. He said 5 - 10 minutes.  She explained that She would have come back later or another day if the wait was going to be any longer. \\n\\n20 more minutes and She finally got up, toweled off and walked out. \\n\\nVery poor experience. Won't be back.\",\n",
              "  1),\n",
              " (\"I friggin love NAGA!! I have eaten there as many as 4 times a week for lunch! Would do 7, but I spare my husband's off days to avoid a money smart lecture ;) . Any who! I always order the yellow Curry with beef. Its divine darling! So coco-nutty and deelish! I also have tried the combo pad Thai (up charge for combo meats) Fried rice, Tom Yum Shrimp, as well as the Thom Kai chicken! All of which are WWW dot THABOMB dot com! \\n\\nNow the only reason I deducted a star is because they mixed my order up two times now! I sucks to get home to what I thought would be sweet succulent, juicy, and o sooo divine -d literally lol) shrimp, but get ground chicken .. (aaahhhhhhh mannnn) Or, nothing like expecting beef and get chicken chunks (NAGA -2 Joy- goose egg!!) . Hence, I am deducting a star! (witch laugh). \\n\\nLucky you....... the end! \\n\\nGo to NAGA !! Its great and everything is delish... just check your order before you leave! :)\",\n",
              "  5),\n",
              " (\"Tacos are bomb, chips and salsa bomb, not stingy on portions. The beans are fire!!! I will come back just for the beans on a cold chilly winter day that never happens in AZ, I'll be here with a warm bowl of beans.\",\n",
              "  4),\n",
              " ('Le Mont just lost $30,000 tonight.\\n\\nMe, my fiancé, and her mother went to Le Mont for dinner tonight in hopes of locking down a date for our wedding venue next year. Well, I definitely would have thrown my money at them if I wanted countless disappointing memories and an over the top, pretentious, unprofessional, outdated venue.\\n\\nLe Mont reminds me of a restaurant that made it big in the past with presumably good food, service, and professionalism while of course being complemented by the unmatched view of Pittsburgh. However, complacency must have set in because all of those characteristics were lost along the way.\\n\\nUpon arrival, we were not greeted with even a hello. We were standing waiting for our table while one of the staff members motioned over to us (while standing deep within the restaurant) to come follow him. If it wasn\\'t for my fiancé paying attention his efforts would have been useless, while remaining devoid of professionalism.\\n\\nOur waitor clearly lacked proper training for a place of this caliber. Nothing against him, but if you work hard during the week to go to a restaurant and pay hundreds of dollars for dinner, you would like a waitor that is professional, knowledgeable about the menu, and attentive. For example, he asked me if I would like another cocktail as it was 3/4 finished. I said yes as I proceeded to finish it; meanwhile he waited behind me as I finished the drink and said: \"Oh I\\'m just waiting for you to finish so I can make you another drink in the same glass.\" WHAT!??!!?\\n\\nI ordered the filet mignon and said I wanted it between medium and medium rare. His response: \"Well I\\'ll just have them cook it medium rare and if it\\'s undercooked for you I\\'ll have them cook it a little bit more.\" WHAT!??!!\\n\\nThe side vegetables were 100% frozen and just came out of the microwave, and lacked any effort of seasoning to help disguise its origin, the grocery store shelf.\\n\\nWhen it was time for dessert, they brought out a food cart of half eaten cakes that looked like they had been raided by a hungry pack of wolves. But, in any attempt to salvage the night, me and my fiancés mother ordered a slice of cake. The waitor asked my fiance if she wanted anything and she said no because she was full. His response: \"You sure you don\\'t want nuttin?\" WHAT!??! \\n\\nI ordered a cappuccino which lacked foam and had burnt coffee inside. To top it off, the plate was \"beautifully garnished\" with a shriveled, small, dirty, lemon peel. \"Yes, I love lemon with my coffee.\" When I confronted the waitor about it, he indeed confirmed that it was a garnish. WHAT?!?!?!?!!? \\n\\nThe bathrooms were dirty, floors were sticky, wall paper was peeling, and outdated. On the way out, no \"have a good night, thank you for coming, etc\" was said. Pretty fitting though - with this poor excuse for a 5 star restaurant I would expect nothing more: lack of professionalism, mediocre precooked food, and ridiculous comments about lemon peels, but definite willingness to take your money.\\n\\nSTAY AWAY FROM THIS RESTAURANT. IT NEEDS GORDON RAMSEY, OR A BULLDOZER. SPEND YOUR HARD EARNED MONEY ELSEWHERE.\\n\\nJUST GOOGLE THE VIEW.',\n",
              "  1),\n",
              " (\"This place is GREAT! In LA, $100 a month to climb at Boulder Dash or virtually any indoor climbing gym. This place is $120 for 3 months! And $10 a month for a gear rentals. They have one big Boulder with all levels of climbing surrounding it. Most of it is inverted which was hard at first since I haven't climbed in about 6 months. But, after a day or two you get the technique to keep your body on the wall. They also have a few auto belays and tons of top rope routes surrounding the building. I saw a guy on a slack line doing some crazy acrobatics in the corner so I guess they let performers practice there to. I'm glad I became a member I go almost everyday now. Come on thru and climb sometime! Friendly people, friendly staff, great prices, and whoever picks the music station has the vibes on point.\",\n",
              "  5),\n",
              " ('My sister in law had just given birth and I called for a burger and the grill was closed, but they made a burger special just for her !!!! Best burgers on Roncesvales ! A little pricy but definitely worth it  staff is great. Just had their special grass fed beef chuck burger with cheese bacon, sautéed onions, tomatoes and thousand island dressing... DAMN GOOD',\n",
              "  5),\n",
              " ('This place was HORRIBLE. I am in town for business and I was here at the office and called in an order to be delivered. They told me it would be forty-five minutes to an hour before it would get here, no problem, it is what it is. After waiting for TWO hours my very polite coworker called to inquire about our order. A man answered the phone and she said, \"I was calling to check on an order\", without asking for a name or what we ordered he said, \"it\\'s on its way\", and he HUNG UP on her. What a bastard!! 15 to 20 minutes later the delivery guy showed up, he was very nice. We couldn\\'t accurately judge if the tardiness was his fault, so unfortunately he was tipped well. After exchanging the money and food we walked to the back because we were starving at this point. My coworker and I have a security camera system set up and we noticed the delivery guy hanging out in the lobby. We stood there and watched the guy pace our lobby pick up a few magazines, flip through them, watch the TV for a solid minute. My coworker and I were actually laughing. At this point being mad wouldn\\'t make it better. However sharing my experience on Yelp would potentially help the next guy know not to order from here for Delivery. The food was was almost room temperature. The cashew chicken that I had ordered had very little chicken (I had to hunt for it to make sure there was any even in the dish!). It didn\\'t lack giant chunks of onion. I like onion, but damn! A coworker had sushi that she didn\\'t even eat after a few pieces, saying it was not good. I did try it, I didn\\'t like it, but that opinion can be taken with a grain of salt due to the fact I\\'m not a fan in the first place.  -3 stars is my real rating. -1 star for the bastard -1 star for the smug delivery driver and last but certainly not least -1 star for the shitty food.\\n\\n*** I do notice that others have rated it well, so maybe we caught them on a bad day, but diners-beware!!***',\n",
              "  1),\n",
              " ('First time here I heard the food was good but we have been waiting for our food for over 30 minutes we just got our ranch and celery and worker came with the WRONG ORDER so mad so disappointed because this place does have good reviews not coming here again',\n",
              "  1),\n",
              " (\"Ordered the Lamb Tika Masala Roti.  Lamb itself was decent, tender a bit fatty which is good as most places the meat tends to be really dry.  However, there was very little of it.  I would say percentage wise when you order a roti, 60% of it is the roti, 30% sauce, 5% potatoes, and 5% lamb.  the taste itself was okay, the roti nothing special.  At $14 I'd just be thinking about how little protein I'm buying.\",\n",
              "  2),\n",
              " ('Reasonable price and very friendly service. Rachel trimmed my hair. She was great!! I will definitely come back!!',\n",
              "  5),\n",
              " (\"I'm traveling from Jersey, for work. This place is AMAZING!!! The shrimp is awesome, as well as the dips and the drinks. They have latin night on Saturday nights; and the crowd is fun, but not overbearing. If you go, you MUST request Jaston (pronounced Gaston) he's very friendly and personable, and goes above and beyond to ensure you're taken care of. Highly recommend! Ps. GIVE HIM A RAISE!!!!\",\n",
              "  5),\n",
              " (\"I went to Karben 4 after hearing about it from a friend. My interest in craft beer, prior to my visit, was almost nonexistent. A couple friends and I sat down at a table surrounded by beautiful paintings suspended from the ceiling. We sampled all varieties, including the spectacular Nightcall smoked porter and Silk Scorpion Black IPA. Having never tasted a porter, I wasn't sure what to expect but was surprised by its flavor and pleasant aroma. Additionally, my friends and I tried a few menu items including a summer sausage sandwich and the homemade pretzel. Both were excellent. I recommend Karben 4 to all beer drinkers, period. One more thing, the music played in the taproom was excellent. It wasn't too loud, and I was still able to hold conversations without shouting at the top of my lungs. I'll be back.\",\n",
              "  5),\n",
              " ('I absolutely did not know what to expect when I arrived, do I have to physically escape a room? Do I solve puzzles? Am I playing a grown up game of CLUE?  The team at Xterious escape rounded us up and showed us our backstory video, gave us brief and clear instructions and took us to our room. \\n     Without spoiling anything I can tell you it\\'s about finding clues and solving puzzles and working together. Our team made it from room to room and escaped with 14 minutes to spare. I was sceptical at first, but it was so much fun. I can\\'t wait to bring the kids. \\n     I will recommend that you try to bring a big group, otherwise you get paired with strangers. We lucked out and our new team mates were cool and friendly and NOT MORONS. Some of the props were a little \"hokie\" but if you can get past that it\\'s just good fun.',\n",
              "  5),\n",
              " (\"I would recommend this hotel and probably stay here again, but during our last stay, we experienced some problems.  First, the toliet in our room didn't flush. Second, the remote control for the TV in our room worked quite poorly.  Lastly, the Starbucks counter in the lobby was closed for some reason at 10am on a Monday morning. No explanation why, not that it mattered,  The first two things I would have normally called down to the front desk to let them know, but we didn't discover either of them until about 1130pm at nite and at that point we didn't want a plumber in our room or have to move rooms.  So we mentioned it on the way out. Upsides of this hotel are the location and the free parking.  They also offer a free shuttle to many of the hot areas of Madison.  We didn't use it, but it was nice to know that it was available.\",\n",
              "  2),\n",
              " (\"Their Hokkaido milk tea is a new favourite! It has a strong caramel/toffee taste - very sweet so I def recommend getting 50% sugar or maybe even 30%. One of the pricier bubble tea chains but their milk teas are good quality and you can really taste the tea flavour. They currently have white tapioca available too but unfortunately was sold out when I went.\\n\\nThis location is bright and clean, and they have board games available. Would definitely revisit if I'm in the area again and craving bubble tea :)\",\n",
              "  4),\n",
              " (\"Went here for my birthday dinner and a few of my friends didn't enjoy their food (shrimp & grits, chicken and greens) However I loved the sweet and spicy shrimp. The Vine outside bar in the back was a good time. The music was a bit low but the drinks were strong, mixed crowd and tons of fun!\",\n",
              "  4),\n",
              " (\"Definitely a must go if you're in Vegas. It's inside Planet Hollywood. The wait in line (on a Saturday) was about 20 minutes, which isn't too bad considering it's Vegas. \\n\\nThe food, was amazing. I got the soba chicken noodle salad (no lettuce) & it was delish. My boyfriend got the hell's kitchen burger & he said it was pretty dang good. \\n\\nThe oreo shake was the best part, whatever you decide to get, make sure you get a shake. They are phenomenal!\",\n",
              "  5),\n",
              " (\"Friendly staff and a pretty large menu. The beer was average but the Thai Pizza was tasty. The restaurant was pretty busy for being only 5pm. I'm pretty sure happy hour was going on but our waitress never explained it and I'm not sure if we received a discount.\\n\\nThe Thai Pizza was big and relatively spicy. I wish the pizzas were more of a personal size because we would have liked to try a few different options.\\n\\nOverall, nothing special but it was better than your typical sports bar.\",\n",
              "  3),\n",
              " (\"If you like moldy sandwiches come to this location! The manager is super rude when I called (not wanting a different one or a refund) but just to inform them so people don't get sick. This place needs to get fined for how disgusting it is.\",\n",
              "  1),\n",
              " ('Sweet little restaurant with cute decor. The wait staff was friendly and very familiar with the menu options. The homemade apple butter was tasty. I was surprised to find the Sexy Spuds, a staple and highly recommended menu item, to be cold. It was as though they had been prepared much earlier and sat waiting for someone to order them. \\nThe chorizo gravy was delicious!',\n",
              "  4),\n",
              " (\"I came here for the first time a couple days ago with a huge group of friends. I had high expectations, so that may account for my 4/5 star. Long story short: though this place didn't satisfy me to a 5 star degree (food wise), I was super impressed by the service.\\n\\nI was SUPER hungry before stepping into the restaurant. I checked in on Yelp for a 10% discount and I was ready-to-go. However, the food, (understandably) took some time (as I went with a large party). Again, I was really hungry. I want to emphasize just how hungry I was in order to reveal the accuracy of my 4/5 review. Despite just how hungry I was, the food wasn't THAT impressive. It was standard in terms of quality and portion.\\n\\nFOOD:\\nI got a See Yew spice level 3 (out of 10) with chicken. It was tasty and well-cooked! There wasn't much of a wow-factor though. I tried a bit of my friends' food, and my opinion stands accurate for all the dishes.\\n\\nATMOSPHERE:\\nSpacious. There's a bar area. Lots of seating, not as many customers (I went on a Saturday night). However, it's nice and clean. There's also a sanitary bathroom for paying customers.\\n\\nSERVICE:\\nThe waitress was really nice and helpful. She was patient and friendly the whole night. Someone from the kitchen, who I presume to be the owner and/or head chef came out to make sure everything was okay ... and that's really telling of how much the staff care.\\n\\nI would come here again, but the far distance is a turn-off is I'm being completely honest. But my overall experience was positive.\",\n",
              "  4),\n",
              " (\"I love this particular Starbucks solely for the staff who work there. The staff here still remembers that I'm paying $5+ for a latte and they always make sure it is correct!\",\n",
              "  5),\n",
              " (\"I traveled all the way from Texas because I wanted a tattoo that meant as much to the shop as it did to me. From making the appointment, to deposits, to a reminder the day before, this shop was so thorough and thoughtful. \\n\\nSeth put so much work and love into my tattoo in memory of Chester Bennington.... it's not only stunning to look at but incredibly personal. \\n\\nI'm sorry it took a tragedy to get me out here guys, but I'll definitely be back! \\nThank you so much!!!\",\n",
              "  5),\n",
              " ('Ok, this is one of my guilty pleasures.  I recommend you not pick up your food as it is the epitome of a grungy hole in the wall (they deliver).  The place does not look like it has been cleaned in ages.  But, look past the exterior and try the Singapore Noodles!!!  For under $7 you get a massive container of some seriously addictive chow!  I always get a bit of a tingly feeling in my mouth when I finish so Im sure there are plenty of preservatives and its definately not what I would call a healthy meal, but once in a while I just cant help myself...',\n",
              "  4),\n",
              " (\"I've recently did a drysuit neck gasket repair with MEC. And it is my first and last time: the experience has been an ongoing nightmare. \\n\\nWhen I first inquired about the repair cost, I was told it'd be $35.00. The repair was done in a timely fashion. When I went to pick it up, the cost came up to $120.00. I was in shock and had to re-budget my rent for this month for this shocking repair cost. But I did pay for it. \\n\\nA week later, the same gasket was torn. (And yes I do take care of them, my head is as small as a child and I even sanded down my nails to prevent any harm to the suit gaskets). I was very upset as I just spent all that money and time on it. This is also the time of the year when I need the drysuit the most. \\n\\nAs there is a repair warranty, I took the suit back to MEC and politely asked for help. The rep at service desk was very pleasant and helpful. And promised to take care of the repair without charge, under warranty and that the suit would be ready in a few days. Later that day, I received a call from a MEC manager to tell me that's not going to happen and accused me of taking advantage of the shop for multiple gaskets repairs and not paying for them. That they do not cover wear and tear. Wear and tear? It was worn 3 times and was torn again! As if it's normal for their service to hold up for 3 wears. Did I mention the drysuit was $1000.00? And the neck gasket can only be repaired/changed 3 times. \\n\\nWe came to an agreement that they will cover the repair cost but have no idea when it will be repairs as no one at the shop is willing to do it. So my drysuit is currently sitting in the shop without action and I am cancelling all my paddling plans for the next few weeks and a long October vacation trip. The worst part is, everyone who knows about my repair looks at me as if I'm a criminal. I'm the problem, it's my fault all this is happening. REALLY?! WTF IS WRONG WITH THIS PICTURE?\",\n",
              "  1),\n",
              " (\"I love O'Reilly's!  They always have what I need in stock and could not be helpful!  I openly admit, I know very little about cars so it is very important for me to be able to have a place I trust when I having car needs.  Tonight, Kory was a life saver!  My battery died after work.  I went all over Scottsdale looking for a battery, no one had my battery in stock (including Suzuki's road side assistance).  O'Reilly's had exactly what I needed and installed it free of charge.  They also included a 3 year warranty on the battery (most places only offer 2 years).  They also gave me some pointers on how to care for my battery and make it last longer.\\n\\nI have gone here for air filters, check engine light, accessories. . .and most recently my battery fiasco.  \\n\\nThe best part is the friendly and kind staff!\",\n",
              "  5),\n",
              " ('been going to Kee for years and it is always great quality and nice friendly service.  the sushi portions are exceptional and great selection of rolls.  I particularly like the salmon skin hand rolls and the seaweed salad...soooo tasty!  Nice selection of beers too.',\n",
              "  5),\n",
              " ('I had a leaking Moen faucet in my kitchen and found out that it came with a lifetime warranty. Moen sent me a brand new one (newest model) within 3 days! I had a yearly contract with an AC, heating and plumbing service from one of the largest (if not the largest) home improvement stores in the country. They gave me a \"VIP price\" of $269 to install it.  I searched the internet and found these great reviews of Arturo the Plumber and decided to call him. He called right back and asked me to text him my address. I sent him my address along with two photos; one of the old faucet and one of the corrosion under the kitchen cabinet, and asked if he could give me an estimate based on the photos. He was able to give me a fantastic estimate about 1/3 the price of my contracted company.  The installation went perfectly and I am now a big fan of Arturo. So, I have learned that big companies charge more and their plumbers work on a commission. This is why it is better to hire a local plumber who can charge a reasonable amount.\\nFrom now on Arturo is my man!',\n",
              "  5),\n",
              " (\"A terrible experience.  The calamari didn't taste fresh and were on the raw side, the cod was filled with fishbones and the skin was charred and bitter, the lobster was dry and without taste, and the Russian salar served with it also didn't taste fresh. One potato was still raw in the middle.  All in all, a deplorable experience for the price charged.  Avoid.\",\n",
              "  1),\n",
              " (\"it's a must to see for every fitness freak! at the time I counted 84 treadmills - taking into consideration they are just a fragment of the equipment they have everybody can imagine how big it is. free weights and machines from the american top brands will make not only your myocard muscle happy. climbing wall, basketball court, stretching zone with the stretching machines, inside+outside pool and relax zone are then the big cherry on the huge cake.\",\n",
              "  5),\n",
              " ('Welds are good ..............but the dishonest part is when your parts come off they tell you  you cant have them, and its why the service is cheap, only after service is completed. I was unwilling to argue with these folks over MY MY  MY old catalytic converter  true owner WAS ME - NOT YOU. You should not yell out when your customers for a part they want back.',\n",
              "  2),\n",
              " (\"ALL their breads are incredible! They are so soft and fresh tasting, it reminds of a European bakery for sure! I can't say their selection is massive, but what they do have is pure quality. Plus, the prices are similar to bread that you would get from a factory in Metro. Love, love their breads!\",\n",
              "  5),\n",
              " ('The only place I found so far that gives a proper massage during a pedicure! The ladies were super nice and professional. My pedicure was very relaxing, turned out great and lasted very long.',\n",
              "  5),\n",
              " (\"This place looks cool inside and has a fun vibe.  \\n\\nFirst the downsides: menu can actually be a little overwhelming, you get the impression the staff is overworked/crazy busy (how long does it take to make tea?) to the point where if there are more than four people ahead of you in line, you want to shoot yourself.  Unless you have nowhere to be, ever.  \\n\\nUpsides: huge selection, fairly helpful staff (paralyzing indecision?  that's what they're there for), ambiance, coolness factor.  \\n\\nI need to try the food here.\",\n",
              "  3),\n",
              " (\"Decided to check out this place during lunch because it's near my work. Wanted to give it a shot before I went to any of the alley pro shops because I heard good things about it and coming from a bowling family, I definitely know of David Haynes and I wanted to support his shop. To their credit, they seem to have a good stock on different bowling balls and supplies, but I had a very crappy experience going there. Walked in to browse and see what they had and for a good 10 minutes I walked around and not a single person greeted or even asked if I needed help. There looked to be 3-4 people behind the counter as well so I was kinda taken back by the lack of customer service. Maybe I just came at a bad time, but I can't sugar coat it. Glad to see a local shop doing well, but I'm not sure when or if I'll come back. Didn't see what I was looking for either. Wish their business the best.\",\n",
              "  1),\n",
              " ('Its was a nice hotel but the fact that when we ordered the hotel they never gave us a registration time. Wen whe got there they had attituted with us so we had to go back to tbe car and sleep there because they didnt do anything to help with the problem. And wen we went back to register they told us that the room was gonna be ready until 12. When we went baxk at twelve they told us the room was gonna be ready until 3. So we went to sit down at a couch in the hotel. If it wasnt for someone from security that was tired of seeing us wait so he got us the room. I couldnt believe that if it wasnt for him we would probably still be waitig there.. really dissapointed with the service.',\n",
              "  2),\n",
              " ('This place is great. Great price, great food, great atmosphere.\\n\\nThe perfect place to eat while visiting downtown.',\n",
              "  5),\n",
              " ('First time visiting Kasai I enter and there is background music resembling techno; nice upbeat change really. The place is quiet and I have ordered two rolls; A giant Spider and a spicy crab. I am waiting for the meal now.\\n\\nOk fast forward about 20 minutes and I have just finished my rolls. Now my favorite sushi spots remain Otani in Mayfield Hts and Pacific East in Beachwood. That said this was really pretty good. I was on the fence with a 3 star but I feel that sends the wrong message, wish they had half stars.  Anyway I would come back for sure as I work an hour from my home town and going home for lunch just would not work.\\n\\nThe staff is friendly and attentive and as I said the food was good. Prices a little high for what you get.\\n\\nI had the giant spider Maki and while there were several pieces; maybe 10 there seemed not to be much crab. I also had a spicy crab Maki roll and again a little lite on the crab and a sweet sauce over the top that I could have done without.',\n",
              "  4),\n",
              " ('A little out of the way, in a small little strip mall located next to a foot massage spot, but a great find.nonetheless.  Mini pot comes with all food precooked, so you miss out on some of the fun of cooking it yourself, but the broth was flavorful and savory with a lot of different flavors to chose from.  Place was clean, and service was excellent with them cheerfully dealing with all the accidents of a two year old boy.',\n",
              "  4),\n",
              " (\"I recently took advantage of their $99 special (one hour massage/one hour facial), added an extra hour of massage for only $60 (!), threw in a pedi and enjoyed a glorious spa day. And I mean enjoyed! The location is easy to get to, clean, bright, friendly. Upscale-ish, but comfortable, no pretension. I appreciated the large massage room. I don't like when rooms are so small the masseuse bumps into the table when she/he moves or there's no room for clothes, or, because the rooms are so small you can hear everything going on in the rooms on either side. Not the case here! You'd think with such a fantastic special that the services would be skimpy or cut-rate, but again, not the case! The massage was a combo deep/Swedish by a professional; the facial was thorough with cleansers, moisturizers, masks, extractions, toners...and so relaxing I dozed off. Pedi was a true spa/resort pedicure. Products are available for purchase, but there was absolutely no sales pitch. If you're interested in a product, you'll have to ask. I will be back!\",\n",
              "  4),\n",
              " ('I eat here all the time. I love it. :)))) I always make my own bowl  with salmon, ahí tuna and mixed greens with spicy  mayo. Everything always tastes fresh.',\n",
              "  5),\n",
              " (\"Good but does not live up to the hipe. \\n\\nWhen I go to a BBQ like this I expect to be blown away but the couple times I have gone, just haven't done it for me. Food is average, and portion sizes are on the small size. If I am picking the restaurant for lunch or dinner, I will not be picking Bubba's Q. \\n\\nNot a bad place to go but keep you expectations in check.\",\n",
              "  3),\n",
              " (\"We came here on a Friday night at 9pm and used a restaurant.com coupon. The restaurant was packed and it was pretty loud...there was definitely alot of hipster energy filling the air.\\n\\nHere is what we ordered:\\n\\nKobe beef carpaccio- OMG WIN! WIN! WIN! The beef was thin and delicious covered in truffle oil, parmesean, and arugula. The portion was really large. I am sorry that I didn't just order 5 plates of this for myself instead of the steak trio...I would have been much happier.\\n\\nRare Steak Trio for Two - the trio consists of a filet mignon, new york strip, and kobe hangar steak. We ordered the steaks medium rare but only the filet was cooked properly...we had to kick back the NY and hangar. The filet was like butter and really delicious. It took a ridiculously long time to get our other 2 steaks back. They eventually arrived at the correct temperature but the hangar steak was inedible because it was so stringy and tough.\\n\\nRare 120 Herbed Fries - good fries covered in chives, thyme, parsley, and rosemary.\\n\\nWe were celebrating a birthday and they brought us out a trio of mini desserts (german chocolate cake, brownie smores,  and tiramisu) with candles on top which was very nice.\\n\\nOur server was very friendly, attentive, and professional. The manager came out and apologized about the steaks. Best part of the evening was that they were showing the movie Flashdance on the wall.\\n\\nOverall it was a good experience but I think I will stick to Craftsteak for my Las Vegas steak dinners.\",\n",
              "  4),\n",
              " (\"Just so you know...my dad first brought me here when I was in grade school and I have been coming back ever since.(I'm 48 now) The best tamales ever!!!! I moved away to Oregon for 13 years and was on a quest... telling people of the awesome tamales I knew in Vegas, I got lots of suggestions but nothing compared to the pork tamales I grew up with, and now that I'm back in Vegas this is a regular stop for me. The rest of their food is OK but nothing beats those Tamales\",\n",
              "  4),\n",
              " ('This restaurant is extremely clean! It is also nicely decorated. \\n\\nThe food just blew us away it was so good. I got the Lamb Masala medium spicy. It was spot on. The lamb was very tender and the flavor was out of this world. You must order the naan bread. The naan arrived hot right out of the pan and was so nicely chewy.\\n\\nThe service here is top notch too. They actually care about their customers experience. At one point my significant other commented on how spicy the food was and our server immediately asked if it was too spicy. It was not at all, he just loves spicy food lol.\\n\\nWe will definitely be back!',\n",
              "  5),\n",
              " ('OK, so as a new tea drinker I felt I needed to check the place out, even though other Yelpers have given fair warning about the staff and prices.  My 2 experiences have been different from what has been mentioned.  Staff were friendly but not pushy, prices were as expected (they are in a high end mall, folks - the rent must be paid) and the tea was fine.  I liked that they would make a cuppa of whatever they sold (rather than \"this is the flavor of the day\") and even though $4.99 is a bit steep for a cuppa, it is a one-time leaning experience and is helpful in learning whether you want to take this tea home or not.  The only warning I might give is that, in one case, they added a bit of rock sugar to the store sample pot of the mixed chai, so it is sweeter than the actual tea that you might buy.',\n",
              "  3),\n",
              " (\"Had lunch at Famous Dave's.\\n\\nWorst ever!\\n\\nWaited half an hour to get the food. Brisket was nothing but uncooked fat.\\n\\nWon't be back.\",\n",
              "  1),\n",
              " ('awesome new make over flourish restaurant is divine!', 5),\n",
              " (\"Worst service I experienced in Charlotte. When we first got there the 2 bartenders didn't acknowledge us but instead counted their money in tip jar. After finishing beer one I wasn't offered another beer my glass was just taken away. After my boyfriend finished his beer we waited as the three bartenders talked amongst themselves not even facing their guest. After 6 minutes we had to yell to get their attention to close out. Bar wasn't busy at all their was only one other group at bar. You staff is an embarrassment as your space is cool. Never wrote a review in my life. I'm in the industry so pretty understanding, but there is a line. The worst service ever experienced.\",\n",
              "  1),\n",
              " ('Funny asses . i ordered A Hi - C fruit punch Drink and They Gave a Coca Cola . Saaad  and thats not all , i ask no pickles on A quarter pound what i get, Pickles !!! bruuh Do ur Job Right . Night crew need more work!',\n",
              "  1),\n",
              " (\"Minus one star because you have to pay for parking at Mandalay Bay.  Service was quick and friendly and our order came out fast. Food was tasty.  Prices aren't THAT bad, considering it's a restaurant on the strip.\",\n",
              "  3),\n",
              " ('Where do you want me to start!\\n1. worst customer service ever... The middle age Hispanic woman was incompetent and did not have the basic customer service skills to work the front counter. \\n2. My party stood waiting to be seated. After 6 minutes of waiting, we finally sat ourselves. (by the way we grabbed our own menus) \\n3. Once we sat and realized the middle aged woman was not going to come to our table to take our order. She then yelled across the room to \"come back to the counter to place our order\" (side eye)\\n5. At the counter we were met with hostility. We couldn\\'t understand where this hostility was coming from (it was my birthday and I just wanted a pie)\\n6. The pizza came out SALTY! (see other Yelp! Reviews)\\n7. The wings were broken and freezer burned\\n8. I ended my birthday with heart burn and heartache! (not to mention her POOR customer service)\\nNEVER AGAIN WILL I EAT AT THIS POOR EXCUSE OF A FAMILY RESTAURANT!',\n",
              "  1),\n",
              " (\"Since I moved to Tempe and changed my Banfield, I have had nothing but problems.  My pets have come home limping and injured after spending a day in their care.  I show up for scheduled appointments that they don't even have on their computer and they just tell me too bad, or just drop them off and we'll get to them when we can ....but I don't want my pets in their care because of past injuries. When you have sick pets they don't seem to care and they tell you the next available appointment is two weeks away. The list goes on... Find another place to take your pets.  I know I will.\",\n",
              "  1),\n",
              " ('I purchased a Weber gas grill from busy bear. Friendly service and great knowledge of the products they sell. Prices were competitive to anyone, even online sellers, and they provide local free delivery. I would recommend them for any grill, smoker, or fireplace purchase. \\n\\nIt is nice to have a customer focused, locally owned, company to support.\\n\\nI also purchase my propane from them as they have convenient hours and they fill your tank with 20lbs of propane for the same price as you get 15lbs from the trade in places.',\n",
              "  5),\n",
              " (\"LOUD!! Music is always loud even on a Saturday or Sunday morning or early week night evening - I don't get it.  The staff has always been very friendly, attentive with good food and a good beer selection. I just don't want to go somewhere where I can not have a conversation.  Ear deafening sound almost every time we've been here.  Now we do a sound check by just driving by and if we can hear the music in the car it's a no go.\",\n",
              "  2),\n",
              " (\"This is a good spot. Their beer is good, not amazing or anything but not objectionable. \\n\\nThe food is also good. The ribs were good, the steak was good enough. \\n\\nIts cheap, and best of all, its open late. As long as you're not looking for fine dining, this is a good place to go.\",\n",
              "  4),\n",
              " (\"After many years, I decided to switch accountants as my former one was in a different city. At first I was nervous as to whether it would be complicated with a new accountant. As a self employed person, walk in places don't cut it, a friend of mine recommended KH Finacial and after an in person consult with Patrick who was very patient with my questions and knowledgeable about my needs, I decided to make the switch. This has been my first year using KH Financial and I found it to be far more convenient than I imagined possible. This company comes to you! So handy and efficient, and the same price as my former tax guy. I was able to get everything done sitting with my new accountant in about an hour, my results came back immediately and I was even able to pay for his services using his mobile debit machine. If you like simplicity and convenience this is an excellent company to work with.\",\n",
              "  5),\n",
              " ('Second time here. Second time being satisfied. Great service and great food. Dont need to write a story. Just try it',\n",
              "  5),\n",
              " (\"This is the best Med restaurant I've been too in Vegas. We were super hungry in a road trip so ordered just about everything on the menu.  Everything we had always super fresh, great portions and super tasty!  The owner helped us and was very friendly.  They also have incredible deserts that we took to go for our road trip.. Lots of different kinds of baklava.  Will be back here every time I come back to Vegas! 3-5 mins from the south strip..\",\n",
              "  5),\n",
              " (\"Love this place! Great environment & great drinks. I love strong green tea, but most boba places serve a very water down version. The Matcha Milk Tea at Milk Run uses matcha & so you get a stronger flavor without being overpowering. \\n\\nTIP: if you're first time park in the back. The front parking lot if very limited & narrow\",\n",
              "  4),\n",
              " ('\"Zarkana\" does not have the the ethereal sets and dream-like choreography of \"Love\". Nor does not have stunning water nymph dances found in \"La Reve\". But \"Zarkana\" is very true to the Cirque du Soleil\\'s roots and early beginnings, and is an enchanting homage to the traveling circuses of yore.\\n\\nThis circus features a poignant collection of delirious jugglers, bawdy clowns, a number of dauntless acrobats who defy physics and human endurance, a defeated mad scientist and his coterie of believers, and a pickled mutated baby that acts as the lead float in its sideshow parade. \\n\\nAlthough the performances in \"Zarkana\" are very much old school and emphasize its audacious acts and astonishing acrobatics, this show is in no way reminiscent of the Circus Vargas that sets up its tent in your neighborhood mall\\'s parking lot. \\n\\nIt is far more prodigious, where almost every performance will leave you gasping with awe and wonder, and garnished in typical Cirque fashion with ostentatious costumes, a score of pandemoniac songs that both lull and excite you, and eerie video and images that are projected all around its stage that give \"Zarkana\" both a Gothic and Steampunk vibe.',\n",
              "  5),\n",
              " ('Everytime we go to Vegas, this is a must do. It does help if you are up some coin before you go. The wait staff are incredible, knowledgeable, friendly, and treat you right. Never had a disappointing experience. That could be in part to the incredible wine selection. \\n\\nMake it a point to go and savor this place.',\n",
              "  5),\n",
              " (\"Liquor Depot is the last place I go. It's always the most expensive. Except one time they had a smoking sale on Stella. Bring your wallet you're gonna need it if this is where you buy friday night beers. This isnt for just this location its the whole chain. You would think it would be cheaper because there are so many of them. I dont mind spending  a few extra bucks if it supports a small buisness owner but no can do for a big chain. Sorry Charley.\",\n",
              "  1),\n",
              " (\"We are on their mailing list and have been customers of theirs since 2014. We got a coupon emailed to us for 20% off and it was valid . When we got to the store to use it first the lady was too buisy on her cell phone to help us while the man was actually helping a customer. You could hear her conversation. She was carrying on with her friends on her cell. When I actually called her over she hung up and helped us. That is unusual for this store we usually get great help. So we asked about what we wanted and showed her our coupon and she told us other people had been in with the same coupon today but she called the manager and they were not honoring them. We told her the emails came from your store. She said they didn't care they were not honoring the 20% discount offered to there customers for being loyal. That they ment for it to end a day earlier than it said. As a result of this we will never ever go there again. I will not give my money to a place like that.\",\n",
              "  1),\n",
              " (\"Highly recommend the stir fried beef ho fan (flat noodles) with taro crisp layered generously on top. Once mixed in, it offers much more flavor and texture to the noodles. I suggest also trying their BBQ pork with rice - good portion and also very succulent! Moreover, the chef's are more skilled in making dishes on the wok than their steamed dim sum.\",\n",
              "  5),\n",
              " (\"Crop Bistro is an interesting place.  It's high quality ingredients, with an eclectic menu that can be hit or miss if you go there with picky eaters.  That being said, our party loved it.  A well prepared meal with excellent presentation.  The owner/chef came by to garnish some of the dishes and to check on everything.  A meal in any other city would have been twice as much, and not as good.  For next time, I will be sure to try the Balsamic popcorn which everyone raves about.\",\n",
              "  4),\n",
              " ('Food and drinks are so good one of my favorite dinning places atmosphere very romantic this is one of my favorite date night spots',\n",
              "  5),\n",
              " ('Treated me like crap. Went in bought a piece walked out went home used it once and broke. Called and they said there is nothing we can do. No refunds no exchange. Shit if I know the piece will break then why go there and by again. Bad people',\n",
              "  1),\n",
              " ('Pretty basic airport food. I was expecting a little better based on the look and design of the place. I got the breakfast burritos and it was cold (which was surprising because it came out very fast), the sausage seemed undercooked and my eggs were a weird grey color.',\n",
              "  2),\n",
              " (\"Edgepark medical supplies company is my absolute worst nightmare! Every month I have to call in an order for my infant son's formula. Every month I have to fight with them in order to get the order shipped to me. The first thing I'm told is they denied the order because they don't have the medical necessity on file yet after fighting with them they review the file and find out. Then the order gets stopped in billing due to the same missing documentation. I'm always informed that they will update the file and they don't follow through. Numerous times I've called my insurance company to talk to edgepark with me on the line and supposedly is fixed. On the 1st I call in and low and behold they need the medical necessity. I seem to get the run around. They continually put my order on a hold I'm constantly having to tell them I'm on his last can and by the time I recieve the shipment my 6 month old infant out down to his last few bottles. Why?  How can a company be so incompetent that they cannot update the information on file that they already have in the system?  Why do I have to fight with them every single month?  This past month I called on the 27th to place the order. Customer service supposedly sends the order 4 days pass no package I called back they said I never placed an order. I get switched from one person to another they finally fess up that the order was rotated through 4 customer service reps and then canceled. Why wasn't I informed?  No phone call no email nothing to inform me of the issue. I call on the 1st it's another 2 hour phone call of they need this info they need that it's being held up my coding now it's being held up by billing. Finally the issue is resolved they are sending out formula I recieve an email and surprise I'm only getting half my order. Why?  Today is another merry go round I've talked to probably 10+ reps nobody has an answer and the issue still isn't resolved. Save yourself the stress and go with a different company. Edgepark doesn't care about their customers who depend on them to provide services that they bill insurance for. They show no compassion and no initiative to resolve issues as they arise. This company will do nothing more than frustrate you with every conversation. They are incompetent when it comes to doing their part and point the finger at your insurance company and you as the customer.\",\n",
              "  1),\n",
              " ('What ever you do DO NOT order the Chinise food.\\n\\nThis is actually a cult resturant of 50 years very expensive with good steaks and lobster owned by a non Chinise family there has never been anyone Chinese involved in ownership.\\n\\nStick to steaks lobster and red wine be prepared to pay huge',\n",
              "  1),\n",
              " (\"Leo's makes for a great lunch. Any of their seafood dipped in the katsu sauce was fantastic. My only complants where small water cups, and I don't love their terriyaki sauce. Other then those two things I am hooked on Leo's.\",\n",
              "  4),\n",
              " ('I found a new taco spot! First time there and it was soooo good. I got the shrimp tacos and some beef ones and they were PERFECT, and I love the glass coke. Right around the corner from my house so I will definitely be going back',\n",
              "  5),\n",
              " (\"In the three months since my last review, the Hibachi Grill continuies to maintain its' high standard of great food, fresh and fast. They are so incredibly friendly, and I am glad that this hasn't changed. (Also, we had some broccoli in our Hibachi meals this time, and it was a really inspired addition! I hope that they keep it up.)\\n\\nWe tried a few new things today. My son said that his order of Spicy chicken was excellent. My husband really enjoyed his scallops, which were nicely browned and seared but still moist and juicy on the inside. The Lobster and Shrimp combo (my order) did not disappoint either. The lobster was sweet and nicely seared (not the usual treatment that Canadians use for lobster, so be prepared - I loved it). The shrimp was as great as ever.  To my taste, Hibachi's signature yum yum sauce is best suited to meats, and their homemade spicy sauce pairs well with seafood.  \\n\\nHow do they achieve that beautifully seared, flavourful exterior without turning the seafood to rubber? I sure can't do it at home, which makes Hibachi Grill the perfect take-out for a busy night. \\n\\nNext time, I want to try the unagi.\",\n",
              "  4),\n",
              " (\"Bait and switch.  That's the best way to describe these guys.  I was quoted a fixed price for moving things so when they came and worked slowly, I mean it is pretty obvious they were dragging their feet.  I've hired many movers in my life and in my 20 years of hiring movers, I've never seen anyone move this slow.  Not only did they move slow, they decided to wrap my furniture 10 times and did it at a snail's pace.  I didn't complain at first because I was quoted a fix price.\\n\\nWhen they finished, they actually said it was by the hour and $144.00/hr at that for 3 guys.  This was the first time I heard of that.  The whole job on day 1 took 9 hours including driving time.  However they charged me an extra hour for driving, even though 9 hours already included driving time.  They said this is their standard practice (of bilking customers).\\n\\nIf I had known, I would have hired much cheaper and honest movers.  Total cost for a local move, $2,900.  They quoted about $1,300.  They even had the nerve to ask me for a review.  So here it is.  They even asked for a tip saying that most people are too cheap to give them one.  I could have hired guys in front of home depot for $500.\",\n",
              "  5),\n",
              " ('The sushi was good but the chicken was completely undercooked, it was pink inside. The service was horrendous, 4 of us came here for lunch and there was only one person who was making the sushi even though the restaurant was full. We came here for all you can eat but were treated like we were stealing their food, the woman who was there accused us of wasting food but when we ordered and finished everything that was brought out, she told us that we could not order more. Terrible experience, would never go here again because of poooooooor customer service. Avoid this place at all costs.',\n",
              "  1),\n",
              " ('Took my car there for oil change and transmission flush/oli change. Left it there for 2 days and only thing they got done was engine oil change ( and they can\\'t even use the oil YOU want, only what is \"recommended\"). \\nThis place use to be good when it was still Fletcher\\'s, but it\\'s going down now under Firestone management...',\n",
              "  1),\n",
              " ('I love their hamburgers. and the fries, and onion rings.5 times better than In and Out, and Smashburger, and Mcdonalds, etc.\\nThe staff is friendly and helpful.\\n\\nIf you want a great burger, go to fuddruckers.',\n",
              "  5),\n",
              " (\"We were the only ones in line. \\nTook the guy 6 minutes to stop what he's doing and start taking our order. Then waited another 7 or 8 minutes for fajita veggies to be made. Last salad was fish..so we waited maybe 9 minutes for the fish. While waiting, he had to throw away the first salad and make a new one. Lettuce was wilted. Then he says fajita veggies were out. When it was finally time to pay, that took forever too. I'm never going back again.\",\n",
              "  1),\n",
              " (\"They just did a fabulous job ! They did the base boards and fans ! Even left the nice carpet lines from the vacuum ! Wiped everything ! Very quick and efficient! I will be using them again ! They are polite and respectful! They also got me in same day I called ! Thank you lady's very much ! \\n\\n12/11 \\nI just had them clean my house again ! They  do such great work! Go above and beyond normal cleaners ! I have a 3 bedroom 4 bath and they finished in 3 hours ! And the quality of the work is perfect! I will continue to use them! Thank you so much guys !\",\n",
              "  5),\n",
              " (\"This place is pretty cool. Kind of glad I found it. Nice place to get a pre or post workout shake. Staff is friendly, place is clean, and service is fast. Can't complain. I had the Vanilla Coffee shake. It's kind of confusing if you don't know much about protein shakes. But they have patience. I also got some meat chips there which is pretty interesting but pretty tasty. The medium sized cups are like extra large! Very nice place. I will definitely be back!\",\n",
              "  4),\n",
              " ('I am a Gold Rewards member at Marriot, and this one falls a great deal short.\\n1-Had a toilet that would refill itself every 10 minutes or so and be very noisy in doing so like if some one had flushed the toilet kept me up all nite, (thats why I am writing this at about midnight ).\\n2-the TV will not power on.\\n3-I can feel the springs in my bed.\\n4-Why is the wallpaper at this place so funky and out of time?\\n\\nThis place seems like it used to be some other type of hotel definitely not a Marriot.but was renovated.\\n\\nNow Ambyr at the front desk was cool and professional. \\n\\nI am glad I am only here 2 nights.',\n",
              "  2),\n",
              " ('As we all know the stetson salad is the signature dish. And oh boy did it live up to its expectations! \\nThe scallops were large and cooked perfectly but the base of risotto did not live up to the high standards of the remainder of this dish.\\nTo top the night off we had a complimentary bread putting for dessert which was to die for!',\n",
              "  4),\n",
              " ('My family and I visited 520 BBQ House twice; once for snack, another time for all you can eat ($19.99 regular, $16.99 on Tuesday).\\n\\nSkewers ranges from $2.99 - $6.99. Most items have the same flavour; salt, chili pepper, and cumin. Every item started tasting the same after the first two or three skewers. It masks the natural flavours of the ingredients. \\n\\nSimilar to other reviewers, my favorite is the Enokitake mushroom skewer and Korean Cabbage. My family did not enjoy any of the meat skewers. They felt lamb skewers lacked the gamey flavour of lamb, beef skewers lacked the earthy flavour of beef. Lastly, chicken gizzard and squid tentacles skewers were very tough. As well, my father felt they used a natural gas grill instead of a traditional charcoal grill. \\n\\nOverall, 520 BBQ ranges from a 2 to 2.5 stars (rounded to 3 stars for this review), depending on the day.',\n",
              "  3),\n",
              " (\"I had heard good things about the 'dog, and have to say that in general, I was a bit disappointed.\\n\\nWe happened to be in the area for one reason or another, and so we stopped in for what we hoped would be a quick meal. The menu looked appetizing, and after placing our order, we settled into a nice discussion and waited for things to arrive. And waited. And waited. And waited.\\n\\nEventually the dishes showed up, which meant we were able to dig into our dishes, and it just led to some disappointment. To be fair, it could have been because of the huge wait. But the dishes really didn't live up to the description on the menu, or to the level we  had been hoping for that was seen by many other reviews. They weren't bad - they just didn't have the kick we were expecting.\\n\\nOff night? Perhaps - it happens to everyone. We may try again, but since they aren't in our neck of the woods, it might be a while.\\n\\nOn the upside, the decor was definitely interesting, and because of the service misses, we had plenty of time to look at it.\",\n",
              "  3),\n",
              " ('Fantastic!  You gotta go for the buffet so you can try a little bit of everything.  The paneer is the best!  The staff is super nice too.',\n",
              "  5),\n",
              " (\"Good location, open late, and they always have the latest and greatest menu and promotional items.  The last few times I went, they ran out of ingredients, but this is understandable given how busy it generally is in Las Vegas, especially inside of Miracle Mile. \\n\\nWell-staffed, well-run, clean and friendly for a busy venue outside of Jamba's home base of California.\",\n",
              "  4),\n",
              " ('Andrea has been great with communication and accommodating with what we would like for our wedding flowers. She offers great affordable options and we are forever greatful! We cannot wait to see our wedding flowers.',\n",
              "  5),\n",
              " ('Upstairs above the casino at the Excalibur and since we stayed there, we found it fitting that we ate at the buffet located there, also. My party and I had their lunch buffet for $17 each. It was....disappointing, to say the least. I enjoyed the salad more than anything else because it was really the only item I found edible. \\n\\nThere are other buffets in Vegas for a slightly higher price, but will satisfy you more.',\n",
              "  3),\n",
              " ('The pictures on the website were nice and I was looking forward to our stay but once we got there, it all went down hill from there. Hotel was completely overbooked so our two beds we had booked through the internet were not available upon check in. Not a comfortable night cramming three people into a bed since no roll away beds were available and other hotels in the area were booked solid as well. Hotel staff was TOTALLY overwhelmed and about to go into meltdown mode when asking them to help deal with our situation.The next day we were booked into another room with two beds however we were not able to get into this room until 7pm. The bathroom was outdated with a clogged shower and toilet which required repair from the maintenance crew who looked pretty scary. The air conditioning unit was super loud, loud enough where you could not sleep with it on making it pretty stuffy. Patio area outside was a nice touch but the patio chairs and table were filthy. The only good thing about this \"resort\" was the pool and hot tub. Definately not worth the $18 per day resort fee. Would not recommend this property',\n",
              "  1),\n",
              " ('Wow, this was genuinely terrible food. I ordered through Uber Eats as my boys have been going through a noodle phase and love everything noodles. I ordered the following as I thought they were pretty safe choices.\\n- Yaki Udon. Very salty with uneven cuts of veggies of which some were partially cooked and came sopping in a \"soup\" of sauce that filled a quarter of the container. Let me tell you, there is nothing worse than stir fried noodles where the noodles are drippy in pure soya sauce.\\n- Steak Teriyaki. Similar where the meat was very tough, the rice came overcooked and soggy and sopping in sauce and again, most of the veggies were unevenly chopped and were still raw.\\n\\nMost of the food ended up being inedible - what a shame!',\n",
              "  1),\n",
              " ('Let me begin by saying that I wrote an email to the owners of the Flying Fig on December 1, 2013, and have yet to receive a response. It has been two whole months since then -- callous and unacceptable. The owners obviously do not care.\\n\\nThis was my message:\\n\"Had brunch at the Fig on Sunday. Ordered a Bloody Mary and an orange cocktail (acceptable). Also ordered Biscuits & Gravy (good) and Migas (okay). But what killed our experience was the HORRENDOUS service.  \\n\\nOur server, Josh, was distracted and did not check on us.  When he did come he did not demonstrate knowledge of the menu.  I asked which he would recommend, between the omelette and Migas.  He ummed, ahhed, and failed to provide a coherent response. When the food came he did not see if the items were to our liking. When we asked for the check he delivered it and then failed to come back for our credit card in a timely manner. He walked by our table several times before I flagged him down in desperation. Instead of apologizing he feigned surprise. Terrible.\\n\\nSuffice it to say the service we experienced at your restaurant left much to be desired. I hope that you will take these comments under advisement.\"',\n",
              "  1),\n",
              " (\"High expectations based on the reviews, as I love divey burrito spots. \\n Unfortunately, expectations were not met.  I had the breakfast burrito with machaca.  Three basic issues.  First, the burrito was bland.  Not much flavor at all.  Second, the salsas are disappointing - super watery and very little flavor.  You can't have a great burrito without great salsa.  One point deduction for the salsa fail.  Finally, there was too much tortilla, not enough filling.  I get they want to keep the price low, and that's fine, but don't use such a big tortilla if you're not going to fill it.  Another point deducted for the underfilled tortilla.  Overall, not worth the longish drive out from Paradise Valley.\",\n",
              "  2),\n",
              " ('Thee new place to be and be seen..great food,better service,fabulous atmosphere.best sports bar in Arizona.',\n",
              "  5),\n",
              " ('very nice, room was beautiful as was the bathroom. Very quiet as well, slept like a baby. Staff left something to be desired, as we checked in late for one night after an event near by at nearly 10:30. Girl at the front did not end her conversation to greet us until we were right in front of her waiting. We were not specified a check out time, and housekeeping woke us up at 7:30 then again knocked at 11:30 to ask \"when we\\'d be leaving.\" Other wise a pleasant experience.',\n",
              "  3),\n",
              " (\"Believe it! Chinese food with flavor! I did not know General Tso's was so good, or that egg rolls didn't have to be grease sponges. These were crispy and tasty. Bravo, Rice n Noodle and thanks for the speedy delivery. We will call again.\",\n",
              "  5),\n",
              " ('I ordered noodles with a peanut sauce and it was just overloaded with sauce...I would go back for a 2nd chance but ask them to take it easy on the sauce.',\n",
              "  2),\n",
              " ('They deliver which is always good.  The sub I got was huge so had half for lunch and half for dinner.  The turkey sub was A-OK.',\n",
              "  3),\n",
              " (\"Avoid this place. They do not care about customer service, nor do they back the products they sell. I bought my girlfriend a over priced vape stick for her birthday here.. and of course when I gave it to her, she didn't like it. After taking it back to the store still sealed in box, with receipt 6 days after purchase, the minimum wage queen who was working the register denied the refund, opened the sealed box because she couldn't understand why it was being returned... after telling this person 10 times its BRAND NEW, NEVER USED she still kept asking is there juice in the unit.. she still denied the return. Bottom line, I don't have time to deal with places like this due to shady stuff, so I simply take my money elsewhere.  After some research I found out this particular unit was $30 bucks more expensive than anywhere else.. so I caution each and every one of you to price check this place.  Ripoff, Horrible Customer service, and bad attitudes. Now I buy my coils, juice and other vape stuff somewhere else. They do not deserve my business, or yours. You have been warned.\",\n",
              "  1),\n",
              " ('Can a single meal completely change your perception of fine dining?\\n\\nCan a single meal radically alter your relationship with food in general?\\n\\nI think it can -- and Sage proves it.  After my dinner here, I\\'ll never look at food quite the same way again.  To say it was my favorite meal in Las Vegas would be an understatement.  It would be more accurate to say it was one of my top meals of *all time*.\\n\\nIt began with an 8pm reservation for two.  Sage, located in the Aria hotel, has a relatively unassuming entrance, but that belies that grandeur to be found inside.  The restaurant is immense, with high ceilings, sumptuous furnishings, and a gorgeous color scheme with lots of golds accents and stunning chandeliers.  Needless to say, Sage is just as much a feast for the eyes as it is for the taste buds. \\n\\nAfter we were seated, our incredibly friendly and kind server, John, came by with the breadbasket.  We each had the sourdough roll and a bacon brioche -- and both were excellent.  They were served with sea salt (served on a tablespoon) and whipped butter. \\n\\nDeciding what to order was easy as pie -- we both had the 4-course tasting menu ($79).  My dinner companion splurged on the wine pairing ($39).  Our server\\'s wine pours were *very* generous -- a lot more than the advertised half glass per course .  In fact, I was able to enjoy some wine with every course without bothering to order the wine pairing myself. \\n\\nBelow is a run-down of everything that we ate.  Absolutely everything was cooked and presented with the utmost class and sophistication.  The refinement of this dinner was unlike anything I\\'d previously experienced.\\n\\n**AMUSE BOUCHE ... PRE-DINNER**\\nA shot glass of gazpacho.  Fresh and tangy.  A wonderful starter.\\n\\n**COURSE #1**\\nWagyu beef tartare with buttered crostini.  Easily the finest tartare I\\'ve ever had.  The beef was unctuous and fresh; the egg only added to the indulgence.  Chocolate shavings provided an unexpected layer of complexity.\\n\\n**COURSE #2**\\nSeared Maine dayboat scallops with broccolini, braised oxtail, mushrooms, and caramel reduction.  The scallops were cooked beautifully and fall apart when touched with a fork.  The broccolini was tender.  The caramel sauce provided an intriguing sweetness that contrasted against the saltiness of the shellfish.\\n\\n**COURSE #3**\\n48 hour beef belly with braised apples.  I\\'ve never had beef this tender and succulent in my life.  Each bite dissolves on your palate and overwhelms you with flavor.  Apples provide a gentle acidity that works well against the umami of the beef.\\n\\n**COURSE #4**\\nPistachio tart with strawberry ice cream.  A culinary work of art -- oodles of individual components meticulously arranged.  Bold, fresh flavors all over the plate.  An enjoyable juxtaposition of hot and cold. \\n\\n**AMUSE BOUCHE ... POST-DINNER**\\nHot white chocolate with mint and coconut, served in a white porcelain shot glass.  A sweet, uplifting treat at the end of a fantastic meal.\\n\\nAfter this meal, I wasn\\'t just full and satisfied -- I was exhilarated, knowing that I had a world-class gastronomic experience.  The staff at Sage earned every penny of their tip.\\n\\nThis isn\\'t the sort of meal I can have everyday -- but it\\'s worth doing once in a while, if for no other reason to remind yourself that fine dining can truly be life-changing.\\n\\nIf you subscribe to the \"you only live once\" philosophy, than a dinner at Sage is a must.',\n",
              "  5),\n",
              " (\"I bought a new bike here about 2.5 years ago and went in for a tune-up the other weekend and was reminded of how wonderful my initial purchase experience was. \\n\\nI didn't have a bike growing up, so learning to ride a bike as an adult was terrifying, and buying the right bike was really important. The staff took their time with me, showing me lots of options, and helping me take them out on the sidewalk to test. They were patient and kind. \\n\\nMy bike has been amazing, great quality, perfect for my needs. I had shopped around a lot (I had gone to about 12 different shops and stores) when I was looking for my first bike, and the bike prices here were really outstanding. \\n\\nWhen I went back in to get it tuned up, they got it done in just 15 minutes - I am not sure this can always be done so quickly, but certainly I was impressed and very pleased. \\n\\nI noticed one negative review about the prices for accessories - I have to agree that accessories seemed a bit pricey here, and have bought my lights, helmet, etc. from MEC which has very reasonable prices. \\n\\nWhen it comes to buying a new or used bike, and getting it serviced, I can't recommend this place enough.\",\n",
              "  5),\n",
              " (\"Always do the V.I.P. Shuttle for $28 round trip when I don't rent a car. They say you may share but only once has this happened on the trip from the airport to the hotel. Never on the return trip to the airport. Driver always offers to stop by the liquor store on the way to the hotel. Always punctual on the return trip, getting you there when plenty of time to spare. Just don't forget to call 24 hours before to confirm. They send an email when the driver is on his way. Great service for the price.\",\n",
              "  5),\n",
              " (\"This is the cutest place ever in life. When you walk in you can tell that they handle everything with attention to detail, not just the decor.  \\n\\nThe food!!! He gave us an extra piece of fish, even though we only ordered the one piece. Yay!! The fish is thick and chunky... They take their fish and chips real serious here. Customer service is top notch. He really made sure we had everything we needed.\\n\\nWe'll be back!! Lol just like the name says, it's off the hook!\",\n",
              "  5),\n",
              " (\"This place gave me that good feeling of the small business.  The employees seemed to actually care and put pride in their job.  One of the cooks came outside and asked my family how the food was a+ dude!!  As for the food.. I god a basket which included chili cheese fries, chicken tenders, and spicy chicken tenders... all of which were awesome.  Portion size was beyond reasonable for the cost but this was all offset by the fact that the food was good and fresh and made by someone who put pride in his job. I wish I could remember his name, I was suprised when I asked if he was the owner and he said he was just a cook and that he cared about making quality food for the guests,  THAT MAN DESERVES A RAISE! A++ highly recommended will go back and bring guests.\\n\\n**update 5/13\\n\\nWent back excited to have the wonderful chicken...\\nThe blonde Amazon woman at the register should at least make an attempt to be more service oriented. Looking away while I was ordering, I didn't even know if she was listening to me. Questions about the food were answered but it seemed like they were an inconvenience for her to answer.  On the flip side the 2 men that were working were super friendly, hats off to them.  As for the food... I'll have to go back to confirm but it did not taste like I remembered, it really wasn't as good as I remember. I will go back for another try and update.  Peace out yelpers!\",\n",
              "  4),\n",
              " (\"So I had a consultation to get my lips to a luscious shape that I have always wanted. My appointment was May 23. It was supposed to be May 22 but the doctors offices called and asked if I could switch it to the 23 which was no problem. I was greeted by a very nice, sweet, professional lady (I am so sorry I forgot your name) she handed me my paperwork and said if I had questions don't hesitate to ask. I waited about 5 minutes and I was greeted by Blanca (I only remember her cause I have her card). She took me back to an examination room and asked what brings me to them. I told her I wanted nice big lips but not fake. She said she knew exactly what I met. She said your lips are definitely small and could use a little something lol. She had me at that answer. Honestly is the best policy! We went through two different fillers I could use and the prices. She handed me what she quoted me on and I am set up to have my lips done June 26th! She showed me two ladies that worked in the office(I am so so sorry I forgot your names) that had there lips done and they were gorgeous. I have read the reviews on here and it scares me a little but personally I had a great experience. I also did my research:)\",\n",
              "  5),\n",
              " (\"Okay, honestly, Honey Bear's couldn't hang in Memphis, Birmingham, Houston, or Lockhart  ... and fortunately for them, they don't need to 'hang' because they are smoking their meats in the BBQ wasteland of Phoenix, AZ.  \\n\\nBecause I fancy myself a BBQ expert (note: I'm more of a brisket purist), its difficult to rate HB's based on the integrity of the THEIR OWN meat and not as a comparison to others Valley and Nation-wide. This is exactly 'why' I think many of their rating suffer because everyone has undoubtedly had better BBQ elsewhere, wherever you may hail from, and it takes a stringent push from one's own natural reflexes to resist matching HBs up to 'local awesome BBQ joint'.  BBQ connoisseurs are funny like that.\\n\\nSo, overall, HB's earns a 3-star based on the following:\\n\\nPork Ribs - I'm more of a beef rib expert, but these ribs were generous and plentiful in their combo plate.  I was surprised that there was very likely a whole half-rack on my plate.  They are very tasty even without the sauce, with a nice peppery rub that did not dry out the meat.\\n\\nSmoked Chicken - Juicy but slightly greasy.  This is amongst the most difficult smoked meat to pull off due to the propensity for it to become a stringy, dehydrated mess.  I don't think I would order it again, but the flavor was pretty decent and I don't regret trying it.\\n\\nPulled Pork - I got a 1/2 lb of pulled pork as a side meat, along with a couple of extra buns to make as a half-sandwich (a glob of meat on a half bun, folded over like a taco).  This is the only time I typically use sauce to counterbalance the white bread, whether its pork, brisket, or sausage.  I was surprised by how dry the pork was, particularly because pork is fatty and juicy, but here at HB's it was extra lean.  I thought I would hate the pork bc of this fact, but the sauce saves it from being a choking bolus of pig and flour.  Now I understand why they typically put this on a full bun and drown it in sauce.  As the 'specialty' of this restaurant, its kind of a gaffe that the quality is poor, but as a consumer, I'd order it again in limited amounts, and only as a 'side'.  Why?  Because I can provide my own perfect ratio of bread:pork:sauce.  Otherwise, I don't think that HB's could build me a pulled pork sandwich I could be happy with.\\n\\nSauce - If you don't know any better you'd think it was tip-top.  Sure, its 'pretty good', but its most-definitely a one-note mixture.  Too sweet for their peppery rubs.  A spicier sauce would do the trick better, IMO.\\n\\nCorn on the Cob - Serviceable, but soggy and strangely devoid of spices typical of southern cuisine.\\n\\nCowbro Beans - Awesome.  Smokey flavor, thick sauce, and chunks of their smoked sausage.  Great compliment to a BBQ dinner.\\n\\nSoda Fountain - The city's best.  BBQ restaurant staples such as 1a) Dr Pepper 1b) Big Red.  Their 'cola' is RC and they have Hines Rootbeer, Sunkist, Country Time Lemonade, and 7-Up.  They did some solid research on the fluid necessities of BBQ palates.  They also have a fridge of beer.\\n\\nPrice -  All that, which I described above came out to $33 with a large tip because the guy behind the counter was very cool.  It fed two hungry people during the season finale of LOST, with plenty extra for leftovers.  Very pleased in this area.\\n\\nOverall - Hey, its PHX, and here we are better adapted to 'fill-ins' for our favorite spots back home.  It happens in every culinary category, from philly cheesesteaks to fish n chips; gnocchi to Q.  Why should this place be any different?\",\n",
              "  3),\n",
              " (\"3 with an .5 for service...maybe it was just our server or maybe that's the standard. But she was super attentive and helpful. However she forgot our water but other than that deserved every penny\\n\\nI ordered an L.A Mac and cheese. It came in a skillet which was pretty cute...although with that price tag I should have got to keep the skillet $14 dollars for such a small portion... I'm a broke uni student so I'm just thinking how many McDoubles can I buy with that. Other than that the Mac & cheese was creamy gooey and artery clogging.\\n\\nSweet potato fries were pretty standard. Sorbet was good but could be made at home. \\n\\nSolid alternative to non-Asian food in Markham that's not a Boston pizza or Kelsey's\",\n",
              "  3),\n",
              " ('Was not happy with the service i got. Never buying a phone case or charger here again ( unless i want to wait more than an hour).',\n",
              "  1),\n",
              " (\"I love this place they have the best Strawberry Guava Cake. And I also love the cream puffs they are so delicious and creamy. I also love there Chantilly cake. The custard pie with pumkin. Is also good there chocolate molten balls it have mousse in the middle. I also love the Dobash cake omg it's so damn tasty I walk out that place 70 dollars later all the time I go there.\",\n",
              "  5),\n",
              " ('Amazing place!!! My friend and I are in Phoenix for a business training and decided to look for a place to eat. This place is amazing!!! I wish we would have a place like this back home!!! Staff super amazing and friendly. Food looked and tasted delicious. I ordered the nachos and they were sooooo tasty. My friend ordered the enchiladas and he was happy too. Amazing feature is that they have a love singer. He sang beautifully. Everything is great about this place, from the decor to the food oh lalala absolutely highly recommended. I left this place with a happy face and wishing I could come again soon.',\n",
              "  5),\n",
              " ('I went to DW Bistro with my lunch group (a bunch of foodies who like to eat and try new places). We go to a different restaurant weekly to find \"good and the bad\" in this town. This was a good experience. The service was excellent. Our group conversed with several different waiters asking questions about the decor and food. Everyone was gracious and fun to talk to. We had reservations and came early to find they had our table ready. Unfortunately a few of our group did not show. Those who came loved the food. I only gave this a 4 because my salad was not the best. The tuna was excellent but it had too many salty items on the plate (lots of beans, olives, and a few other bland vegetables). The salad dressing was excellent. Other plates (salmon bowl, veggie burger, special bowl, sandwiches)  looked delicious. Everyone was happy and they even gave us our required separate checks with a smile. We will go here again. I want to try the dessert menu next time. The carrot cake looked amazing.',\n",
              "  4),\n",
              " ('Think this is a better priced hotel when you peruse online travel sites - BEWARE! Monte Carlo charges the daily resort fee of $30.00 + $3.67 tax when you checkout. Had I known, I would have stayed at other nearby hotels. There is no mini-bar. The shampoo, conditioner and body wash were not replenished our second night. The bed sheets had holes. The disappointment goes on!',\n",
              "  1),\n",
              " (\"I have never eaten at D'Vine, so this review is just about their wine - specifically their flights!\\n\\nOh jeez, their flights. This is probably the best value for wine downtown. They currently have 16 4-wine flights to choose from, all between $15-$18. These aren't little sips of wine - these are half-filled (or more) glasses. I have never left here without a significant (or very significant) buzz.\\n\\nWhen it's warm enough, I love that they have outdoor seating. I've never had any issues with the service here, and would gladly come back for (yet another) flight of wine!\",\n",
              "  4),\n",
              " ('Bottom line: I did not hire them. Keep reading for entertainment value. \\nI requested quotes from several businesses to clean a large sofa and 2 carpets. Spoke to Cheryl at Sir Carpet, who told me the starting prices and said a tech would come the next day to give me the exact price and then do the job. \"Damon\" (I doubt that\\'s his real name), came in all friendly and began explaining the job. Then he got to the money. He went into infomercial mode, talking a mile a minute and telling me the base prices Cheryl gave me were wrong. A $240 job was suddenly $350. My husband told him we\\'re not hiring him and he left. Bonus #1: He said he\\'s the owner and boss and Cheryl is his wife. Then he told me he has a girlfriend, who is in a coma in Australia but he\\'s texting her every day. Bonus #2: He threw trash on my driveway. Bonus #3: Cheryl called to apologize and offered to send a different tech. I asked if Damon was the owner and she said no! I said I\\'m not doing business with her company and hung up. I hope he\\'s not really her husband either.',\n",
              "  1),\n",
              " ('Recently went there with a friend had the hot pot and it was very good more than we could eat. People are friendly and courteous food was great and although it was a tiny bit pricey would definitely go back again.',\n",
              "  4),\n",
              " ('Arrived on time for our 8pm reservation (party of 5)\\nCame here for a 60th birthday dinner.. it was my first time here and it was absolutely amazing! Our server was obviously very busy but extremely friendly and very knowledgeable about everything in the menu. We had a few bumps throughout our dinner because of the computer system and another because the wrong dinner entrée was brought but the manager Melissa made everything right and had the correct meal out asap! She absolutely made our night. Thank you for the great server from your staff and your management.. we will be back!!',\n",
              "  5),\n",
              " ('Great place grab a bite to eat and get some homework done without the hussle and bustle of a coffee shop!',\n",
              "  4),\n",
              " ('I have had the take out (fish tacos), it was delicious.  I definitely will be dinning in and sampling more of what they have to offer.  I would like to say to the negative reviewers, GET A LIFE!!',\n",
              "  5),\n",
              " (\"Came here for a one hr seminar as well as some basic stuff for painting that we'd forgotten last time. \\n\\nAgain, the staff at this location was very helpful. We learned how to laminate floors. It also helps to review clips on YouTube. But def. got some helpful tips to help us get started. Things were all very easy to find. \\n\\nIt's not that busy at this location (went on Saturday). LOTS of parking. Lots to choose from & most importantly... the price is always right :)\",\n",
              "  4),\n",
              " ('This review is long overdue..I used to work up the street from here and on a whim we decided to try it out.  Pleasantly surprised at how yummy it was. We had the pad thai and yellow curry , chicken patay and shrimp rolls.  I could drink the sauce with the satay...sooooo delish.  Pad thai was good and the curry was smooth and rich.  We have gone here numerous times since and have never been disappointed.  Love the jerky too!!!!',\n",
              "  5),\n",
              " (\"My Fiancee, a mutual friend and I had breakfast here on Sunday just after noon. It's normal to show up to a full house but keep in mind it will be well worth the wait. I had an Omelette with Spinach, Mushrooms, Goat Cheese and Bacon with hash browns and Rye toast. It was perfect! My friend went with a 1/2 order of pancakes - this was more like a crepe, but tasty as hell. We were happy with the service (kind of reminded me of a Simpson waitress because of the accent and demeanor but still very good). This is now added to my list of go-to brekky joints 1000%\",\n",
              "  5),\n",
              " (\"I have been here too many times to count. I have never left anything other than happy, though eating pretty good and relatively cheap food tends to do that to me. I was holding off on yelping this place as it has been done to death and I don't have much to say, other than: \\n\\n1) I suggest you try the phosphates (old fashioned soda pop), 2) they reportedly have good hangover treatment burgers, 3) their salad bar is pretty darn good, 4) you should sit in the front, not the back, and 5) if both price and ambiance is important to you, this is one of the best places to eat in Urbana, especially for breakfast.\\n\\nI guess I did have a lot to say.\",\n",
              "  4),\n",
              " (\"Mario is The Best!!  \\nWe've been through several landscaping companies and this company has been great.  Been using them about 5 months.\\nSo far, so good.\\nAnything I have asked, they have done..no problem.  They take their time and notice things before I do.  By being attentive, they saved a large palm tree from dying.\\nHappy Customer!\\n***Update...they have gone down the tubes fast!!  Too much business..wont hire enough help is my guess.  They've blown off scheduled visits without  notice.  They just no-show. Last straw, I'm done.  They no-showed me the last time this week. I paid for the month of June...so we'll see how long it takes me to get my money back. \\nAvoid, avoid. Avoid!!!\",\n",
              "  5),\n",
              " (\"Went her with my mom and had a beautiful day. I had a mani/pedi and my mom had a massage and we both loved our services. Then we spent the rest of the day in the women locker room area. Sauna, steam room and jacuzzi. It's awesome. The spa is beautiful.\",\n",
              "  5),\n",
              " (\"I have a favorite cuisine and everyone who knows me knows I love Thai food. My husband has been trying to take me to Nittaya's for over a year now, we finally made it there last weekend and all I could think of was the many dinners I've missed out on and how I'm going to make it up. We started with the Chicken dumpling/puffs ?  I forget the menu name, it was reminiscent of basil chicken stuffed in pastry dough. Volcano Shrimp and the Spinach Salad. The Spinach lives up to the hype people don't mess up your opportunity to order this delicious item. For our entrees we had the Pad Thai and the seafood coconut curry. I'm about to say something crazy but this was the best Pad Thai I have ever had ! Hands down it's amazing. The seafood coconut curry has an egg cracked inside of it which changes the texture from a smooth curry to one with a little chew. I thought it was delicious but we agreed we would probably order something different next time. Since I have a year of catching up to do next time may come sooner than my husband realizes :)\",\n",
              "  5),\n",
              " ('Reminded me of a good few places from back up north in New England. The size is where pizza should be at. Well worth the walk in the snow.',\n",
              "  4),\n",
              " (\"Just finished some dinner after a long hike & wow, everything I could want. Sat at the bar & Rachel, the bartender greeted me & my fiancé. Rachel was super helpful , describing the food to us & letting us know her favorite drinks & we continued to order some happy hour food, 4-6 everyday. Food was amazing, service exquisite & I highly recommend Sammy's to all our friends & family. Woo woo\",\n",
              "  5),\n",
              " (\"Visited Toronto for work and this was a recommendation. It did not disappoint. We ordered the slaw because it is there most famous dish. We added the sashimi tuna. I really didn't understand the hype until I tried it! 19 ingredients, excellent presentation and the flavors are amazing.  We also had the chicken dish since it was the very item that won Chef Lee, Top Chef. It was excellent! Also don't miss the Sangria. Refreshing, 25 ingredients including a tropical fruit cocktail that is left to enjoy in your glass. Service was exceptional and patio was a great atmosphere. I would return and try more items that looked amazing as I watched them all delivered to other tables. Great place!\",\n",
              "  5),\n",
              " ('I wish I could give more stars because the management is super friendly and accommodating and the place is very clean and well taken care of. Unfortunately, I will not return because I had a very uncomfortable experience last weekend with a nail technician blaming me for a schedule mixup and raising her voice at me in front of other customers as she is doing my manicure. For 9 months I had always, always scheduled with the same two technicians.. one does my mani and the other my pedi simultaneously. I scheduled with both, signed in and indicated both their names and I also told the front desk that I am scheduled with both ladies. I was called back by the lady who does my pedicures and she stared my manicure instead. I was confused but I assumed the front desk arranged this because my manicure lady had just starts applying polish a few seats away on another customer. I had no problem with that and was willing to stay a little longer because I knew it was worth having the lady do both. Front desk came by and apologized for not telling the technician that I had scheduled with both and that it would take longer. I had no problem because mix ups happen and it was the first mishap anyway. As the lady is doing my pedicure she asked why I didn\\'t notify her that someone else is doing my manicure. This caught me off guard and told her I thought it\\'s what the front desk arranged. She raised her voice said no and that it was my job to tell her this info. I advised that it was a misunderstanding and again she raised her voice and said \"next time, you have to tell me\" in a very rude tone and I had about 4-5 technicians along with their customers staring at me. I finally snapped back raising my voice and told her to stop raising her voice at me because i don\\'t work there and it isn\\'t my responsibility to arrange it and she can discuss it with the front desk. I felt SO uncomfortable. I only go to her because her work is so clean regardless of the fact that in the last 9 months she can\\'t even manage to look me in the face and say hi. She decided to be nice after and call me \"sweetie\" and \"love\" when time came to pay. I won\\'t put up with that fakeness and rude attitude. I\\'d rather she not talk to me at all and just fix my nails rather than talk to me as if I owe her something. Owners weren\\'t there so I\\'m leaving this review because this info probably never got to them even after I called and complained. Oh and the techs were arguing over who was going to do my pedi. She was forced to do it and wasn\\'t happy about it. Please get your nail techs in check and fix their attitudes. All I wanted was a quiet nail session and instead I walked out embarrassed.',\n",
              "  1),\n",
              " (\"don't buy the guardsman protection plan it doesn't cover anything! Biggest waste of money!! They tell you it will cover anything and it doesn't! Also the Beckham couch doesn't hold up it pills terrible from just sitting on it not very often!! And it was too expensive to be ruined after a year and a half! DONT BUY!!!\",\n",
              "  1),\n",
              " ('My family and I rented a 14 yard bin to clean out multiple rooms in our house. We ended up filling it up pretty high, but we had over 25 tubs of computer parts, college things from the 80\\'s, and more obsolete things that were taking up a lot of space. This company was extremely helpful, quick, reliable, customer-service oriented, timely, and friendly. They allowed us to have the bin for as long as we wanted, and told us they \"don\\'t recognize holidays, and would come at any time.\" With this being right at Christmas time (literally we emailed them in the evening on the 21st and were able to get a bin the 22nd in the early morning) we were astounded with how great they were. The man who dropped off the bin told us that he was more than happy to do this, and had even cracked 4 ribs the day before! Talk about high quality people! The man who was picking up our bin even picked up stray pieces of trash that was on our driveway. The bin doesn\\'t even touch the driveway! How amazing is that? They load it on wood so that it doesn\\'t cause any driveway damage and will sweep your driveway afterwards! We are SO impressed with the quality of service we received, and intend on using them again when we go through our garage. Thanks for giving us part of our house back!',\n",
              "  5),\n",
              " (\"Heard nothing but great things about this place. Definitely needed to stop by and see what the rave is about..Simple concept almost like a snack shack/ soda shop. Fiiz drinks has so much variety!! Delicious snacks & drinks. Great establishment. It is kept tidy & presentable. Plenty of sitting room, they also have bar stool chairs which i thought that was pretty cool. The staff is so welcoming, helpful & patient when it came to ordering. Also, if you do not like your drink they will change it, free of charge! I can't wait to come back to try more flavors off their menu or maybe even customize my own!\",\n",
              "  5),\n",
              " (\"Second time at Gordan Biersch, first at this location.  I like this place.  The food and value is good for what you get.  My favorite menu items are the small plates.  I'll get 2 or 3 depending on how hungry I am.  Last night I enjoyed the Gorgonzola Prosciutto Chips which were very tasty, even if I am 99% sure it was just ham and not prosciutto (lol).  The Gorgonzola sauce is the bomb.  I seriously wanted to lick my plate.\\nTheir beers are good and I am not a beer drinker at all.  My husband ordered their new pumpkin spice brew and I kept stealing sips, it was so delicious!\\nThis location has fantastic atmosphere, being in the middle of the hopping section of Mill Ave.  That being said, parking is horrific on a Friday night.  Our service was really fantastic. \\nAll in all, a great place and we'll definitely return.\",\n",
              "  4),\n",
              " ('Heard about this interesting steak house from Lindsay, my Yelping \\'go to\\' and I am grateful. What a fun night, feeling \"Mad Men\\' ish as we walked through the kitchen when entering the restuarant. \\n\\nAtmosphere was amazing and the food.... WOW. My fav had to be the amazing steak and bean chili/soup.... fantastic.\\n\\nSteaks were our of this world and the mushrooms... devine.\\n\\nWhen entering the restaurant we greeted by helpful eager staff ... with each one adding input into our experience.... especially Patti, our server. She was helpful, informative, fun and sealed the deal of a fantastic night. Thanks',\n",
              "  5),\n",
              " ('Perfect restaurant to bring visitors to the Old Port of Montreal for work dinner. The ambiance is great, stone walls, beautiful ceilings and operating fire place on each floor. If the municipality of Montreal could fix the side street our guests would be even more impressed, but of course that has nothing to do with the food quality.\\n\\nThe restaurant is advertising itself as a steak house and they are proud of their Canadian beef, as such they really know how to make a good steak. Very happy with my centre cut fillet mignon, prepared exactly medium rare as requested, very slightly burned from outside as I like it. Besides the steaks some of my companions also enjoyed their black cod. We wanted to share with our guests the pride of the Montreal cuisine, the roast beef poutine. The poutine was a little bit disappointing, fries were kind of cold and the roast beef presence was minimal. I guess we shocked the chef with that order. \\n\\nThe service is great. I started the night with classic dry martini, so good. The cocktail list needs to be explored by me again. With that said I would come some other time for a personal dinner and when in need of a good steak.',\n",
              "  4),\n",
              " ('This guys Gerarado (Owner) is a total asshole. Dropped the car at 7:30am first thing \"says it\\'ll take an hour\". Three hours later I callback \"it\\'ll be another hour\". Three additional hours later \"your car was ready at 2pm I told you that, you won\\'t let me talk\" he says. Show up and wouldn\\'t you know it his tech tells me it\\'s still not done. It\\'s now 4:00pm I\\'m sitting in the parking lot with no car and a day ruined. Stereotypical New Yorker \\n\\nGO TO ANOTHER SHOP',\n",
              "  1),\n",
              " (\"We had just flown in and were STARVING. Our cute waitress kept the food coming until we were too full for dessert. \\n\\nLoved their spinach flour chips with custom guacamole. Everything was flavorful and delicious--calamari, coconut shrimp, mole' cheese enchiladas, shrimp fajitas, baked avocados with cherry tomatoes and shrimp, tacos stuffed with yummy ground beef, etc.\",\n",
              "  5),\n",
              " (\"Solid OK.\\n\\nMusic: They seem to play whatever's popular, nothing niche or anything like that.\\n\\nDance floor: It's a long narrow rectangle in the middle of the main floor, so we prepared for a highway down the middle of people walking from one end to the other. Upstairs is small and usually has a private party going on, but when it doesn't it plays a different style of music (depending on who's DJ'ing sometimes it's better/worse than downstairs).\\n\\nClientele: Kind of a bit on the douchy side, but there's a mixed variety here, and it really depends on the night (if there's a special event going on for example).\\n\\nPatio: I've gotta admit their patio is amazing.  It was decent before, but they've renovated and now it's just massive.  It's big enough i can go out there to relax and get a break from the dance floor; even as a non-smoker i barely notice that everyone is smoking. If i was only rating their patio they'd get 5/5.\\n\\nDress code: you can get in with pretty much anything if you're not too drunk, judging by all the graphic tee's.  They sometimes restrict sneakers (if they're busy) but mostly they don't care if you can afford the $20 cover.  If you're in a blazer you'll be the best dressed person in there.\\n\\nBottle service: the one time we got bottle service here we had a blast until we went to go dance.  We left our half-finished bottle with the bartender, and when we returned to claim it they told us it had been finished when we dropped it off. With a group of drunk guys i suppose it's possible, but we all agreed that there was definitely SOMETHING left in our bottle when we dropped it off.\",\n",
              "  3),\n",
              " ('Went here for lunch....sat at the bar with my husband and ordered sushi for me and Hawaiian breakfast for him.  From a very rude service,  we felt unwelcome and almost as if we were bothering the waitress, to very very chewy seaweed,  (low quality ingredients and supplies) and semi-dirty place. Would not recommend!',\n",
              "  1),\n",
              " (\"Next to the one in Shadyside, this is my favorite Fine Wine & Good Spirits store. It's easily accessible from the parking lot, and conveniently located right next to Crunch gym (drink the calories you just burned). The store is very cleanly laid out and everything is easy to find. You can find some good sales also!\",\n",
              "  5),\n",
              " (\"UPDATE: This is now insanely busy what with exams happening every single week of every month. But I just want to add THEIR SANDWICHES ARE DELICIOUS!! The grilled chicken is freaking amazing! The filling they use is so good! And curry chicken is unexpectedly delicious too!\\n\\nI FOUND MY HEAVEN. I loooooooooooove cafes where I can sit and enjoy their goodies in peace. I don't like visiting a beautiful coffee shop and feel like people are rushing me. Because I can make my own good coffee at home, you know? Why would I bother coming to a coffee shop if I can't stay?\\n\\nMamie Clafoutis makes incredible pistachio croissants and almond croissants, as well as cookies and tonssssss of bread. PLUS they have lots and lots and lots of comfortable seating upstairs. The tables are big enough for a computer and a Wacom tablet, messy papers and pencils, textbooks, and my food and coffee. This is bigger than my desk at home! Also lots of OUTLETS!! LOTS OF POWER!!!!!!!!!! \\n\\nI originally wanted to do a Sherbrook station bakery hop, but I visited Mamie Clafoutis first and never left. It's so comfortable here that I called my friend, and we both studied here. The table is big enough for both our stuff.\\n\\nThis is, in fact, my heaven. Washrooms are clean. Wifi is not super fast when more people are here, but it is faster than Starbucks and 100% working. Staff is absolutely wonderful. The smell of the bakery is delightful, so feel free to watch the kitchen from upstairs!\\n\\nThe pistachio croissant plus cafe au lait is about $8. But this isn't the typical airy and tiny croissant. The croissant is quite filling and heavy! I looooooved mine. The almond is good too!\",\n",
              "  5),\n",
              " ('I tried their yogurt green tea for the first time and it was soooo bitter. However the worker came by n changed it completely for free! These guys are awesome man! And they walk around and check up on you even tho its just a boba shop. When boba shops run their business better than 5 star restaurants...\\nThis place is great!',\n",
              "  5),\n",
              " (\"I'm a local in the area. We spend a lot of money there as locals. Now Bill has made it clear that one of our friends cannot go there. He will lose all the locals. Sorry Bill as you are in vacation in Maui.\",\n",
              "  1),\n",
              " (\"Believe the hype! If you like classic donuts that happen to be vegan, this is the place. We had a sampling, and they were all delicious.The chocolate cream filled was the best I've ever had.\\n\\nIf you're from out of town and you don't want to pay to have someone drive you there, the bus stops right at the shop! Take the Deuce Strip bus to the Wynn and then get on the 203 (the stop is right at the Fashion Show Complex).\",\n",
              "  5),\n",
              " (\"What a great place to take a break from the crowds of the strip! You can duck away into the basement and enjoy some quality Mexican food (and fantastic margaritas) while escaping the masses. We had a large group of thirsty bikers but still had a hard time finishing our pitchers - they are huge! In the end, of course, we prevailed, but it was a challenge! The food is also very good. Being a big taco fan, I ordered the Mini Tacos, forgoing the rice and beans so I could try both the Shrimp and the Steak. They were great! I also tried a bite of the Lengua out of curiosity. I wasn't a fan but I think that I am just not a fan of cow tongue.\",\n",
              "  4),\n",
              " ('The absolute worst dental practice I have ever encountered. My fiancé Steve went to them. They will not return phone calls, did major surgery and never checked on him. He is going to have to go elsewhere for another dentist to take care of their neglect.',\n",
              "  1),\n",
              " ('This flower shop and garden supply center is just beautiful. Friendly staff that take a moment to answer your questions. The best selection of new indoor and outdoor plants in the mad city area.',\n",
              "  5),\n",
              " ('Its killing me to write this review because i really enjoy myself when i come to the salon. ive gone to a few different ladies there and they are all sweet and very pleasant. However this past month i have gone 2 times for a full set of acrylics and both times with the same tech the nails seem to pop off within the week. at first i thought i was being really rough with my nails thats why they were popping off but when it happened twice i was really disappointed.  i even had to cancel my fill appointment because nails kept popping off.. when i called the salon to the tell the receptionist about cancelling my appointment due to the nails popping off the only advice she could give me was that the tech has a slot open after my appointment to replace the nail. thats not the answer i was looking for.. i just got the nails why do i need to replace them so quickly. \\n\\nim really angry at all of this because nails are not cheap and everytime i go i spend $50-$60 and i still tip..',\n",
              "  2),\n",
              " (\"Worst experience I ever had, in terms of service it was not up to the mark. I also didn't like food taste wise.\",\n",
              "  1),\n",
              " (\"So they changed their noodles... bad call, the new ones are a bit tough....\\nGot a hair in my food 2 out of the last few visits...\\nI'm not sure but I think they are trying cost savings ideas with the food, the quality is definitely sliding....\\nI have cut my visits back quite a bit....\",\n",
              "  2),\n",
              " ('still waiting on coming to this place, I have done nothing but online deliveries, Awesome food and fast delivery',\n",
              "  5),\n",
              " ('Loving the bowling alley here! Parking is a bit of a joke. Casino is on the older side.',\n",
              "  4),\n",
              " ('Came to the Flamingo for 4 nights for my birthday. I booked it through hotels.com and booked a strip view room. Upon getting there, they gave me a room with the Ferris wheel view, and would not accommodate what I had originally purchased. They stated those rooms were full. \\n\\nPros- The location of the strip is great, its in the heart of the strip, with 4 star hotels and casinos near by. Its also near a lot of restaurants and a couple clubs. The outdoor lighting of the flamingo gives it a lot of spunk. \\n\\nCons- The room I had was pretty dark, but the overall cleanliness wasn\\'t something to go home talking about. You get what you pay for here. I wish there was a way I could\\'ve got my money back for a night, due to the TV not working. I asked the front desk and nobody ever showed up and they did not change my room. The room was \"non smoking\" but smelled like the previous guests had smoked in there. There were cob webs on the window. \\nThe shower pressure was very low and there was a roach on the floor. I wish I had taken pictures but we spent most of the time outside of the room. \\n They also didn\\'t mention the resort fee until we got there, what if we weren\\'t prepared for that? Next time I come here, I highly doubt ill be staying at the Flamingo again.',\n",
              "  3),\n",
              " ('We went there today and there was a line for the restaurant.  It was our first time there.  Unfortunately we did not get to order as our friend that was with us got ill.  We thought he was having a stroke.  I went to the kitchen area and asked them to call paramedics.  It was so impressive how quickly they responded.  The security came running, and they had in house paramedics come and also the manager.  Everyone was very helpful and they called Henderson paramedics.  The waitress came up and said she was sorry and hoped all would be better. Overall I was so impressed we with their efficiency and helpfulness.We definitely want to go back and have dinner soon.',\n",
              "  5),\n",
              " ('Not bad, but not great. Average sandwich shop. Ordered Turkey Reuben and got what you would expect. Wife ordered  crab cakes that seemed that they were taken out of freezer and deep fried.',\n",
              "  3),\n",
              " (\"The food here is good.  The curry plates are especially delicious.   Too bad the service is so stand-offish.  I've been here close to 10 times and every single time I've left thinking I should have just gone to Thai Hut a mile away instead, based solely on the long wait and inattentive staff.\",\n",
              "  3),\n",
              " ('love this place! clean, yummy, fresh and a wonderful place for a casual meal w friends',\n",
              "  5),\n",
              " ('I took my 10 year old niece to get our finger and toenails painted as a reward for her completion of school.  I made an appointment in advance.  I let them know that we would come in with clean nails ready to be painted, that we didn\\'t want clippers, files, etc.  Just your basic polish and go.  \\nWhen we arrived, the receptionist took us back to a manicurist station and painted my niece\\'s nails in about 4 minutes, and then grabbed her feet from under the table and painted them.  I asked if she would let my niece move to the pedicure chair so she could have the \"experience\" of getting a massage and having her toes painted, i.e. to feel like a big girl.  She flat out told me \"no.\"  I\\'m not confrontational or anything, but I did question why not since we: a) made an appointment; and b) there were 5-6 open chairs.  She just told me that other appointments were scheduled.  \\nThen, another lady arrived to paint my nails.  She painted mine in record speed.  I never understand how someone can manage to paint all over your skin but miss the edges of your nails at the same time.  Must be purposeful?  Not sure.  I took the polish off myself when I went home.\\nAnyway, the customer service was bad, the work was bad, and it was just a bad experience all together.  Also, the salon is super tiny and cramped and not fancy at all.  Basically, huge letdown.',\n",
              "  1),\n",
              " ('Thanks, Yelp, for putting me onto this. All that was advertised and more. Great, I mean exceptional pasta and meat, fish dishes. I would not hesitate to go here again.',\n",
              "  5),\n",
              " (\"You know how when you go get drunk food at 2am, you settle for mediocrity?\\n\\nWELL THIS PLACE will blow your mind. Quality food. Quality Sandwiches. Quality at lunch. Quality at dinner. Quality at 5am.\\n\\nI've tried around 4-5 different sandwiches here and they've all been WIN. The bread is always perfect and the roast beef, ham, or whatever you get never disappoints.\\n\\nPerfect for people partying at Cosmo and need a bite afterwards or if you're just exploring in the center strip during daytime and need a lunch break.\",\n",
              "  5),\n",
              " (\"Do they ever have fully working pumps? At all times they have at least 2-3 pumps that are out of service when I come here. This makes maneuvering around trying to wait for a free pump a total pain in the ass especially when your dealing with other customers that are so oblivious to their surroundings. This is the last time I'll ever give this location a chance. A total waste of time and not worth the headache.\",\n",
              "  1),\n",
              " ('I went in today to get help set up my my replacement phone and they looked at me as if I was crazy.. Verizon was the one who sent it in the first place since I updated my phone with the IOS and it started messing up so they sent the replacement. their service was horrible... never once did I get greeted nevertheless did they try to help me... such horrible service... I have been with Verizon for 17 years and now they lost my business account to the competition smh',\n",
              "  1),\n",
              " (\"Cute little place. I've had many of their take-home dinners... Taco salad, beef, stroganoff, crab cake, lamb shank, meatball, and various pastas.Overall, it tasted great (though I wouldn't order the meatball again). The crab cake is the best deal though and makes me keep coming back! It's 3 oz. and just so nicely breaded.\",\n",
              "  4),\n",
              " (\"This sleek little Italian place (formerly LV Grill) left my mouth watering taste buds a-tinglin'. All the ingredients are super fresh and many are imported from Italy. The pizzas are amazing: thin crust, excellent toppings. I had the pizza with Buffalo Mozzarella from Italy, which was generously topped on the pizza along w/ some good sauce and cherry tomatoes. Olives and cheese were delicious as well. The waiter (also owner?) seemed like he was from Italy, a good sign. I'm going back for some panini.\\n\\nupdate: went back for some panini, which was sub-par, dropping my rating to 4 stars. this place is always empty, which is kind of a drag, but the buffala di mozzarella pizza is the shoopsie, my noopsie.\",\n",
              "  5),\n",
              " (\"I haven't had their food yet, but their wine and beer selection is one of the best in Charlotte. THere is a nice little seating area, and a bar area where you can order beer and wine.  They always have some good beer on tap and you can order a half pint.  The beer selection is well organized.  From normal craft stuff in the cooler to a selection dedicated to Belgians and sours.  Def check it out if you are in the area.\",\n",
              "  4),\n",
              " (\"Best place in town for Happy Hour. My coworkers and I go there regularly. You can't beat their happy hour prices. Love going there.\",\n",
              "  5),\n",
              " (\"My wife and I recently had a backsplash installed by JW Floor Covering.  I've done several home projects and these guys are among the best.  They were easy to contact, proactive, always on time, and did an outstanding job.  Paul our installer did some exceptional tile work and I just can't say enough good about it and how he handled the job.  Well done!!\",\n",
              "  5),\n",
              " (\"Tasty crazy good burgers and even a deluxe hot dog! Their chicken salad has celery seed and red grapes in it, and if you've never tried that combination, you've never had chicken salad. I'm a sucker for sweet potato fries, and Delux does great sweet potato fries. The house aioli is great, I recommend the mixed basket of sweet potato and regular fries. If you still have room after that, get the float made with the stout. Happy Hour's good, everything's good!\",\n",
              "  4),\n",
              " (\"Wish I discovered this business sooner! My eyebrows were usually threaded but became too much of a hassle as they grow out quickly. I had Juliet and she was really nice! My eyebrows look amazing. She actually talked to me about my brows and where the arches are and stuff which I thought was really helpful! Will be back again. Oh and the wax they use doesn't require strips. Literally pull the wax right off! I'm always hesitant but this was worth it.\",\n",
              "  5),\n",
              " (\"I literally signed into Yelp to write this review. Ill start with saying staff is nice and place is beautiful and I will be here on a regular basis. However the mental status of the kitchen is listed as severely retarded and they don't wear helmets. If they would like me to do their job and cook my simple dishes as well as mine I would be happier. I will update this review when I'm happier\",\n",
              "  1),\n",
              " (\"Well first of, I was born and raised in India and have been cooking now for over a decade, so I'd like to think I have a good idea of Indian food. My fiance and I decided to try Passage to India today for lunch. We ordered the Chicken 65 for our appetizer. It was definitely not authentic, it was below average, too much cumin in my opinion and way too much cilantro. But the chicken was tender. We ordered it medium, it was fairly bland ( and I can't really eat spicy food).\\n\\nI ordered the Chicken Biryani (boneless) and my fiance ordered the Chicken vindaloo, both medium spice level as well. I assumed boneless meant chicken breast, not dark meat without the bone. If I knew that was the case I would not have ordered it and paid extra for boneless chicken. It was full of cilantro (no brown onions at all) and it was more or a bland pulao than biryani. The rice was dry and undercooked and stale tasting. The waitress actually forgot to bring out the rice that is complimentary with the vindaloo and we ended up waiting about 10 minutes till we found another waiter who brought it out for us. This rice too was cold and stale. It definitely was not basmati (didn't have the smell or taste of basmati). Both dishes had no flavor, the vindaloo didn't taste anything like the peppery vinegary dish it was meant to taste like. I have a hard time believing the cooks are Indian.\\n\\nThe food overall was a complete disappointment and I would never recommend this place, especially not for the price. Save your money.\",\n",
              "  2),\n",
              " (\"Good burgers just a little over priced, did the create your own burger with grilled onions american cheese and thousand island dressing, that's how I like my burger. Service was a little slow and only two waitresses working that night but very friendly, music was little loud and hard to have conversation with others in our party.\",\n",
              "  4),\n",
              " (\"The poke was great, the service was great, the drinks slap, I don't really listen to kpop but they slap it & it slaps too lol. Overall great place 5/5\",\n",
              "  4),\n",
              " (\"If I could give zero stars I would. I brought my son for possible pink eye and waited more than 3 hours in the waiting room. Then another long wait in the exam room. By this time my son was starving and tired. They could have given me a heads up sooner that it was going to take so long! Turns out there was only one doctor on call that day. To make matters worse a lady with children arrived and checked in the same time as we did got in to see the doctor and left while we waited another hour. I wasn't that impressed with the doctor once we finally saw him. He asked minimal questions and was in the room for no more than 5 minutes. He left and said the nurse would be in to finish up...25 minutes later we are still waiting...they should change their name because they are anything but quick!!\",\n",
              "  1),\n",
              " (\"About a year ago, I was aimlessly strolling thru the Cosmopolitan, taking in all the beauty that the hotel has to offer.  While walking around the Chandelier Bar on the upper floors, I stumbled across a long hallway lined with album covers, with a questionable ending.  What could be at the end? Narnia? Or the Springfield Mystery Spot, complete with Ozzie Smith? Of course, being the quizzical individual that I am, I walked down the hallway.  Couldn't believe what I saw...a walk-up pizza joint!\\n\\nAnyway, with over 500 reviews, I don't know how this is a secret anymore.  No sign, no advertising, but excellent NY-style pizza.  At $4.50/slice, with the Strip-markup, it's a pretty good value for wasteepants late-night munchies.  And if you're not ready to end the rager, they have beer and I think, boxed wine.\\n\\nThis is obviously a place to go after a night throwin elbows at the club.  At times, I've seen the line full of button-down shirts, fist pumps, sky-high heels, and dresses that leave little to the imagination.  Sometimes the line is long, which is understandable given its popularity.  But they try their best to keep the line moving swiftly.\\n\\nI'm glad I stumbled onto this place, as it has become a staple when I visit.   I applaud the Cosmopolitan for this inspired idea.\",\n",
              "  3),\n",
              " (\"I'm not a fan of Yogurtland but my son seems to like it so I bring him here when we're in the area. Last 2 times I've been here some of the toppings taste stale, the chocolates/cookies/brownies more specifically. They just taste old. I'm just not a fan.\",\n",
              "  2),\n",
              " ('I like the location, the staff is nice.  The BBQ never work.  When to notify the front office that the grills would not lite up.  Then I told a service employee of the same issue.  Waited for an hour, no one came by.  Meat got ruined.  Plan on asking for my 25.00 resort fee back.  My 3 time here first time to use the grill.  (tried to use the gill)  BTW there were only two grills on our end of complex for over 1,000 units  I understand there were 5 more 1/2 mile away.  Too far to walk with all the cooking stuff',\n",
              "  2),\n",
              " ('Great place!  terrific happy hour.  My favorite server is Sasha!  Shes a riot and not your typical BREASTrant server.  The kilt is leaps and bounds ahead of hooters in attractiveness, beer selection and food.',\n",
              "  5),\n",
              " ('My husband and I were really excited to move to Sun Prairie about a year ago, especially when we heard of a place called Porktropolis (how could you go wrong??)!\\n\\nAfter several attempts to go to the restaurant (they have weird hours, closed a lot of days and close early some days), we finally went on a Friday night.  You get to go in and choose your type of BBQ sauce to put on your meat.  My husband and I each got pulled pork sandwiches with different BBQ sauces.  \\n\\nWhat a disappointment!  Like one reviewer said, I wanted to love it but it was not very good.  The pork was incredibly dry and had a weird, greasy consistency at the same time.  My mac and cheese side was really mushy and not very flavorful.  It was a really disappointing experience.  Maybe we just ordered the wrong thing?  The waitress said that the pulled pork is their signature...\\n\\nVery disappointed!!!!',\n",
              "  2),\n",
              " (\"Goorin Bros. Is a fantastic hat shop with great quality hats and staff that are knowledgeable and eager to help you find that perfect hat. No one will make you feel unwelcome if you spend time looking at hats, and they will go out of their way to provide other hats for you to try on. As a bonus, their prices are reasonable, so you won't feel too guilty indulging your hat fantasies.\\n\\nI've bought many hats from Goorin Bros. and I get compliments on them all the time...if you think you're not a hat person spend some time here and you'll probably leave with a hat you love.\",\n",
              "  5),\n",
              " ('Great food and people.  There is nothing they cannot prepare or cook to absolute perfection for 10 to 1000 people!   I have never had a bad taste of food from Normandy Catering.  I also highly recommend the Normandy Express for lunches and any outside events.',\n",
              "  5),\n",
              " ('The food at Samba is excellent in every regard.  \\n\\nYou start your meal at their 40 item salad bar, which is delicious.  It has traditional salad toppings, a variety of pasta salads, interesting vegetables, spanish cheeses, and more.\\n\\nThe meat is the best part though.  They have nine different cuts on any given night, and the cooks come around and slice you off some of whichever meat they are passing around.  The top sirloin was a perfect medium rare and probably their best meat.  The duck was delicious, the flank steak had amazing seasonings on it, and the bacon wrapped tenderloin tasted great.  The rack of lamb had a little too much garlic, but other than that was pretty good and both the leg of lamb and the parmesan pork were delicious.  The sausage they offered was tasty, but did not set itself apart as spectacular.\\n\\nThey have a decent beer selection and the restraunt overall has a wonderfull ambience.  The food is what makes this place special though.',\n",
              "  5),\n",
              " (\"Yay! I am so happy! This place has just opened - right around the corner from my place - and it's fantastic! A family run business where the husband is front of house and the wife and another chef do the cooking. The food is prepared with pride and love and was delicious. For a newly opened restaurant the service was seamless - and even more than that - friendly and generous as we were given an additional appetiser dish on the house. It was a mushroom salad with yuzu dressing that wasn't on the menu but the chef wanted us to try it - and it should be! \\nWe ordered the Korean pancake (vegetarian), the beef bulgogi, 2x bibimbaps, the tofu and kimchi stew (a fave), and the sweet potato glass noodles (another fave!) and there was plenty of food! Along with the complimentary mushroom salad, we were given kimchi, and some pickles to start and also had cold roasted corn tea (delicious!) so I would say this was a very well priced meal around $25 per person. The food was all very tasty and the portions were generous - we were 5 and we had plenty to try from each dish. \\nThey are yet to obtain a liquor license so we did not drink. \\nI am very happy this restaurant has opened and I wish them every success! Go try it!! Let's keep this neighbourhood full of local, independent and family run businesses like this one! I look forward to returning.\",\n",
              "  5),\n",
              " (\"Great experience.  NY strip steak well prepared and tasty, sides great, and the salad excellent.  Great service including an extra complimentary dessert to celebrate our occasional. Price was consistent with the level of quality and service.  Don't overdress -- we wore coat and tie and dress and probably the only ones in the place.  Business casual would have been fine or a sport jacket.  I'd go back, great steak!\",\n",
              "  5),\n",
              " (\"As I was staying at MGM and didn't want to schlep all over town in 99 degree heat, Fiamma seemed like a good choice, and it was. Great food, great service, and a nice classy atmosphere. it was expensive, but you get what you pay for, I was surprised at the lack of customers on a Friday at 7:30PM (prime time dining) we were the only people at the bar and the dining room was about 3/4 full. We had calamari and Steak Tartar which was good, but the Lobster Gnocchi and Beef Tenderloin were fantastic. I would definitely return\",\n",
              "  4),\n",
              " ('Horrible. Worst I have been treated since I have been in Phoenix (five years). There are signs on the pumps that state, \"To prevent fraud, all credit card transactions must be done inside.\" I thought it odd, but walked inside. The guy who worked there said hi. I said, \"Hi. I\\'m wondering, why do you have to come inside to pay?\" He said, harshly, \"Did you read the signs?\" I said, \"Yes,\" He said, \"Then you just answered your question, didn\\'t you, buddy? Not too tough, was it?\" I looked at him, incredulous. Seemed like a harmless question. I turned to walk out, saying, \"I think I\\'ll get gas somewhere else.\" He said, \"You do that, buddy. No skin off my back.\"\\n\\nBased on the fact that there was nobody else there, I think it probably was. Maybe not the douchebag I talked to, but the owner probably wouldn\\'t appreciate the fact that his employees are treating customers like that.\\n\\nWell, I guess I\\'m not a customer.\\n\\nNever will be, either.',\n",
              "  1),\n",
              " (\"I never heard of this place until my friend invited me to her birthday that was held here. The first thing that set the tone on a negative note was that they didn't have me on guest list when I clearly signed up before the closing time on their official website. I got there around 11:30 and the cover was already $20...I wasn't impressed so far.\\n\\nThe venue is very small compared to all the other clubs I've ever been to. Did I mention that the drinks are priced very high? Second thing that wasn't impressive. However, the music wasn't bad as the night went on.\\n\\nOverall, the club was alright because of the music and I was with friends. I would give Dolce 3.5 stars but the pricey cover and drinks lowered it down to a 3. I would only go here if there was no cover for ladies before 11...I probably would have to drink a lot prior to entering too.\",\n",
              "  3),\n",
              " (\"One of the original Oreganos locations in the state. Tucked away in the lot on the southeast corner of Shea and Scottsdale. I continuously always order either the Beef Bistro salad (amazinggg) or the Alfredo the Dark. The beef bistro is a spicy spinach beef salad, really great never had anything like it. \\nAlfredo the dark is their spicy version of Alfredo pasta.\\nOf course you can't come to Oreganos and not get a pizookie! Absolutely one of the best desserts I've ever had - and I have a sweet tooth. Only $5!\",\n",
              "  5),\n",
              " ('I don\\'t normally write reviews for restaurants, but our experience here was so good that it deserves to be shared. We walked in without a reservation at 8pm on a rainy Friday night. The hostess graciously offered us our choice of table.  (Btw,why isn\\'t this a standard practice at more places? But I digress). As we were seated and given our menus, the hostess informed us that \"the best table in the house\" was available, and led us to a comfy, cozy, well-lit booth in the back of the restaurant. We\\'re off to a good start so far, I thought to myself. \\n\\nBut we were only just beginning. \\n\\nOur server was very polite and knowledgeable, and the food...was excellent. The portion sizes weren\\'t tiny, but they weren\\'t huge. The spinach salad was perfectly dressed, not overpowering at all, but subtle enough to be noticed. Our entrees were delicious! You can absolutely tell the freshness of the pasta.  Although I will say, the gnocchi was a little soft for our liking. We\\'ll give them a pass though, because the espresso martini may have been the best martini I\\'ve ever had. And I didn\\'t think I\\'d say that about a place in Champaign. \\n\\nThroughout our meal, we observed the owner walking the dining room floor and talking to the customers. He personally stopped by our table to ask us about our experience. We were delighted to tell him we\\'ll absolutely be coming back. If you need a nice night out, I highly recommend Nando Milano. Just bring your checkbook, you\\'ll need it.',\n",
              "  5),\n",
              " (\"Our daughter treated her Mom to a dinner here for Mother's Day, and let my son and I tag along. She treated us as well, as it turned out. She loves this place, and I love trying new places, so we were all excited about the dinner. \\nService was sharp, drink orders arrived promptly followed by the smoked salmon appetizer. Very good. Entrées included burgers, blackened chicken, and a pasta dish with Brussel sprouts and a cream sauce. We all enjoyed the dishes. Too full for dessert and had a place to be so we didn't linger long. A great place for a casual dinner or a special occasion, we'll be back. \\nThe only down side is that I was not wowed by the menu. I found something I enjoyed, so was happy. But I love the places that I have such a hard time ordering because everything looks good, and that wasn't the case for me here.\",\n",
              "  4),\n",
              " (\"Worst Chinese I've ever had. Hands down. \\n\\nPlace is disgusting too.\", 1),\n",
              " (\"I like CB&C and come here a lot. Great food and beer selection. 4 stars because they always seem to mess my order up. I'm not picky. I asked for the Philly add mushrooms. Came out no mushrooms. Here for the Monday Mac and cheese special. It came out incorrect. Not sure which end is messing it up but it happens. Otherwise a great place to watch the game!\",\n",
              "  4),\n",
              " (\"Looking for food at 2 am ...  3 am...  4 am....  head to Pops.  A great food stand in Vegas for a philadelphia cheese stake anytime of the day (24 hours).  Cheap place to eat and well worth the money and drive.  I had the steak with cheese wiz and onion rings.  Both items were great and I would go back again for more in the future.  Enjoy your adventure to Pop's!\",\n",
              "  5),\n",
              " ('Good atmosphere and live bands!! Drinks are reasonably priced and the wings are Awesome!!!!',\n",
              "  5),\n",
              " (\"Definitely one of the best loan processing companies we've ever worked with. We had to work with them as part of our new home purchase but we couldn't have asked for a better team. Thank you so much Erica for all your professionalism and making this process quick and easy.\",\n",
              "  5),\n",
              " ('I went to this Hooters on 9/12/17 around 12:00 PM.  The place was dead and should have been in tip top shape.  Not the case.  Under my table, I looked because my child had dropped a crayon, it looked like days worth of old food, crumbs and other debris.  The reason I say this is their were a few Hooters girls on \"break\" taking care of one of their kids while supposedly working while their significant other was there sitting in front of us, for over an hour while other girls continued to sit with them, one of whom was our waitress.  (mind you only one other table had anyone at it.) The manager on duty also took part in this.  The real issue here is I ordered wings with no side dressing, my wife then ordered an extra side, which should have been mine given to her, nope they charged $1 and some change for it.  I had 2 chicken wings out of six in which I found hairs coming in and out of the breading,  (I shave my head so 100% not mine.) I informed this waitress with the response of \" It\\'s prolly just the feathers.\" \"would you like to make more.\"  No I don\\'t want more the hairs are in the batter.  I\\'m sorry but I work in customer service, and she should have informed the manager, who vanished after my complaint, to take care of my issue.  Needless to say I paid for six wings, when only four were edible, paid for extra dressing when it was mine just given to my wife.  Place is disgusting and would highly recomend the health department check this place out.  If it was this bad in the front of house and in the food, I can only wonder how horrific it must be in the back of house.  I WOULD LOVE A RESPONSE FROM THE MANAGEMENT OR OWNER TO THIS.',\n",
              "  1),\n",
              " (\"We haven't been to Mimi's in over 5 years but today we decided to try something different. My husband had the pot pie and I had the shrimp. He would have liked the pot pie better if it was made with dark meat not white. There was so much meat he had a hard time finishing, which is great. They didn't skimp. My shrimp were tiny but the meal came with 10 and two sides. I chose the mash potatoes (yum) and green beans. It was a good meal. They offer a delicious bread basket too. Overall, the food is good and we left satisfied. \\nOur server was very nice and on top of things as well!\",\n",
              "  4),\n",
              " ('Purchased a brand new 2016 Hyundai Veloster Turbo in February from Antonio Grant. This was my very first purchase on my own as a 24-year-old woman. My family has purchased multiple cars via him. He is the best dealer at this Hyundai location and really goes above and beyond for his customers. Unfortunately, the customer service provided by his fellow peers do not match his. Hopefully, the story below will defer first time buyers like me away from a bad dealership with terrible customer service. \\n\\n7/31 Took a hiking trip and made it back home safely when this brand-new car under 7,000 miles battery died. This was odd for me because it is a brand-new car so I didn\\'t understand why the car just died. All my key fobs were not working and no power to the entire car. At this point I was fine because I knew it would be fixed under the warranty. Called Antonio to let him know what was going on, he advised me that I had roadside assistance for 5 years so I called to get the battery jumped, and it didn\\'t work so Antonio asked me to bring the car to the dealership. After arriving there I was immediately greeted (if that\\'s what you call it) with distasteful customer service. A service clerk named Linda chastised me and the representative from the towing company with a negative tone basically asking why we were there and blocking her service area instead of directing us where we needed to go, saw that we were being serviced already and passed us off in an extremely rude manner. Mind you I later saw her help three other customers with the exact opposite kind of attitude, so it\\'s not like she was having a bad day, I\\'m assuming we were just a problem for her. My normal service representative was busy so I was passed off to another rep to assist in getting a courtesy car. I had to go to get the car myself, and also received it with no gas, after telling the rep three times, he then had it filled. No one asked if I needed help with anything else, or told me when I should be expecting my vehicle, NO ONE ASKED ME FOR THE KEY TO MY CAR AT A CAR DEALERSHIP, and my problems seemed to be an inconvenience to every and anyone at the dealership.\\n\\n8/2 Went to pick-up the vehicle and showed up with no one inside the facility. After searching, I found the General Manager of the branch who proceeded to walk me to the service area to get my vehicle, I knew he had heard of my experience previously, so out of knowledge of \"good\" customer service, I expected him to ask what happened, but he seemed to show no interest in it. After receiving my vehicle, I told the manager I wouldn\\'t be returning, and all I got was an uninterested \"Sad to hear it,\" and I drove off of the lot. I\\'m usually not the type to speak on bad service but previously, I\\'ve recommended this place to many family members and friends, so I\\'m doing this in hopes that no one will have to deal with this kind of service again.',\n",
              "  1),\n",
              " ('I read the review of a person below saying how their front desk staff is rude.. Well I just called in, and spent 30 seconds on the line with the front desk receptionist who was in fact, rude and had a lot of attitude within the first ten seconds of speaking with her.... Seriously, train your front staff better. They are the face of your business, and that face seems mean and unwelcoming. I would not go here solely for having to deal with her.',\n",
              "  1),\n",
              " (\"After having eaten there a few times, my favorite thing to order is the Buffalo Chicken Salad. Everything else I've ordered is kinda small on the portions, but this salad is definitely enough to keep me satisfied.\",\n",
              "  4),\n",
              " (\"I hate taking my car to a mechanic because of bad experience. We have been customers here for over ten years. My husband always took our cars to get serviced. This time I had to take my car since the break engine light came on. \\nWhen I arrived to Mr Brake they were closing up. I told the owner what my problem was. He went back in his shop got a tools, told me to open the hood and looked at my car filled it up with brake fluid and told me that I was ok to drive it but to come back in the morning so he can check the brakes. He didn't charge me anything just told me to come back.\\nHe could have told me. He was closed. To come back tomorrow. I really appreciated what he did for me. He is a very carrying and honest person.\\nNext morning I was there. He worked on my car changed the back brakes. I was very happy by the way he treated me. \\nThank you Mr Brake.\",\n",
              "  1),\n",
              " ('The experience received from this great team was remarkable!  Patty Jones, Designer was superb; her willingness to help provide various decorative options was very helpful! She was a pleasure to work with.  Also - the installation team from your internal customer service staff (Lisa), and installers - Herb, Rob, and Tobby were on time, professional, very courteous!  Thank you for making my move as enjoyable as it can be!!  Appreciated. Deborah',\n",
              "  5),\n",
              " (\"In a word... YUM!  I used to think that Nicky's Thai Kitchen was the only place for good Thai food, and that I would not even explore other options after a few disappointing experiences elsewhere.  That is until I came here.  It never disappoints!  \\n\\nBest Shrimp Pad Thai ever,  yummy dumplings,  yummy spring rolls, and their Spicy Noodle is to die for.  BYOB makes it even better.  Great spot for a date, a small get together.  Reservations definitely recommended on the weekend!\",\n",
              "  5),\n",
              " ('El platillo de carne asada no se Los recomiendo. Llena de pellejo una cosa en la foto y otra lo que te sirven!!! Y cuando le pregunte a la mesera que si Asi era llena de pellejos dijo si asi la comi yo!!! Fatal la calidad!!!!',\n",
              "  1),\n",
              " ...]"
            ]
          },
          "metadata": {
            "tags": []
          },
          "execution_count": 71
        }
      ]
    },
    {
      "cell_type": "code",
      "metadata": {
        "id": "fbtnHZ3ZEa-_",
        "colab_type": "code",
        "colab": {}
      },
      "source": [
        "pred = pd.DataFrame(predictions, columns = ['text', 'stars']) \n",
        "pred['review_id'] = val['review_id']"
      ],
      "execution_count": 0,
      "outputs": []
    },
    {
      "cell_type": "code",
      "metadata": {
        "id": "vuG8YExUFaXK",
        "colab_type": "code",
        "colab": {
          "base_uri": "https://localhost:8080/",
          "height": 204
        },
        "outputId": "1ea004d9-e69e-4176-9135-5ce979e2f8a5"
      },
      "source": [
        "pred.head()"
      ],
      "execution_count": 73,
      "outputs": [
        {
          "output_type": "execute_result",
          "data": {
            "text/html": [
              "<div>\n",
              "<style scoped>\n",
              "    .dataframe tbody tr th:only-of-type {\n",
              "        vertical-align: middle;\n",
              "    }\n",
              "\n",
              "    .dataframe tbody tr th {\n",
              "        vertical-align: top;\n",
              "    }\n",
              "\n",
              "    .dataframe thead th {\n",
              "        text-align: right;\n",
              "    }\n",
              "</style>\n",
              "<table border=\"1\" class=\"dataframe\">\n",
              "  <thead>\n",
              "    <tr style=\"text-align: right;\">\n",
              "      <th></th>\n",
              "      <th>text</th>\n",
              "      <th>stars</th>\n",
              "      <th>review_id</th>\n",
              "    </tr>\n",
              "  </thead>\n",
              "  <tbody>\n",
              "    <tr>\n",
              "      <th>0</th>\n",
              "      <td>Food is sometimes sometimes great and somethin...</td>\n",
              "      <td>3</td>\n",
              "      <td>ewaMkuxfjfCX3ndtk0oRTw</td>\n",
              "    </tr>\n",
              "    <tr>\n",
              "      <th>1</th>\n",
              "      <td>They should seriously market the sausage and g...</td>\n",
              "      <td>5</td>\n",
              "      <td>SzkuvIpf0lcVaDgk5x2ipg</td>\n",
              "    </tr>\n",
              "    <tr>\n",
              "      <th>2</th>\n",
              "      <td>While I have had several average salon and spa...</td>\n",
              "      <td>4</td>\n",
              "      <td>ZGg6emL3sqhyyqHD_DJEag</td>\n",
              "    </tr>\n",
              "    <tr>\n",
              "      <th>3</th>\n",
              "      <td>I have been coming to NCS for almost two years...</td>\n",
              "      <td>5</td>\n",
              "      <td>IXYLmBVvRVFJZEhnhE_YsQ</td>\n",
              "    </tr>\n",
              "    <tr>\n",
              "      <th>4</th>\n",
              "      <td>This place should be renamed to \"We Take Our S...</td>\n",
              "      <td>2</td>\n",
              "      <td>dao7SEXhBuMk7TieM4gEZA</td>\n",
              "    </tr>\n",
              "  </tbody>\n",
              "</table>\n",
              "</div>"
            ],
            "text/plain": [
              "                                                text  ...               review_id\n",
              "0  Food is sometimes sometimes great and somethin...  ...  ewaMkuxfjfCX3ndtk0oRTw\n",
              "1  They should seriously market the sausage and g...  ...  SzkuvIpf0lcVaDgk5x2ipg\n",
              "2  While I have had several average salon and spa...  ...  ZGg6emL3sqhyyqHD_DJEag\n",
              "3  I have been coming to NCS for almost two years...  ...  IXYLmBVvRVFJZEhnhE_YsQ\n",
              "4  This place should be renamed to \"We Take Our S...  ...  dao7SEXhBuMk7TieM4gEZA\n",
              "\n",
              "[5 rows x 3 columns]"
            ]
          },
          "metadata": {
            "tags": []
          },
          "execution_count": 73
        }
      ]
    },
    {
      "cell_type": "code",
      "metadata": {
        "id": "QAx7HGLwKEZq",
        "colab_type": "code",
        "colab": {}
      },
      "source": [
        "pred.to_csv(index=False)\n",
        "compression_opts = dict(method='zip',\n",
        "                        archive_name='pred.csv')  \n",
        "pred.to_csv('pred.zip', index=False,\n",
        "          compression=compression_opts)  "
      ],
      "execution_count": 0,
      "outputs": []
    },
    {
      "cell_type": "code",
      "metadata": {
        "id": "oHhroVkyMWkc",
        "colab_type": "code",
        "colab": {
          "base_uri": "https://localhost:8080/",
          "height": 1000
        },
        "outputId": "a5172694-b7f0-4992-9503-8c484f510491"
      },
      "source": [
        "data_test=pd.read_csv('/content/drive/My Drive/comp4332_Project1/data/test.csv')\n",
        "test = data_test[['stars' , 'text' , 'review_id']]\n",
        "pred_sentences_test = list(test['text'])\n",
        "predictions_test = getPrediction(pred_sentences_test)\n",
        "pred_test = pd.DataFrame(predictions_test, columns = ['text', 'stars']) \n",
        "pred_test['review_id'] = test['review_id']\n",
        "pred_test.to_csv(index=False)\n",
        "compression_opts_test = dict(method='zip',\n",
        "                        archive_name='pred_test.csv')  \n",
        "pred_test.to_csv('pred_test.zip', index=False,\n",
        "          compression=compression_opts_test)  "
      ],
      "execution_count": 77,
      "outputs": [
        {
          "output_type": "stream",
          "text": [
            "INFO:tensorflow:Writing example 0 of 2000\n"
          ],
          "name": "stdout"
        },
        {
          "output_type": "stream",
          "text": [
            "INFO:tensorflow:Writing example 0 of 2000\n"
          ],
          "name": "stderr"
        },
        {
          "output_type": "stream",
          "text": [
            "INFO:tensorflow:*** Example ***\n"
          ],
          "name": "stdout"
        },
        {
          "output_type": "stream",
          "text": [
            "INFO:tensorflow:*** Example ***\n"
          ],
          "name": "stderr"
        },
        {
          "output_type": "stream",
          "text": [
            "INFO:tensorflow:guid: \n"
          ],
          "name": "stdout"
        },
        {
          "output_type": "stream",
          "text": [
            "INFO:tensorflow:guid: \n"
          ],
          "name": "stderr"
        },
        {
          "output_type": "stream",
          "text": [
            "INFO:tensorflow:tokens: [CLS] got the breakfast sandwich with home fries both of which were great . only reason i didn ' t give 4 stars is slow service as the place was busy and the ice coffee was just ok slightly watery [SEP]\n"
          ],
          "name": "stdout"
        },
        {
          "output_type": "stream",
          "text": [
            "INFO:tensorflow:tokens: [CLS] got the breakfast sandwich with home fries both of which were great . only reason i didn ' t give 4 stars is slow service as the place was busy and the ice coffee was just ok slightly watery [SEP]\n"
          ],
          "name": "stderr"
        },
        {
          "output_type": "stream",
          "text": [
            "INFO:tensorflow:input_ids: 101 2288 1996 6350 11642 2007 2188 22201 2119 1997 2029 2020 2307 1012 2069 3114 1045 2134 1005 1056 2507 1018 3340 2003 4030 2326 2004 1996 2173 2001 5697 1998 1996 3256 4157 2001 2074 7929 3621 28259 102 0 0 0 0 0 0 0 0 0 0 0 0 0 0 0 0 0 0 0 0 0 0 0 0 0 0 0 0 0 0 0 0 0 0 0 0 0 0 0 0 0 0 0 0 0 0 0 0 0 0 0 0 0 0 0 0 0 0 0 0 0 0 0 0 0 0 0 0 0 0 0 0 0 0 0 0 0 0 0 0 0 0 0 0 0 0 0\n"
          ],
          "name": "stdout"
        },
        {
          "output_type": "stream",
          "text": [
            "INFO:tensorflow:input_ids: 101 2288 1996 6350 11642 2007 2188 22201 2119 1997 2029 2020 2307 1012 2069 3114 1045 2134 1005 1056 2507 1018 3340 2003 4030 2326 2004 1996 2173 2001 5697 1998 1996 3256 4157 2001 2074 7929 3621 28259 102 0 0 0 0 0 0 0 0 0 0 0 0 0 0 0 0 0 0 0 0 0 0 0 0 0 0 0 0 0 0 0 0 0 0 0 0 0 0 0 0 0 0 0 0 0 0 0 0 0 0 0 0 0 0 0 0 0 0 0 0 0 0 0 0 0 0 0 0 0 0 0 0 0 0 0 0 0 0 0 0 0 0 0 0 0 0 0\n"
          ],
          "name": "stderr"
        },
        {
          "output_type": "stream",
          "text": [
            "INFO:tensorflow:input_mask: 1 1 1 1 1 1 1 1 1 1 1 1 1 1 1 1 1 1 1 1 1 1 1 1 1 1 1 1 1 1 1 1 1 1 1 1 1 1 1 1 1 0 0 0 0 0 0 0 0 0 0 0 0 0 0 0 0 0 0 0 0 0 0 0 0 0 0 0 0 0 0 0 0 0 0 0 0 0 0 0 0 0 0 0 0 0 0 0 0 0 0 0 0 0 0 0 0 0 0 0 0 0 0 0 0 0 0 0 0 0 0 0 0 0 0 0 0 0 0 0 0 0 0 0 0 0 0 0\n"
          ],
          "name": "stdout"
        },
        {
          "output_type": "stream",
          "text": [
            "INFO:tensorflow:input_mask: 1 1 1 1 1 1 1 1 1 1 1 1 1 1 1 1 1 1 1 1 1 1 1 1 1 1 1 1 1 1 1 1 1 1 1 1 1 1 1 1 1 0 0 0 0 0 0 0 0 0 0 0 0 0 0 0 0 0 0 0 0 0 0 0 0 0 0 0 0 0 0 0 0 0 0 0 0 0 0 0 0 0 0 0 0 0 0 0 0 0 0 0 0 0 0 0 0 0 0 0 0 0 0 0 0 0 0 0 0 0 0 0 0 0 0 0 0 0 0 0 0 0 0 0 0 0 0 0\n"
          ],
          "name": "stderr"
        },
        {
          "output_type": "stream",
          "text": [
            "INFO:tensorflow:segment_ids: 0 0 0 0 0 0 0 0 0 0 0 0 0 0 0 0 0 0 0 0 0 0 0 0 0 0 0 0 0 0 0 0 0 0 0 0 0 0 0 0 0 0 0 0 0 0 0 0 0 0 0 0 0 0 0 0 0 0 0 0 0 0 0 0 0 0 0 0 0 0 0 0 0 0 0 0 0 0 0 0 0 0 0 0 0 0 0 0 0 0 0 0 0 0 0 0 0 0 0 0 0 0 0 0 0 0 0 0 0 0 0 0 0 0 0 0 0 0 0 0 0 0 0 0 0 0 0 0\n"
          ],
          "name": "stdout"
        },
        {
          "output_type": "stream",
          "text": [
            "INFO:tensorflow:segment_ids: 0 0 0 0 0 0 0 0 0 0 0 0 0 0 0 0 0 0 0 0 0 0 0 0 0 0 0 0 0 0 0 0 0 0 0 0 0 0 0 0 0 0 0 0 0 0 0 0 0 0 0 0 0 0 0 0 0 0 0 0 0 0 0 0 0 0 0 0 0 0 0 0 0 0 0 0 0 0 0 0 0 0 0 0 0 0 0 0 0 0 0 0 0 0 0 0 0 0 0 0 0 0 0 0 0 0 0 0 0 0 0 0 0 0 0 0 0 0 0 0 0 0 0 0 0 0 0 0\n"
          ],
          "name": "stderr"
        },
        {
          "output_type": "stream",
          "text": [
            "INFO:tensorflow:label: 1 (id = 0)\n"
          ],
          "name": "stdout"
        },
        {
          "output_type": "stream",
          "text": [
            "INFO:tensorflow:label: 1 (id = 0)\n"
          ],
          "name": "stderr"
        },
        {
          "output_type": "stream",
          "text": [
            "INFO:tensorflow:*** Example ***\n"
          ],
          "name": "stdout"
        },
        {
          "output_type": "stream",
          "text": [
            "INFO:tensorflow:*** Example ***\n"
          ],
          "name": "stderr"
        },
        {
          "output_type": "stream",
          "text": [
            "INFO:tensorflow:guid: \n"
          ],
          "name": "stdout"
        },
        {
          "output_type": "stream",
          "text": [
            "INFO:tensorflow:guid: \n"
          ],
          "name": "stderr"
        },
        {
          "output_type": "stream",
          "text": [
            "INFO:tensorflow:tokens: [CLS] @ pizza ##lib ##ret ##to i booked a large group here for my wedding rehearsal dinner . i wanted something that had a private - is ##h area for our group , but had character and good food ! we ended up booking an area downstairs with tall bar tables and stool ##s . there were also other private dining rooms you can book out as well . when i was planning this , it was super easy . they have a $ 30 per person set menu that comes with an anti ##pas ##to plate with app ##eti ##zers and cured meat ##s and cheese ##s . then i could choose from their menu any pizza i wanted which they will determine the number that [SEP]\n"
          ],
          "name": "stdout"
        },
        {
          "output_type": "stream",
          "text": [
            "INFO:tensorflow:tokens: [CLS] @ pizza ##lib ##ret ##to i booked a large group here for my wedding rehearsal dinner . i wanted something that had a private - is ##h area for our group , but had character and good food ! we ended up booking an area downstairs with tall bar tables and stool ##s . there were also other private dining rooms you can book out as well . when i was planning this , it was super easy . they have a $ 30 per person set menu that comes with an anti ##pas ##to plate with app ##eti ##zers and cured meat ##s and cheese ##s . then i could choose from their menu any pizza i wanted which they will determine the number that [SEP]\n"
          ],
          "name": "stderr"
        },
        {
          "output_type": "stream",
          "text": [
            "INFO:tensorflow:input_ids: 101 1030 10733 29521 13465 3406 1045 17414 1037 2312 2177 2182 2005 2026 5030 17887 4596 1012 1045 2359 2242 2008 2018 1037 2797 1011 2003 2232 2181 2005 2256 2177 1010 2021 2018 2839 1998 2204 2833 999 2057 3092 2039 21725 2019 2181 10025 2007 4206 3347 7251 1998 14708 2015 1012 2045 2020 2036 2060 2797 7759 4734 2017 2064 2338 2041 2004 2092 1012 2043 1045 2001 4041 2023 1010 2009 2001 3565 3733 1012 2027 2031 1037 1002 2382 2566 2711 2275 12183 2008 3310 2007 2019 3424 19707 3406 5127 2007 10439 20624 16750 1998 21391 6240 2015 1998 8808 2015 1012 2059 1045 2071 5454 2013 2037 12183 2151 10733 1045 2359 2029 2027 2097 5646 1996 2193 2008 102\n"
          ],
          "name": "stdout"
        },
        {
          "output_type": "stream",
          "text": [
            "INFO:tensorflow:input_ids: 101 1030 10733 29521 13465 3406 1045 17414 1037 2312 2177 2182 2005 2026 5030 17887 4596 1012 1045 2359 2242 2008 2018 1037 2797 1011 2003 2232 2181 2005 2256 2177 1010 2021 2018 2839 1998 2204 2833 999 2057 3092 2039 21725 2019 2181 10025 2007 4206 3347 7251 1998 14708 2015 1012 2045 2020 2036 2060 2797 7759 4734 2017 2064 2338 2041 2004 2092 1012 2043 1045 2001 4041 2023 1010 2009 2001 3565 3733 1012 2027 2031 1037 1002 2382 2566 2711 2275 12183 2008 3310 2007 2019 3424 19707 3406 5127 2007 10439 20624 16750 1998 21391 6240 2015 1998 8808 2015 1012 2059 1045 2071 5454 2013 2037 12183 2151 10733 1045 2359 2029 2027 2097 5646 1996 2193 2008 102\n"
          ],
          "name": "stderr"
        },
        {
          "output_type": "stream",
          "text": [
            "INFO:tensorflow:input_mask: 1 1 1 1 1 1 1 1 1 1 1 1 1 1 1 1 1 1 1 1 1 1 1 1 1 1 1 1 1 1 1 1 1 1 1 1 1 1 1 1 1 1 1 1 1 1 1 1 1 1 1 1 1 1 1 1 1 1 1 1 1 1 1 1 1 1 1 1 1 1 1 1 1 1 1 1 1 1 1 1 1 1 1 1 1 1 1 1 1 1 1 1 1 1 1 1 1 1 1 1 1 1 1 1 1 1 1 1 1 1 1 1 1 1 1 1 1 1 1 1 1 1 1 1 1 1 1 1\n"
          ],
          "name": "stdout"
        },
        {
          "output_type": "stream",
          "text": [
            "INFO:tensorflow:input_mask: 1 1 1 1 1 1 1 1 1 1 1 1 1 1 1 1 1 1 1 1 1 1 1 1 1 1 1 1 1 1 1 1 1 1 1 1 1 1 1 1 1 1 1 1 1 1 1 1 1 1 1 1 1 1 1 1 1 1 1 1 1 1 1 1 1 1 1 1 1 1 1 1 1 1 1 1 1 1 1 1 1 1 1 1 1 1 1 1 1 1 1 1 1 1 1 1 1 1 1 1 1 1 1 1 1 1 1 1 1 1 1 1 1 1 1 1 1 1 1 1 1 1 1 1 1 1 1 1\n"
          ],
          "name": "stderr"
        },
        {
          "output_type": "stream",
          "text": [
            "INFO:tensorflow:segment_ids: 0 0 0 0 0 0 0 0 0 0 0 0 0 0 0 0 0 0 0 0 0 0 0 0 0 0 0 0 0 0 0 0 0 0 0 0 0 0 0 0 0 0 0 0 0 0 0 0 0 0 0 0 0 0 0 0 0 0 0 0 0 0 0 0 0 0 0 0 0 0 0 0 0 0 0 0 0 0 0 0 0 0 0 0 0 0 0 0 0 0 0 0 0 0 0 0 0 0 0 0 0 0 0 0 0 0 0 0 0 0 0 0 0 0 0 0 0 0 0 0 0 0 0 0 0 0 0 0\n"
          ],
          "name": "stdout"
        },
        {
          "output_type": "stream",
          "text": [
            "INFO:tensorflow:segment_ids: 0 0 0 0 0 0 0 0 0 0 0 0 0 0 0 0 0 0 0 0 0 0 0 0 0 0 0 0 0 0 0 0 0 0 0 0 0 0 0 0 0 0 0 0 0 0 0 0 0 0 0 0 0 0 0 0 0 0 0 0 0 0 0 0 0 0 0 0 0 0 0 0 0 0 0 0 0 0 0 0 0 0 0 0 0 0 0 0 0 0 0 0 0 0 0 0 0 0 0 0 0 0 0 0 0 0 0 0 0 0 0 0 0 0 0 0 0 0 0 0 0 0 0 0 0 0 0 0\n"
          ],
          "name": "stderr"
        },
        {
          "output_type": "stream",
          "text": [
            "INFO:tensorflow:label: 1 (id = 0)\n"
          ],
          "name": "stdout"
        },
        {
          "output_type": "stream",
          "text": [
            "INFO:tensorflow:label: 1 (id = 0)\n"
          ],
          "name": "stderr"
        },
        {
          "output_type": "stream",
          "text": [
            "INFO:tensorflow:*** Example ***\n"
          ],
          "name": "stdout"
        },
        {
          "output_type": "stream",
          "text": [
            "INFO:tensorflow:*** Example ***\n"
          ],
          "name": "stderr"
        },
        {
          "output_type": "stream",
          "text": [
            "INFO:tensorflow:guid: \n"
          ],
          "name": "stdout"
        },
        {
          "output_type": "stream",
          "text": [
            "INFO:tensorflow:guid: \n"
          ],
          "name": "stderr"
        },
        {
          "output_type": "stream",
          "text": [
            "INFO:tensorflow:tokens: [CLS] amazing ! ! i got a reasonable quote and they came the next day . not only did they pick up my junk but they swept up any debris around the area . very professional and friendly . will use them again for sure . [SEP]\n"
          ],
          "name": "stdout"
        },
        {
          "output_type": "stream",
          "text": [
            "INFO:tensorflow:tokens: [CLS] amazing ! ! i got a reasonable quote and they came the next day . not only did they pick up my junk but they swept up any debris around the area . very professional and friendly . will use them again for sure . [SEP]\n"
          ],
          "name": "stderr"
        },
        {
          "output_type": "stream",
          "text": [
            "INFO:tensorflow:input_ids: 101 6429 999 999 1045 2288 1037 9608 14686 1998 2027 2234 1996 2279 2154 1012 2025 2069 2106 2027 4060 2039 2026 18015 2021 2027 7260 2039 2151 11385 2105 1996 2181 1012 2200 2658 1998 5379 1012 2097 2224 2068 2153 2005 2469 1012 102 0 0 0 0 0 0 0 0 0 0 0 0 0 0 0 0 0 0 0 0 0 0 0 0 0 0 0 0 0 0 0 0 0 0 0 0 0 0 0 0 0 0 0 0 0 0 0 0 0 0 0 0 0 0 0 0 0 0 0 0 0 0 0 0 0 0 0 0 0 0 0 0 0 0 0 0 0 0 0 0 0\n"
          ],
          "name": "stdout"
        },
        {
          "output_type": "stream",
          "text": [
            "INFO:tensorflow:input_ids: 101 6429 999 999 1045 2288 1037 9608 14686 1998 2027 2234 1996 2279 2154 1012 2025 2069 2106 2027 4060 2039 2026 18015 2021 2027 7260 2039 2151 11385 2105 1996 2181 1012 2200 2658 1998 5379 1012 2097 2224 2068 2153 2005 2469 1012 102 0 0 0 0 0 0 0 0 0 0 0 0 0 0 0 0 0 0 0 0 0 0 0 0 0 0 0 0 0 0 0 0 0 0 0 0 0 0 0 0 0 0 0 0 0 0 0 0 0 0 0 0 0 0 0 0 0 0 0 0 0 0 0 0 0 0 0 0 0 0 0 0 0 0 0 0 0 0 0 0 0\n"
          ],
          "name": "stderr"
        },
        {
          "output_type": "stream",
          "text": [
            "INFO:tensorflow:input_mask: 1 1 1 1 1 1 1 1 1 1 1 1 1 1 1 1 1 1 1 1 1 1 1 1 1 1 1 1 1 1 1 1 1 1 1 1 1 1 1 1 1 1 1 1 1 1 1 0 0 0 0 0 0 0 0 0 0 0 0 0 0 0 0 0 0 0 0 0 0 0 0 0 0 0 0 0 0 0 0 0 0 0 0 0 0 0 0 0 0 0 0 0 0 0 0 0 0 0 0 0 0 0 0 0 0 0 0 0 0 0 0 0 0 0 0 0 0 0 0 0 0 0 0 0 0 0 0 0\n"
          ],
          "name": "stdout"
        },
        {
          "output_type": "stream",
          "text": [
            "INFO:tensorflow:input_mask: 1 1 1 1 1 1 1 1 1 1 1 1 1 1 1 1 1 1 1 1 1 1 1 1 1 1 1 1 1 1 1 1 1 1 1 1 1 1 1 1 1 1 1 1 1 1 1 0 0 0 0 0 0 0 0 0 0 0 0 0 0 0 0 0 0 0 0 0 0 0 0 0 0 0 0 0 0 0 0 0 0 0 0 0 0 0 0 0 0 0 0 0 0 0 0 0 0 0 0 0 0 0 0 0 0 0 0 0 0 0 0 0 0 0 0 0 0 0 0 0 0 0 0 0 0 0 0 0\n"
          ],
          "name": "stderr"
        },
        {
          "output_type": "stream",
          "text": [
            "INFO:tensorflow:segment_ids: 0 0 0 0 0 0 0 0 0 0 0 0 0 0 0 0 0 0 0 0 0 0 0 0 0 0 0 0 0 0 0 0 0 0 0 0 0 0 0 0 0 0 0 0 0 0 0 0 0 0 0 0 0 0 0 0 0 0 0 0 0 0 0 0 0 0 0 0 0 0 0 0 0 0 0 0 0 0 0 0 0 0 0 0 0 0 0 0 0 0 0 0 0 0 0 0 0 0 0 0 0 0 0 0 0 0 0 0 0 0 0 0 0 0 0 0 0 0 0 0 0 0 0 0 0 0 0 0\n"
          ],
          "name": "stdout"
        },
        {
          "output_type": "stream",
          "text": [
            "INFO:tensorflow:segment_ids: 0 0 0 0 0 0 0 0 0 0 0 0 0 0 0 0 0 0 0 0 0 0 0 0 0 0 0 0 0 0 0 0 0 0 0 0 0 0 0 0 0 0 0 0 0 0 0 0 0 0 0 0 0 0 0 0 0 0 0 0 0 0 0 0 0 0 0 0 0 0 0 0 0 0 0 0 0 0 0 0 0 0 0 0 0 0 0 0 0 0 0 0 0 0 0 0 0 0 0 0 0 0 0 0 0 0 0 0 0 0 0 0 0 0 0 0 0 0 0 0 0 0 0 0 0 0 0 0\n"
          ],
          "name": "stderr"
        },
        {
          "output_type": "stream",
          "text": [
            "INFO:tensorflow:label: 1 (id = 0)\n"
          ],
          "name": "stdout"
        },
        {
          "output_type": "stream",
          "text": [
            "INFO:tensorflow:label: 1 (id = 0)\n"
          ],
          "name": "stderr"
        },
        {
          "output_type": "stream",
          "text": [
            "INFO:tensorflow:*** Example ***\n"
          ],
          "name": "stdout"
        },
        {
          "output_type": "stream",
          "text": [
            "INFO:tensorflow:*** Example ***\n"
          ],
          "name": "stderr"
        },
        {
          "output_type": "stream",
          "text": [
            "INFO:tensorflow:guid: \n"
          ],
          "name": "stdout"
        },
        {
          "output_type": "stream",
          "text": [
            "INFO:tensorflow:guid: \n"
          ],
          "name": "stderr"
        },
        {
          "output_type": "stream",
          "text": [
            "INFO:tensorflow:tokens: [CLS] disc ##lai ##mer : i ' m not a tea expert . i don ' t own a diffuse ##r . i prefer my tea iced and plain because , frankly , i ' m sweet enough . in search of the ever elusive ' thoughtful ' christmas gift for my pick ##y sister i stopped in at fl ##eur de tea ##s in the hopes of finding something special . i wasn ' t disappointed . the shop , located next to the phoenix city grille , is small and cozy . don ' t let the size fool you , this small spot is bursting at the seam ##s with a huge variety of tea , tea accessories and beauty products . the staff [SEP]\n"
          ],
          "name": "stdout"
        },
        {
          "output_type": "stream",
          "text": [
            "INFO:tensorflow:tokens: [CLS] disc ##lai ##mer : i ' m not a tea expert . i don ' t own a diffuse ##r . i prefer my tea iced and plain because , frankly , i ' m sweet enough . in search of the ever elusive ' thoughtful ' christmas gift for my pick ##y sister i stopped in at fl ##eur de tea ##s in the hopes of finding something special . i wasn ' t disappointed . the shop , located next to the phoenix city grille , is small and cozy . don ' t let the size fool you , this small spot is bursting at the seam ##s with a huge variety of tea , tea accessories and beauty products . the staff [SEP]\n"
          ],
          "name": "stderr"
        },
        {
          "output_type": "stream",
          "text": [
            "INFO:tensorflow:input_ids: 101 5860 19771 5017 1024 1045 1005 1049 2025 1037 5572 6739 1012 1045 2123 1005 1056 2219 1037 28105 2099 1012 1045 9544 2026 5572 28248 1998 5810 2138 1010 19597 1010 1045 1005 1049 4086 2438 1012 1999 3945 1997 1996 2412 26475 1005 16465 1005 4234 5592 2005 2026 4060 2100 2905 1045 3030 1999 2012 13109 11236 2139 5572 2015 1999 1996 8069 1997 4531 2242 2569 1012 1045 2347 1005 1056 9364 1012 1996 4497 1010 2284 2279 2000 1996 6708 2103 26192 1010 2003 2235 1998 26931 1012 2123 1005 1056 2292 1996 2946 7966 2017 1010 2023 2235 3962 2003 21305 2012 1996 25180 2015 2007 1037 4121 3528 1997 5572 1010 5572 16611 1998 5053 3688 1012 1996 3095 102\n"
          ],
          "name": "stdout"
        },
        {
          "output_type": "stream",
          "text": [
            "INFO:tensorflow:input_ids: 101 5860 19771 5017 1024 1045 1005 1049 2025 1037 5572 6739 1012 1045 2123 1005 1056 2219 1037 28105 2099 1012 1045 9544 2026 5572 28248 1998 5810 2138 1010 19597 1010 1045 1005 1049 4086 2438 1012 1999 3945 1997 1996 2412 26475 1005 16465 1005 4234 5592 2005 2026 4060 2100 2905 1045 3030 1999 2012 13109 11236 2139 5572 2015 1999 1996 8069 1997 4531 2242 2569 1012 1045 2347 1005 1056 9364 1012 1996 4497 1010 2284 2279 2000 1996 6708 2103 26192 1010 2003 2235 1998 26931 1012 2123 1005 1056 2292 1996 2946 7966 2017 1010 2023 2235 3962 2003 21305 2012 1996 25180 2015 2007 1037 4121 3528 1997 5572 1010 5572 16611 1998 5053 3688 1012 1996 3095 102\n"
          ],
          "name": "stderr"
        },
        {
          "output_type": "stream",
          "text": [
            "INFO:tensorflow:input_mask: 1 1 1 1 1 1 1 1 1 1 1 1 1 1 1 1 1 1 1 1 1 1 1 1 1 1 1 1 1 1 1 1 1 1 1 1 1 1 1 1 1 1 1 1 1 1 1 1 1 1 1 1 1 1 1 1 1 1 1 1 1 1 1 1 1 1 1 1 1 1 1 1 1 1 1 1 1 1 1 1 1 1 1 1 1 1 1 1 1 1 1 1 1 1 1 1 1 1 1 1 1 1 1 1 1 1 1 1 1 1 1 1 1 1 1 1 1 1 1 1 1 1 1 1 1 1 1 1\n"
          ],
          "name": "stdout"
        },
        {
          "output_type": "stream",
          "text": [
            "INFO:tensorflow:input_mask: 1 1 1 1 1 1 1 1 1 1 1 1 1 1 1 1 1 1 1 1 1 1 1 1 1 1 1 1 1 1 1 1 1 1 1 1 1 1 1 1 1 1 1 1 1 1 1 1 1 1 1 1 1 1 1 1 1 1 1 1 1 1 1 1 1 1 1 1 1 1 1 1 1 1 1 1 1 1 1 1 1 1 1 1 1 1 1 1 1 1 1 1 1 1 1 1 1 1 1 1 1 1 1 1 1 1 1 1 1 1 1 1 1 1 1 1 1 1 1 1 1 1 1 1 1 1 1 1\n"
          ],
          "name": "stderr"
        },
        {
          "output_type": "stream",
          "text": [
            "INFO:tensorflow:segment_ids: 0 0 0 0 0 0 0 0 0 0 0 0 0 0 0 0 0 0 0 0 0 0 0 0 0 0 0 0 0 0 0 0 0 0 0 0 0 0 0 0 0 0 0 0 0 0 0 0 0 0 0 0 0 0 0 0 0 0 0 0 0 0 0 0 0 0 0 0 0 0 0 0 0 0 0 0 0 0 0 0 0 0 0 0 0 0 0 0 0 0 0 0 0 0 0 0 0 0 0 0 0 0 0 0 0 0 0 0 0 0 0 0 0 0 0 0 0 0 0 0 0 0 0 0 0 0 0 0\n"
          ],
          "name": "stdout"
        },
        {
          "output_type": "stream",
          "text": [
            "INFO:tensorflow:segment_ids: 0 0 0 0 0 0 0 0 0 0 0 0 0 0 0 0 0 0 0 0 0 0 0 0 0 0 0 0 0 0 0 0 0 0 0 0 0 0 0 0 0 0 0 0 0 0 0 0 0 0 0 0 0 0 0 0 0 0 0 0 0 0 0 0 0 0 0 0 0 0 0 0 0 0 0 0 0 0 0 0 0 0 0 0 0 0 0 0 0 0 0 0 0 0 0 0 0 0 0 0 0 0 0 0 0 0 0 0 0 0 0 0 0 0 0 0 0 0 0 0 0 0 0 0 0 0 0 0\n"
          ],
          "name": "stderr"
        },
        {
          "output_type": "stream",
          "text": [
            "INFO:tensorflow:label: 1 (id = 0)\n"
          ],
          "name": "stdout"
        },
        {
          "output_type": "stream",
          "text": [
            "INFO:tensorflow:label: 1 (id = 0)\n"
          ],
          "name": "stderr"
        },
        {
          "output_type": "stream",
          "text": [
            "INFO:tensorflow:*** Example ***\n"
          ],
          "name": "stdout"
        },
        {
          "output_type": "stream",
          "text": [
            "INFO:tensorflow:*** Example ***\n"
          ],
          "name": "stderr"
        },
        {
          "output_type": "stream",
          "text": [
            "INFO:tensorflow:guid: \n"
          ],
          "name": "stdout"
        },
        {
          "output_type": "stream",
          "text": [
            "INFO:tensorflow:guid: \n"
          ],
          "name": "stderr"
        },
        {
          "output_type": "stream",
          "text": [
            "INFO:tensorflow:tokens: [CLS] i have been going here for years and expect a student massage . last week i went because i was in so much back pain . i got lucky and had willie reese as my student therapist . he hit so many tiger points i was pain free all week . i returned this week for 2 hours with willie and om ##g . . . . . painfully but very reward ##ing . i have never been treated better . i am out of pain ! ! ! ! ! [SEP]\n"
          ],
          "name": "stdout"
        },
        {
          "output_type": "stream",
          "text": [
            "INFO:tensorflow:tokens: [CLS] i have been going here for years and expect a student massage . last week i went because i was in so much back pain . i got lucky and had willie reese as my student therapist . he hit so many tiger points i was pain free all week . i returned this week for 2 hours with willie and om ##g . . . . . painfully but very reward ##ing . i have never been treated better . i am out of pain ! ! ! ! ! [SEP]\n"
          ],
          "name": "stderr"
        },
        {
          "output_type": "stream",
          "text": [
            "INFO:tensorflow:input_ids: 101 1045 2031 2042 2183 2182 2005 2086 1998 5987 1037 3076 21881 1012 2197 2733 1045 2253 2138 1045 2001 1999 2061 2172 2067 3255 1012 1045 2288 5341 1998 2018 9893 15883 2004 2026 3076 19294 1012 2002 2718 2061 2116 6816 2685 1045 2001 3255 2489 2035 2733 1012 1045 2513 2023 2733 2005 1016 2847 2007 9893 1998 18168 2290 1012 1012 1012 1012 1012 16267 2021 2200 10377 2075 1012 1045 2031 2196 2042 5845 2488 1012 1045 2572 2041 1997 3255 999 999 999 999 999 102 0 0 0 0 0 0 0 0 0 0 0 0 0 0 0 0 0 0 0 0 0 0 0 0 0 0 0 0 0 0 0 0 0 0 0\n"
          ],
          "name": "stdout"
        },
        {
          "output_type": "stream",
          "text": [
            "INFO:tensorflow:input_ids: 101 1045 2031 2042 2183 2182 2005 2086 1998 5987 1037 3076 21881 1012 2197 2733 1045 2253 2138 1045 2001 1999 2061 2172 2067 3255 1012 1045 2288 5341 1998 2018 9893 15883 2004 2026 3076 19294 1012 2002 2718 2061 2116 6816 2685 1045 2001 3255 2489 2035 2733 1012 1045 2513 2023 2733 2005 1016 2847 2007 9893 1998 18168 2290 1012 1012 1012 1012 1012 16267 2021 2200 10377 2075 1012 1045 2031 2196 2042 5845 2488 1012 1045 2572 2041 1997 3255 999 999 999 999 999 102 0 0 0 0 0 0 0 0 0 0 0 0 0 0 0 0 0 0 0 0 0 0 0 0 0 0 0 0 0 0 0 0 0 0 0\n"
          ],
          "name": "stderr"
        },
        {
          "output_type": "stream",
          "text": [
            "INFO:tensorflow:input_mask: 1 1 1 1 1 1 1 1 1 1 1 1 1 1 1 1 1 1 1 1 1 1 1 1 1 1 1 1 1 1 1 1 1 1 1 1 1 1 1 1 1 1 1 1 1 1 1 1 1 1 1 1 1 1 1 1 1 1 1 1 1 1 1 1 1 1 1 1 1 1 1 1 1 1 1 1 1 1 1 1 1 1 1 1 1 1 1 1 1 1 1 1 1 0 0 0 0 0 0 0 0 0 0 0 0 0 0 0 0 0 0 0 0 0 0 0 0 0 0 0 0 0 0 0 0 0 0 0\n"
          ],
          "name": "stdout"
        },
        {
          "output_type": "stream",
          "text": [
            "INFO:tensorflow:input_mask: 1 1 1 1 1 1 1 1 1 1 1 1 1 1 1 1 1 1 1 1 1 1 1 1 1 1 1 1 1 1 1 1 1 1 1 1 1 1 1 1 1 1 1 1 1 1 1 1 1 1 1 1 1 1 1 1 1 1 1 1 1 1 1 1 1 1 1 1 1 1 1 1 1 1 1 1 1 1 1 1 1 1 1 1 1 1 1 1 1 1 1 1 1 0 0 0 0 0 0 0 0 0 0 0 0 0 0 0 0 0 0 0 0 0 0 0 0 0 0 0 0 0 0 0 0 0 0 0\n"
          ],
          "name": "stderr"
        },
        {
          "output_type": "stream",
          "text": [
            "INFO:tensorflow:segment_ids: 0 0 0 0 0 0 0 0 0 0 0 0 0 0 0 0 0 0 0 0 0 0 0 0 0 0 0 0 0 0 0 0 0 0 0 0 0 0 0 0 0 0 0 0 0 0 0 0 0 0 0 0 0 0 0 0 0 0 0 0 0 0 0 0 0 0 0 0 0 0 0 0 0 0 0 0 0 0 0 0 0 0 0 0 0 0 0 0 0 0 0 0 0 0 0 0 0 0 0 0 0 0 0 0 0 0 0 0 0 0 0 0 0 0 0 0 0 0 0 0 0 0 0 0 0 0 0 0\n"
          ],
          "name": "stdout"
        },
        {
          "output_type": "stream",
          "text": [
            "INFO:tensorflow:segment_ids: 0 0 0 0 0 0 0 0 0 0 0 0 0 0 0 0 0 0 0 0 0 0 0 0 0 0 0 0 0 0 0 0 0 0 0 0 0 0 0 0 0 0 0 0 0 0 0 0 0 0 0 0 0 0 0 0 0 0 0 0 0 0 0 0 0 0 0 0 0 0 0 0 0 0 0 0 0 0 0 0 0 0 0 0 0 0 0 0 0 0 0 0 0 0 0 0 0 0 0 0 0 0 0 0 0 0 0 0 0 0 0 0 0 0 0 0 0 0 0 0 0 0 0 0 0 0 0 0\n"
          ],
          "name": "stderr"
        },
        {
          "output_type": "stream",
          "text": [
            "INFO:tensorflow:label: 1 (id = 0)\n"
          ],
          "name": "stdout"
        },
        {
          "output_type": "stream",
          "text": [
            "INFO:tensorflow:label: 1 (id = 0)\n"
          ],
          "name": "stderr"
        },
        {
          "output_type": "stream",
          "text": [
            "INFO:tensorflow:Calling model_fn.\n"
          ],
          "name": "stdout"
        },
        {
          "output_type": "stream",
          "text": [
            "INFO:tensorflow:Calling model_fn.\n"
          ],
          "name": "stderr"
        },
        {
          "output_type": "stream",
          "text": [
            "INFO:tensorflow:Saver not created because there are no variables in the graph to restore\n"
          ],
          "name": "stdout"
        },
        {
          "output_type": "stream",
          "text": [
            "INFO:tensorflow:Saver not created because there are no variables in the graph to restore\n"
          ],
          "name": "stderr"
        },
        {
          "output_type": "stream",
          "text": [
            "INFO:tensorflow:Done calling model_fn.\n"
          ],
          "name": "stdout"
        },
        {
          "output_type": "stream",
          "text": [
            "INFO:tensorflow:Done calling model_fn.\n"
          ],
          "name": "stderr"
        },
        {
          "output_type": "stream",
          "text": [
            "INFO:tensorflow:Graph was finalized.\n"
          ],
          "name": "stdout"
        },
        {
          "output_type": "stream",
          "text": [
            "INFO:tensorflow:Graph was finalized.\n"
          ],
          "name": "stderr"
        },
        {
          "output_type": "stream",
          "text": [
            "INFO:tensorflow:Restoring parameters from OUTPUT_DIR_NAME/model.ckpt-1250\n"
          ],
          "name": "stdout"
        },
        {
          "output_type": "stream",
          "text": [
            "INFO:tensorflow:Restoring parameters from OUTPUT_DIR_NAME/model.ckpt-1250\n"
          ],
          "name": "stderr"
        },
        {
          "output_type": "stream",
          "text": [
            "INFO:tensorflow:Running local_init_op.\n"
          ],
          "name": "stdout"
        },
        {
          "output_type": "stream",
          "text": [
            "INFO:tensorflow:Running local_init_op.\n"
          ],
          "name": "stderr"
        },
        {
          "output_type": "stream",
          "text": [
            "INFO:tensorflow:Done running local_init_op.\n"
          ],
          "name": "stdout"
        },
        {
          "output_type": "stream",
          "text": [
            "INFO:tensorflow:Done running local_init_op.\n"
          ],
          "name": "stderr"
        }
      ]
    },
    {
      "cell_type": "markdown",
      "metadata": {
        "id": "qVR0C4GqMEmL",
        "colab_type": "text"
      },
      "source": [
        ""
      ]
    }
  ]
}